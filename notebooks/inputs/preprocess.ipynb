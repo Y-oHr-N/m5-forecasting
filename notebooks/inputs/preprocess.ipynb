{
 "cells": [
  {
   "cell_type": "code",
   "execution_count": null,
   "metadata": {},
   "outputs": [],
   "source": [
    "import pathlib\n",
    "import sys"
   ]
  },
  {
   "cell_type": "code",
   "execution_count": null,
   "metadata": {},
   "outputs": [],
   "source": [
    "import numpy as np\n",
    "import pandas as pd"
   ]
  },
  {
   "cell_type": "code",
   "execution_count": null,
   "metadata": {
    "tags": [
     "parameters"
    ]
   },
   "outputs": [],
   "source": [
    "src_dir = \"../../src\""
   ]
  },
  {
   "cell_type": "code",
   "execution_count": null,
   "metadata": {},
   "outputs": [],
   "source": [
    "sys.path.append(src_dir)"
   ]
  },
  {
   "cell_type": "code",
   "execution_count": null,
   "metadata": {},
   "outputs": [],
   "source": [
    "from package.constants import *\n",
    "from package.datasets import *\n",
    "from package.feature_extraction import *\n",
    "from package.preprocessing import *\n",
    "from package.utils import *"
   ]
  },
  {
   "cell_type": "code",
   "execution_count": null,
   "metadata": {},
   "outputs": [],
   "source": [
    "interim = load_interim()"
   ]
  },
  {
   "cell_type": "code",
   "execution_count": null,
   "metadata": {},
   "outputs": [],
   "source": [
    "%%time\n",
    "# Extract features\n",
    "create_aggregate_features(interim, level_ids[1:11], raw_numerical_features)\n",
    "create_calendar_features(interim, parse_dates)\n",
    "create_expanding_features(interim, level_ids[11:], raw_numerical_features)\n",
    "create_pct_change_features(interim, level_ids[11], raw_numerical_features, periods)\n",
    "create_scaled_features(interim, level_ids[11:], raw_numerical_features)\n",
    "create_shift_features(interim, level_ids[11], [target], periods)\n",
    "create_rolling_features(interim, level_ids[11:], shift_features, windows)\n",
    "create_days_since_release(interim)\n",
    "create_event_name(interim)\n",
    "create_event_type(interim)\n",
    "# See https://www.kaggle.com/c/m5-forecasting-accuracy/discussion/144842\n",
    "create_is_working_day(interim)\n",
    "# See https://www.kaggle.com/c/m5-forecasting-accuracy/discussion/150955\n",
    "create_snap(interim)"
   ]
  },
  {
   "cell_type": "code",
   "execution_count": null,
   "metadata": {},
   "outputs": [],
   "source": [
    "# Transform target\n",
    "interim[transformed_target] = interim[target] * interim[\"sell_price\"]"
   ]
  },
  {
   "cell_type": "code",
   "execution_count": null,
   "metadata": {},
   "outputs": [],
   "source": [
    "interim.drop(\n",
    "    columns=[\n",
    "        \"event_name_1\",\n",
    "        \"event_name_2\",\n",
    "        \"event_type_1\",\n",
    "        \"event_type_2\",\n",
    "        \"month\",\n",
    "        \"snap_CA\",\n",
    "        \"snap_TX\",\n",
    "        \"snap_WI\",\n",
    "        \"wday\",\n",
    "        \"weekday\",\n",
    "        \"year\",\n",
    "        \"wm_yr_wk\",\n",
    "    ],\n",
    "    inplace=True,\n",
    ")"
   ]
  },
  {
   "cell_type": "code",
   "execution_count": null,
   "metadata": {},
   "outputs": [],
   "source": [
    "label_encode(interim, categorical_features)"
   ]
  },
  {
   "cell_type": "code",
   "execution_count": null,
   "metadata": {},
   "outputs": [],
   "source": [
    "reduce_memory_usage(interim, allow_float16=False)"
   ]
  },
  {
   "cell_type": "code",
   "execution_count": null,
   "metadata": {},
   "outputs": [],
   "source": [
    "interim.info()"
   ]
  },
  {
   "cell_type": "code",
   "execution_count": null,
   "metadata": {},
   "outputs": [],
   "source": [
    "processed_dir_path.mkdir(parents=True, exist_ok=True)\n",
    "interim.to_parquet(processed_path)"
   ]
  }
 ],
 "metadata": {
  "anaconda-cloud": {},
  "celltoolbar": "Tags",
  "kernelspec": {
   "display_name": "Python 3",
   "language": "python",
   "name": "python3"
  },
  "language_info": {
   "codemirror_mode": {
    "name": "ipython",
    "version": 3
   },
   "file_extension": ".py",
   "mimetype": "text/x-python",
   "name": "python",
   "nbconvert_exporter": "python",
   "pygments_lexer": "ipython3",
   "version": "3.8.2"
  }
 },
 "nbformat": 4,
 "nbformat_minor": 2
}
