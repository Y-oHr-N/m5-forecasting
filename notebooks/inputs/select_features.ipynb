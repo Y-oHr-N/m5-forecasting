{
 "cells": [
  {
   "cell_type": "code",
   "execution_count": null,
   "metadata": {},
   "outputs": [],
   "source": [
    "%matplotlib inline"
   ]
  },
  {
   "cell_type": "code",
   "execution_count": null,
   "metadata": {},
   "outputs": [],
   "source": [
    "import gc\n",
    "import pathlib\n",
    "import sys"
   ]
  },
  {
   "cell_type": "code",
   "execution_count": null,
   "metadata": {},
   "outputs": [],
   "source": [
    "import joblib\n",
    "import lightgbm as lgb\n",
    "import numpy as np\n",
    "import pandas as pd\n",
    "from sklearn.inspection import permutation_importance"
   ]
  },
  {
   "cell_type": "code",
   "execution_count": null,
   "metadata": {
    "tags": [
     "parameters"
    ]
   },
   "outputs": [],
   "source": [
    "root_dir = \"../..\""
   ]
  },
  {
   "cell_type": "code",
   "execution_count": null,
   "metadata": {},
   "outputs": [],
   "source": [
    "root_dir_path = pathlib.Path(root_dir)\n",
    "data_dir_path = root_dir_path / \"data\"\n",
    "processed_dir_path = data_dir_path / \"processed\"\n",
    "train_path = processed_dir_path / \"train.parquet\"\n",
    "models_dir_path = root_dir_path / \"models\"\n",
    "removed_features_path = models_dir_path / \"removed_features.joblib\"\n",
    "src_dir_path = root_dir_path / \"src\""
   ]
  },
  {
   "cell_type": "code",
   "execution_count": null,
   "metadata": {},
   "outputs": [],
   "source": [
    "sys.path.append(str(src_dir_path))"
   ]
  },
  {
   "cell_type": "code",
   "execution_count": null,
   "metadata": {},
   "outputs": [],
   "source": [
    "from package.constants import *"
   ]
  },
  {
   "cell_type": "code",
   "execution_count": null,
   "metadata": {},
   "outputs": [],
   "source": [
    "train = pd.read_parquet(train_path)"
   ]
  },
  {
   "cell_type": "code",
   "execution_count": null,
   "metadata": {},
   "outputs": [],
   "source": [
    "# See https://www.kaggle.com/c/m5-forecasting-accuracy/discussion/135896\n",
    "is_train = (train[\"date\"] >= train_start_date) & (train[\"date\"] < validation_start_date)\n",
    "is_valid = train[\"date\"] >= validation_start_date"
   ]
  },
  {
   "cell_type": "code",
   "execution_count": null,
   "metadata": {
    "scrolled": false
   },
   "outputs": [],
   "source": [
    "params = {\n",
    "    \"bagging_fraction\": 0.75,\n",
    "    \"bagging_freq\": 1,\n",
    "    \"feature_fraction\": 0.8,\n",
    "    \"lambda_l2\": 0.1,\n",
    "    \"learning_rate\": 0.075,\n",
    "    \"metric\": \"rmse\",\n",
    "    \"min_data_in_leaf\": 104,\n",
    "    \"n_jobs\": -1,\n",
    "    \"num_leaves\": 128,\n",
    "    # See https://www.kaggle.com/c/m5-forecasting-accuracy/discussion/150614\n",
    "    \"objective\": \"tweedie\",\n",
    "    \"seed\": random_state,\n",
    "    # Seehttps://www.kaggle.com/c/m5-forecasting-accuracy/discussion/151145\n",
    "    \"tweedie_variance_power\": 1.2,\n",
    "}"
   ]
  },
  {
   "cell_type": "code",
   "execution_count": null,
   "metadata": {},
   "outputs": [],
   "source": [
    "dtrain = lgb.Dataset(\n",
    "    train.loc[is_train, features],\n",
    "    train.loc[is_train, target],\n",
    "    categorical_feature=categorical_features,\n",
    ")\n",
    "dvalid = lgb.Dataset(\n",
    "    train.loc[is_valid, features],\n",
    "    train.loc[is_valid, target],\n",
    "    categorical_feature=categorical_features,\n",
    ")"
   ]
  },
  {
   "cell_type": "code",
   "execution_count": null,
   "metadata": {},
   "outputs": [],
   "source": [
    "%%time\n",
    "model = lgb.train(\n",
    "    params,\n",
    "    dtrain,\n",
    "    early_stopping_rounds=30,\n",
    "    num_boost_round=1_250,\n",
    "    valid_sets=[dtrain, dvalid],\n",
    "    verbose_eval=10,\n",
    ")"
   ]
  },
  {
   "cell_type": "code",
   "execution_count": null,
   "metadata": {
    "scrolled": false
   },
   "outputs": [],
   "source": [
    "ax = lgb.plot_importance(model, importance_type=\"split\", figsize=(16, 9))"
   ]
  },
  {
   "cell_type": "code",
   "execution_count": null,
   "metadata": {
    "scrolled": false
   },
   "outputs": [],
   "source": [
    "ax = lgb.plot_importance(model, importance_type=\"gain\", figsize=(16, 9))"
   ]
  },
  {
   "cell_type": "code",
   "execution_count": null,
   "metadata": {},
   "outputs": [],
   "source": [
    "estimator = lgb.LGBMRegressor()\n",
    "estimator._Booster = model\n",
    "estimator._n_features = model.num_feature()"
   ]
  },
  {
   "cell_type": "code",
   "execution_count": null,
   "metadata": {},
   "outputs": [],
   "source": [
    "%%time\n",
    "result = permutation_importance(\n",
    "    estimator,\n",
    "    train.loc[is_valid, features],\n",
    "    train.loc[is_valid, target],\n",
    "    random_state=random_state,\n",
    "    scoring=\"neg_root_mean_squared_error\",\n",
    ")"
   ]
  },
  {
   "cell_type": "code",
   "execution_count": null,
   "metadata": {},
   "outputs": [],
   "source": [
    "feature_importances = pd.Series(result.importances_mean, index=features)"
   ]
  },
  {
   "cell_type": "code",
   "execution_count": null,
   "metadata": {},
   "outputs": [],
   "source": [
    "feature_importances.plot(figsize=(16, 9), kind=\"barh\")"
   ]
  },
  {
   "cell_type": "code",
   "execution_count": null,
   "metadata": {},
   "outputs": [],
   "source": [
    "is_removed = feature_importances <= 0.0\n",
    "feature_importances = feature_importances[is_removed]\n",
    "removed_features = feature_importances.index\n",
    "removed_features = removed_features.tolist()"
   ]
  },
  {
   "cell_type": "code",
   "execution_count": null,
   "metadata": {},
   "outputs": [],
   "source": [
    "removed_features"
   ]
  },
  {
   "cell_type": "code",
   "execution_count": null,
   "metadata": {
    "scrolled": true
   },
   "outputs": [],
   "source": [
    "joblib.dump(removed_features, removed_features_path)"
   ]
  }
 ],
 "metadata": {
  "anaconda-cloud": {},
  "celltoolbar": "Tags",
  "kernelspec": {
   "display_name": "Python 3",
   "language": "python",
   "name": "python3"
  },
  "language_info": {
   "codemirror_mode": {
    "name": "ipython",
    "version": 3
   },
   "file_extension": ".py",
   "mimetype": "text/x-python",
   "name": "python",
   "nbconvert_exporter": "python",
   "pygments_lexer": "ipython3",
   "version": "3.8.2"
  }
 },
 "nbformat": 4,
 "nbformat_minor": 2
}
