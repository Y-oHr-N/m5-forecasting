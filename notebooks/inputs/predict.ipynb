{
 "cells": [
  {
   "cell_type": "code",
   "execution_count": null,
   "metadata": {},
   "outputs": [],
   "source": [
    "import pathlib\n",
    "import sys"
   ]
  },
  {
   "cell_type": "code",
   "execution_count": null,
   "metadata": {},
   "outputs": [],
   "source": [
    "import numpy as np\n",
    "import joblib\n",
    "import pandas as pd\n",
    "from IPython.display import display\n",
    "from tqdm import tqdm"
   ]
  },
  {
   "cell_type": "code",
   "execution_count": null,
   "metadata": {
    "tags": [
     "parameters"
    ]
   },
   "outputs": [],
   "source": [
    "root_dir = \"../..\""
   ]
  },
  {
   "cell_type": "code",
   "execution_count": null,
   "metadata": {},
   "outputs": [],
   "source": [
    "root_dir_path = pathlib.Path(root_dir)\n",
    "data_dir_path = root_dir_path / \"data\"\n",
    "interim_dir_path = data_dir_path / \"interim\"\n",
    "interim_path = interim_dir_path / \"interim.parquet\"\n",
    "models_dir_path = root_dir_path / \"models\"\n",
    "model_path = models_dir_path / \"lgbm_reg.joblib\"\n",
    "prediction_path = models_dir_path / \"prediction.parquet\"\n",
    "src_dir_path = root_dir_path / \"src\""
   ]
  },
  {
   "cell_type": "code",
   "execution_count": null,
   "metadata": {},
   "outputs": [],
   "source": [
    "sys.path.append(str(src_dir_path))"
   ]
  },
  {
   "cell_type": "code",
   "execution_count": null,
   "metadata": {},
   "outputs": [],
   "source": [
    "from package.constants import *\n",
    "from package.feature_extraction import *"
   ]
  },
  {
   "cell_type": "code",
   "execution_count": null,
   "metadata": {},
   "outputs": [],
   "source": [
    "interim = pd.read_parquet(interim_path)"
   ]
  },
  {
   "cell_type": "code",
   "execution_count": null,
   "metadata": {},
   "outputs": [],
   "source": [
    "model = joblib.load(model_path)"
   ]
  },
  {
   "cell_type": "code",
   "execution_count": null,
   "metadata": {},
   "outputs": [],
   "source": [
    "is_test = interim[target].isnull()\n",
    "dates = interim.loc[is_test, \"date\"].unique()"
   ]
  },
  {
   "cell_type": "code",
   "execution_count": null,
   "metadata": {},
   "outputs": [],
   "source": [
    "# This process will need to be fixed later\n",
    "interim.loc[is_test, target] = 0.0"
   ]
  },
  {
   "cell_type": "code",
   "execution_count": null,
   "metadata": {
    "scrolled": false
   },
   "outputs": [],
   "source": [
    "%%time\n",
    "for date in tqdm(dates[:test_days]):\n",
    "    is_date = (interim[\"date\"] >= date - np.timedelta64(max_lags, \"D\")) & (\n",
    "        interim[\"date\"] <= date\n",
    "    )\n",
    "\n",
    "    intermediate = interim[is_date].copy()\n",
    "\n",
    "    # See below:\n",
    "    # https://www.kaggle.com/c/m5-forecasting-accuracy/discussion/139461\n",
    "    # https://www.kaggle.com/c/m5-forecasting-accuracy/discussion/141515\n",
    "    # https://www.kaggle.com/c/m5-forecasting-accuracy/discussion/141545\n",
    "    # https://www.kaggle.com/c/m5-forecasting-accuracy/discussion/141743\n",
    "    # https://www.kaggle.com/c/m5-forecasting-accuracy/discussion/141972\n",
    "    # https://www.kaggle.com/c/m5-forecasting-accuracy/discussion/151339\n",
    "    # https://www.kaggle.com/c/m5-forecasting-accuracy/discussion/151614\n",
    "    # https://www.kaggle.com/c/m5-forecasting-accuracy/discussion/151927\n",
    "    create_shift_features(intermediate, level_id_cols[11], [target], periods_online)\n",
    "    create_rolling_features(\n",
    "        intermediate, level_id_cols[11:], shift_features_online, windows\n",
    "    )\n",
    "\n",
    "    is_date = intermediate[\"date\"] == date\n",
    "    X = intermediate.loc[is_date, features]\n",
    "\n",
    "    display(X.isnull().sum())\n",
    "\n",
    "    y_pred = model.predict(X)\n",
    "    y_pred = y_pred.astype(\"float32\")\n",
    "    y_pred /= intermediate.loc[is_date, \"sell_price\"]\n",
    "\n",
    "    # See https://www.kaggle.com/c/m5-forecasting-accuracy/discussion/137217\n",
    "    y_pred = np.maximum(0.0, y_pred)\n",
    "\n",
    "    # See below:\n",
    "    # https://www.kaggle.com/c/m5-forecasting-accuracy/discussion/141452\n",
    "    # https://www.kaggle.com/c/m5-forecasting-accuracy/discussion/142770\n",
    "    # https://www.kaggle.com/c/m5-forecasting-accuracy/discussion/143295\n",
    "    y_pred *= 1.03\n",
    "\n",
    "    is_date = interim[\"date\"] == date\n",
    "    interim.loc[is_date, target] = y_pred"
   ]
  },
  {
   "cell_type": "code",
   "execution_count": null,
   "metadata": {},
   "outputs": [],
   "source": [
    "interim = interim[is_test]"
   ]
  },
  {
   "cell_type": "code",
   "execution_count": null,
   "metadata": {},
   "outputs": [],
   "source": [
    "interim.groupby(\"date\")[target].sum().plot(figsize=(16, 9), grid=True, marker=\"o\")"
   ]
  },
  {
   "cell_type": "code",
   "execution_count": null,
   "metadata": {},
   "outputs": [],
   "source": [
    "interim.groupby([\"date\", \"state_id\"])[target].sum().unstack().plot(\n",
    "    figsize=(16, 9), grid=True, marker=\"o\"\n",
    ")"
   ]
  },
  {
   "cell_type": "code",
   "execution_count": null,
   "metadata": {},
   "outputs": [],
   "source": [
    "interim.groupby([\"date\", \"store_id\"])[target].sum().unstack().plot(\n",
    "    figsize=(16, 9), grid=True, marker=\"o\"\n",
    ")"
   ]
  },
  {
   "cell_type": "code",
   "execution_count": null,
   "metadata": {},
   "outputs": [],
   "source": [
    "interim.groupby([\"date\", \"cat_id\"])[target].sum().unstack().plot(\n",
    "    figsize=(16, 9), grid=True, marker=\"o\"\n",
    ")"
   ]
  },
  {
   "cell_type": "code",
   "execution_count": null,
   "metadata": {},
   "outputs": [],
   "source": [
    "interim.groupby([\"date\", \"dept_id\"])[target].sum().unstack().plot(\n",
    "    figsize=(16, 9), grid=True, marker=\"o\"\n",
    ")"
   ]
  },
  {
   "cell_type": "code",
   "execution_count": null,
   "metadata": {},
   "outputs": [],
   "source": [
    "interim.to_parquet(prediction_path)"
   ]
  }
 ],
 "metadata": {
  "anaconda-cloud": {},
  "celltoolbar": "Tags",
  "kernelspec": {
   "display_name": "Python 3",
   "language": "python",
   "name": "python3"
  },
  "language_info": {
   "codemirror_mode": {
    "name": "ipython",
    "version": 3
   },
   "file_extension": ".py",
   "mimetype": "text/x-python",
   "name": "python",
   "nbconvert_exporter": "python",
   "pygments_lexer": "ipython3",
   "version": "3.8.2"
  }
 },
 "nbformat": 4,
 "nbformat_minor": 2
}
