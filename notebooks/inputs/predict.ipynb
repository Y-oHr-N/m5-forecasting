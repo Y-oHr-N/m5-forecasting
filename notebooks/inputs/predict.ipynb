{
 "cells": [
  {
   "cell_type": "code",
   "execution_count": null,
   "metadata": {},
   "outputs": [],
   "source": [
    "import sys"
   ]
  },
  {
   "cell_type": "code",
   "execution_count": null,
   "metadata": {},
   "outputs": [],
   "source": [
    "import numpy as np\n",
    "import joblib\n",
    "import pandas as pd\n",
    "from IPython.display import display\n",
    "from tqdm import tqdm"
   ]
  },
  {
   "cell_type": "code",
   "execution_count": null,
   "metadata": {
    "tags": [
     "parameters"
    ]
   },
   "outputs": [],
   "source": [
    "src_dir = \"../../src\""
   ]
  },
  {
   "cell_type": "code",
   "execution_count": null,
   "metadata": {},
   "outputs": [],
   "source": [
    "sys.path.append(src_dir)"
   ]
  },
  {
   "cell_type": "code",
   "execution_count": null,
   "metadata": {},
   "outputs": [],
   "source": [
    "from package.constants import *\n",
    "from package.datasets import *\n",
    "from package.feature_extraction import *\n",
    "from package.preprocessing import *"
   ]
  },
  {
   "cell_type": "code",
   "execution_count": null,
   "metadata": {},
   "outputs": [],
   "source": [
    "pd.options.display.max_rows = None"
   ]
  },
  {
   "cell_type": "code",
   "execution_count": null,
   "metadata": {},
   "outputs": [],
   "source": [
    "processed = load_processed()"
   ]
  },
  {
   "cell_type": "code",
   "execution_count": null,
   "metadata": {},
   "outputs": [],
   "source": [
    "model = joblib.load(lgbm_reg_path)"
   ]
  },
  {
   "cell_type": "code",
   "execution_count": null,
   "metadata": {},
   "outputs": [],
   "source": [
    "is_test = (validation_start_date <= processed[\"date\"]) & (\n",
    "    processed[\"date\"] <= evaluation_end_date\n",
    ")\n",
    "dates = processed.loc[is_test, \"date\"].unique()"
   ]
  },
  {
   "cell_type": "code",
   "execution_count": null,
   "metadata": {
    "scrolled": false
   },
   "outputs": [],
   "source": [
    "%%time\n",
    "for date in tqdm(dates[evaluation_days::prediction_step]):\n",
    "    date_end = date + np.timedelta64(prediction_step - 1, \"D\")\n",
    "    is_predicted = (processed[\"date\"] >= date - np.timedelta64(max_lags, \"D\")) & (\n",
    "        processed[\"date\"] <= date_end\n",
    "    )\n",
    "\n",
    "    intermediate = processed[is_predicted].copy()\n",
    "\n",
    "    # See below:\n",
    "    # https://www.kaggle.com/c/m5-forecasting-accuracy/discussion/139461\n",
    "    # https://www.kaggle.com/c/m5-forecasting-accuracy/discussion/141515\n",
    "    # https://www.kaggle.com/c/m5-forecasting-accuracy/discussion/141545\n",
    "    # https://www.kaggle.com/c/m5-forecasting-accuracy/discussion/141743\n",
    "    # https://www.kaggle.com/c/m5-forecasting-accuracy/discussion/141972\n",
    "    # https://www.kaggle.com/c/m5-forecasting-accuracy/discussion/151339\n",
    "    # https://www.kaggle.com/c/m5-forecasting-accuracy/discussion/151614\n",
    "    # https://www.kaggle.com/c/m5-forecasting-accuracy/discussion/151927\n",
    "    create_level_targets(intermediate)\n",
    "    create_shift_features(\n",
    "        intermediate, level_ids[11], level_targets[9:], periods_online\n",
    "    )\n",
    "    create_rolling_features(\n",
    "        intermediate, level_ids[11:], shift_features_online, windows\n",
    "    )\n",
    "\n",
    "    is_predicted = date <= intermediate[\"date\"]\n",
    "    X = intermediate.loc[is_predicted, features]\n",
    "\n",
    "    display(X.isnull().sum())\n",
    "\n",
    "    y_pred = model.predict(X)\n",
    "    y_pred = y_pred.astype(\"float32\")\n",
    "    y_pred /= intermediate.loc[is_predicted, \"sell_price\"]\n",
    "\n",
    "    # See https://www.kaggle.com/c/m5-forecasting-accuracy/discussion/137217\n",
    "    y_pred = np.maximum(0.0, y_pred)\n",
    "\n",
    "    is_predicted = (date <= processed[\"date\"]) & (processed[\"date\"] <= date_end)\n",
    "    processed.loc[is_predicted, target] = y_pred"
   ]
  },
  {
   "cell_type": "code",
   "execution_count": null,
   "metadata": {},
   "outputs": [],
   "source": [
    "processed = processed.loc[is_test, [\"d\", \"id\", target]]"
   ]
  },
  {
   "cell_type": "code",
   "execution_count": null,
   "metadata": {},
   "outputs": [],
   "source": [
    "processed.to_parquet(prediction_path)"
   ]
  }
 ],
 "metadata": {
  "anaconda-cloud": {},
  "celltoolbar": "Tags",
  "kernelspec": {
   "display_name": "Python 3",
   "language": "python",
   "name": "python3"
  },
  "language_info": {
   "codemirror_mode": {
    "name": "ipython",
    "version": 3
   },
   "file_extension": ".py",
   "mimetype": "text/x-python",
   "name": "python",
   "nbconvert_exporter": "python",
   "pygments_lexer": "ipython3",
   "version": "3.8.2"
  }
 },
 "nbformat": 4,
 "nbformat_minor": 2
}
