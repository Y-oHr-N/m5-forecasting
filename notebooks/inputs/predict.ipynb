{
 "cells": [
  {
   "cell_type": "code",
   "execution_count": null,
   "metadata": {},
   "outputs": [],
   "source": [
    "import pathlib\n",
    "import sys"
   ]
  },
  {
   "cell_type": "code",
   "execution_count": null,
   "metadata": {},
   "outputs": [],
   "source": [
    "import numpy as np\n",
    "import joblib\n",
    "import pandas as pd\n",
    "from tqdm import tqdm"
   ]
  },
  {
   "cell_type": "code",
   "execution_count": null,
   "metadata": {
    "tags": [
     "parameters"
    ]
   },
   "outputs": [],
   "source": [
    "root_dir = \"../..\""
   ]
  },
  {
   "cell_type": "code",
   "execution_count": null,
   "metadata": {},
   "outputs": [],
   "source": [
    "root_dir_path = pathlib.Path(root_dir)\n",
    "data_dir_path = root_dir_path / \"data\"\n",
    "interim_dir_path = data_dir_path / \"interim\"\n",
    "interim_path = interim_dir_path / \"interim.parquet\"\n",
    "models_dir_path = root_dir_path / \"models\"\n",
    "model_path = models_dir_path / \"reg.joblib\"\n",
    "prediction_path = models_dir_path / \"prediction.parquet\"\n",
    "src_dir_path = root_dir_path / \"src\""
   ]
  },
  {
   "cell_type": "code",
   "execution_count": null,
   "metadata": {},
   "outputs": [],
   "source": [
    "sys.path.append(str(src_dir_path))"
   ]
  },
  {
   "cell_type": "code",
   "execution_count": null,
   "metadata": {},
   "outputs": [],
   "source": [
    "from package.constants import *\n",
    "from package.feature_extraction import *"
   ]
  },
  {
   "cell_type": "code",
   "execution_count": null,
   "metadata": {},
   "outputs": [],
   "source": [
    "interim = pd.read_parquet(interim_path)"
   ]
  },
  {
   "cell_type": "code",
   "execution_count": null,
   "metadata": {},
   "outputs": [],
   "source": [
    "model = joblib.load(model_path)"
   ]
  },
  {
   "cell_type": "code",
   "execution_count": null,
   "metadata": {},
   "outputs": [],
   "source": [
    "is_test = interim[target].isnull()\n",
    "dates = interim.loc[is_test, \"date\"].unique()"
   ]
  },
  {
   "cell_type": "code",
   "execution_count": null,
   "metadata": {
    "scrolled": false
   },
   "outputs": [],
   "source": [
    "%%time\n",
    "# See below:\n",
    "# https://www.kaggle.com/c/m5-forecasting-accuracy/discussion/139461\n",
    "# https://www.kaggle.com/c/m5-forecasting-accuracy/discussion/151339\n",
    "# https://www.kaggle.com/c/m5-forecasting-accuracy/discussion/151614\n",
    "# https://www.kaggle.com/c/m5-forecasting-accuracy/discussion/151927\n",
    "for date in tqdm(dates):\n",
    "    is_date = (interim[\"date\"] >= date - np.timedelta64(max_lags, \"D\")) & (\n",
    "        interim[\"date\"] <= date\n",
    "    )\n",
    "\n",
    "    intermediate = interim[is_date].copy()\n",
    "\n",
    "    create_lag_features(intermediate, target)\n",
    "\n",
    "    is_date = intermediate[\"date\"] == date\n",
    "    X = intermediate.loc[is_date, features]\n",
    "    y_pred = model.predict(X)\n",
    "    y_pred = np.maximum(0.0, y_pred)\n",
    "\n",
    "    # See https://www.kaggle.com/c/m5-forecasting-accuracy/discussion/141452\n",
    "    y_pred *= 1.03\n",
    "\n",
    "    is_date = interim[\"date\"] == date\n",
    "    interim.loc[is_date, target] = y_pred"
   ]
  },
  {
   "cell_type": "code",
   "execution_count": null,
   "metadata": {},
   "outputs": [],
   "source": [
    "interim[is_test].to_parquet(prediction_path)"
   ]
  }
 ],
 "metadata": {
  "anaconda-cloud": {},
  "celltoolbar": "Tags",
  "kernelspec": {
   "display_name": "Python 3",
   "language": "python",
   "name": "python3"
  },
  "language_info": {
   "codemirror_mode": {
    "name": "ipython",
    "version": 3
   },
   "file_extension": ".py",
   "mimetype": "text/x-python",
   "name": "python",
   "nbconvert_exporter": "python",
   "pygments_lexer": "ipython3",
   "version": "3.7.6"
  }
 },
 "nbformat": 4,
 "nbformat_minor": 2
}
