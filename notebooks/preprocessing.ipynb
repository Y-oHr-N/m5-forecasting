{
 "cells": [
  {
   "cell_type": "code",
   "execution_count": 1,
   "metadata": {},
   "outputs": [],
   "source": [
    "import gc\n",
    "import pathlib\n",
    "import sys"
   ]
  },
  {
   "cell_type": "code",
   "execution_count": 2,
   "metadata": {},
   "outputs": [],
   "source": [
    "import numpy as np\n",
    "import pandas as pd"
   ]
  },
  {
   "cell_type": "code",
   "execution_count": 3,
   "metadata": {},
   "outputs": [],
   "source": [
    "root_dir_path = pathlib.Path(\"..\")\n",
    "data_dir_path = root_dir_path / \"data\"\n",
    "raw_dir_path = data_dir_path / \"raw\"\n",
    "calendar_path = raw_dir_path / \"calendar.csv\"\n",
    "sales_train_validation_path = raw_dir_path / \"sales_train_validation.csv\"\n",
    "sell_prices_path = raw_dir_path / \"sell_prices.csv\"\n",
    "sample_submission_path = raw_dir_path / \"sample_submission.csv\"\n",
    "processed_dir_path = data_dir_path / \"processed\"\n",
    "train_path = processed_dir_path / \"train.parquet\"\n",
    "test_path = processed_dir_path / \"test.parquet\"\n",
    "src_dir_path = root_dir_path / \"src\""
   ]
  },
  {
   "cell_type": "code",
   "execution_count": 4,
   "metadata": {},
   "outputs": [],
   "source": [
    "sys.path.append(str(src_dir_path))"
   ]
  },
  {
   "cell_type": "code",
   "execution_count": 5,
   "metadata": {},
   "outputs": [],
   "source": [
    "from utils import *"
   ]
  },
  {
   "cell_type": "code",
   "execution_count": 6,
   "metadata": {},
   "outputs": [],
   "source": [
    "train_days = 1913\n",
    "test_days = 28"
   ]
  },
  {
   "cell_type": "markdown",
   "metadata": {},
   "source": [
    "## calendar"
   ]
  },
  {
   "cell_type": "code",
   "execution_count": 7,
   "metadata": {},
   "outputs": [],
   "source": [
    "calendar = pd.read_csv(calendar_path, parse_dates=[\"date\"])"
   ]
  },
  {
   "cell_type": "code",
   "execution_count": 8,
   "metadata": {},
   "outputs": [],
   "source": [
    "calendar.drop(columns=[\"weekday\", \"wday\", \"month\", \"year\"], inplace=True)"
   ]
  },
  {
   "cell_type": "code",
   "execution_count": 9,
   "metadata": {},
   "outputs": [],
   "source": [
    "for col in [\"event_name_1\", \"event_type_1\", \"event_name_2\", \"event_type_2\"]:\n",
    "    calendar[col] = pd.factorize(calendar[col], sort=True)[0]"
   ]
  },
  {
   "cell_type": "code",
   "execution_count": 10,
   "metadata": {},
   "outputs": [],
   "source": [
    "reduce_memory_usage(calendar)"
   ]
  },
  {
   "cell_type": "code",
   "execution_count": 11,
   "metadata": {
    "scrolled": true
   },
   "outputs": [
    {
     "name": "stdout",
     "output_type": "stream",
     "text": [
      "<class 'pandas.core.frame.DataFrame'>\n",
      "RangeIndex: 1969 entries, 0 to 1968\n",
      "Data columns (total 10 columns):\n",
      " #   Column        Non-Null Count  Dtype         \n",
      "---  ------        --------------  -----         \n",
      " 0   date          1969 non-null   datetime64[ns]\n",
      " 1   wm_yr_wk      1969 non-null   int16         \n",
      " 2   d             1969 non-null   object        \n",
      " 3   event_name_1  1969 non-null   int8          \n",
      " 4   event_type_1  1969 non-null   int8          \n",
      " 5   event_name_2  1969 non-null   int8          \n",
      " 6   event_type_2  1969 non-null   int8          \n",
      " 7   snap_CA       1969 non-null   int8          \n",
      " 8   snap_TX       1969 non-null   int8          \n",
      " 9   snap_WI       1969 non-null   int8          \n",
      "dtypes: datetime64[ns](1), int16(1), int8(7), object(1)\n",
      "memory usage: 48.2+ KB\n"
     ]
    }
   ],
   "source": [
    "calendar.info()"
   ]
  },
  {
   "cell_type": "markdown",
   "metadata": {},
   "source": [
    "## sales_train_validation"
   ]
  },
  {
   "cell_type": "code",
   "execution_count": 12,
   "metadata": {},
   "outputs": [],
   "source": [
    "sales_train_validation = pd.read_csv(sales_train_validation_path)"
   ]
  },
  {
   "cell_type": "code",
   "execution_count": 13,
   "metadata": {},
   "outputs": [],
   "source": [
    "for col in [\"store_id\", \"item_id\", \"dept_id\", \"cat_id\", \"state_id\"]:\n",
    "    sales_train_validation[col] = pd.factorize(sales_train_validation[col], sort=True)[0]"
   ]
  },
  {
   "cell_type": "code",
   "execution_count": 14,
   "metadata": {},
   "outputs": [],
   "source": [
    "reduce_memory_usage(sales_train_validation)"
   ]
  },
  {
   "cell_type": "code",
   "execution_count": 15,
   "metadata": {
    "scrolled": true
   },
   "outputs": [
    {
     "name": "stdout",
     "output_type": "stream",
     "text": [
      "<class 'pandas.core.frame.DataFrame'>\n",
      "RangeIndex: 30490 entries, 0 to 30489\n",
      "Columns: 1919 entries, id to d_1913\n",
      "dtypes: int16(1289), int8(629), object(1)\n",
      "memory usage: 93.5+ MB\n"
     ]
    }
   ],
   "source": [
    "sales_train_validation.info()"
   ]
  },
  {
   "cell_type": "code",
   "execution_count": 16,
   "metadata": {},
   "outputs": [
    {
     "data": {
      "text/plain": [
       "0"
      ]
     },
     "execution_count": 16,
     "metadata": {},
     "output_type": "execute_result"
    }
   ],
   "source": [
    "sales_train_validation.duplicated([\"item_id\", \"store_id\"]).sum()"
   ]
  },
  {
   "cell_type": "code",
   "execution_count": 17,
   "metadata": {
    "scrolled": true
   },
   "outputs": [
    {
     "data": {
      "text/plain": [
       "30490"
      ]
     },
     "execution_count": 17,
     "metadata": {},
     "output_type": "execute_result"
    }
   ],
   "source": [
    "sales_train_validation[\"id\"].str.endswith(\"_validation\").sum()"
   ]
  },
  {
   "cell_type": "code",
   "execution_count": 18,
   "metadata": {},
   "outputs": [
    {
     "data": {
      "text/plain": [
       "0"
      ]
     },
     "execution_count": 18,
     "metadata": {},
     "output_type": "execute_result"
    }
   ],
   "source": [
    "sales_train_validation[\"id\"].str.endswith(\"_evaluation\").sum()"
   ]
  },
  {
   "cell_type": "markdown",
   "metadata": {},
   "source": [
    "## sell_prices"
   ]
  },
  {
   "cell_type": "code",
   "execution_count": 19,
   "metadata": {},
   "outputs": [],
   "source": [
    "sell_prices = pd.read_csv(sell_prices_path)"
   ]
  },
  {
   "cell_type": "code",
   "execution_count": 20,
   "metadata": {},
   "outputs": [],
   "source": [
    "for col in [\"store_id\", \"item_id\"]:\n",
    "    sell_prices[col] = pd.factorize(sell_prices[col], sort=True)[0]"
   ]
  },
  {
   "cell_type": "code",
   "execution_count": 21,
   "metadata": {},
   "outputs": [],
   "source": [
    "reduce_memory_usage(sell_prices)"
   ]
  },
  {
   "cell_type": "code",
   "execution_count": 22,
   "metadata": {},
   "outputs": [
    {
     "name": "stdout",
     "output_type": "stream",
     "text": [
      "<class 'pandas.core.frame.DataFrame'>\n",
      "RangeIndex: 6841121 entries, 0 to 6841120\n",
      "Data columns (total 4 columns):\n",
      " #   Column      Dtype  \n",
      "---  ------      -----  \n",
      " 0   store_id    int8   \n",
      " 1   item_id     int16  \n",
      " 2   wm_yr_wk    int16  \n",
      " 3   sell_price  float32\n",
      "dtypes: float32(1), int16(2), int8(1)\n",
      "memory usage: 58.7 MB\n"
     ]
    }
   ],
   "source": [
    "sell_prices.info()"
   ]
  },
  {
   "cell_type": "markdown",
   "metadata": {},
   "source": [
    "## sample_submission"
   ]
  },
  {
   "cell_type": "code",
   "execution_count": 23,
   "metadata": {},
   "outputs": [],
   "source": [
    "sample_submission = pd.read_csv(sample_submission_path)"
   ]
  },
  {
   "cell_type": "code",
   "execution_count": 24,
   "metadata": {},
   "outputs": [],
   "source": [
    "sample_submission[[\"item_id\", \"store_id\"]] = sample_submission[\"id\"].str.extract(r\"(\\w+_\\d+_\\d+)_(\\w+_\\d+)_\\w+\")\n",
    "sample_submission[\"dept_id\"] = sample_submission[\"item_id\"].str.extract(r\"(\\w+_\\d+)_\\d+\")\n",
    "sample_submission[\"cat_id\"] = sample_submission[\"dept_id\"].str.extract(r\"(\\w+)_\\d+\")\n",
    "sample_submission[\"state_id\"] = sample_submission[\"store_id\"].str.extract(r\"(\\w+)_\\d+\")"
   ]
  },
  {
   "cell_type": "code",
   "execution_count": 25,
   "metadata": {},
   "outputs": [],
   "source": [
    "for col in [\"store_id\", \"item_id\", \"dept_id\", \"cat_id\", \"state_id\"]:\n",
    "    sample_submission[col] = pd.factorize(sample_submission[col], sort=True)[0]"
   ]
  },
  {
   "cell_type": "code",
   "execution_count": 26,
   "metadata": {},
   "outputs": [],
   "source": [
    "reduce_memory_usage(sample_submission)"
   ]
  },
  {
   "cell_type": "code",
   "execution_count": 27,
   "metadata": {},
   "outputs": [
    {
     "name": "stdout",
     "output_type": "stream",
     "text": [
      "<class 'pandas.core.frame.DataFrame'>\n",
      "RangeIndex: 60980 entries, 0 to 60979\n",
      "Data columns (total 34 columns):\n",
      " #   Column    Non-Null Count  Dtype \n",
      "---  ------    --------------  ----- \n",
      " 0   id        60980 non-null  object\n",
      " 1   F1        60980 non-null  int8  \n",
      " 2   F2        60980 non-null  int8  \n",
      " 3   F3        60980 non-null  int8  \n",
      " 4   F4        60980 non-null  int8  \n",
      " 5   F5        60980 non-null  int8  \n",
      " 6   F6        60980 non-null  int8  \n",
      " 7   F7        60980 non-null  int8  \n",
      " 8   F8        60980 non-null  int8  \n",
      " 9   F9        60980 non-null  int8  \n",
      " 10  F10       60980 non-null  int8  \n",
      " 11  F11       60980 non-null  int8  \n",
      " 12  F12       60980 non-null  int8  \n",
      " 13  F13       60980 non-null  int8  \n",
      " 14  F14       60980 non-null  int8  \n",
      " 15  F15       60980 non-null  int8  \n",
      " 16  F16       60980 non-null  int8  \n",
      " 17  F17       60980 non-null  int8  \n",
      " 18  F18       60980 non-null  int8  \n",
      " 19  F19       60980 non-null  int8  \n",
      " 20  F20       60980 non-null  int8  \n",
      " 21  F21       60980 non-null  int8  \n",
      " 22  F22       60980 non-null  int8  \n",
      " 23  F23       60980 non-null  int8  \n",
      " 24  F24       60980 non-null  int8  \n",
      " 25  F25       60980 non-null  int8  \n",
      " 26  F26       60980 non-null  int8  \n",
      " 27  F27       60980 non-null  int8  \n",
      " 28  F28       60980 non-null  int8  \n",
      " 29  item_id   60980 non-null  int16 \n",
      " 30  store_id  60980 non-null  int8  \n",
      " 31  dept_id   60980 non-null  int8  \n",
      " 32  cat_id    60980 non-null  int8  \n",
      " 33  state_id  60980 non-null  int8  \n",
      "dtypes: int16(1), int8(32), object(1)\n",
      "memory usage: 2.4+ MB\n"
     ]
    }
   ],
   "source": [
    "sample_submission.info()"
   ]
  },
  {
   "cell_type": "markdown",
   "metadata": {},
   "source": [
    "## train"
   ]
  },
  {
   "cell_type": "code",
   "execution_count": 28,
   "metadata": {},
   "outputs": [],
   "source": [
    "train = sales_train_validation.melt(id_vars=[\"id\", \"item_id\", \"store_id\", \"dept_id\", \"cat_id\", \"state_id\"], var_name=\"d\", value_name=\"demand\")"
   ]
  },
  {
   "cell_type": "code",
   "execution_count": 29,
   "metadata": {},
   "outputs": [],
   "source": [
    "del sales_train_validation"
   ]
  },
  {
   "cell_type": "code",
   "execution_count": 30,
   "metadata": {},
   "outputs": [
    {
     "data": {
      "text/plain": [
       "76"
      ]
     },
     "execution_count": 30,
     "metadata": {},
     "output_type": "execute_result"
    }
   ],
   "source": [
    "gc.collect()"
   ]
  },
  {
   "cell_type": "code",
   "execution_count": 31,
   "metadata": {},
   "outputs": [],
   "source": [
    "train = train.merge(calendar, copy=False, how=\"left\", on=\"d\")\n",
    "train = train.merge(sell_prices, copy=False, how=\"left\", on=[\"store_id\", \"item_id\", \"wm_yr_wk\"])"
   ]
  },
  {
   "cell_type": "code",
   "execution_count": 32,
   "metadata": {},
   "outputs": [],
   "source": [
    "train.drop(columns=\"wm_yr_wk\", inplace=True)"
   ]
  },
  {
   "cell_type": "code",
   "execution_count": 33,
   "metadata": {},
   "outputs": [],
   "source": [
    "train.sort_values([\"date\", \"store_id\", \"item_id\"], ignore_index=True, inplace=True)"
   ]
  },
  {
   "cell_type": "code",
   "execution_count": 34,
   "metadata": {},
   "outputs": [
    {
     "name": "stdout",
     "output_type": "stream",
     "text": [
      "<class 'pandas.core.frame.DataFrame'>\n",
      "RangeIndex: 58327370 entries, 0 to 58327369\n",
      "Data columns (total 17 columns):\n",
      " #   Column        Dtype         \n",
      "---  ------        -----         \n",
      " 0   id            object        \n",
      " 1   item_id       int16         \n",
      " 2   store_id      int8          \n",
      " 3   dept_id       int8          \n",
      " 4   cat_id        int8          \n",
      " 5   state_id      int8          \n",
      " 6   d             object        \n",
      " 7   demand        int16         \n",
      " 8   date          datetime64[ns]\n",
      " 9   event_name_1  int8          \n",
      " 10  event_type_1  int8          \n",
      " 11  event_name_2  int8          \n",
      " 12  event_type_2  int8          \n",
      " 13  snap_CA       int8          \n",
      " 14  snap_TX       int8          \n",
      " 15  snap_WI       int8          \n",
      " 16  sell_price    float32       \n",
      "dtypes: datetime64[ns](1), float32(1), int16(2), int8(11), object(2)\n",
      "memory usage: 2.3+ GB\n"
     ]
    }
   ],
   "source": [
    "train.info()"
   ]
  },
  {
   "cell_type": "code",
   "execution_count": 35,
   "metadata": {},
   "outputs": [],
   "source": [
    "train.to_parquet(train_path)"
   ]
  },
  {
   "cell_type": "markdown",
   "metadata": {},
   "source": [
    "## test"
   ]
  },
  {
   "cell_type": "code",
   "execution_count": 36,
   "metadata": {},
   "outputs": [],
   "source": [
    "test = sample_submission.melt(id_vars=[\"id\", \"item_id\", \"store_id\", \"dept_id\", \"cat_id\", \"state_id\"], var_name=\"d\", value_name=\"demand\")"
   ]
  },
  {
   "cell_type": "code",
   "execution_count": 37,
   "metadata": {},
   "outputs": [],
   "source": [
    "del sample_submission"
   ]
  },
  {
   "cell_type": "code",
   "execution_count": 38,
   "metadata": {},
   "outputs": [
    {
     "data": {
      "text/plain": [
       "60"
      ]
     },
     "execution_count": 38,
     "metadata": {},
     "output_type": "execute_result"
    }
   ],
   "source": [
    "gc.collect()"
   ]
  },
  {
   "cell_type": "code",
   "execution_count": 39,
   "metadata": {},
   "outputs": [],
   "source": [
    "test.drop(columns=\"demand\", inplace=True)"
   ]
  },
  {
   "cell_type": "code",
   "execution_count": 40,
   "metadata": {},
   "outputs": [],
   "source": [
    "is_evaluation = test[\"id\"].str.endswith(\"_evaluation\")\n",
    "intermediate = test[\"d\"].str[1:]\n",
    "intermediate = intermediate.astype(\"int32\")\n",
    "intermediate += train_days\n",
    "intermediate[is_evaluation] += test_days\n",
    "test[\"d\"] = intermediate.apply(\"d_{}\".format)"
   ]
  },
  {
   "cell_type": "code",
   "execution_count": 41,
   "metadata": {},
   "outputs": [],
   "source": [
    "del is_evaluation\n",
    "del intermediate"
   ]
  },
  {
   "cell_type": "code",
   "execution_count": 42,
   "metadata": {},
   "outputs": [
    {
     "data": {
      "text/plain": [
       "89"
      ]
     },
     "execution_count": 42,
     "metadata": {},
     "output_type": "execute_result"
    }
   ],
   "source": [
    "gc.collect()"
   ]
  },
  {
   "cell_type": "code",
   "execution_count": 43,
   "metadata": {},
   "outputs": [],
   "source": [
    "test = test.merge(calendar, copy=False, how=\"left\", on=\"d\")\n",
    "test = test.merge(sell_prices, copy=False, how=\"left\", on=[\"store_id\", \"item_id\", \"wm_yr_wk\"])"
   ]
  },
  {
   "cell_type": "code",
   "execution_count": 44,
   "metadata": {},
   "outputs": [],
   "source": [
    "test.drop(columns=\"wm_yr_wk\", inplace=True)"
   ]
  },
  {
   "cell_type": "code",
   "execution_count": 45,
   "metadata": {},
   "outputs": [],
   "source": [
    "test.sort_values([\"date\", \"store_id\", \"item_id\"], ignore_index=True, inplace=True)"
   ]
  },
  {
   "cell_type": "code",
   "execution_count": 46,
   "metadata": {
    "scrolled": false
   },
   "outputs": [
    {
     "name": "stdout",
     "output_type": "stream",
     "text": [
      "<class 'pandas.core.frame.DataFrame'>\n",
      "RangeIndex: 1707440 entries, 0 to 1707439\n",
      "Data columns (total 16 columns):\n",
      " #   Column        Dtype         \n",
      "---  ------        -----         \n",
      " 0   id            object        \n",
      " 1   item_id       int16         \n",
      " 2   store_id      int8          \n",
      " 3   dept_id       int8          \n",
      " 4   cat_id        int8          \n",
      " 5   state_id      int8          \n",
      " 6   d             object        \n",
      " 7   date          datetime64[ns]\n",
      " 8   event_name_1  int8          \n",
      " 9   event_type_1  int8          \n",
      " 10  event_name_2  int8          \n",
      " 11  event_type_2  int8          \n",
      " 12  snap_CA       int8          \n",
      " 13  snap_TX       int8          \n",
      " 14  snap_WI       int8          \n",
      " 15  sell_price    float32       \n",
      "dtypes: datetime64[ns](1), float32(1), int16(1), int8(11), object(2)\n",
      "memory usage: 66.8+ MB\n"
     ]
    }
   ],
   "source": [
    "test.info()"
   ]
  },
  {
   "cell_type": "code",
   "execution_count": 47,
   "metadata": {},
   "outputs": [],
   "source": [
    "test.to_parquet(test_path)"
   ]
  }
 ],
 "metadata": {
  "anaconda-cloud": {},
  "kernelspec": {
   "display_name": "Python 3",
   "language": "python",
   "name": "python3"
  },
  "language_info": {
   "codemirror_mode": {
    "name": "ipython",
    "version": 3
   },
   "file_extension": ".py",
   "mimetype": "text/x-python",
   "name": "python",
   "nbconvert_exporter": "python",
   "pygments_lexer": "ipython3",
   "version": "3.7.6"
  }
 },
 "nbformat": 4,
 "nbformat_minor": 2
}
