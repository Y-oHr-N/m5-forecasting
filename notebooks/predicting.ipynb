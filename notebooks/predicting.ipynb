{
 "cells": [
  {
   "cell_type": "code",
   "execution_count": 1,
   "metadata": {},
   "outputs": [],
   "source": [
    "import pathlib"
   ]
  },
  {
   "cell_type": "code",
   "execution_count": 2,
   "metadata": {},
   "outputs": [],
   "source": [
    "import joblib\n",
    "import pandas as pd\n",
    "from sklearn.dummy import DummyRegressor"
   ]
  },
  {
   "cell_type": "code",
   "execution_count": 3,
   "metadata": {},
   "outputs": [],
   "source": [
    "root_dir_path = pathlib.Path(\"..\")\n",
    "data_dir_path = root_dir_path / \"data\"\n",
    "processed_dir_path = data_dir_path / \"processed\"\n",
    "test_path = processed_dir_path / \"test_engineered.parquet\"\n",
    "models_dir_path = root_dir_path / \"models\"\n",
    "model_path = models_dir_path / \"model.joblib\"\n",
    "prediction_path = models_dir_path / \"prediction.parquet\""
   ]
  },
  {
   "cell_type": "code",
   "execution_count": 4,
   "metadata": {},
   "outputs": [],
   "source": [
    "calendar_features = [\n",
    "    \"year\",\n",
    "    \"dayofyear\",\n",
    "    \"weekofyear\",\n",
    "    \"quarter\",\n",
    "    \"month\",\n",
    "    \"day\",\n",
    "    \"weekday\",\n",
    "    \"is_year_start\",\n",
    "    \"is_year_end\",\n",
    "    \"is_month_start\",\n",
    "    \"is_month_end\",\n",
    "]\n",
    "lag_features = [f\"demand_shift_{i}\" for i in range(28, 29)]\n",
    "categorical_features = [\n",
    "    \"store_id\",\n",
    "    \"item_id\",\n",
    "    \"dept_id\",\n",
    "    \"cat_id\",\n",
    "    \"state_id\",\n",
    "    \"event_name_1\",\n",
    "    \"event_type_1\",\n",
    "    \"event_name_2\",\n",
    "    \"event_type_2\",\n",
    "]\n",
    "numerical_features = [\n",
    "    \"snap_CA\",\n",
    "    \"snap_TX\",\n",
    "    \"snap_WI\",\n",
    "    \"sell_price\",\n",
    "] + calendar_features + lag_features\n",
    "features = categorical_features + numerical_features"
   ]
  },
  {
   "cell_type": "code",
   "execution_count": 5,
   "metadata": {},
   "outputs": [],
   "source": [
    "test = pd.read_parquet(test_path)"
   ]
  },
  {
   "cell_type": "code",
   "execution_count": 6,
   "metadata": {},
   "outputs": [],
   "source": [
    "X = test[features]"
   ]
  },
  {
   "cell_type": "code",
   "execution_count": 7,
   "metadata": {},
   "outputs": [],
   "source": [
    "model = joblib.load(model_path)"
   ]
  },
  {
   "cell_type": "code",
   "execution_count": 8,
   "metadata": {},
   "outputs": [],
   "source": [
    "test[\"demand\"] = model.predict(X)"
   ]
  },
  {
   "cell_type": "code",
   "execution_count": 9,
   "metadata": {},
   "outputs": [],
   "source": [
    "test.to_parquet(prediction_path)"
   ]
  }
 ],
 "metadata": {
  "anaconda-cloud": {},
  "kernelspec": {
   "display_name": "Python [default]",
   "language": "python",
   "name": "python3"
  },
  "language_info": {
   "codemirror_mode": {
    "name": "ipython",
    "version": 3
   },
   "file_extension": ".py",
   "mimetype": "text/x-python",
   "name": "python",
   "nbconvert_exporter": "python",
   "pygments_lexer": "ipython3",
   "version": "3.6.5"
  }
 },
 "nbformat": 4,
 "nbformat_minor": 2
}
