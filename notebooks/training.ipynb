{
 "cells": [
  {
   "cell_type": "code",
   "execution_count": 1,
   "metadata": {},
   "outputs": [],
   "source": [
    "%matplotlib inline"
   ]
  },
  {
   "cell_type": "code",
   "execution_count": 2,
   "metadata": {},
   "outputs": [],
   "source": [
    "import pathlib"
   ]
  },
  {
   "cell_type": "code",
   "execution_count": 3,
   "metadata": {},
   "outputs": [],
   "source": [
    "import joblib\n",
    "import lightgbm as lgb\n",
    "import pandas as pd"
   ]
  },
  {
   "cell_type": "code",
   "execution_count": 4,
   "metadata": {},
   "outputs": [],
   "source": [
    "categorical_cols = [\"store_id\", \"item_id\", \"dept_id\", \"cat_id\", \"state_id\", \"event_name_1\", \"event_type_1\", \"event_name_2\", \"event_type_2\"]"
   ]
  },
  {
   "cell_type": "code",
   "execution_count": 5,
   "metadata": {},
   "outputs": [],
   "source": [
    "root_dir_path = pathlib.Path(\"..\")\n",
    "data_dir_path = root_dir_path / \"data\"\n",
    "processed_dir_path = data_dir_path / \"processed\"\n",
    "train_path = processed_dir_path / \"train_filtered.parquet\"\n",
    "models_dir_path = root_dir_path / \"models\"\n",
    "model_path = models_dir_path / \"model.joblib\""
   ]
  },
  {
   "cell_type": "code",
   "execution_count": 6,
   "metadata": {},
   "outputs": [],
   "source": [
    "train = pd.read_parquet(train_path)"
   ]
  },
  {
   "cell_type": "code",
   "execution_count": 7,
   "metadata": {
    "scrolled": false
   },
   "outputs": [
    {
     "data": {
      "text/plain": [
       "(45942500, 20)"
      ]
     },
     "execution_count": 7,
     "metadata": {},
     "output_type": "execute_result"
    }
   ],
   "source": [
    "train.shape"
   ]
  },
  {
   "cell_type": "code",
   "execution_count": 8,
   "metadata": {},
   "outputs": [],
   "source": [
    "train[categorical_cols] = train[categorical_cols].astype(\"category\")"
   ]
  },
  {
   "cell_type": "code",
   "execution_count": 9,
   "metadata": {},
   "outputs": [],
   "source": [
    "is_train = train[\"date\"] <= \"2016-01-28\"\n",
    "train, valid = train[is_train], train[~is_train]"
   ]
  },
  {
   "cell_type": "code",
   "execution_count": 10,
   "metadata": {
    "scrolled": true
   },
   "outputs": [
    {
     "data": {
      "text/plain": [
       "(43290018, 20)"
      ]
     },
     "execution_count": 10,
     "metadata": {},
     "output_type": "execute_result"
    }
   ],
   "source": [
    "train.shape"
   ]
  },
  {
   "cell_type": "code",
   "execution_count": 11,
   "metadata": {},
   "outputs": [
    {
     "data": {
      "text/plain": [
       "(2652482, 20)"
      ]
     },
     "execution_count": 11,
     "metadata": {},
     "output_type": "execute_result"
    }
   ],
   "source": [
    "valid.shape"
   ]
  },
  {
   "cell_type": "code",
   "execution_count": 12,
   "metadata": {},
   "outputs": [],
   "source": [
    "data = train.select_dtypes([\"category\", \"number\"])\n",
    "data_valid = valid.select_dtypes([\"category\", \"number\"])"
   ]
  },
  {
   "cell_type": "code",
   "execution_count": 13,
   "metadata": {},
   "outputs": [
    {
     "data": {
      "text/html": [
       "<div>\n",
       "<style scoped>\n",
       "    .dataframe tbody tr th:only-of-type {\n",
       "        vertical-align: middle;\n",
       "    }\n",
       "\n",
       "    .dataframe tbody tr th {\n",
       "        vertical-align: top;\n",
       "    }\n",
       "\n",
       "    .dataframe thead th {\n",
       "        text-align: right;\n",
       "    }\n",
       "</style>\n",
       "<table border=\"1\" class=\"dataframe\">\n",
       "  <thead>\n",
       "    <tr style=\"text-align: right;\">\n",
       "      <th></th>\n",
       "      <th>item_id</th>\n",
       "      <th>store_id</th>\n",
       "      <th>dept_id</th>\n",
       "      <th>cat_id</th>\n",
       "      <th>state_id</th>\n",
       "      <th>demand</th>\n",
       "      <th>wm_yr_wk</th>\n",
       "      <th>event_name_1</th>\n",
       "      <th>event_type_1</th>\n",
       "      <th>event_name_2</th>\n",
       "      <th>event_type_2</th>\n",
       "      <th>snap_CA</th>\n",
       "      <th>snap_TX</th>\n",
       "      <th>snap_WI</th>\n",
       "      <th>sell_price</th>\n",
       "      <th>month</th>\n",
       "      <th>weekday</th>\n",
       "    </tr>\n",
       "  </thead>\n",
       "  <tbody>\n",
       "    <tr>\n",
       "      <th>count</th>\n",
       "      <td>43290018</td>\n",
       "      <td>43290018</td>\n",
       "      <td>43290018</td>\n",
       "      <td>43290018</td>\n",
       "      <td>43290018</td>\n",
       "      <td>4.329002e+07</td>\n",
       "      <td>4.329002e+07</td>\n",
       "      <td>3435036</td>\n",
       "      <td>3435036</td>\n",
       "      <td>94157</td>\n",
       "      <td>94157</td>\n",
       "      <td>4.329002e+07</td>\n",
       "      <td>4.329002e+07</td>\n",
       "      <td>4.329002e+07</td>\n",
       "      <td>4.329002e+07</td>\n",
       "      <td>4.329002e+07</td>\n",
       "      <td>4.329002e+07</td>\n",
       "    </tr>\n",
       "    <tr>\n",
       "      <th>unique</th>\n",
       "      <td>3049</td>\n",
       "      <td>10</td>\n",
       "      <td>7</td>\n",
       "      <td>3</td>\n",
       "      <td>3</td>\n",
       "      <td>NaN</td>\n",
       "      <td>NaN</td>\n",
       "      <td>30</td>\n",
       "      <td>4</td>\n",
       "      <td>4</td>\n",
       "      <td>2</td>\n",
       "      <td>NaN</td>\n",
       "      <td>NaN</td>\n",
       "      <td>NaN</td>\n",
       "      <td>NaN</td>\n",
       "      <td>NaN</td>\n",
       "      <td>NaN</td>\n",
       "    </tr>\n",
       "    <tr>\n",
       "      <th>top</th>\n",
       "      <td>HOUSEHOLD_2_299</td>\n",
       "      <td>TX_2</td>\n",
       "      <td>FOODS_3</td>\n",
       "      <td>FOODS</td>\n",
       "      <td>CA</td>\n",
       "      <td>NaN</td>\n",
       "      <td>NaN</td>\n",
       "      <td>MartinLutherKingDay</td>\n",
       "      <td>National</td>\n",
       "      <td>Father's day</td>\n",
       "      <td>Cultural</td>\n",
       "      <td>NaN</td>\n",
       "      <td>NaN</td>\n",
       "      <td>NaN</td>\n",
       "      <td>NaN</td>\n",
       "      <td>NaN</td>\n",
       "      <td>NaN</td>\n",
       "    </tr>\n",
       "    <tr>\n",
       "      <th>freq</th>\n",
       "      <td>18260</td>\n",
       "      <td>4449544</td>\n",
       "      <td>11609036</td>\n",
       "      <td>20107581</td>\n",
       "      <td>17120247</td>\n",
       "      <td>NaN</td>\n",
       "      <td>NaN</td>\n",
       "      <td>125376</td>\n",
       "      <td>1208676</td>\n",
       "      <td>28221</td>\n",
       "      <td>66560</td>\n",
       "      <td>NaN</td>\n",
       "      <td>NaN</td>\n",
       "      <td>NaN</td>\n",
       "      <td>NaN</td>\n",
       "      <td>NaN</td>\n",
       "      <td>NaN</td>\n",
       "    </tr>\n",
       "    <tr>\n",
       "      <th>mean</th>\n",
       "      <td>NaN</td>\n",
       "      <td>NaN</td>\n",
       "      <td>NaN</td>\n",
       "      <td>NaN</td>\n",
       "      <td>NaN</td>\n",
       "      <td>1.432720e+00</td>\n",
       "      <td>1.135948e+04</td>\n",
       "      <td>NaN</td>\n",
       "      <td>NaN</td>\n",
       "      <td>NaN</td>\n",
       "      <td>NaN</td>\n",
       "      <td>3.273593e-01</td>\n",
       "      <td>3.278231e-01</td>\n",
       "      <td>3.278760e-01</td>\n",
       "      <td>4.403153e+00</td>\n",
       "      <td>6.617501e+00</td>\n",
       "      <td>2.998727e+00</td>\n",
       "    </tr>\n",
       "    <tr>\n",
       "      <th>std</th>\n",
       "      <td>NaN</td>\n",
       "      <td>NaN</td>\n",
       "      <td>NaN</td>\n",
       "      <td>NaN</td>\n",
       "      <td>NaN</td>\n",
       "      <td>4.351036e+00</td>\n",
       "      <td>1.356624e+02</td>\n",
       "      <td>NaN</td>\n",
       "      <td>NaN</td>\n",
       "      <td>NaN</td>\n",
       "      <td>NaN</td>\n",
       "      <td>4.692496e-01</td>\n",
       "      <td>4.694200e-01</td>\n",
       "      <td>4.694394e-01</td>\n",
       "      <td>3.394033e+00</td>\n",
       "      <td>3.463750e+00</td>\n",
       "      <td>1.999915e+00</td>\n",
       "    </tr>\n",
       "    <tr>\n",
       "      <th>min</th>\n",
       "      <td>NaN</td>\n",
       "      <td>NaN</td>\n",
       "      <td>NaN</td>\n",
       "      <td>NaN</td>\n",
       "      <td>NaN</td>\n",
       "      <td>0.000000e+00</td>\n",
       "      <td>1.110100e+04</td>\n",
       "      <td>NaN</td>\n",
       "      <td>NaN</td>\n",
       "      <td>NaN</td>\n",
       "      <td>NaN</td>\n",
       "      <td>0.000000e+00</td>\n",
       "      <td>0.000000e+00</td>\n",
       "      <td>0.000000e+00</td>\n",
       "      <td>1.000000e-02</td>\n",
       "      <td>1.000000e+00</td>\n",
       "      <td>0.000000e+00</td>\n",
       "    </tr>\n",
       "    <tr>\n",
       "      <th>25%</th>\n",
       "      <td>NaN</td>\n",
       "      <td>NaN</td>\n",
       "      <td>NaN</td>\n",
       "      <td>NaN</td>\n",
       "      <td>NaN</td>\n",
       "      <td>0.000000e+00</td>\n",
       "      <td>1.123900e+04</td>\n",
       "      <td>NaN</td>\n",
       "      <td>NaN</td>\n",
       "      <td>NaN</td>\n",
       "      <td>NaN</td>\n",
       "      <td>0.000000e+00</td>\n",
       "      <td>0.000000e+00</td>\n",
       "      <td>0.000000e+00</td>\n",
       "      <td>2.180000e+00</td>\n",
       "      <td>4.000000e+00</td>\n",
       "      <td>1.000000e+00</td>\n",
       "    </tr>\n",
       "    <tr>\n",
       "      <th>50%</th>\n",
       "      <td>NaN</td>\n",
       "      <td>NaN</td>\n",
       "      <td>NaN</td>\n",
       "      <td>NaN</td>\n",
       "      <td>NaN</td>\n",
       "      <td>0.000000e+00</td>\n",
       "      <td>1.135200e+04</td>\n",
       "      <td>NaN</td>\n",
       "      <td>NaN</td>\n",
       "      <td>NaN</td>\n",
       "      <td>NaN</td>\n",
       "      <td>0.000000e+00</td>\n",
       "      <td>0.000000e+00</td>\n",
       "      <td>0.000000e+00</td>\n",
       "      <td>3.470000e+00</td>\n",
       "      <td>7.000000e+00</td>\n",
       "      <td>3.000000e+00</td>\n",
       "    </tr>\n",
       "    <tr>\n",
       "      <th>75%</th>\n",
       "      <td>NaN</td>\n",
       "      <td>NaN</td>\n",
       "      <td>NaN</td>\n",
       "      <td>NaN</td>\n",
       "      <td>NaN</td>\n",
       "      <td>1.000000e+00</td>\n",
       "      <td>1.150100e+04</td>\n",
       "      <td>NaN</td>\n",
       "      <td>NaN</td>\n",
       "      <td>NaN</td>\n",
       "      <td>NaN</td>\n",
       "      <td>1.000000e+00</td>\n",
       "      <td>1.000000e+00</td>\n",
       "      <td>1.000000e+00</td>\n",
       "      <td>5.840000e+00</td>\n",
       "      <td>1.000000e+01</td>\n",
       "      <td>5.000000e+00</td>\n",
       "    </tr>\n",
       "    <tr>\n",
       "      <th>max</th>\n",
       "      <td>NaN</td>\n",
       "      <td>NaN</td>\n",
       "      <td>NaN</td>\n",
       "      <td>NaN</td>\n",
       "      <td>NaN</td>\n",
       "      <td>7.630000e+02</td>\n",
       "      <td>1.155200e+04</td>\n",
       "      <td>NaN</td>\n",
       "      <td>NaN</td>\n",
       "      <td>NaN</td>\n",
       "      <td>NaN</td>\n",
       "      <td>1.000000e+00</td>\n",
       "      <td>1.000000e+00</td>\n",
       "      <td>1.000000e+00</td>\n",
       "      <td>1.073200e+02</td>\n",
       "      <td>1.200000e+01</td>\n",
       "      <td>6.000000e+00</td>\n",
       "    </tr>\n",
       "  </tbody>\n",
       "</table>\n",
       "</div>"
      ],
      "text/plain": [
       "                item_id  store_id   dept_id    cat_id  state_id        demand  \\\n",
       "count          43290018  43290018  43290018  43290018  43290018  4.329002e+07   \n",
       "unique             3049        10         7         3         3           NaN   \n",
       "top     HOUSEHOLD_2_299      TX_2   FOODS_3     FOODS        CA           NaN   \n",
       "freq              18260   4449544  11609036  20107581  17120247           NaN   \n",
       "mean                NaN       NaN       NaN       NaN       NaN  1.432720e+00   \n",
       "std                 NaN       NaN       NaN       NaN       NaN  4.351036e+00   \n",
       "min                 NaN       NaN       NaN       NaN       NaN  0.000000e+00   \n",
       "25%                 NaN       NaN       NaN       NaN       NaN  0.000000e+00   \n",
       "50%                 NaN       NaN       NaN       NaN       NaN  0.000000e+00   \n",
       "75%                 NaN       NaN       NaN       NaN       NaN  1.000000e+00   \n",
       "max                 NaN       NaN       NaN       NaN       NaN  7.630000e+02   \n",
       "\n",
       "            wm_yr_wk         event_name_1 event_type_1  event_name_2  \\\n",
       "count   4.329002e+07              3435036      3435036         94157   \n",
       "unique           NaN                   30            4             4   \n",
       "top              NaN  MartinLutherKingDay     National  Father's day   \n",
       "freq             NaN               125376      1208676         28221   \n",
       "mean    1.135948e+04                  NaN          NaN           NaN   \n",
       "std     1.356624e+02                  NaN          NaN           NaN   \n",
       "min     1.110100e+04                  NaN          NaN           NaN   \n",
       "25%     1.123900e+04                  NaN          NaN           NaN   \n",
       "50%     1.135200e+04                  NaN          NaN           NaN   \n",
       "75%     1.150100e+04                  NaN          NaN           NaN   \n",
       "max     1.155200e+04                  NaN          NaN           NaN   \n",
       "\n",
       "       event_type_2       snap_CA       snap_TX       snap_WI    sell_price  \\\n",
       "count         94157  4.329002e+07  4.329002e+07  4.329002e+07  4.329002e+07   \n",
       "unique            2           NaN           NaN           NaN           NaN   \n",
       "top        Cultural           NaN           NaN           NaN           NaN   \n",
       "freq          66560           NaN           NaN           NaN           NaN   \n",
       "mean            NaN  3.273593e-01  3.278231e-01  3.278760e-01  4.403153e+00   \n",
       "std             NaN  4.692496e-01  4.694200e-01  4.694394e-01  3.394033e+00   \n",
       "min             NaN  0.000000e+00  0.000000e+00  0.000000e+00  1.000000e-02   \n",
       "25%             NaN  0.000000e+00  0.000000e+00  0.000000e+00  2.180000e+00   \n",
       "50%             NaN  0.000000e+00  0.000000e+00  0.000000e+00  3.470000e+00   \n",
       "75%             NaN  1.000000e+00  1.000000e+00  1.000000e+00  5.840000e+00   \n",
       "max             NaN  1.000000e+00  1.000000e+00  1.000000e+00  1.073200e+02   \n",
       "\n",
       "               month       weekday  \n",
       "count   4.329002e+07  4.329002e+07  \n",
       "unique           NaN           NaN  \n",
       "top              NaN           NaN  \n",
       "freq             NaN           NaN  \n",
       "mean    6.617501e+00  2.998727e+00  \n",
       "std     3.463750e+00  1.999915e+00  \n",
       "min     1.000000e+00  0.000000e+00  \n",
       "25%     4.000000e+00  1.000000e+00  \n",
       "50%     7.000000e+00  3.000000e+00  \n",
       "75%     1.000000e+01  5.000000e+00  \n",
       "max     1.200000e+01  6.000000e+00  "
      ]
     },
     "execution_count": 13,
     "metadata": {},
     "output_type": "execute_result"
    }
   ],
   "source": [
    "data.describe(include=\"all\")"
   ]
  },
  {
   "cell_type": "code",
   "execution_count": 14,
   "metadata": {},
   "outputs": [],
   "source": [
    "X = data\n",
    "X_valid = data_valid\n",
    "y = data.pop(\"demand\")\n",
    "y_valid = data_valid.pop(\"demand\")"
   ]
  },
  {
   "cell_type": "code",
   "execution_count": 15,
   "metadata": {},
   "outputs": [],
   "source": [
    "model = lgb.LGBMRegressor(importance_type=\"gain\", random_state=0)"
   ]
  },
  {
   "cell_type": "code",
   "execution_count": 16,
   "metadata": {
    "scrolled": false
   },
   "outputs": [
    {
     "name": "stdout",
     "output_type": "stream",
     "text": [
      "[1]\tvalid_0's l2: 12.2099\n",
      "Training until validation scores don't improve for 10 rounds\n",
      "[2]\tvalid_0's l2: 11.2708\n",
      "[3]\tvalid_0's l2: 10.5325\n",
      "[4]\tvalid_0's l2: 9.89887\n",
      "[5]\tvalid_0's l2: 9.38388\n",
      "[6]\tvalid_0's l2: 9.03275\n",
      "[7]\tvalid_0's l2: 8.68706\n",
      "[8]\tvalid_0's l2: 8.40021\n",
      "[9]\tvalid_0's l2: 8.18166\n",
      "[10]\tvalid_0's l2: 8.01015\n",
      "[11]\tvalid_0's l2: 7.84598\n",
      "[12]\tvalid_0's l2: 7.73035\n",
      "[13]\tvalid_0's l2: 7.6219\n",
      "[14]\tvalid_0's l2: 7.53251\n",
      "[15]\tvalid_0's l2: 7.46435\n",
      "[16]\tvalid_0's l2: 7.40151\n",
      "[17]\tvalid_0's l2: 7.31614\n",
      "[18]\tvalid_0's l2: 7.25056\n",
      "[19]\tvalid_0's l2: 7.21133\n",
      "[20]\tvalid_0's l2: 7.17106\n",
      "[21]\tvalid_0's l2: 7.12615\n",
      "[22]\tvalid_0's l2: 7.08954\n",
      "[23]\tvalid_0's l2: 7.04917\n",
      "[24]\tvalid_0's l2: 7.0136\n",
      "[25]\tvalid_0's l2: 6.99445\n",
      "[26]\tvalid_0's l2: 6.97308\n",
      "[27]\tvalid_0's l2: 6.95387\n",
      "[28]\tvalid_0's l2: 6.93456\n",
      "[29]\tvalid_0's l2: 6.90632\n",
      "[30]\tvalid_0's l2: 6.88738\n",
      "[31]\tvalid_0's l2: 6.87136\n",
      "[32]\tvalid_0's l2: 6.8532\n",
      "[33]\tvalid_0's l2: 6.8264\n",
      "[34]\tvalid_0's l2: 6.81134\n",
      "[35]\tvalid_0's l2: 6.7971\n",
      "[36]\tvalid_0's l2: 6.77146\n",
      "[37]\tvalid_0's l2: 6.75792\n",
      "[38]\tvalid_0's l2: 6.73901\n",
      "[39]\tvalid_0's l2: 6.70589\n",
      "[40]\tvalid_0's l2: 6.68912\n",
      "[41]\tvalid_0's l2: 6.67143\n",
      "[42]\tvalid_0's l2: 6.6673\n",
      "[43]\tvalid_0's l2: 6.65303\n",
      "[44]\tvalid_0's l2: 6.63124\n",
      "[45]\tvalid_0's l2: 6.61664\n",
      "[46]\tvalid_0's l2: 6.59856\n",
      "[47]\tvalid_0's l2: 6.58821\n",
      "[48]\tvalid_0's l2: 6.57628\n",
      "[49]\tvalid_0's l2: 6.56674\n",
      "[50]\tvalid_0's l2: 6.56216\n",
      "[51]\tvalid_0's l2: 6.55968\n",
      "[52]\tvalid_0's l2: 6.54561\n",
      "[53]\tvalid_0's l2: 6.53984\n",
      "[54]\tvalid_0's l2: 6.52851\n",
      "[55]\tvalid_0's l2: 6.51223\n",
      "[56]\tvalid_0's l2: 6.5042\n",
      "[57]\tvalid_0's l2: 6.5054\n",
      "[58]\tvalid_0's l2: 6.49312\n",
      "[59]\tvalid_0's l2: 6.48287\n",
      "[60]\tvalid_0's l2: 6.47964\n",
      "[61]\tvalid_0's l2: 6.47202\n",
      "[62]\tvalid_0's l2: 6.46461\n",
      "[63]\tvalid_0's l2: 6.45339\n",
      "[64]\tvalid_0's l2: 6.44384\n",
      "[65]\tvalid_0's l2: 6.44263\n",
      "[66]\tvalid_0's l2: 6.44125\n",
      "[67]\tvalid_0's l2: 6.42925\n",
      "[68]\tvalid_0's l2: 6.41416\n",
      "[69]\tvalid_0's l2: 6.41794\n",
      "[70]\tvalid_0's l2: 6.41467\n",
      "[71]\tvalid_0's l2: 6.40724\n",
      "[72]\tvalid_0's l2: 6.40667\n",
      "[73]\tvalid_0's l2: 6.39993\n",
      "[74]\tvalid_0's l2: 6.39636\n",
      "[75]\tvalid_0's l2: 6.39623\n",
      "[76]\tvalid_0's l2: 6.38988\n",
      "[77]\tvalid_0's l2: 6.38482\n",
      "[78]\tvalid_0's l2: 6.38161\n",
      "[79]\tvalid_0's l2: 6.38216\n",
      "[80]\tvalid_0's l2: 6.38128\n",
      "[81]\tvalid_0's l2: 6.37824\n",
      "[82]\tvalid_0's l2: 6.37719\n",
      "[83]\tvalid_0's l2: 6.37056\n",
      "[84]\tvalid_0's l2: 6.36785\n",
      "[85]\tvalid_0's l2: 6.36397\n",
      "[86]\tvalid_0's l2: 6.36369\n",
      "[87]\tvalid_0's l2: 6.36367\n",
      "[88]\tvalid_0's l2: 6.3576\n",
      "[89]\tvalid_0's l2: 6.35461\n",
      "[90]\tvalid_0's l2: 6.34995\n",
      "[91]\tvalid_0's l2: 6.34638\n",
      "[92]\tvalid_0's l2: 6.34521\n",
      "[93]\tvalid_0's l2: 6.33985\n",
      "[94]\tvalid_0's l2: 6.33996\n",
      "[95]\tvalid_0's l2: 6.33061\n",
      "[96]\tvalid_0's l2: 6.31667\n",
      "[97]\tvalid_0's l2: 6.31485\n",
      "[98]\tvalid_0's l2: 6.31342\n",
      "[99]\tvalid_0's l2: 6.31364\n",
      "[100]\tvalid_0's l2: 6.31116\n",
      "Did not meet early stopping. Best iteration is:\n",
      "[100]\tvalid_0's l2: 6.31116\n"
     ]
    },
    {
     "data": {
      "text/plain": [
       "LGBMRegressor(boosting_type='gbdt', class_weight=None, colsample_bytree=1.0,\n",
       "              importance_type='gain', learning_rate=0.1, max_depth=-1,\n",
       "              min_child_samples=20, min_child_weight=0.001, min_split_gain=0.0,\n",
       "              n_estimators=100, n_jobs=-1, num_leaves=31, objective=None,\n",
       "              random_state=0, reg_alpha=0.0, reg_lambda=0.0, silent=True,\n",
       "              subsample=1.0, subsample_for_bin=200000, subsample_freq=0)"
      ]
     },
     "execution_count": 16,
     "metadata": {},
     "output_type": "execute_result"
    }
   ],
   "source": [
    "model.fit(X, y, early_stopping_rounds=10, eval_set=[(X_valid, y_valid)])"
   ]
  },
  {
   "cell_type": "code",
   "execution_count": 17,
   "metadata": {
    "scrolled": false
   },
   "outputs": [
    {
     "data": {
      "image/png": "[encoded data removed]",
      "text/plain": [
       "<Figure size 1152x648 with 1 Axes>"
      ]
     },
     "metadata": {},
     "output_type": "display_data"
    }
   ],
   "source": [
    "ax = lgb.plot_importance(model, figsize=(16, 9))"
   ]
  },
  {
   "cell_type": "code",
   "execution_count": 18,
   "metadata": {
    "scrolled": true
   },
   "outputs": [
    {
     "data": {
      "text/plain": [
       "['..\\\\models\\\\model.joblib']"
      ]
     },
     "execution_count": 18,
     "metadata": {},
     "output_type": "execute_result"
    }
   ],
   "source": [
    "joblib.dump(model, model_path)"
   ]
  }
 ],
 "metadata": {
  "anaconda-cloud": {},
  "kernelspec": {
   "display_name": "Python [default]",
   "language": "python",
   "name": "python3"
  },
  "language_info": {
   "codemirror_mode": {
    "name": "ipython",
    "version": 3
   },
   "file_extension": ".py",
   "mimetype": "text/x-python",
   "name": "python",
   "nbconvert_exporter": "python",
   "pygments_lexer": "ipython3",
   "version": "3.6.5"
  }
 },
 "nbformat": 4,
 "nbformat_minor": 2
}
