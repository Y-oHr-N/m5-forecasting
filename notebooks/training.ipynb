{
 "cells": [
  {
   "cell_type": "code",
   "execution_count": 1,
   "metadata": {},
   "outputs": [],
   "source": [
    "%matplotlib inline"
   ]
  },
  {
   "cell_type": "code",
   "execution_count": 2,
   "metadata": {},
   "outputs": [],
   "source": [
    "import gc\n",
    "import pathlib\n",
    "import sys"
   ]
  },
  {
   "cell_type": "code",
   "execution_count": 3,
   "metadata": {},
   "outputs": [],
   "source": [
    "import joblib\n",
    "import lightgbm as lgb\n",
    "import pandas as pd"
   ]
  },
  {
   "cell_type": "code",
   "execution_count": 4,
   "metadata": {},
   "outputs": [],
   "source": [
    "root_dir_path = pathlib.Path(\"..\")\n",
    "data_dir_path = root_dir_path / \"data\"\n",
    "processed_dir_path = data_dir_path / \"processed\"\n",
    "train_path = processed_dir_path / \"train_filtered.parquet\"\n",
    "models_dir_path = root_dir_path / \"models\"\n",
    "model_path = models_dir_path / \"model.joblib\"\n",
    "src_dir_path = root_dir_path / \"src\""
   ]
  },
  {
   "cell_type": "code",
   "execution_count": 5,
   "metadata": {},
   "outputs": [],
   "source": [
    "sys.path.append(str(src_dir_path))"
   ]
  },
  {
   "cell_type": "code",
   "execution_count": 6,
   "metadata": {},
   "outputs": [],
   "source": [
    "from constants import *"
   ]
  },
  {
   "cell_type": "code",
   "execution_count": 7,
   "metadata": {},
   "outputs": [],
   "source": [
    "train = pd.read_parquet(train_path)"
   ]
  },
  {
   "cell_type": "code",
   "execution_count": 8,
   "metadata": {},
   "outputs": [],
   "source": [
    "is_train = train[\"date\"] < \"2016-01-29\"\n",
    "is_valid = train[\"date\"] >= \"2016-01-29\"\n",
    "train, valid = train[is_train], train[is_valid]"
   ]
  },
  {
   "cell_type": "code",
   "execution_count": 9,
   "metadata": {},
   "outputs": [],
   "source": [
    "del is_train"
   ]
  },
  {
   "cell_type": "code",
   "execution_count": 10,
   "metadata": {},
   "outputs": [
    {
     "data": {
      "text/plain": [
       "60"
      ]
     },
     "execution_count": 10,
     "metadata": {},
     "output_type": "execute_result"
    }
   ],
   "source": [
    "gc.collect()"
   ]
  },
  {
   "cell_type": "code",
   "execution_count": 11,
   "metadata": {
    "scrolled": true
   },
   "outputs": [
    {
     "data": {
      "text/plain": [
       "(43375450, 35)"
      ]
     },
     "execution_count": 11,
     "metadata": {},
     "output_type": "execute_result"
    }
   ],
   "source": [
    "train.shape"
   ]
  },
  {
   "cell_type": "code",
   "execution_count": 12,
   "metadata": {
    "scrolled": true
   },
   "outputs": [
    {
     "data": {
      "text/plain": [
       "(2652507, 35)"
      ]
     },
     "execution_count": 12,
     "metadata": {},
     "output_type": "execute_result"
    }
   ],
   "source": [
    "valid.shape"
   ]
  },
  {
   "cell_type": "code",
   "execution_count": 13,
   "metadata": {},
   "outputs": [],
   "source": [
    "X = train[features]\n",
    "X_valid = valid[features]\n",
    "y = train[\"demand\"]\n",
    "y_valid = valid[\"demand\"]"
   ]
  },
  {
   "cell_type": "code",
   "execution_count": 14,
   "metadata": {},
   "outputs": [],
   "source": [
    "del train\n",
    "del valid"
   ]
  },
  {
   "cell_type": "code",
   "execution_count": 15,
   "metadata": {},
   "outputs": [
    {
     "data": {
      "text/plain": [
       "100"
      ]
     },
     "execution_count": 15,
     "metadata": {},
     "output_type": "execute_result"
    }
   ],
   "source": [
    "gc.collect()"
   ]
  },
  {
   "cell_type": "code",
   "execution_count": 16,
   "metadata": {},
   "outputs": [],
   "source": [
    "model = lgb.LGBMRegressor(importance_type=\"gain\", learning_rate=0.05, n_estimators=1_000, random_state=0)"
   ]
  },
  {
   "cell_type": "code",
   "execution_count": 17,
   "metadata": {
    "scrolled": false
   },
   "outputs": [
    {
     "name": "stderr",
     "output_type": "stream",
     "text": [
      "/opt/conda/lib/python3.7/site-packages/lightgbm/basic.py:1295: UserWarning: categorical_feature in Dataset is overridden.\n",
      "New categorical_feature is ['cat_id', 'dept_id', 'event_name_1', 'event_name_2', 'event_type_1', 'event_type_2', 'item_id', 'state_id', 'store_id']\n",
      "  'New categorical_feature is {}'.format(sorted(list(categorical_feature))))\n"
     ]
    },
    {
     "name": "stdout",
     "output_type": "stream",
     "text": [
      "[1]\ttraining's rmse: 4.20937\ttraining's l2: 17.7188\tvalid_1's rmse: 3.53952\tvalid_1's l2: 12.5282\n",
      "Training until validation scores don't improve for 100 rounds\n",
      "[2]\ttraining's rmse: 4.08091\ttraining's l2: 16.6538\tvalid_1's rmse: 3.4291\tvalid_1's l2: 11.7587\n",
      "[3]\ttraining's rmse: 3.96094\ttraining's l2: 15.689\tvalid_1's rmse: 3.32684\tvalid_1's l2: 11.0679\n",
      "[4]\ttraining's rmse: 3.84944\ttraining's l2: 14.8182\tvalid_1's rmse: 3.23112\tvalid_1's l2: 10.4401\n",
      "[5]\ttraining's rmse: 3.7457\ttraining's l2: 14.0302\tvalid_1's rmse: 3.14237\tvalid_1's l2: 9.87447\n",
      "[6]\ttraining's rmse: 3.64961\ttraining's l2: 13.3197\tvalid_1's rmse: 3.05984\tvalid_1's l2: 9.3626\n",
      "[7]\ttraining's rmse: 3.56029\ttraining's l2: 12.6757\tvalid_1's rmse: 2.98402\tvalid_1's l2: 8.9044\n",
      "[8]\ttraining's rmse: 3.4777\ttraining's l2: 12.0944\tvalid_1's rmse: 2.91254\tvalid_1's l2: 8.48291\n",
      "[9]\ttraining's rmse: 3.40109\ttraining's l2: 11.5674\tvalid_1's rmse: 2.84645\tvalid_1's l2: 8.10228\n",
      "[10]\ttraining's rmse: 3.33031\ttraining's l2: 11.091\tvalid_1's rmse: 2.78512\tvalid_1's l2: 7.75688\n",
      "[11]\ttraining's rmse: 3.26498\ttraining's l2: 10.6601\tvalid_1's rmse: 2.72915\tvalid_1's l2: 7.44824\n",
      "[12]\ttraining's rmse: 3.20503\ttraining's l2: 10.2722\tvalid_1's rmse: 2.67687\tvalid_1's l2: 7.16565\n",
      "[13]\ttraining's rmse: 3.14982\ttraining's l2: 9.92139\tvalid_1's rmse: 2.62857\tvalid_1's l2: 6.90939\n",
      "[14]\ttraining's rmse: 3.09857\ttraining's l2: 9.60117\tvalid_1's rmse: 2.58405\tvalid_1's l2: 6.6773\n",
      "[15]\ttraining's rmse: 3.05174\ttraining's l2: 9.3131\tvalid_1's rmse: 2.54342\tvalid_1's l2: 6.469\n",
      "[16]\ttraining's rmse: 3.00877\ttraining's l2: 9.05269\tvalid_1's rmse: 2.50621\tvalid_1's l2: 6.28106\n",
      "[17]\ttraining's rmse: 2.96858\ttraining's l2: 8.81246\tvalid_1's rmse: 2.47232\tvalid_1's l2: 6.11234\n",
      "[18]\ttraining's rmse: 2.93233\ttraining's l2: 8.59858\tvalid_1's rmse: 2.44081\tvalid_1's l2: 5.95754\n",
      "[19]\ttraining's rmse: 2.89847\ttraining's l2: 8.40112\tvalid_1's rmse: 2.41209\tvalid_1's l2: 5.81817\n",
      "[20]\ttraining's rmse: 2.86727\ttraining's l2: 8.22125\tvalid_1's rmse: 2.38551\tvalid_1's l2: 5.69067\n",
      "[21]\ttraining's rmse: 2.83903\ttraining's l2: 8.06011\tvalid_1's rmse: 2.36186\tvalid_1's l2: 5.57836\n",
      "[22]\ttraining's rmse: 2.81259\ttraining's l2: 7.91066\tvalid_1's rmse: 2.33937\tvalid_1's l2: 5.47266\n",
      "[23]\ttraining's rmse: 2.7884\ttraining's l2: 7.7752\tvalid_1's rmse: 2.31813\tvalid_1's l2: 5.37374\n",
      "[24]\ttraining's rmse: 2.76631\ttraining's l2: 7.65245\tvalid_1's rmse: 2.29879\tvalid_1's l2: 5.28445\n",
      "[25]\ttraining's rmse: 2.74608\ttraining's l2: 7.54098\tvalid_1's rmse: 2.2812\tvalid_1's l2: 5.20386\n",
      "[26]\ttraining's rmse: 2.72758\ttraining's l2: 7.43968\tvalid_1's rmse: 2.26518\tvalid_1's l2: 5.13103\n",
      "[27]\ttraining's rmse: 2.71031\ttraining's l2: 7.34577\tvalid_1's rmse: 2.2506\tvalid_1's l2: 5.0652\n",
      "[28]\ttraining's rmse: 2.6942\ttraining's l2: 7.25869\tvalid_1's rmse: 2.23753\tvalid_1's l2: 5.00655\n",
      "[29]\ttraining's rmse: 2.67971\ttraining's l2: 7.18086\tvalid_1's rmse: 2.2252\tvalid_1's l2: 4.95151\n",
      "[30]\ttraining's rmse: 2.66615\ttraining's l2: 7.10837\tvalid_1's rmse: 2.21408\tvalid_1's l2: 4.90215\n",
      "[31]\ttraining's rmse: 2.65373\ttraining's l2: 7.04229\tvalid_1's rmse: 2.20414\tvalid_1's l2: 4.85822\n",
      "[32]\ttraining's rmse: 2.64227\ttraining's l2: 6.98156\tvalid_1's rmse: 2.19521\tvalid_1's l2: 4.81893\n",
      "[33]\ttraining's rmse: 2.63207\ttraining's l2: 6.92781\tvalid_1's rmse: 2.18711\tvalid_1's l2: 4.78347\n",
      "[34]\ttraining's rmse: 2.62288\ttraining's l2: 6.87949\tvalid_1's rmse: 2.17946\tvalid_1's l2: 4.75005\n",
      "[35]\ttraining's rmse: 2.61406\ttraining's l2: 6.83333\tvalid_1's rmse: 2.1725\tvalid_1's l2: 4.71974\n",
      "[36]\ttraining's rmse: 2.60607\ttraining's l2: 6.7916\tvalid_1's rmse: 2.16633\tvalid_1's l2: 4.69301\n",
      "[37]\ttraining's rmse: 2.59877\ttraining's l2: 6.75362\tvalid_1's rmse: 2.16059\tvalid_1's l2: 4.66815\n",
      "[38]\ttraining's rmse: 2.59208\ttraining's l2: 6.71887\tvalid_1's rmse: 2.15543\tvalid_1's l2: 4.6459\n",
      "[39]\ttraining's rmse: 2.58584\ttraining's l2: 6.68655\tvalid_1's rmse: 2.15032\tvalid_1's l2: 4.62387\n",
      "[40]\ttraining's rmse: 2.58003\ttraining's l2: 6.65656\tvalid_1's rmse: 2.14576\tvalid_1's l2: 4.60427\n",
      "[41]\ttraining's rmse: 2.57467\ttraining's l2: 6.62893\tvalid_1's rmse: 2.14125\tvalid_1's l2: 4.58496\n",
      "[42]\ttraining's rmse: 2.56963\ttraining's l2: 6.603\tvalid_1's rmse: 2.13721\tvalid_1's l2: 4.56765\n",
      "[43]\ttraining's rmse: 2.5649\ttraining's l2: 6.57872\tvalid_1's rmse: 2.13375\tvalid_1's l2: 4.55287\n",
      "[44]\ttraining's rmse: 2.5606\ttraining's l2: 6.55668\tvalid_1's rmse: 2.13058\tvalid_1's l2: 4.53937\n",
      "[45]\ttraining's rmse: 2.55619\ttraining's l2: 6.53412\tvalid_1's rmse: 2.12777\tvalid_1's l2: 4.52742\n",
      "[46]\ttraining's rmse: 2.55209\ttraining's l2: 6.51319\tvalid_1's rmse: 2.12486\tvalid_1's l2: 4.51504\n",
      "[47]\ttraining's rmse: 2.5485\ttraining's l2: 6.49486\tvalid_1's rmse: 2.12194\tvalid_1's l2: 4.50265\n",
      "[48]\ttraining's rmse: 2.54511\ttraining's l2: 6.47761\tvalid_1's rmse: 2.11925\tvalid_1's l2: 4.49121\n",
      "[49]\ttraining's rmse: 2.54158\ttraining's l2: 6.45964\tvalid_1's rmse: 2.1169\tvalid_1's l2: 4.48127\n",
      "[50]\ttraining's rmse: 2.53837\ttraining's l2: 6.44331\tvalid_1's rmse: 2.11479\tvalid_1's l2: 4.47235\n",
      "[51]\ttraining's rmse: 2.53544\ttraining's l2: 6.42845\tvalid_1's rmse: 2.11282\tvalid_1's l2: 4.46401\n",
      "[52]\ttraining's rmse: 2.53258\ttraining's l2: 6.41399\tvalid_1's rmse: 2.11092\tvalid_1's l2: 4.45598\n",
      "[53]\ttraining's rmse: 2.52973\ttraining's l2: 6.39951\tvalid_1's rmse: 2.10937\tvalid_1's l2: 4.44944\n",
      "[54]\ttraining's rmse: 2.52698\ttraining's l2: 6.38561\tvalid_1's rmse: 2.10703\tvalid_1's l2: 4.43957\n",
      "[55]\ttraining's rmse: 2.5245\ttraining's l2: 6.37308\tvalid_1's rmse: 2.10518\tvalid_1's l2: 4.43179\n",
      "[56]\ttraining's rmse: 2.52216\ttraining's l2: 6.36128\tvalid_1's rmse: 2.10398\tvalid_1's l2: 4.42674\n",
      "[57]\ttraining's rmse: 2.51985\ttraining's l2: 6.34966\tvalid_1's rmse: 2.10241\tvalid_1's l2: 4.42012\n",
      "[58]\ttraining's rmse: 2.51785\ttraining's l2: 6.33957\tvalid_1's rmse: 2.10133\tvalid_1's l2: 4.41558\n",
      "[59]\ttraining's rmse: 2.51575\ttraining's l2: 6.32898\tvalid_1's rmse: 2.10006\tvalid_1's l2: 4.41024\n",
      "[60]\ttraining's rmse: 2.51367\ttraining's l2: 6.31853\tvalid_1's rmse: 2.0987\tvalid_1's l2: 4.40456\n",
      "[61]\ttraining's rmse: 2.5112\ttraining's l2: 6.30614\tvalid_1's rmse: 2.09788\tvalid_1's l2: 4.40111\n",
      "[62]\ttraining's rmse: 2.50942\ttraining's l2: 6.29719\tvalid_1's rmse: 2.09687\tvalid_1's l2: 4.39686\n",
      "[63]\ttraining's rmse: 2.50763\ttraining's l2: 6.28819\tvalid_1's rmse: 2.09605\tvalid_1's l2: 4.39343\n",
      "[64]\ttraining's rmse: 2.50618\ttraining's l2: 6.28095\tvalid_1's rmse: 2.09516\tvalid_1's l2: 4.38972\n",
      "[65]\ttraining's rmse: 2.50464\ttraining's l2: 6.27322\tvalid_1's rmse: 2.09443\tvalid_1's l2: 4.38663\n",
      "[66]\ttraining's rmse: 2.50331\ttraining's l2: 6.26657\tvalid_1's rmse: 2.09353\tvalid_1's l2: 4.38286\n",
      "[67]\ttraining's rmse: 2.50073\ttraining's l2: 6.25366\tvalid_1's rmse: 2.0936\tvalid_1's l2: 4.38314\n",
      "[68]\ttraining's rmse: 2.4991\ttraining's l2: 6.24551\tvalid_1's rmse: 2.09301\tvalid_1's l2: 4.3807\n",
      "[69]\ttraining's rmse: 2.49761\ttraining's l2: 6.23808\tvalid_1's rmse: 2.09251\tvalid_1's l2: 4.37859\n",
      "[70]\ttraining's rmse: 2.49577\ttraining's l2: 6.22889\tvalid_1's rmse: 2.09198\tvalid_1's l2: 4.37637\n",
      "[71]\ttraining's rmse: 2.49441\ttraining's l2: 6.22206\tvalid_1's rmse: 2.09162\tvalid_1's l2: 4.37488\n",
      "[72]\ttraining's rmse: 2.49272\ttraining's l2: 6.21365\tvalid_1's rmse: 2.09116\tvalid_1's l2: 4.37295\n",
      "[73]\ttraining's rmse: 2.49118\ttraining's l2: 6.20598\tvalid_1's rmse: 2.09048\tvalid_1's l2: 4.37009\n",
      "[74]\ttraining's rmse: 2.48959\ttraining's l2: 6.19806\tvalid_1's rmse: 2.09008\tvalid_1's l2: 4.36844\n",
      "[75]\ttraining's rmse: 2.4884\ttraining's l2: 6.19214\tvalid_1's rmse: 2.08975\tvalid_1's l2: 4.36706\n",
      "[76]\ttraining's rmse: 2.48713\ttraining's l2: 6.18579\tvalid_1's rmse: 2.08906\tvalid_1's l2: 4.36418\n",
      "[77]\ttraining's rmse: 2.48558\ttraining's l2: 6.17809\tvalid_1's rmse: 2.0885\tvalid_1's l2: 4.36182\n",
      "[78]\ttraining's rmse: 2.48444\ttraining's l2: 6.17246\tvalid_1's rmse: 2.0881\tvalid_1's l2: 4.36018\n",
      "[79]\ttraining's rmse: 2.48337\ttraining's l2: 6.1671\tvalid_1's rmse: 2.08762\tvalid_1's l2: 4.35816\n",
      "[80]\ttraining's rmse: 2.48213\ttraining's l2: 6.16099\tvalid_1's rmse: 2.0873\tvalid_1's l2: 4.35682\n",
      "[81]\ttraining's rmse: 2.48104\ttraining's l2: 6.15556\tvalid_1's rmse: 2.0872\tvalid_1's l2: 4.35639\n",
      "[82]\ttraining's rmse: 2.48\ttraining's l2: 6.15039\tvalid_1's rmse: 2.08671\tvalid_1's l2: 4.35434\n",
      "[83]\ttraining's rmse: 2.47906\ttraining's l2: 6.14572\tvalid_1's rmse: 2.08635\tvalid_1's l2: 4.35286\n"
     ]
    },
    {
     "name": "stdout",
     "output_type": "stream",
     "text": [
      "[84]\ttraining's rmse: 2.47816\ttraining's l2: 6.14125\tvalid_1's rmse: 2.08586\tvalid_1's l2: 4.35081\n",
      "[85]\ttraining's rmse: 2.47723\ttraining's l2: 6.13665\tvalid_1's rmse: 2.08537\tvalid_1's l2: 4.34875\n",
      "[86]\ttraining's rmse: 2.47611\ttraining's l2: 6.13114\tvalid_1's rmse: 2.08498\tvalid_1's l2: 4.34714\n",
      "[87]\ttraining's rmse: 2.47528\ttraining's l2: 6.12702\tvalid_1's rmse: 2.08468\tvalid_1's l2: 4.34589\n",
      "[88]\ttraining's rmse: 2.47439\ttraining's l2: 6.12262\tvalid_1's rmse: 2.08424\tvalid_1's l2: 4.34407\n",
      "[89]\ttraining's rmse: 2.47366\ttraining's l2: 6.119\tvalid_1's rmse: 2.08385\tvalid_1's l2: 4.34245\n",
      "[90]\ttraining's rmse: 2.47286\ttraining's l2: 6.11504\tvalid_1's rmse: 2.08349\tvalid_1's l2: 4.34093\n",
      "[91]\ttraining's rmse: 2.47184\ttraining's l2: 6.11\tvalid_1's rmse: 2.08332\tvalid_1's l2: 4.34022\n",
      "[92]\ttraining's rmse: 2.47093\ttraining's l2: 6.10549\tvalid_1's rmse: 2.08328\tvalid_1's l2: 4.34005\n",
      "[93]\ttraining's rmse: 2.47016\ttraining's l2: 6.10171\tvalid_1's rmse: 2.08286\tvalid_1's l2: 4.33832\n",
      "[94]\ttraining's rmse: 2.46935\ttraining's l2: 6.09767\tvalid_1's rmse: 2.0826\tvalid_1's l2: 4.33724\n",
      "[95]\ttraining's rmse: 2.46864\ttraining's l2: 6.09419\tvalid_1's rmse: 2.08226\tvalid_1's l2: 4.33579\n",
      "[96]\ttraining's rmse: 2.46778\ttraining's l2: 6.08996\tvalid_1's rmse: 2.08197\tvalid_1's l2: 4.3346\n",
      "[97]\ttraining's rmse: 2.46719\ttraining's l2: 6.08704\tvalid_1's rmse: 2.08188\tvalid_1's l2: 4.33424\n",
      "[98]\ttraining's rmse: 2.46654\ttraining's l2: 6.08382\tvalid_1's rmse: 2.08187\tvalid_1's l2: 4.33417\n",
      "[99]\ttraining's rmse: 2.46497\ttraining's l2: 6.07608\tvalid_1's rmse: 2.08193\tvalid_1's l2: 4.33444\n",
      "[100]\ttraining's rmse: 2.46432\ttraining's l2: 6.07287\tvalid_1's rmse: 2.08158\tvalid_1's l2: 4.33298\n",
      "[101]\ttraining's rmse: 2.46373\ttraining's l2: 6.06995\tvalid_1's rmse: 2.08143\tvalid_1's l2: 4.33235\n",
      "[102]\ttraining's rmse: 2.46303\ttraining's l2: 6.06653\tvalid_1's rmse: 2.08124\tvalid_1's l2: 4.33157\n",
      "[103]\ttraining's rmse: 2.46233\ttraining's l2: 6.06307\tvalid_1's rmse: 2.08099\tvalid_1's l2: 4.3305\n",
      "[104]\ttraining's rmse: 2.46175\ttraining's l2: 6.06021\tvalid_1's rmse: 2.08083\tvalid_1's l2: 4.32987\n",
      "[105]\ttraining's rmse: 2.46109\ttraining's l2: 6.05698\tvalid_1's rmse: 2.08042\tvalid_1's l2: 4.32813\n",
      "[106]\ttraining's rmse: 2.46042\ttraining's l2: 6.05368\tvalid_1's rmse: 2.08026\tvalid_1's l2: 4.32747\n",
      "[107]\ttraining's rmse: 2.45982\ttraining's l2: 6.05071\tvalid_1's rmse: 2.08009\tvalid_1's l2: 4.32678\n",
      "[108]\ttraining's rmse: 2.45867\ttraining's l2: 6.04504\tvalid_1's rmse: 2.08003\tvalid_1's l2: 4.32651\n",
      "[109]\ttraining's rmse: 2.4581\ttraining's l2: 6.04226\tvalid_1's rmse: 2.07956\tvalid_1's l2: 4.32458\n",
      "[110]\ttraining's rmse: 2.45755\ttraining's l2: 6.03955\tvalid_1's rmse: 2.07938\tvalid_1's l2: 4.32381\n",
      "[111]\ttraining's rmse: 2.45692\ttraining's l2: 6.03648\tvalid_1's rmse: 2.0793\tvalid_1's l2: 4.3235\n",
      "[112]\ttraining's rmse: 2.45634\ttraining's l2: 6.0336\tvalid_1's rmse: 2.07924\tvalid_1's l2: 4.32322\n",
      "[113]\ttraining's rmse: 2.45583\ttraining's l2: 6.03111\tvalid_1's rmse: 2.07906\tvalid_1's l2: 4.32248\n",
      "[114]\ttraining's rmse: 2.4553\ttraining's l2: 6.0285\tvalid_1's rmse: 2.0788\tvalid_1's l2: 4.32139\n",
      "[115]\ttraining's rmse: 2.45468\ttraining's l2: 6.02544\tvalid_1's rmse: 2.0787\tvalid_1's l2: 4.32098\n",
      "[116]\ttraining's rmse: 2.4542\ttraining's l2: 6.0231\tvalid_1's rmse: 2.07846\tvalid_1's l2: 4.32002\n",
      "[117]\ttraining's rmse: 2.45341\ttraining's l2: 6.01924\tvalid_1's rmse: 2.07858\tvalid_1's l2: 4.32049\n",
      "[118]\ttraining's rmse: 2.4529\ttraining's l2: 6.01671\tvalid_1's rmse: 2.07825\tvalid_1's l2: 4.31913\n",
      "[119]\ttraining's rmse: 2.45211\ttraining's l2: 6.01283\tvalid_1's rmse: 2.07828\tvalid_1's l2: 4.31926\n",
      "[120]\ttraining's rmse: 2.4511\ttraining's l2: 6.0079\tvalid_1's rmse: 2.07822\tvalid_1's l2: 4.31898\n",
      "[121]\ttraining's rmse: 2.45067\ttraining's l2: 6.00581\tvalid_1's rmse: 2.07809\tvalid_1's l2: 4.31847\n",
      "[122]\ttraining's rmse: 2.45025\ttraining's l2: 6.0037\tvalid_1's rmse: 2.07805\tvalid_1's l2: 4.31827\n",
      "[123]\ttraining's rmse: 2.44973\ttraining's l2: 6.00116\tvalid_1's rmse: 2.07765\tvalid_1's l2: 4.31665\n",
      "[124]\ttraining's rmse: 2.44884\ttraining's l2: 5.99681\tvalid_1's rmse: 2.07764\tvalid_1's l2: 4.31659\n",
      "[125]\ttraining's rmse: 2.44806\ttraining's l2: 5.99298\tvalid_1's rmse: 2.0775\tvalid_1's l2: 4.31599\n",
      "[126]\ttraining's rmse: 2.44726\ttraining's l2: 5.98907\tvalid_1's rmse: 2.07799\tvalid_1's l2: 4.31805\n",
      "[127]\ttraining's rmse: 2.44633\ttraining's l2: 5.98453\tvalid_1's rmse: 2.07835\tvalid_1's l2: 4.31953\n",
      "[128]\ttraining's rmse: 2.44589\ttraining's l2: 5.9824\tvalid_1's rmse: 2.07825\tvalid_1's l2: 4.31912\n",
      "[129]\ttraining's rmse: 2.44534\ttraining's l2: 5.97969\tvalid_1's rmse: 2.07819\tvalid_1's l2: 4.31887\n",
      "[130]\ttraining's rmse: 2.44457\ttraining's l2: 5.97591\tvalid_1's rmse: 2.07839\tvalid_1's l2: 4.31972\n",
      "[131]\ttraining's rmse: 2.44418\ttraining's l2: 5.974\tvalid_1's rmse: 2.07828\tvalid_1's l2: 4.31923\n",
      "[132]\ttraining's rmse: 2.4436\ttraining's l2: 5.9712\tvalid_1's rmse: 2.0782\tvalid_1's l2: 4.31891\n",
      "[133]\ttraining's rmse: 2.44314\ttraining's l2: 5.96892\tvalid_1's rmse: 2.07798\tvalid_1's l2: 4.318\n",
      "[134]\ttraining's rmse: 2.44263\ttraining's l2: 5.96644\tvalid_1's rmse: 2.07761\tvalid_1's l2: 4.31646\n",
      "[135]\ttraining's rmse: 2.44192\ttraining's l2: 5.96299\tvalid_1's rmse: 2.07753\tvalid_1's l2: 4.31612\n",
      "[136]\ttraining's rmse: 2.4413\ttraining's l2: 5.95996\tvalid_1's rmse: 2.0778\tvalid_1's l2: 4.31727\n",
      "[137]\ttraining's rmse: 2.44094\ttraining's l2: 5.95819\tvalid_1's rmse: 2.07763\tvalid_1's l2: 4.31656\n",
      "[138]\ttraining's rmse: 2.44059\ttraining's l2: 5.95647\tvalid_1's rmse: 2.07761\tvalid_1's l2: 4.31645\n",
      "[139]\ttraining's rmse: 2.44015\ttraining's l2: 5.95433\tvalid_1's rmse: 2.07756\tvalid_1's l2: 4.31626\n",
      "[140]\ttraining's rmse: 2.43956\ttraining's l2: 5.95147\tvalid_1's rmse: 2.07731\tvalid_1's l2: 4.31522\n",
      "[141]\ttraining's rmse: 2.43917\ttraining's l2: 5.94955\tvalid_1's rmse: 2.07716\tvalid_1's l2: 4.3146\n",
      "[142]\ttraining's rmse: 2.43842\ttraining's l2: 5.94588\tvalid_1's rmse: 2.07704\tvalid_1's l2: 4.31409\n",
      "[143]\ttraining's rmse: 2.43791\ttraining's l2: 5.94338\tvalid_1's rmse: 2.07698\tvalid_1's l2: 4.31384\n",
      "[144]\ttraining's rmse: 2.43735\ttraining's l2: 5.94066\tvalid_1's rmse: 2.0771\tvalid_1's l2: 4.31433\n",
      "[145]\ttraining's rmse: 2.43669\ttraining's l2: 5.93746\tvalid_1's rmse: 2.07706\tvalid_1's l2: 4.31416\n",
      "[146]\ttraining's rmse: 2.43634\ttraining's l2: 5.93574\tvalid_1's rmse: 2.07697\tvalid_1's l2: 4.3138\n",
      "[147]\ttraining's rmse: 2.4356\ttraining's l2: 5.93215\tvalid_1's rmse: 2.07673\tvalid_1's l2: 4.31279\n",
      "[148]\ttraining's rmse: 2.4351\ttraining's l2: 5.92973\tvalid_1's rmse: 2.07672\tvalid_1's l2: 4.31279\n",
      "[149]\ttraining's rmse: 2.43482\ttraining's l2: 5.92837\tvalid_1's rmse: 2.07645\tvalid_1's l2: 4.31163\n",
      "[150]\ttraining's rmse: 2.43453\ttraining's l2: 5.92694\tvalid_1's rmse: 2.07636\tvalid_1's l2: 4.31129\n",
      "[151]\ttraining's rmse: 2.43374\ttraining's l2: 5.92311\tvalid_1's rmse: 2.07647\tvalid_1's l2: 4.31174\n",
      "[152]\ttraining's rmse: 2.43339\ttraining's l2: 5.92141\tvalid_1's rmse: 2.07656\tvalid_1's l2: 4.31212\n",
      "[153]\ttraining's rmse: 2.43274\ttraining's l2: 5.91821\tvalid_1's rmse: 2.07657\tvalid_1's l2: 4.31214\n",
      "[154]\ttraining's rmse: 2.43243\ttraining's l2: 5.91673\tvalid_1's rmse: 2.07657\tvalid_1's l2: 4.31215\n",
      "[155]\ttraining's rmse: 2.43216\ttraining's l2: 5.91539\tvalid_1's rmse: 2.07657\tvalid_1's l2: 4.31213\n",
      "[156]\ttraining's rmse: 2.43176\ttraining's l2: 5.91346\tvalid_1's rmse: 2.07633\tvalid_1's l2: 4.31113\n",
      "[157]\ttraining's rmse: 2.43151\ttraining's l2: 5.91222\tvalid_1's rmse: 2.0764\tvalid_1's l2: 4.31143\n",
      "[158]\ttraining's rmse: 2.43086\ttraining's l2: 5.90909\tvalid_1's rmse: 2.07639\tvalid_1's l2: 4.3114\n",
      "[159]\ttraining's rmse: 2.43053\ttraining's l2: 5.90747\tvalid_1's rmse: 2.07628\tvalid_1's l2: 4.31095\n",
      "[160]\ttraining's rmse: 2.43026\ttraining's l2: 5.90615\tvalid_1's rmse: 2.07617\tvalid_1's l2: 4.3105\n",
      "[161]\ttraining's rmse: 2.42999\ttraining's l2: 5.90484\tvalid_1's rmse: 2.07616\tvalid_1's l2: 4.31044\n",
      "[162]\ttraining's rmse: 2.42939\ttraining's l2: 5.90195\tvalid_1's rmse: 2.07614\tvalid_1's l2: 4.31035\n",
      "[163]\ttraining's rmse: 2.42906\ttraining's l2: 5.90031\tvalid_1's rmse: 2.07584\tvalid_1's l2: 4.30913\n",
      "[164]\ttraining's rmse: 2.42843\ttraining's l2: 5.89725\tvalid_1's rmse: 2.0756\tvalid_1's l2: 4.30812\n",
      "[165]\ttraining's rmse: 2.42818\ttraining's l2: 5.89605\tvalid_1's rmse: 2.07559\tvalid_1's l2: 4.30806\n",
      "[166]\ttraining's rmse: 2.42758\ttraining's l2: 5.89313\tvalid_1's rmse: 2.07579\tvalid_1's l2: 4.30892\n"
     ]
    },
    {
     "name": "stdout",
     "output_type": "stream",
     "text": [
      "[167]\ttraining's rmse: 2.42718\ttraining's l2: 5.89119\tvalid_1's rmse: 2.07579\tvalid_1's l2: 4.30889\n",
      "[168]\ttraining's rmse: 2.42693\ttraining's l2: 5.89001\tvalid_1's rmse: 2.07578\tvalid_1's l2: 4.30886\n",
      "[169]\ttraining's rmse: 2.42667\ttraining's l2: 5.88875\tvalid_1's rmse: 2.07581\tvalid_1's l2: 4.309\n",
      "[170]\ttraining's rmse: 2.42599\ttraining's l2: 5.88542\tvalid_1's rmse: 2.07582\tvalid_1's l2: 4.30902\n",
      "[171]\ttraining's rmse: 2.42579\ttraining's l2: 5.88448\tvalid_1's rmse: 2.0758\tvalid_1's l2: 4.30894\n",
      "[172]\ttraining's rmse: 2.42554\ttraining's l2: 5.88323\tvalid_1's rmse: 2.07556\tvalid_1's l2: 4.30795\n",
      "[173]\ttraining's rmse: 2.4248\ttraining's l2: 5.87964\tvalid_1's rmse: 2.07572\tvalid_1's l2: 4.30862\n",
      "[174]\ttraining's rmse: 2.42447\ttraining's l2: 5.87804\tvalid_1's rmse: 2.07545\tvalid_1's l2: 4.30748\n",
      "[175]\ttraining's rmse: 2.42409\ttraining's l2: 5.87623\tvalid_1's rmse: 2.07531\tvalid_1's l2: 4.30692\n",
      "[176]\ttraining's rmse: 2.42366\ttraining's l2: 5.87412\tvalid_1's rmse: 2.07532\tvalid_1's l2: 4.30695\n",
      "[177]\ttraining's rmse: 2.42317\ttraining's l2: 5.87175\tvalid_1's rmse: 2.07557\tvalid_1's l2: 4.308\n",
      "[178]\ttraining's rmse: 2.42289\ttraining's l2: 5.87039\tvalid_1's rmse: 2.07564\tvalid_1's l2: 4.30827\n",
      "[179]\ttraining's rmse: 2.42271\ttraining's l2: 5.86953\tvalid_1's rmse: 2.07553\tvalid_1's l2: 4.30782\n",
      "[180]\ttraining's rmse: 2.42256\ttraining's l2: 5.8688\tvalid_1's rmse: 2.07557\tvalid_1's l2: 4.30801\n",
      "[181]\ttraining's rmse: 2.42222\ttraining's l2: 5.86713\tvalid_1's rmse: 2.07564\tvalid_1's l2: 4.3083\n",
      "[182]\ttraining's rmse: 2.42158\ttraining's l2: 5.86404\tvalid_1's rmse: 2.07592\tvalid_1's l2: 4.30943\n",
      "[183]\ttraining's rmse: 2.42136\ttraining's l2: 5.86298\tvalid_1's rmse: 2.0759\tvalid_1's l2: 4.30936\n",
      "[184]\ttraining's rmse: 2.4208\ttraining's l2: 5.86029\tvalid_1's rmse: 2.07588\tvalid_1's l2: 4.30929\n",
      "[185]\ttraining's rmse: 2.42037\ttraining's l2: 5.85821\tvalid_1's rmse: 2.07579\tvalid_1's l2: 4.30891\n",
      "[186]\ttraining's rmse: 2.42021\ttraining's l2: 5.85741\tvalid_1's rmse: 2.07566\tvalid_1's l2: 4.30836\n",
      "[187]\ttraining's rmse: 2.41994\ttraining's l2: 5.85611\tvalid_1's rmse: 2.07561\tvalid_1's l2: 4.30816\n",
      "[188]\ttraining's rmse: 2.41953\ttraining's l2: 5.85411\tvalid_1's rmse: 2.07564\tvalid_1's l2: 4.30827\n",
      "[189]\ttraining's rmse: 2.41905\ttraining's l2: 5.85182\tvalid_1's rmse: 2.07585\tvalid_1's l2: 4.30916\n",
      "[190]\ttraining's rmse: 2.41857\ttraining's l2: 5.84949\tvalid_1's rmse: 2.07614\tvalid_1's l2: 4.31036\n",
      "[191]\ttraining's rmse: 2.41825\ttraining's l2: 5.84791\tvalid_1's rmse: 2.07593\tvalid_1's l2: 4.30947\n",
      "[192]\ttraining's rmse: 2.41809\ttraining's l2: 5.84716\tvalid_1's rmse: 2.07582\tvalid_1's l2: 4.30901\n",
      "[193]\ttraining's rmse: 2.41768\ttraining's l2: 5.84519\tvalid_1's rmse: 2.07576\tvalid_1's l2: 4.30878\n",
      "[194]\ttraining's rmse: 2.41754\ttraining's l2: 5.84448\tvalid_1's rmse: 2.07581\tvalid_1's l2: 4.30899\n",
      "[195]\ttraining's rmse: 2.41724\ttraining's l2: 5.84304\tvalid_1's rmse: 2.07607\tvalid_1's l2: 4.31005\n",
      "[196]\ttraining's rmse: 2.41692\ttraining's l2: 5.84149\tvalid_1's rmse: 2.07585\tvalid_1's l2: 4.30914\n",
      "[197]\ttraining's rmse: 2.41659\ttraining's l2: 5.83989\tvalid_1's rmse: 2.07558\tvalid_1's l2: 4.30805\n",
      "[198]\ttraining's rmse: 2.41638\ttraining's l2: 5.83888\tvalid_1's rmse: 2.0754\tvalid_1's l2: 4.30729\n",
      "[199]\ttraining's rmse: 2.41607\ttraining's l2: 5.83738\tvalid_1's rmse: 2.07518\tvalid_1's l2: 4.30636\n",
      "[200]\ttraining's rmse: 2.41563\ttraining's l2: 5.83528\tvalid_1's rmse: 2.07551\tvalid_1's l2: 4.30775\n",
      "[201]\ttraining's rmse: 2.41537\ttraining's l2: 5.83402\tvalid_1's rmse: 2.07548\tvalid_1's l2: 4.30761\n",
      "[202]\ttraining's rmse: 2.41507\ttraining's l2: 5.83257\tvalid_1's rmse: 2.07542\tvalid_1's l2: 4.30737\n",
      "[203]\ttraining's rmse: 2.41464\ttraining's l2: 5.8305\tvalid_1's rmse: 2.07557\tvalid_1's l2: 4.30799\n",
      "[204]\ttraining's rmse: 2.41437\ttraining's l2: 5.82919\tvalid_1's rmse: 2.07549\tvalid_1's l2: 4.30766\n",
      "[205]\ttraining's rmse: 2.41405\ttraining's l2: 5.82765\tvalid_1's rmse: 2.0755\tvalid_1's l2: 4.30771\n",
      "[206]\ttraining's rmse: 2.41376\ttraining's l2: 5.82623\tvalid_1's rmse: 2.07531\tvalid_1's l2: 4.30691\n",
      "[207]\ttraining's rmse: 2.41362\ttraining's l2: 5.82556\tvalid_1's rmse: 2.07516\tvalid_1's l2: 4.30629\n",
      "[208]\ttraining's rmse: 2.41313\ttraining's l2: 5.82322\tvalid_1's rmse: 2.07515\tvalid_1's l2: 4.30624\n",
      "[209]\ttraining's rmse: 2.41299\ttraining's l2: 5.82251\tvalid_1's rmse: 2.07519\tvalid_1's l2: 4.3064\n",
      "[210]\ttraining's rmse: 2.41244\ttraining's l2: 5.81985\tvalid_1's rmse: 2.07527\tvalid_1's l2: 4.30675\n",
      "[211]\ttraining's rmse: 2.41204\ttraining's l2: 5.81796\tvalid_1's rmse: 2.07544\tvalid_1's l2: 4.30747\n",
      "[212]\ttraining's rmse: 2.41181\ttraining's l2: 5.81682\tvalid_1's rmse: 2.07545\tvalid_1's l2: 4.30749\n",
      "[213]\ttraining's rmse: 2.41154\ttraining's l2: 5.81554\tvalid_1's rmse: 2.07564\tvalid_1's l2: 4.3083\n",
      "[214]\ttraining's rmse: 2.41132\ttraining's l2: 5.81446\tvalid_1's rmse: 2.07556\tvalid_1's l2: 4.30796\n",
      "[215]\ttraining's rmse: 2.4112\ttraining's l2: 5.8139\tvalid_1's rmse: 2.07546\tvalid_1's l2: 4.30752\n",
      "[216]\ttraining's rmse: 2.41098\ttraining's l2: 5.81282\tvalid_1's rmse: 2.07551\tvalid_1's l2: 4.30774\n",
      "[217]\ttraining's rmse: 2.41062\ttraining's l2: 5.81109\tvalid_1's rmse: 2.07556\tvalid_1's l2: 4.30796\n",
      "[218]\ttraining's rmse: 2.41032\ttraining's l2: 5.80963\tvalid_1's rmse: 2.07559\tvalid_1's l2: 4.30807\n",
      "[219]\ttraining's rmse: 2.40991\ttraining's l2: 5.80765\tvalid_1's rmse: 2.07558\tvalid_1's l2: 4.30805\n",
      "[220]\ttraining's rmse: 2.40962\ttraining's l2: 5.80627\tvalid_1's rmse: 2.07548\tvalid_1's l2: 4.30761\n",
      "[221]\ttraining's rmse: 2.40929\ttraining's l2: 5.80468\tvalid_1's rmse: 2.0759\tvalid_1's l2: 4.30937\n",
      "[222]\ttraining's rmse: 2.40911\ttraining's l2: 5.80381\tvalid_1's rmse: 2.07599\tvalid_1's l2: 4.30973\n",
      "[223]\ttraining's rmse: 2.40872\ttraining's l2: 5.80191\tvalid_1's rmse: 2.07596\tvalid_1's l2: 4.30962\n",
      "[224]\ttraining's rmse: 2.40859\ttraining's l2: 5.80132\tvalid_1's rmse: 2.07598\tvalid_1's l2: 4.30971\n",
      "[225]\ttraining's rmse: 2.40834\ttraining's l2: 5.80008\tvalid_1's rmse: 2.07577\tvalid_1's l2: 4.30882\n",
      "[226]\ttraining's rmse: 2.4081\ttraining's l2: 5.79895\tvalid_1's rmse: 2.07576\tvalid_1's l2: 4.30878\n",
      "[227]\ttraining's rmse: 2.40785\ttraining's l2: 5.79775\tvalid_1's rmse: 2.07578\tvalid_1's l2: 4.30887\n",
      "[228]\ttraining's rmse: 2.40745\ttraining's l2: 5.79581\tvalid_1's rmse: 2.07577\tvalid_1's l2: 4.30884\n",
      "[229]\ttraining's rmse: 2.40722\ttraining's l2: 5.79471\tvalid_1's rmse: 2.07564\tvalid_1's l2: 4.3083\n",
      "[230]\ttraining's rmse: 2.40702\ttraining's l2: 5.79374\tvalid_1's rmse: 2.07565\tvalid_1's l2: 4.30831\n",
      "[231]\ttraining's rmse: 2.40691\ttraining's l2: 5.7932\tvalid_1's rmse: 2.07554\tvalid_1's l2: 4.30786\n",
      "[232]\ttraining's rmse: 2.40641\ttraining's l2: 5.79083\tvalid_1's rmse: 2.07554\tvalid_1's l2: 4.30788\n",
      "[233]\ttraining's rmse: 2.40608\ttraining's l2: 5.7892\tvalid_1's rmse: 2.07554\tvalid_1's l2: 4.30787\n",
      "[234]\ttraining's rmse: 2.40584\ttraining's l2: 5.78809\tvalid_1's rmse: 2.07547\tvalid_1's l2: 4.30759\n",
      "[235]\ttraining's rmse: 2.40567\ttraining's l2: 5.78723\tvalid_1's rmse: 2.07546\tvalid_1's l2: 4.30753\n",
      "[236]\ttraining's rmse: 2.40524\ttraining's l2: 5.78516\tvalid_1's rmse: 2.07619\tvalid_1's l2: 4.31055\n",
      "[237]\ttraining's rmse: 2.40507\ttraining's l2: 5.78435\tvalid_1's rmse: 2.07619\tvalid_1's l2: 4.31055\n",
      "[238]\ttraining's rmse: 2.4047\ttraining's l2: 5.78256\tvalid_1's rmse: 2.07626\tvalid_1's l2: 4.31086\n",
      "[239]\ttraining's rmse: 2.40445\ttraining's l2: 5.78138\tvalid_1's rmse: 2.07598\tvalid_1's l2: 4.30967\n",
      "[240]\ttraining's rmse: 2.40422\ttraining's l2: 5.78026\tvalid_1's rmse: 2.07587\tvalid_1's l2: 4.30922\n",
      "[241]\ttraining's rmse: 2.40408\ttraining's l2: 5.77958\tvalid_1's rmse: 2.07578\tvalid_1's l2: 4.30887\n",
      "[242]\ttraining's rmse: 2.40392\ttraining's l2: 5.77883\tvalid_1's rmse: 2.07578\tvalid_1's l2: 4.30885\n",
      "[243]\ttraining's rmse: 2.40362\ttraining's l2: 5.77737\tvalid_1's rmse: 2.07577\tvalid_1's l2: 4.30883\n",
      "[244]\ttraining's rmse: 2.40338\ttraining's l2: 5.77625\tvalid_1's rmse: 2.07581\tvalid_1's l2: 4.309\n",
      "[245]\ttraining's rmse: 2.4032\ttraining's l2: 5.77536\tvalid_1's rmse: 2.07578\tvalid_1's l2: 4.30887\n",
      "[246]\ttraining's rmse: 2.40299\ttraining's l2: 5.77436\tvalid_1's rmse: 2.07557\tvalid_1's l2: 4.30798\n",
      "[247]\ttraining's rmse: 2.40278\ttraining's l2: 5.77335\tvalid_1's rmse: 2.07562\tvalid_1's l2: 4.3082\n",
      "[248]\ttraining's rmse: 2.40245\ttraining's l2: 5.77177\tvalid_1's rmse: 2.07551\tvalid_1's l2: 4.30776\n",
      "[249]\ttraining's rmse: 2.40229\ttraining's l2: 5.77102\tvalid_1's rmse: 2.07553\tvalid_1's l2: 4.30781\n"
     ]
    },
    {
     "name": "stdout",
     "output_type": "stream",
     "text": [
      "[250]\ttraining's rmse: 2.402\ttraining's l2: 5.76962\tvalid_1's rmse: 2.07553\tvalid_1's l2: 4.30783\n",
      "[251]\ttraining's rmse: 2.40165\ttraining's l2: 5.76792\tvalid_1's rmse: 2.07611\tvalid_1's l2: 4.31023\n",
      "[252]\ttraining's rmse: 2.40143\ttraining's l2: 5.76687\tvalid_1's rmse: 2.0761\tvalid_1's l2: 4.31018\n",
      "[253]\ttraining's rmse: 2.40108\ttraining's l2: 5.76517\tvalid_1's rmse: 2.07611\tvalid_1's l2: 4.31025\n",
      "[254]\ttraining's rmse: 2.40091\ttraining's l2: 5.76436\tvalid_1's rmse: 2.07603\tvalid_1's l2: 4.30988\n",
      "[255]\ttraining's rmse: 2.40066\ttraining's l2: 5.76315\tvalid_1's rmse: 2.07611\tvalid_1's l2: 4.31023\n",
      "[256]\ttraining's rmse: 2.40037\ttraining's l2: 5.7618\tvalid_1's rmse: 2.07584\tvalid_1's l2: 4.3091\n",
      "[257]\ttraining's rmse: 2.40025\ttraining's l2: 5.76122\tvalid_1's rmse: 2.0759\tvalid_1's l2: 4.30934\n",
      "[258]\ttraining's rmse: 2.40001\ttraining's l2: 5.76006\tvalid_1's rmse: 2.07582\tvalid_1's l2: 4.30904\n",
      "[259]\ttraining's rmse: 2.39973\ttraining's l2: 5.75871\tvalid_1's rmse: 2.07605\tvalid_1's l2: 4.30997\n",
      "[260]\ttraining's rmse: 2.39963\ttraining's l2: 5.75821\tvalid_1's rmse: 2.07603\tvalid_1's l2: 4.30989\n",
      "[261]\ttraining's rmse: 2.3994\ttraining's l2: 5.75711\tvalid_1's rmse: 2.0761\tvalid_1's l2: 4.31021\n",
      "[262]\ttraining's rmse: 2.39891\ttraining's l2: 5.75476\tvalid_1's rmse: 2.0773\tvalid_1's l2: 4.31518\n",
      "[263]\ttraining's rmse: 2.39871\ttraining's l2: 5.75379\tvalid_1's rmse: 2.0773\tvalid_1's l2: 4.31517\n",
      "[264]\ttraining's rmse: 2.3983\ttraining's l2: 5.75185\tvalid_1's rmse: 2.0773\tvalid_1's l2: 4.31519\n",
      "[265]\ttraining's rmse: 2.39794\ttraining's l2: 5.75014\tvalid_1's rmse: 2.07728\tvalid_1's l2: 4.3151\n",
      "[266]\ttraining's rmse: 2.39777\ttraining's l2: 5.74931\tvalid_1's rmse: 2.07725\tvalid_1's l2: 4.31497\n",
      "[267]\ttraining's rmse: 2.39739\ttraining's l2: 5.74746\tvalid_1's rmse: 2.07729\tvalid_1's l2: 4.31512\n",
      "[268]\ttraining's rmse: 2.3973\ttraining's l2: 5.74707\tvalid_1's rmse: 2.07724\tvalid_1's l2: 4.31492\n",
      "[269]\ttraining's rmse: 2.39703\ttraining's l2: 5.74577\tvalid_1's rmse: 2.07729\tvalid_1's l2: 4.31512\n",
      "[270]\ttraining's rmse: 2.39683\ttraining's l2: 5.74478\tvalid_1's rmse: 2.07732\tvalid_1's l2: 4.31526\n",
      "[271]\ttraining's rmse: 2.39663\ttraining's l2: 5.74386\tvalid_1's rmse: 2.07722\tvalid_1's l2: 4.31486\n",
      "[272]\ttraining's rmse: 2.39637\ttraining's l2: 5.74259\tvalid_1's rmse: 2.07716\tvalid_1's l2: 4.31461\n",
      "[273]\ttraining's rmse: 2.39623\ttraining's l2: 5.74193\tvalid_1's rmse: 2.07711\tvalid_1's l2: 4.31439\n",
      "[274]\ttraining's rmse: 2.3958\ttraining's l2: 5.73984\tvalid_1's rmse: 2.07812\tvalid_1's l2: 4.31858\n",
      "[275]\ttraining's rmse: 2.39563\ttraining's l2: 5.73906\tvalid_1's rmse: 2.07807\tvalid_1's l2: 4.31836\n",
      "[276]\ttraining's rmse: 2.39543\ttraining's l2: 5.73808\tvalid_1's rmse: 2.07809\tvalid_1's l2: 4.31846\n",
      "[277]\ttraining's rmse: 2.39514\ttraining's l2: 5.73668\tvalid_1's rmse: 2.07811\tvalid_1's l2: 4.31856\n",
      "[278]\ttraining's rmse: 2.39499\ttraining's l2: 5.73599\tvalid_1's rmse: 2.07834\tvalid_1's l2: 4.31948\n",
      "[279]\ttraining's rmse: 2.39481\ttraining's l2: 5.7351\tvalid_1's rmse: 2.07831\tvalid_1's l2: 4.31938\n",
      "[280]\ttraining's rmse: 2.39464\ttraining's l2: 5.73432\tvalid_1's rmse: 2.07828\tvalid_1's l2: 4.31926\n",
      "[281]\ttraining's rmse: 2.39447\ttraining's l2: 5.73346\tvalid_1's rmse: 2.0783\tvalid_1's l2: 4.31935\n",
      "[282]\ttraining's rmse: 2.39423\ttraining's l2: 5.73233\tvalid_1's rmse: 2.07841\tvalid_1's l2: 4.31978\n",
      "[283]\ttraining's rmse: 2.3941\ttraining's l2: 5.73171\tvalid_1's rmse: 2.07836\tvalid_1's l2: 4.3196\n",
      "[284]\ttraining's rmse: 2.39389\ttraining's l2: 5.73071\tvalid_1's rmse: 2.07832\tvalid_1's l2: 4.3194\n",
      "[285]\ttraining's rmse: 2.39371\ttraining's l2: 5.72984\tvalid_1's rmse: 2.07836\tvalid_1's l2: 4.31956\n",
      "[286]\ttraining's rmse: 2.39359\ttraining's l2: 5.72928\tvalid_1's rmse: 2.07837\tvalid_1's l2: 4.31962\n",
      "[287]\ttraining's rmse: 2.39322\ttraining's l2: 5.72752\tvalid_1's rmse: 2.07835\tvalid_1's l2: 4.31954\n",
      "[288]\ttraining's rmse: 2.39304\ttraining's l2: 5.72662\tvalid_1's rmse: 2.07837\tvalid_1's l2: 4.31963\n",
      "[289]\ttraining's rmse: 2.39291\ttraining's l2: 5.726\tvalid_1's rmse: 2.07836\tvalid_1's l2: 4.31957\n",
      "[290]\ttraining's rmse: 2.39274\ttraining's l2: 5.72521\tvalid_1's rmse: 2.07826\tvalid_1's l2: 4.31915\n",
      "[291]\ttraining's rmse: 2.39264\ttraining's l2: 5.72474\tvalid_1's rmse: 2.07827\tvalid_1's l2: 4.3192\n",
      "[292]\ttraining's rmse: 2.39223\ttraining's l2: 5.72278\tvalid_1's rmse: 2.07825\tvalid_1's l2: 4.31911\n",
      "[293]\ttraining's rmse: 2.39195\ttraining's l2: 5.72141\tvalid_1's rmse: 2.07824\tvalid_1's l2: 4.31909\n",
      "[294]\ttraining's rmse: 2.39185\ttraining's l2: 5.72095\tvalid_1's rmse: 2.07818\tvalid_1's l2: 4.31881\n",
      "[295]\ttraining's rmse: 2.39166\ttraining's l2: 5.72004\tvalid_1's rmse: 2.07808\tvalid_1's l2: 4.31841\n",
      "[296]\ttraining's rmse: 2.39145\ttraining's l2: 5.71902\tvalid_1's rmse: 2.07814\tvalid_1's l2: 4.31865\n",
      "[297]\ttraining's rmse: 2.39111\ttraining's l2: 5.71739\tvalid_1's rmse: 2.07817\tvalid_1's l2: 4.31878\n",
      "[298]\ttraining's rmse: 2.39091\ttraining's l2: 5.71643\tvalid_1's rmse: 2.07819\tvalid_1's l2: 4.31886\n",
      "[299]\ttraining's rmse: 2.3908\ttraining's l2: 5.71594\tvalid_1's rmse: 2.07813\tvalid_1's l2: 4.31864\n",
      "[300]\ttraining's rmse: 2.39072\ttraining's l2: 5.71553\tvalid_1's rmse: 2.07801\tvalid_1's l2: 4.31813\n",
      "[301]\ttraining's rmse: 2.39041\ttraining's l2: 5.71407\tvalid_1's rmse: 2.07799\tvalid_1's l2: 4.31805\n",
      "[302]\ttraining's rmse: 2.39028\ttraining's l2: 5.71342\tvalid_1's rmse: 2.07803\tvalid_1's l2: 4.31823\n",
      "[303]\ttraining's rmse: 2.38984\ttraining's l2: 5.71132\tvalid_1's rmse: 2.07888\tvalid_1's l2: 4.32175\n",
      "[304]\ttraining's rmse: 2.38964\ttraining's l2: 5.71039\tvalid_1's rmse: 2.07882\tvalid_1's l2: 4.32151\n",
      "[305]\ttraining's rmse: 2.3893\ttraining's l2: 5.70875\tvalid_1's rmse: 2.07878\tvalid_1's l2: 4.32131\n",
      "[306]\ttraining's rmse: 2.389\ttraining's l2: 5.70733\tvalid_1's rmse: 2.07875\tvalid_1's l2: 4.32122\n",
      "[307]\ttraining's rmse: 2.38863\ttraining's l2: 5.70558\tvalid_1's rmse: 2.07877\tvalid_1's l2: 4.32128\n",
      "[308]\ttraining's rmse: 2.38846\ttraining's l2: 5.70474\tvalid_1's rmse: 2.07873\tvalid_1's l2: 4.32113\n",
      "Early stopping, best iteration is:\n",
      "[208]\ttraining's rmse: 2.41313\ttraining's l2: 5.82322\tvalid_1's rmse: 2.07515\tvalid_1's l2: 4.30624\n"
     ]
    },
    {
     "data": {
      "text/plain": [
       "LGBMRegressor(boosting_type='gbdt', class_weight=None, colsample_bytree=1.0,\n",
       "              importance_type='gain', learning_rate=0.05, max_depth=-1,\n",
       "              min_child_samples=20, min_child_weight=0.001, min_split_gain=0.0,\n",
       "              n_estimators=1000, n_jobs=-1, num_leaves=31, objective=None,\n",
       "              random_state=0, reg_alpha=0.0, reg_lambda=0.0, silent=True,\n",
       "              subsample=1.0, subsample_for_bin=200000, subsample_freq=0)"
      ]
     },
     "execution_count": 17,
     "metadata": {},
     "output_type": "execute_result"
    }
   ],
   "source": [
    "model.fit(\n",
    "    X,\n",
    "    y,\n",
    "    categorical_feature=categorical_features,\n",
    "    early_stopping_rounds=100,\n",
    "    eval_metric=\"rmse\",\n",
    "    eval_set=[(X, y), (X_valid, y_valid)],\n",
    ")"
   ]
  },
  {
   "cell_type": "code",
   "execution_count": 18,
   "metadata": {},
   "outputs": [
    {
     "data": {
      "image/png": "[encoded data removed]",
      "text/plain": [
       "<Figure size 1152x648 with 1 Axes>"
      ]
     },
     "metadata": {
      "needs_background": "light"
     },
     "output_type": "display_data"
    }
   ],
   "source": [
    "ax = lgb.plot_metric(model, metric=\"rmse\", figsize=(16, 9))"
   ]
  },
  {
   "cell_type": "code",
   "execution_count": 19,
   "metadata": {
    "scrolled": false
   },
   "outputs": [
    {
     "data": {
      "image/png": "[encoded data removed]",
      "text/plain": [
       "<Figure size 1152x648 with 1 Axes>"
      ]
     },
     "metadata": {
      "needs_background": "light"
     },
     "output_type": "display_data"
    }
   ],
   "source": [
    "ax = lgb.plot_importance(model, figsize=(16, 9))"
   ]
  },
  {
   "cell_type": "code",
   "execution_count": 20,
   "metadata": {
    "scrolled": true
   },
   "outputs": [
    {
     "data": {
      "text/plain": [
       "['../models/model.joblib']"
      ]
     },
     "execution_count": 20,
     "metadata": {},
     "output_type": "execute_result"
    }
   ],
   "source": [
    "joblib.dump(model, model_path)"
   ]
  }
 ],
 "metadata": {
  "anaconda-cloud": {},
  "kernelspec": {
   "display_name": "Python 3",
   "language": "python",
   "name": "python3"
  },
  "language_info": {
   "codemirror_mode": {
    "name": "ipython",
    "version": 3
   },
   "file_extension": ".py",
   "mimetype": "text/x-python",
   "name": "python",
   "nbconvert_exporter": "python",
   "pygments_lexer": "ipython3",
   "version": "3.7.6"
  }
 },
 "nbformat": 4,
 "nbformat_minor": 2
}
