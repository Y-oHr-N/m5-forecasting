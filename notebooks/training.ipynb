{
 "cells": [
  {
   "cell_type": "code",
   "execution_count": 1,
   "metadata": {},
   "outputs": [],
   "source": [
    "%matplotlib inline"
   ]
  },
  {
   "cell_type": "code",
   "execution_count": 2,
   "metadata": {},
   "outputs": [],
   "source": [
    "import gc\n",
    "import pathlib\n",
    "import sys"
   ]
  },
  {
   "cell_type": "code",
   "execution_count": 3,
   "metadata": {},
   "outputs": [],
   "source": [
    "import joblib\n",
    "import lightgbm as lgb\n",
    "import pandas as pd"
   ]
  },
  {
   "cell_type": "code",
   "execution_count": 4,
   "metadata": {},
   "outputs": [],
   "source": [
    "root_dir_path = pathlib.Path(\"..\")\n",
    "data_dir_path = root_dir_path / \"data\"\n",
    "processed_dir_path = data_dir_path / \"processed\"\n",
    "train_path = processed_dir_path / \"train_filtered.parquet\"\n",
    "models_dir_path = root_dir_path / \"models\"\n",
    "model_path = models_dir_path / \"model.joblib\"\n",
    "src_dir_path = root_dir_path / \"src\""
   ]
  },
  {
   "cell_type": "code",
   "execution_count": 5,
   "metadata": {},
   "outputs": [],
   "source": [
    "sys.path.append(str(src_dir_path))"
   ]
  },
  {
   "cell_type": "code",
   "execution_count": 6,
   "metadata": {},
   "outputs": [],
   "source": [
    "from constants import *"
   ]
  },
  {
   "cell_type": "code",
   "execution_count": 7,
   "metadata": {},
   "outputs": [],
   "source": [
    "train = pd.read_parquet(train_path)"
   ]
  },
  {
   "cell_type": "code",
   "execution_count": 8,
   "metadata": {},
   "outputs": [],
   "source": [
    "is_train = train[\"date\"] < \"2016-01-29\"\n",
    "is_valid = train[\"date\"] >= \"2016-01-29\"\n",
    "train, valid = train[is_train], train[is_valid]"
   ]
  },
  {
   "cell_type": "code",
   "execution_count": 9,
   "metadata": {},
   "outputs": [],
   "source": [
    "del is_train"
   ]
  },
  {
   "cell_type": "code",
   "execution_count": 10,
   "metadata": {},
   "outputs": [
    {
     "data": {
      "text/plain": [
       "0"
      ]
     },
     "execution_count": 10,
     "metadata": {},
     "output_type": "execute_result"
    }
   ],
   "source": [
    "gc.collect()"
   ]
  },
  {
   "cell_type": "code",
   "execution_count": 11,
   "metadata": {
    "scrolled": true
   },
   "outputs": [
    {
     "data": {
      "text/plain": [
       "(43375450, 30)"
      ]
     },
     "execution_count": 11,
     "metadata": {},
     "output_type": "execute_result"
    }
   ],
   "source": [
    "train.shape"
   ]
  },
  {
   "cell_type": "code",
   "execution_count": 12,
   "metadata": {
    "scrolled": true
   },
   "outputs": [
    {
     "data": {
      "text/plain": [
       "(2652507, 30)"
      ]
     },
     "execution_count": 12,
     "metadata": {},
     "output_type": "execute_result"
    }
   ],
   "source": [
    "valid.shape"
   ]
  },
  {
   "cell_type": "code",
   "execution_count": 13,
   "metadata": {},
   "outputs": [],
   "source": [
    "X = train[features]\n",
    "X_valid = valid[features]\n",
    "y = train[\"demand\"]\n",
    "y_valid = valid[\"demand\"]"
   ]
  },
  {
   "cell_type": "code",
   "execution_count": 14,
   "metadata": {},
   "outputs": [],
   "source": [
    "del train\n",
    "del valid"
   ]
  },
  {
   "cell_type": "code",
   "execution_count": 15,
   "metadata": {},
   "outputs": [
    {
     "data": {
      "text/plain": [
       "0"
      ]
     },
     "execution_count": 15,
     "metadata": {},
     "output_type": "execute_result"
    }
   ],
   "source": [
    "gc.collect()"
   ]
  },
  {
   "cell_type": "code",
   "execution_count": 16,
   "metadata": {},
   "outputs": [],
   "source": [
    "model = lgb.LGBMRegressor(importance_type=\"gain\", random_state=0)"
   ]
  },
  {
   "cell_type": "code",
   "execution_count": 17,
   "metadata": {
    "scrolled": false
   },
   "outputs": [
    {
     "name": "stderr",
     "output_type": "stream",
     "text": [
      "C:\\Users\\Yu Ohori\\Anaconda3\\lib\\site-packages\\lightgbm\\basic.py:1295: UserWarning: categorical_feature in Dataset is overridden.\n",
      "New categorical_feature is ['cat_id', 'dept_id', 'event_name_1', 'event_name_2', 'event_type_1', 'event_type_2', 'item_id', 'state_id', 'store_id']\n",
      "  'New categorical_feature is {}'.format(sorted(list(categorical_feature))))\n"
     ]
    },
    {
     "name": "stdout",
     "output_type": "stream",
     "text": [
      "[1]\ttraining's rmse: 4.13426\ttraining's l2: 17.0921\tvalid_1's rmse: 3.47527\tvalid_1's l2: 12.0775\n",
      "Training until validation scores don't improve for 10 rounds\n",
      "[2]\ttraining's rmse: 3.95197\ttraining's l2: 15.6181\tvalid_1's rmse: 3.31941\tvalid_1's l2: 11.0185\n",
      "[3]\ttraining's rmse: 3.79685\ttraining's l2: 14.4161\tvalid_1's rmse: 3.18699\tvalid_1's l2: 10.1569\n",
      "[4]\ttraining's rmse: 3.66434\ttraining's l2: 13.4274\tvalid_1's rmse: 3.0729\tvalid_1's l2: 9.44273\n",
      "[5]\ttraining's rmse: 3.5525\ttraining's l2: 12.6203\tvalid_1's rmse: 2.98033\tvalid_1's l2: 8.88238\n",
      "[6]\ttraining's rmse: 3.45708\ttraining's l2: 11.9514\tvalid_1's rmse: 2.89798\tvalid_1's l2: 8.39826\n",
      "[7]\ttraining's rmse: 3.3763\ttraining's l2: 11.3994\tvalid_1's rmse: 2.82955\tvalid_1's l2: 8.00638\n",
      "[8]\ttraining's rmse: 3.30787\ttraining's l2: 10.942\tvalid_1's rmse: 2.77186\tvalid_1's l2: 7.6832\n",
      "[9]\ttraining's rmse: 3.25077\ttraining's l2: 10.5675\tvalid_1's rmse: 2.72512\tvalid_1's l2: 7.42628\n",
      "[10]\ttraining's rmse: 3.20184\ttraining's l2: 10.2518\tvalid_1's rmse: 2.68442\tvalid_1's l2: 7.20609\n",
      "[11]\ttraining's rmse: 3.16006\ttraining's l2: 9.98595\tvalid_1's rmse: 2.65175\tvalid_1's l2: 7.03176\n",
      "[12]\ttraining's rmse: 3.12525\ttraining's l2: 9.76722\tvalid_1's rmse: 2.62241\tvalid_1's l2: 6.87704\n",
      "[13]\ttraining's rmse: 3.09326\ttraining's l2: 9.56823\tvalid_1's rmse: 2.59575\tvalid_1's l2: 6.73791\n",
      "[14]\ttraining's rmse: 3.06621\ttraining's l2: 9.40167\tvalid_1's rmse: 2.57521\tvalid_1's l2: 6.6317\n",
      "[15]\ttraining's rmse: 3.04429\ttraining's l2: 9.26769\tvalid_1's rmse: 2.5576\tvalid_1's l2: 6.54133\n",
      "[16]\ttraining's rmse: 3.02394\ttraining's l2: 9.1442\tvalid_1's rmse: 2.54164\tvalid_1's l2: 6.45991\n",
      "[17]\ttraining's rmse: 3.00608\ttraining's l2: 9.03652\tvalid_1's rmse: 2.53346\tvalid_1's l2: 6.41842\n",
      "[18]\ttraining's rmse: 2.99067\ttraining's l2: 8.94411\tvalid_1's rmse: 2.52078\tvalid_1's l2: 6.35431\n",
      "[19]\ttraining's rmse: 2.97638\ttraining's l2: 8.85886\tvalid_1's rmse: 2.50747\tvalid_1's l2: 6.28738\n",
      "[20]\ttraining's rmse: 2.96122\ttraining's l2: 8.76884\tvalid_1's rmse: 2.49463\tvalid_1's l2: 6.22319\n",
      "[21]\ttraining's rmse: 2.94941\ttraining's l2: 8.69903\tvalid_1's rmse: 2.48543\tvalid_1's l2: 6.17738\n",
      "[22]\ttraining's rmse: 2.93743\ttraining's l2: 8.62848\tvalid_1's rmse: 2.47724\tvalid_1's l2: 6.13671\n",
      "[23]\ttraining's rmse: 2.92751\ttraining's l2: 8.57032\tvalid_1's rmse: 2.47051\tvalid_1's l2: 6.10343\n",
      "[24]\ttraining's rmse: 2.91845\ttraining's l2: 8.51736\tvalid_1's rmse: 2.46585\tvalid_1's l2: 6.08042\n",
      "[25]\ttraining's rmse: 2.90776\ttraining's l2: 8.45507\tvalid_1's rmse: 2.46246\tvalid_1's l2: 6.06369\n",
      "[26]\ttraining's rmse: 2.89949\ttraining's l2: 8.40705\tvalid_1's rmse: 2.45863\tvalid_1's l2: 6.04484\n",
      "[27]\ttraining's rmse: 2.89339\ttraining's l2: 8.37168\tvalid_1's rmse: 2.45395\tvalid_1's l2: 6.02186\n",
      "[28]\ttraining's rmse: 2.88633\ttraining's l2: 8.33092\tvalid_1's rmse: 2.45384\tvalid_1's l2: 6.02133\n",
      "[29]\ttraining's rmse: 2.87983\ttraining's l2: 8.29344\tvalid_1's rmse: 2.45108\tvalid_1's l2: 6.00778\n",
      "[30]\ttraining's rmse: 2.87294\ttraining's l2: 8.25378\tvalid_1's rmse: 2.44542\tvalid_1's l2: 5.98006\n",
      "[31]\ttraining's rmse: 2.86512\ttraining's l2: 8.20889\tvalid_1's rmse: 2.44204\tvalid_1's l2: 5.96354\n",
      "[32]\ttraining's rmse: 2.85917\ttraining's l2: 8.17487\tvalid_1's rmse: 2.44467\tvalid_1's l2: 5.97643\n",
      "[33]\ttraining's rmse: 2.85461\ttraining's l2: 8.14878\tvalid_1's rmse: 2.44173\tvalid_1's l2: 5.96206\n",
      "[34]\ttraining's rmse: 2.85067\ttraining's l2: 8.12632\tvalid_1's rmse: 2.43887\tvalid_1's l2: 5.94809\n",
      "[35]\ttraining's rmse: 2.84648\ttraining's l2: 8.10243\tvalid_1's rmse: 2.43746\tvalid_1's l2: 5.9412\n",
      "[36]\ttraining's rmse: 2.84157\ttraining's l2: 8.07453\tvalid_1's rmse: 2.43645\tvalid_1's l2: 5.93631\n",
      "[37]\ttraining's rmse: 2.83761\ttraining's l2: 8.05202\tvalid_1's rmse: 2.43489\tvalid_1's l2: 5.92867\n",
      "[38]\ttraining's rmse: 2.83411\ttraining's l2: 8.03218\tvalid_1's rmse: 2.4329\tvalid_1's l2: 5.91901\n",
      "[39]\ttraining's rmse: 2.83039\ttraining's l2: 8.01111\tvalid_1's rmse: 2.43152\tvalid_1's l2: 5.91229\n",
      "[40]\ttraining's rmse: 2.82732\ttraining's l2: 7.99372\tvalid_1's rmse: 2.42884\tvalid_1's l2: 5.89926\n",
      "[41]\ttraining's rmse: 2.82467\ttraining's l2: 7.97875\tvalid_1's rmse: 2.42774\tvalid_1's l2: 5.89392\n",
      "[42]\ttraining's rmse: 2.82225\ttraining's l2: 7.96508\tvalid_1's rmse: 2.42623\tvalid_1's l2: 5.88658\n",
      "[43]\ttraining's rmse: 2.8195\ttraining's l2: 7.94958\tvalid_1's rmse: 2.4246\tvalid_1's l2: 5.87868\n",
      "[44]\ttraining's rmse: 2.81641\ttraining's l2: 7.93218\tvalid_1's rmse: 2.4219\tvalid_1's l2: 5.8656\n",
      "[45]\ttraining's rmse: 2.81334\ttraining's l2: 7.91486\tvalid_1's rmse: 2.42118\tvalid_1's l2: 5.86211\n",
      "[46]\ttraining's rmse: 2.81019\ttraining's l2: 7.89716\tvalid_1's rmse: 2.42092\tvalid_1's l2: 5.86083\n",
      "[47]\ttraining's rmse: 2.80706\ttraining's l2: 7.87959\tvalid_1's rmse: 2.4188\tvalid_1's l2: 5.85058\n",
      "[48]\ttraining's rmse: 2.80443\ttraining's l2: 7.86486\tvalid_1's rmse: 2.41738\tvalid_1's l2: 5.84373\n",
      "[49]\ttraining's rmse: 2.80131\ttraining's l2: 7.84732\tvalid_1's rmse: 2.41914\tvalid_1's l2: 5.85225\n",
      "[50]\ttraining's rmse: 2.79892\ttraining's l2: 7.83395\tvalid_1's rmse: 2.41799\tvalid_1's l2: 5.84666\n",
      "[51]\ttraining's rmse: 2.79663\ttraining's l2: 7.82111\tvalid_1's rmse: 2.41709\tvalid_1's l2: 5.8423\n",
      "[52]\ttraining's rmse: 2.79334\ttraining's l2: 7.80277\tvalid_1's rmse: 2.42004\tvalid_1's l2: 5.85658\n",
      "[53]\ttraining's rmse: 2.7903\ttraining's l2: 7.78576\tvalid_1's rmse: 2.41913\tvalid_1's l2: 5.85217\n",
      "[54]\ttraining's rmse: 2.78848\ttraining's l2: 7.77562\tvalid_1's rmse: 2.41765\tvalid_1's l2: 5.84501\n",
      "[55]\ttraining's rmse: 2.78579\ttraining's l2: 7.7606\tvalid_1's rmse: 2.41685\tvalid_1's l2: 5.84114\n",
      "[56]\ttraining's rmse: 2.78267\ttraining's l2: 7.74323\tvalid_1's rmse: 2.41582\tvalid_1's l2: 5.83621\n",
      "[57]\ttraining's rmse: 2.7807\ttraining's l2: 7.73229\tvalid_1's rmse: 2.41495\tvalid_1's l2: 5.83196\n",
      "[58]\ttraining's rmse: 2.77789\ttraining's l2: 7.71669\tvalid_1's rmse: 2.41408\tvalid_1's l2: 5.82776\n",
      "[59]\ttraining's rmse: 2.77616\ttraining's l2: 7.70704\tvalid_1's rmse: 2.41316\tvalid_1's l2: 5.82334\n",
      "[60]\ttraining's rmse: 2.77366\ttraining's l2: 7.69318\tvalid_1's rmse: 2.4123\tvalid_1's l2: 5.81917\n",
      "[61]\ttraining's rmse: 2.7721\ttraining's l2: 7.68457\tvalid_1's rmse: 2.41149\tvalid_1's l2: 5.8153\n",
      "[62]\ttraining's rmse: 2.76984\ttraining's l2: 7.67203\tvalid_1's rmse: 2.4115\tvalid_1's l2: 5.81532\n",
      "[63]\ttraining's rmse: 2.76807\ttraining's l2: 7.6622\tvalid_1's rmse: 2.41139\tvalid_1's l2: 5.81481\n",
      "[64]\ttraining's rmse: 2.7667\ttraining's l2: 7.65462\tvalid_1's rmse: 2.40983\tvalid_1's l2: 5.80726\n",
      "[65]\ttraining's rmse: 2.76422\ttraining's l2: 7.64091\tvalid_1's rmse: 2.40974\tvalid_1's l2: 5.80684\n",
      "[66]\ttraining's rmse: 2.76207\ttraining's l2: 7.62902\tvalid_1's rmse: 2.40884\tvalid_1's l2: 5.80252\n",
      "[67]\ttraining's rmse: 2.76041\ttraining's l2: 7.61987\tvalid_1's rmse: 2.40743\tvalid_1's l2: 5.79573\n",
      "[68]\ttraining's rmse: 2.75871\ttraining's l2: 7.61047\tvalid_1's rmse: 2.40702\tvalid_1's l2: 5.79373\n",
      "[69]\ttraining's rmse: 2.75724\ttraining's l2: 7.60237\tvalid_1's rmse: 2.40614\tvalid_1's l2: 5.78949\n",
      "[70]\ttraining's rmse: 2.75589\ttraining's l2: 7.59493\tvalid_1's rmse: 2.4055\tvalid_1's l2: 5.78644\n",
      "[71]\ttraining's rmse: 2.7542\ttraining's l2: 7.5856\tvalid_1's rmse: 2.40526\tvalid_1's l2: 5.78526\n",
      "[72]\ttraining's rmse: 2.7527\ttraining's l2: 7.57738\tvalid_1's rmse: 2.40422\tvalid_1's l2: 5.78029\n",
      "[73]\ttraining's rmse: 2.75108\ttraining's l2: 7.56843\tvalid_1's rmse: 2.40435\tvalid_1's l2: 5.78089\n",
      "[74]\ttraining's rmse: 2.74933\ttraining's l2: 7.55882\tvalid_1's rmse: 2.40356\tvalid_1's l2: 5.77711\n",
      "[75]\ttraining's rmse: 2.74765\ttraining's l2: 7.5496\tvalid_1's rmse: 2.40498\tvalid_1's l2: 5.78392\n",
      "[76]\ttraining's rmse: 2.7459\ttraining's l2: 7.53995\tvalid_1's rmse: 2.40468\tvalid_1's l2: 5.7825\n",
      "[77]\ttraining's rmse: 2.74406\ttraining's l2: 7.52988\tvalid_1's rmse: 2.40446\tvalid_1's l2: 5.78145\n",
      "[78]\ttraining's rmse: 2.74129\ttraining's l2: 7.51466\tvalid_1's rmse: 2.40903\tvalid_1's l2: 5.80343\n",
      "[79]\ttraining's rmse: 2.73978\ttraining's l2: 7.50639\tvalid_1's rmse: 2.40812\tvalid_1's l2: 5.79902\n",
      "[80]\ttraining's rmse: 2.73808\ttraining's l2: 7.49706\tvalid_1's rmse: 2.41072\tvalid_1's l2: 5.81155\n",
      "[81]\ttraining's rmse: 2.73591\ttraining's l2: 7.48522\tvalid_1's rmse: 2.4093\tvalid_1's l2: 5.80472\n",
      "[82]\ttraining's rmse: 2.73376\ttraining's l2: 7.47345\tvalid_1's rmse: 2.41017\tvalid_1's l2: 5.80893\n",
      "[83]\ttraining's rmse: 2.73234\ttraining's l2: 7.46569\tvalid_1's rmse: 2.40984\tvalid_1's l2: 5.80732\n"
     ]
    },
    {
     "name": "stdout",
     "output_type": "stream",
     "text": [
      "[84]\ttraining's rmse: 2.73095\ttraining's l2: 7.4581\tvalid_1's rmse: 2.40954\tvalid_1's l2: 5.80588\n",
      "Early stopping, best iteration is:\n",
      "[74]\ttraining's rmse: 2.74933\ttraining's l2: 7.55882\tvalid_1's rmse: 2.40356\tvalid_1's l2: 5.77711\n"
     ]
    },
    {
     "data": {
      "text/plain": [
       "LGBMRegressor(boosting_type='gbdt', class_weight=None, colsample_bytree=1.0,\n",
       "              importance_type='gain', learning_rate=0.1, max_depth=-1,\n",
       "              min_child_samples=20, min_child_weight=0.001, min_split_gain=0.0,\n",
       "              n_estimators=100, n_jobs=-1, num_leaves=31, objective=None,\n",
       "              random_state=0, reg_alpha=0.0, reg_lambda=0.0, silent=True,\n",
       "              subsample=1.0, subsample_for_bin=200000, subsample_freq=0)"
      ]
     },
     "execution_count": 17,
     "metadata": {},
     "output_type": "execute_result"
    }
   ],
   "source": [
    "model.fit(X, y, categorical_feature=categorical_features, early_stopping_rounds=10, eval_metric=\"rmse\", eval_set=[(X, y), (X_valid, y_valid)])"
   ]
  },
  {
   "cell_type": "code",
   "execution_count": 18,
   "metadata": {},
   "outputs": [
    {
     "data": {
      "image/png": "[encoded data removed]",
      "text/plain": [
       "<Figure size 1152x648 with 1 Axes>"
      ]
     },
     "metadata": {},
     "output_type": "display_data"
    }
   ],
   "source": [
    "ax = lgb.plot_metric(model, metric=\"rmse\", figsize=(16, 9))"
   ]
  },
  {
   "cell_type": "code",
   "execution_count": 19,
   "metadata": {
    "scrolled": false
   },
   "outputs": [
    {
     "data": {
      "image/png": "[encoded data removed]",
      "text/plain": [
       "<Figure size 1152x648 with 1 Axes>"
      ]
     },
     "metadata": {},
     "output_type": "display_data"
    }
   ],
   "source": [
    "ax = lgb.plot_importance(model, figsize=(16, 9))"
   ]
  },
  {
   "cell_type": "code",
   "execution_count": 20,
   "metadata": {
    "scrolled": true
   },
   "outputs": [
    {
     "data": {
      "text/plain": [
       "['..\\\\models\\\\model.joblib']"
      ]
     },
     "execution_count": 20,
     "metadata": {},
     "output_type": "execute_result"
    }
   ],
   "source": [
    "joblib.dump(model, model_path)"
   ]
  }
 ],
 "metadata": {
  "anaconda-cloud": {},
  "kernelspec": {
   "display_name": "Python [default]",
   "language": "python",
   "name": "python3"
  },
  "language_info": {
   "codemirror_mode": {
    "name": "ipython",
    "version": 3
   },
   "file_extension": ".py",
   "mimetype": "text/x-python",
   "name": "python",
   "nbconvert_exporter": "python",
   "pygments_lexer": "ipython3",
   "version": "3.6.5"
  }
 },
 "nbformat": 4,
 "nbformat_minor": 2
}
