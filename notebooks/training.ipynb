{
 "cells": [
  {
   "cell_type": "code",
   "execution_count": 1,
   "metadata": {},
   "outputs": [],
   "source": [
    "%matplotlib inline"
   ]
  },
  {
   "cell_type": "code",
   "execution_count": 2,
   "metadata": {},
   "outputs": [],
   "source": [
    "import pathlib"
   ]
  },
  {
   "cell_type": "code",
   "execution_count": 3,
   "metadata": {},
   "outputs": [],
   "source": [
    "import joblib\n",
    "import lightgbm as lgb\n",
    "import pandas as pd"
   ]
  },
  {
   "cell_type": "code",
   "execution_count": 4,
   "metadata": {},
   "outputs": [],
   "source": [
    "categorical_cols = [\"store_id\", \"item_id\"]"
   ]
  },
  {
   "cell_type": "code",
   "execution_count": 5,
   "metadata": {},
   "outputs": [],
   "source": [
    "root_dir_path = pathlib.Path(\"..\")\n",
    "data_dir_path = root_dir_path / \"data\"\n",
    "processed_dir_path = data_dir_path / \"processed\"\n",
    "train_path = processed_dir_path / \"train.parquet\"\n",
    "models_dir_path = root_dir_path / \"models\"\n",
    "model_path = models_dir_path / \"model.joblib\""
   ]
  },
  {
   "cell_type": "code",
   "execution_count": 6,
   "metadata": {},
   "outputs": [],
   "source": [
    "train = pd.read_parquet(train_path)"
   ]
  },
  {
   "cell_type": "code",
   "execution_count": 7,
   "metadata": {
    "scrolled": false
   },
   "outputs": [
    {
     "data": {
      "text/plain": [
       "(58327370, 15)"
      ]
     },
     "execution_count": 7,
     "metadata": {},
     "output_type": "execute_result"
    }
   ],
   "source": [
    "train.shape"
   ]
  },
  {
   "cell_type": "code",
   "execution_count": 8,
   "metadata": {},
   "outputs": [],
   "source": [
    "train[categorical_cols] = train[categorical_cols].astype(\"category\")"
   ]
  },
  {
   "cell_type": "code",
   "execution_count": 9,
   "metadata": {},
   "outputs": [],
   "source": [
    "is_train = train[\"date\"] <= \"2016-01-28\"\n",
    "train, valid = train[is_train], train[~is_train]"
   ]
  },
  {
   "cell_type": "code",
   "execution_count": 10,
   "metadata": {
    "scrolled": true
   },
   "outputs": [
    {
     "data": {
      "text/plain": [
       "(55674740, 15)"
      ]
     },
     "execution_count": 10,
     "metadata": {},
     "output_type": "execute_result"
    }
   ],
   "source": [
    "train.shape"
   ]
  },
  {
   "cell_type": "code",
   "execution_count": 11,
   "metadata": {},
   "outputs": [
    {
     "data": {
      "text/plain": [
       "(2652630, 15)"
      ]
     },
     "execution_count": 11,
     "metadata": {},
     "output_type": "execute_result"
    }
   ],
   "source": [
    "valid.shape"
   ]
  },
  {
   "cell_type": "code",
   "execution_count": 12,
   "metadata": {},
   "outputs": [],
   "source": [
    "data = train.select_dtypes([\"category\", \"number\"])\n",
    "data_valid = valid.select_dtypes([\"category\", \"number\"])"
   ]
  },
  {
   "cell_type": "code",
   "execution_count": 13,
   "metadata": {},
   "outputs": [
    {
     "data": {
      "text/html": [
       "<div>\n",
       "<style scoped>\n",
       "    .dataframe tbody tr th:only-of-type {\n",
       "        vertical-align: middle;\n",
       "    }\n",
       "\n",
       "    .dataframe tbody tr th {\n",
       "        vertical-align: top;\n",
       "    }\n",
       "\n",
       "    .dataframe thead th {\n",
       "        text-align: right;\n",
       "    }\n",
       "</style>\n",
       "<table border=\"1\" class=\"dataframe\">\n",
       "  <thead>\n",
       "    <tr style=\"text-align: right;\">\n",
       "      <th></th>\n",
       "      <th>item_id</th>\n",
       "      <th>store_id</th>\n",
       "      <th>demand</th>\n",
       "      <th>wm_yr_wk</th>\n",
       "      <th>snap_CA</th>\n",
       "      <th>snap_TX</th>\n",
       "      <th>snap_WI</th>\n",
       "      <th>sell_price</th>\n",
       "    </tr>\n",
       "  </thead>\n",
       "  <tbody>\n",
       "    <tr>\n",
       "      <th>count</th>\n",
       "      <td>55674740</td>\n",
       "      <td>55674740</td>\n",
       "      <td>5.567474e+07</td>\n",
       "      <td>5.567474e+07</td>\n",
       "      <td>5.567474e+07</td>\n",
       "      <td>5.567474e+07</td>\n",
       "      <td>5.567474e+07</td>\n",
       "      <td>4.337545e+07</td>\n",
       "    </tr>\n",
       "    <tr>\n",
       "      <th>unique</th>\n",
       "      <td>3049</td>\n",
       "      <td>10</td>\n",
       "      <td>NaN</td>\n",
       "      <td>NaN</td>\n",
       "      <td>NaN</td>\n",
       "      <td>NaN</td>\n",
       "      <td>NaN</td>\n",
       "      <td>NaN</td>\n",
       "    </tr>\n",
       "    <tr>\n",
       "      <th>top</th>\n",
       "      <td>HOUSEHOLD_2_516</td>\n",
       "      <td>WI_3</td>\n",
       "      <td>NaN</td>\n",
       "      <td>NaN</td>\n",
       "      <td>NaN</td>\n",
       "      <td>NaN</td>\n",
       "      <td>NaN</td>\n",
       "      <td>NaN</td>\n",
       "    </tr>\n",
       "    <tr>\n",
       "      <th>freq</th>\n",
       "      <td>18260</td>\n",
       "      <td>5567474</td>\n",
       "      <td>NaN</td>\n",
       "      <td>NaN</td>\n",
       "      <td>NaN</td>\n",
       "      <td>NaN</td>\n",
       "      <td>NaN</td>\n",
       "      <td>NaN</td>\n",
       "    </tr>\n",
       "    <tr>\n",
       "      <th>mean</th>\n",
       "      <td>NaN</td>\n",
       "      <td>NaN</td>\n",
       "      <td>1.114015e+00</td>\n",
       "      <td>1.132648e+04</td>\n",
       "      <td>3.285871e-01</td>\n",
       "      <td>3.285871e-01</td>\n",
       "      <td>3.285871e-01</td>\n",
       "      <td>4.403568e+00</td>\n",
       "    </tr>\n",
       "    <tr>\n",
       "      <th>std</th>\n",
       "      <td>NaN</td>\n",
       "      <td>NaN</td>\n",
       "      <td>3.882690e+00</td>\n",
       "      <td>1.418930e+02</td>\n",
       "      <td>4.696995e-01</td>\n",
       "      <td>4.696995e-01</td>\n",
       "      <td>4.696995e-01</td>\n",
       "      <td>3.395343e+00</td>\n",
       "    </tr>\n",
       "    <tr>\n",
       "      <th>min</th>\n",
       "      <td>NaN</td>\n",
       "      <td>NaN</td>\n",
       "      <td>0.000000e+00</td>\n",
       "      <td>1.110100e+04</td>\n",
       "      <td>0.000000e+00</td>\n",
       "      <td>0.000000e+00</td>\n",
       "      <td>0.000000e+00</td>\n",
       "      <td>1.000000e-02</td>\n",
       "    </tr>\n",
       "    <tr>\n",
       "      <th>25%</th>\n",
       "      <td>NaN</td>\n",
       "      <td>NaN</td>\n",
       "      <td>0.000000e+00</td>\n",
       "      <td>1.121400e+04</td>\n",
       "      <td>0.000000e+00</td>\n",
       "      <td>0.000000e+00</td>\n",
       "      <td>0.000000e+00</td>\n",
       "      <td>2.180000e+00</td>\n",
       "    </tr>\n",
       "    <tr>\n",
       "      <th>50%</th>\n",
       "      <td>NaN</td>\n",
       "      <td>NaN</td>\n",
       "      <td>0.000000e+00</td>\n",
       "      <td>1.132700e+04</td>\n",
       "      <td>0.000000e+00</td>\n",
       "      <td>0.000000e+00</td>\n",
       "      <td>0.000000e+00</td>\n",
       "      <td>3.470000e+00</td>\n",
       "    </tr>\n",
       "    <tr>\n",
       "      <th>75%</th>\n",
       "      <td>NaN</td>\n",
       "      <td>NaN</td>\n",
       "      <td>1.000000e+00</td>\n",
       "      <td>1.143900e+04</td>\n",
       "      <td>1.000000e+00</td>\n",
       "      <td>1.000000e+00</td>\n",
       "      <td>1.000000e+00</td>\n",
       "      <td>5.840000e+00</td>\n",
       "    </tr>\n",
       "    <tr>\n",
       "      <th>max</th>\n",
       "      <td>NaN</td>\n",
       "      <td>NaN</td>\n",
       "      <td>7.630000e+02</td>\n",
       "      <td>1.155200e+04</td>\n",
       "      <td>1.000000e+00</td>\n",
       "      <td>1.000000e+00</td>\n",
       "      <td>1.000000e+00</td>\n",
       "      <td>1.073200e+02</td>\n",
       "    </tr>\n",
       "  </tbody>\n",
       "</table>\n",
       "</div>"
      ],
      "text/plain": [
       "                item_id  store_id        demand      wm_yr_wk       snap_CA  \\\n",
       "count          55674740  55674740  5.567474e+07  5.567474e+07  5.567474e+07   \n",
       "unique             3049        10           NaN           NaN           NaN   \n",
       "top     HOUSEHOLD_2_516      WI_3           NaN           NaN           NaN   \n",
       "freq              18260   5567474           NaN           NaN           NaN   \n",
       "mean                NaN       NaN  1.114015e+00  1.132648e+04  3.285871e-01   \n",
       "std                 NaN       NaN  3.882690e+00  1.418930e+02  4.696995e-01   \n",
       "min                 NaN       NaN  0.000000e+00  1.110100e+04  0.000000e+00   \n",
       "25%                 NaN       NaN  0.000000e+00  1.121400e+04  0.000000e+00   \n",
       "50%                 NaN       NaN  0.000000e+00  1.132700e+04  0.000000e+00   \n",
       "75%                 NaN       NaN  1.000000e+00  1.143900e+04  1.000000e+00   \n",
       "max                 NaN       NaN  7.630000e+02  1.155200e+04  1.000000e+00   \n",
       "\n",
       "             snap_TX       snap_WI    sell_price  \n",
       "count   5.567474e+07  5.567474e+07  4.337545e+07  \n",
       "unique           NaN           NaN           NaN  \n",
       "top              NaN           NaN           NaN  \n",
       "freq             NaN           NaN           NaN  \n",
       "mean    3.285871e-01  3.285871e-01  4.403568e+00  \n",
       "std     4.696995e-01  4.696995e-01  3.395343e+00  \n",
       "min     0.000000e+00  0.000000e+00  1.000000e-02  \n",
       "25%     0.000000e+00  0.000000e+00  2.180000e+00  \n",
       "50%     0.000000e+00  0.000000e+00  3.470000e+00  \n",
       "75%     1.000000e+00  1.000000e+00  5.840000e+00  \n",
       "max     1.000000e+00  1.000000e+00  1.073200e+02  "
      ]
     },
     "execution_count": 13,
     "metadata": {},
     "output_type": "execute_result"
    }
   ],
   "source": [
    "data.describe(include=\"all\")"
   ]
  },
  {
   "cell_type": "code",
   "execution_count": 14,
   "metadata": {},
   "outputs": [],
   "source": [
    "X = data\n",
    "X_valid = data_valid\n",
    "y = data.pop(\"demand\")\n",
    "y_valid = data_valid.pop(\"demand\")"
   ]
  },
  {
   "cell_type": "code",
   "execution_count": 15,
   "metadata": {},
   "outputs": [],
   "source": [
    "model = lgb.LGBMRegressor(importance_type=\"gain\", random_state=0)"
   ]
  },
  {
   "cell_type": "code",
   "execution_count": 16,
   "metadata": {
    "scrolled": false
   },
   "outputs": [
    {
     "name": "stdout",
     "output_type": "stream",
     "text": [
      "[1]\tvalid_0's l2: 12.3408\n",
      "Training until validation scores don't improve for 10 rounds\n",
      "[2]\tvalid_0's l2: 11.4553\n",
      "[3]\tvalid_0's l2: 10.7345\n",
      "[4]\tvalid_0's l2: 10.1437\n",
      "[5]\tvalid_0's l2: 9.65117\n",
      "[6]\tvalid_0's l2: 9.22998\n",
      "[7]\tvalid_0's l2: 8.93888\n",
      "[8]\tvalid_0's l2: 8.65028\n",
      "[9]\tvalid_0's l2: 8.42292\n",
      "[10]\tvalid_0's l2: 8.25383\n",
      "[11]\tvalid_0's l2: 8.10825\n",
      "[12]\tvalid_0's l2: 7.95012\n",
      "[13]\tvalid_0's l2: 7.83923\n",
      "[14]\tvalid_0's l2: 7.75454\n",
      "[15]\tvalid_0's l2: 7.6754\n",
      "[16]\tvalid_0's l2: 7.60758\n",
      "[17]\tvalid_0's l2: 7.53411\n",
      "[18]\tvalid_0's l2: 7.47816\n",
      "[19]\tvalid_0's l2: 7.42216\n",
      "[20]\tvalid_0's l2: 7.3765\n",
      "[21]\tvalid_0's l2: 7.34099\n",
      "[22]\tvalid_0's l2: 7.2828\n",
      "[23]\tvalid_0's l2: 7.24534\n",
      "[24]\tvalid_0's l2: 7.21487\n",
      "[25]\tvalid_0's l2: 7.17789\n",
      "[26]\tvalid_0's l2: 7.16249\n",
      "[27]\tvalid_0's l2: 7.13479\n",
      "[28]\tvalid_0's l2: 7.11169\n",
      "[29]\tvalid_0's l2: 7.09609\n",
      "[30]\tvalid_0's l2: 7.07829\n",
      "[31]\tvalid_0's l2: 7.04866\n",
      "[32]\tvalid_0's l2: 7.02857\n",
      "[33]\tvalid_0's l2: 7.01545\n",
      "[34]\tvalid_0's l2: 6.99467\n",
      "[35]\tvalid_0's l2: 6.96392\n",
      "[36]\tvalid_0's l2: 6.95677\n",
      "[37]\tvalid_0's l2: 6.93774\n",
      "[38]\tvalid_0's l2: 6.91366\n",
      "[39]\tvalid_0's l2: 6.89468\n",
      "[40]\tvalid_0's l2: 6.88279\n",
      "[41]\tvalid_0's l2: 6.87877\n",
      "[42]\tvalid_0's l2: 6.86681\n",
      "[43]\tvalid_0's l2: 6.84708\n",
      "[44]\tvalid_0's l2: 6.84335\n",
      "[45]\tvalid_0's l2: 6.83248\n",
      "[46]\tvalid_0's l2: 6.82201\n",
      "[47]\tvalid_0's l2: 6.80419\n",
      "[48]\tvalid_0's l2: 6.79484\n",
      "[49]\tvalid_0's l2: 6.78356\n",
      "[50]\tvalid_0's l2: 6.77168\n",
      "[51]\tvalid_0's l2: 6.7618\n",
      "[52]\tvalid_0's l2: 6.73457\n",
      "[53]\tvalid_0's l2: 6.72098\n",
      "[54]\tvalid_0's l2: 6.71481\n",
      "[55]\tvalid_0's l2: 6.70294\n",
      "[56]\tvalid_0's l2: 6.70287\n",
      "[57]\tvalid_0's l2: 6.69733\n",
      "[58]\tvalid_0's l2: 6.69491\n",
      "[59]\tvalid_0's l2: 6.69192\n",
      "[60]\tvalid_0's l2: 6.68325\n",
      "[61]\tvalid_0's l2: 6.67979\n",
      "[62]\tvalid_0's l2: 6.66706\n",
      "[63]\tvalid_0's l2: 6.66523\n",
      "[64]\tvalid_0's l2: 6.65531\n",
      "[65]\tvalid_0's l2: 6.65429\n",
      "[66]\tvalid_0's l2: 6.64899\n",
      "[67]\tvalid_0's l2: 6.63449\n",
      "[68]\tvalid_0's l2: 6.62835\n",
      "[69]\tvalid_0's l2: 6.62684\n",
      "[70]\tvalid_0's l2: 6.62026\n",
      "[71]\tvalid_0's l2: 6.61697\n",
      "[72]\tvalid_0's l2: 6.6146\n",
      "[73]\tvalid_0's l2: 6.61547\n",
      "[74]\tvalid_0's l2: 6.61019\n",
      "[75]\tvalid_0's l2: 6.60102\n",
      "[76]\tvalid_0's l2: 6.59531\n",
      "[77]\tvalid_0's l2: 6.58611\n",
      "[78]\tvalid_0's l2: 6.57091\n",
      "[79]\tvalid_0's l2: 6.56421\n",
      "[80]\tvalid_0's l2: 6.56408\n",
      "[81]\tvalid_0's l2: 6.55968\n",
      "[82]\tvalid_0's l2: 6.55854\n",
      "[83]\tvalid_0's l2: 6.55089\n",
      "[84]\tvalid_0's l2: 6.54332\n",
      "[85]\tvalid_0's l2: 6.54206\n",
      "[86]\tvalid_0's l2: 6.53953\n",
      "[87]\tvalid_0's l2: 6.53579\n",
      "[88]\tvalid_0's l2: 6.53466\n",
      "[89]\tvalid_0's l2: 6.52309\n",
      "[90]\tvalid_0's l2: 6.52153\n",
      "[91]\tvalid_0's l2: 6.52054\n",
      "[92]\tvalid_0's l2: 6.52111\n",
      "[93]\tvalid_0's l2: 6.51992\n",
      "[94]\tvalid_0's l2: 6.51704\n",
      "[95]\tvalid_0's l2: 6.51686\n",
      "[96]\tvalid_0's l2: 6.51706\n",
      "[97]\tvalid_0's l2: 6.51609\n",
      "[98]\tvalid_0's l2: 6.51053\n",
      "[99]\tvalid_0's l2: 6.50418\n",
      "[100]\tvalid_0's l2: 6.50187\n",
      "Did not meet early stopping. Best iteration is:\n",
      "[100]\tvalid_0's l2: 6.50187\n"
     ]
    },
    {
     "data": {
      "text/plain": [
       "LGBMRegressor(boosting_type='gbdt', class_weight=None, colsample_bytree=1.0,\n",
       "              importance_type='gain', learning_rate=0.1, max_depth=-1,\n",
       "              min_child_samples=20, min_child_weight=0.001, min_split_gain=0.0,\n",
       "              n_estimators=100, n_jobs=-1, num_leaves=31, objective=None,\n",
       "              random_state=0, reg_alpha=0.0, reg_lambda=0.0, silent=True,\n",
       "              subsample=1.0, subsample_for_bin=200000, subsample_freq=0)"
      ]
     },
     "execution_count": 16,
     "metadata": {},
     "output_type": "execute_result"
    }
   ],
   "source": [
    "model.fit(X, y, early_stopping_rounds=10, eval_set=[(X_valid, y_valid)])"
   ]
  },
  {
   "cell_type": "code",
   "execution_count": 17,
   "metadata": {
    "scrolled": false
   },
   "outputs": [
    {
     "data": {
      "image/png": "[encoded data removed]",
      "text/plain": [
       "<Figure size 1152x648 with 1 Axes>"
      ]
     },
     "metadata": {},
     "output_type": "display_data"
    }
   ],
   "source": [
    "ax = lgb.plot_importance(model, figsize=(16, 9))"
   ]
  },
  {
   "cell_type": "code",
   "execution_count": 18,
   "metadata": {
    "scrolled": true
   },
   "outputs": [
    {
     "data": {
      "text/plain": [
       "['..\\\\models\\\\model.joblib']"
      ]
     },
     "execution_count": 18,
     "metadata": {},
     "output_type": "execute_result"
    }
   ],
   "source": [
    "joblib.dump(model, model_path)"
   ]
  }
 ],
 "metadata": {
  "anaconda-cloud": {},
  "kernelspec": {
   "display_name": "Python [default]",
   "language": "python",
   "name": "python3"
  },
  "language_info": {
   "codemirror_mode": {
    "name": "ipython",
    "version": 3
   },
   "file_extension": ".py",
   "mimetype": "text/x-python",
   "name": "python",
   "nbconvert_exporter": "python",
   "pygments_lexer": "ipython3",
   "version": "3.6.5"
  }
 },
 "nbformat": 4,
 "nbformat_minor": 2
}
