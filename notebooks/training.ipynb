{
 "cells": [
  {
   "cell_type": "code",
   "execution_count": 1,
   "metadata": {},
   "outputs": [],
   "source": [
    "%matplotlib inline"
   ]
  },
  {
   "cell_type": "code",
   "execution_count": 2,
   "metadata": {},
   "outputs": [],
   "source": [
    "import pathlib"
   ]
  },
  {
   "cell_type": "code",
   "execution_count": 3,
   "metadata": {},
   "outputs": [],
   "source": [
    "import joblib\n",
    "import lightgbm as lgb\n",
    "import pandas as pd"
   ]
  },
  {
   "cell_type": "code",
   "execution_count": 4,
   "metadata": {},
   "outputs": [],
   "source": [
    "root_dir_path = pathlib.Path(\"..\")\n",
    "data_dir_path = root_dir_path / \"data\"\n",
    "processed_dir_path = data_dir_path / \"processed\"\n",
    "train_path = processed_dir_path / \"train.parquet\"\n",
    "models_dir_path = root_dir_path / \"models\"\n",
    "model_path = models_dir_path / \"model.joblib\""
   ]
  },
  {
   "cell_type": "code",
   "execution_count": 5,
   "metadata": {},
   "outputs": [],
   "source": [
    "train = pd.read_parquet(train_path)"
   ]
  },
  {
   "cell_type": "code",
   "execution_count": 6,
   "metadata": {
    "scrolled": false
   },
   "outputs": [
    {
     "data": {
      "text/plain": [
       "(58327370, 15)"
      ]
     },
     "execution_count": 6,
     "metadata": {},
     "output_type": "execute_result"
    }
   ],
   "source": [
    "train.shape"
   ]
  },
  {
   "cell_type": "code",
   "execution_count": 7,
   "metadata": {},
   "outputs": [],
   "source": [
    "is_train = train[\"date\"] <= \"2016-01-28\"\n",
    "train, valid = train[is_train], train[~is_train]"
   ]
  },
  {
   "cell_type": "code",
   "execution_count": 8,
   "metadata": {
    "scrolled": true
   },
   "outputs": [
    {
     "data": {
      "text/plain": [
       "(55674740, 15)"
      ]
     },
     "execution_count": 8,
     "metadata": {},
     "output_type": "execute_result"
    }
   ],
   "source": [
    "train.shape"
   ]
  },
  {
   "cell_type": "code",
   "execution_count": 9,
   "metadata": {},
   "outputs": [
    {
     "data": {
      "text/plain": [
       "(2652630, 15)"
      ]
     },
     "execution_count": 9,
     "metadata": {},
     "output_type": "execute_result"
    }
   ],
   "source": [
    "valid.shape"
   ]
  },
  {
   "cell_type": "code",
   "execution_count": 10,
   "metadata": {},
   "outputs": [],
   "source": [
    "data = train.select_dtypes(\"number\")\n",
    "data_valid = valid.select_dtypes(\"number\")"
   ]
  },
  {
   "cell_type": "code",
   "execution_count": 11,
   "metadata": {},
   "outputs": [
    {
     "data": {
      "text/html": [
       "<div>\n",
       "<style scoped>\n",
       "    .dataframe tbody tr th:only-of-type {\n",
       "        vertical-align: middle;\n",
       "    }\n",
       "\n",
       "    .dataframe tbody tr th {\n",
       "        vertical-align: top;\n",
       "    }\n",
       "\n",
       "    .dataframe thead th {\n",
       "        text-align: right;\n",
       "    }\n",
       "</style>\n",
       "<table border=\"1\" class=\"dataframe\">\n",
       "  <thead>\n",
       "    <tr style=\"text-align: right;\">\n",
       "      <th></th>\n",
       "      <th>demand</th>\n",
       "      <th>wm_yr_wk</th>\n",
       "      <th>snap_CA</th>\n",
       "      <th>snap_TX</th>\n",
       "      <th>snap_WI</th>\n",
       "      <th>sell_price</th>\n",
       "    </tr>\n",
       "  </thead>\n",
       "  <tbody>\n",
       "    <tr>\n",
       "      <th>count</th>\n",
       "      <td>5.567474e+07</td>\n",
       "      <td>5.567474e+07</td>\n",
       "      <td>5.567474e+07</td>\n",
       "      <td>5.567474e+07</td>\n",
       "      <td>5.567474e+07</td>\n",
       "      <td>4.337545e+07</td>\n",
       "    </tr>\n",
       "    <tr>\n",
       "      <th>mean</th>\n",
       "      <td>1.114015e+00</td>\n",
       "      <td>1.132648e+04</td>\n",
       "      <td>3.285871e-01</td>\n",
       "      <td>3.285871e-01</td>\n",
       "      <td>3.285871e-01</td>\n",
       "      <td>4.403568e+00</td>\n",
       "    </tr>\n",
       "    <tr>\n",
       "      <th>std</th>\n",
       "      <td>3.882690e+00</td>\n",
       "      <td>1.418930e+02</td>\n",
       "      <td>4.696995e-01</td>\n",
       "      <td>4.696995e-01</td>\n",
       "      <td>4.696995e-01</td>\n",
       "      <td>3.395343e+00</td>\n",
       "    </tr>\n",
       "    <tr>\n",
       "      <th>min</th>\n",
       "      <td>0.000000e+00</td>\n",
       "      <td>1.110100e+04</td>\n",
       "      <td>0.000000e+00</td>\n",
       "      <td>0.000000e+00</td>\n",
       "      <td>0.000000e+00</td>\n",
       "      <td>1.000000e-02</td>\n",
       "    </tr>\n",
       "    <tr>\n",
       "      <th>25%</th>\n",
       "      <td>0.000000e+00</td>\n",
       "      <td>1.121400e+04</td>\n",
       "      <td>0.000000e+00</td>\n",
       "      <td>0.000000e+00</td>\n",
       "      <td>0.000000e+00</td>\n",
       "      <td>2.180000e+00</td>\n",
       "    </tr>\n",
       "    <tr>\n",
       "      <th>50%</th>\n",
       "      <td>0.000000e+00</td>\n",
       "      <td>1.132700e+04</td>\n",
       "      <td>0.000000e+00</td>\n",
       "      <td>0.000000e+00</td>\n",
       "      <td>0.000000e+00</td>\n",
       "      <td>3.470000e+00</td>\n",
       "    </tr>\n",
       "    <tr>\n",
       "      <th>75%</th>\n",
       "      <td>1.000000e+00</td>\n",
       "      <td>1.143900e+04</td>\n",
       "      <td>1.000000e+00</td>\n",
       "      <td>1.000000e+00</td>\n",
       "      <td>1.000000e+00</td>\n",
       "      <td>5.840000e+00</td>\n",
       "    </tr>\n",
       "    <tr>\n",
       "      <th>max</th>\n",
       "      <td>7.630000e+02</td>\n",
       "      <td>1.155200e+04</td>\n",
       "      <td>1.000000e+00</td>\n",
       "      <td>1.000000e+00</td>\n",
       "      <td>1.000000e+00</td>\n",
       "      <td>1.073200e+02</td>\n",
       "    </tr>\n",
       "  </tbody>\n",
       "</table>\n",
       "</div>"
      ],
      "text/plain": [
       "             demand      wm_yr_wk       snap_CA       snap_TX       snap_WI  \\\n",
       "count  5.567474e+07  5.567474e+07  5.567474e+07  5.567474e+07  5.567474e+07   \n",
       "mean   1.114015e+00  1.132648e+04  3.285871e-01  3.285871e-01  3.285871e-01   \n",
       "std    3.882690e+00  1.418930e+02  4.696995e-01  4.696995e-01  4.696995e-01   \n",
       "min    0.000000e+00  1.110100e+04  0.000000e+00  0.000000e+00  0.000000e+00   \n",
       "25%    0.000000e+00  1.121400e+04  0.000000e+00  0.000000e+00  0.000000e+00   \n",
       "50%    0.000000e+00  1.132700e+04  0.000000e+00  0.000000e+00  0.000000e+00   \n",
       "75%    1.000000e+00  1.143900e+04  1.000000e+00  1.000000e+00  1.000000e+00   \n",
       "max    7.630000e+02  1.155200e+04  1.000000e+00  1.000000e+00  1.000000e+00   \n",
       "\n",
       "         sell_price  \n",
       "count  4.337545e+07  \n",
       "mean   4.403568e+00  \n",
       "std    3.395343e+00  \n",
       "min    1.000000e-02  \n",
       "25%    2.180000e+00  \n",
       "50%    3.470000e+00  \n",
       "75%    5.840000e+00  \n",
       "max    1.073200e+02  "
      ]
     },
     "execution_count": 11,
     "metadata": {},
     "output_type": "execute_result"
    }
   ],
   "source": [
    "data.describe(include=\"all\")"
   ]
  },
  {
   "cell_type": "code",
   "execution_count": 12,
   "metadata": {},
   "outputs": [],
   "source": [
    "X = data\n",
    "X_valid = data_valid\n",
    "y = data.pop(\"demand\")\n",
    "y_valid = data_valid.pop(\"demand\")"
   ]
  },
  {
   "cell_type": "code",
   "execution_count": 13,
   "metadata": {},
   "outputs": [],
   "source": [
    "model = lgb.LGBMRegressor(importance_type=\"gain\", random_state=0)"
   ]
  },
  {
   "cell_type": "code",
   "execution_count": 14,
   "metadata": {
    "scrolled": false
   },
   "outputs": [
    {
     "name": "stdout",
     "output_type": "stream",
     "text": [
      "[1]\tvalid_0's l2: 13.2085\n",
      "Training until validation scores don't improve for 10 rounds\n",
      "[2]\tvalid_0's l2: 13.0117\n",
      "[3]\tvalid_0's l2: 12.8617\n",
      "[4]\tvalid_0's l2: 12.7348\n",
      "[5]\tvalid_0's l2: 12.6425\n",
      "[6]\tvalid_0's l2: 12.5616\n",
      "[7]\tvalid_0's l2: 12.4856\n",
      "[8]\tvalid_0's l2: 12.4333\n",
      "[9]\tvalid_0's l2: 12.3899\n",
      "[10]\tvalid_0's l2: 12.3557\n",
      "[11]\tvalid_0's l2: 12.3247\n",
      "[12]\tvalid_0's l2: 12.3036\n",
      "[13]\tvalid_0's l2: 12.2755\n",
      "[14]\tvalid_0's l2: 12.2509\n",
      "[15]\tvalid_0's l2: 12.232\n",
      "[16]\tvalid_0's l2: 12.2133\n",
      "[17]\tvalid_0's l2: 12.2014\n",
      "[18]\tvalid_0's l2: 12.1934\n",
      "[19]\tvalid_0's l2: 12.1846\n",
      "[20]\tvalid_0's l2: 12.1779\n",
      "[21]\tvalid_0's l2: 12.1711\n",
      "[22]\tvalid_0's l2: 12.164\n",
      "[23]\tvalid_0's l2: 12.1598\n",
      "[24]\tvalid_0's l2: 12.1603\n",
      "[25]\tvalid_0's l2: 12.1556\n",
      "[26]\tvalid_0's l2: 12.1529\n",
      "[27]\tvalid_0's l2: 12.1511\n",
      "[28]\tvalid_0's l2: 12.1516\n",
      "[29]\tvalid_0's l2: 12.1493\n",
      "[30]\tvalid_0's l2: 12.1472\n",
      "[31]\tvalid_0's l2: 12.1487\n",
      "[32]\tvalid_0's l2: 12.1479\n",
      "[33]\tvalid_0's l2: 12.1479\n",
      "[34]\tvalid_0's l2: 12.1468\n",
      "[35]\tvalid_0's l2: 12.1457\n",
      "[36]\tvalid_0's l2: 12.144\n",
      "[37]\tvalid_0's l2: 12.1411\n",
      "[38]\tvalid_0's l2: 12.1423\n",
      "[39]\tvalid_0's l2: 12.1428\n",
      "[40]\tvalid_0's l2: 12.1433\n",
      "[41]\tvalid_0's l2: 12.1439\n",
      "[42]\tvalid_0's l2: 12.1437\n",
      "[43]\tvalid_0's l2: 12.1434\n",
      "[44]\tvalid_0's l2: 12.1421\n",
      "[45]\tvalid_0's l2: 12.1422\n",
      "[46]\tvalid_0's l2: 12.1406\n",
      "[47]\tvalid_0's l2: 12.1394\n",
      "[48]\tvalid_0's l2: 12.1383\n",
      "[49]\tvalid_0's l2: 12.1357\n",
      "[50]\tvalid_0's l2: 12.1359\n",
      "[51]\tvalid_0's l2: 12.1353\n",
      "[52]\tvalid_0's l2: 12.1359\n",
      "[53]\tvalid_0's l2: 12.1357\n",
      "[54]\tvalid_0's l2: 12.1359\n",
      "[55]\tvalid_0's l2: 12.1367\n",
      "[56]\tvalid_0's l2: 12.1344\n",
      "[57]\tvalid_0's l2: 12.132\n",
      "[58]\tvalid_0's l2: 12.1296\n",
      "[59]\tvalid_0's l2: 12.1275\n",
      "[60]\tvalid_0's l2: 12.1275\n",
      "[61]\tvalid_0's l2: 12.1272\n",
      "[62]\tvalid_0's l2: 12.1273\n",
      "[63]\tvalid_0's l2: 12.1236\n",
      "[64]\tvalid_0's l2: 12.1237\n",
      "[65]\tvalid_0's l2: 12.119\n",
      "[66]\tvalid_0's l2: 12.1178\n",
      "[67]\tvalid_0's l2: 12.1173\n",
      "[68]\tvalid_0's l2: 12.1145\n",
      "[69]\tvalid_0's l2: 12.1147\n",
      "[70]\tvalid_0's l2: 12.1121\n",
      "[71]\tvalid_0's l2: 12.1118\n",
      "[72]\tvalid_0's l2: 12.1112\n",
      "[73]\tvalid_0's l2: 12.1106\n",
      "[74]\tvalid_0's l2: 12.1102\n",
      "[75]\tvalid_0's l2: 12.1099\n",
      "[76]\tvalid_0's l2: 12.1046\n",
      "[77]\tvalid_0's l2: 12.1039\n",
      "[78]\tvalid_0's l2: 12.1013\n",
      "[79]\tvalid_0's l2: 12.1004\n",
      "[80]\tvalid_0's l2: 12.1007\n",
      "[81]\tvalid_0's l2: 12.0998\n",
      "[82]\tvalid_0's l2: 12.0989\n",
      "[83]\tvalid_0's l2: 12.0979\n",
      "[84]\tvalid_0's l2: 12.098\n",
      "[85]\tvalid_0's l2: 12.0982\n",
      "[86]\tvalid_0's l2: 12.0981\n",
      "[87]\tvalid_0's l2: 12.0962\n",
      "[88]\tvalid_0's l2: 12.0963\n",
      "[89]\tvalid_0's l2: 12.0956\n",
      "[90]\tvalid_0's l2: 12.0946\n",
      "[91]\tvalid_0's l2: 12.0945\n",
      "[92]\tvalid_0's l2: 12.0938\n",
      "[93]\tvalid_0's l2: 12.0926\n",
      "[94]\tvalid_0's l2: 12.0919\n",
      "[95]\tvalid_0's l2: 12.0906\n",
      "[96]\tvalid_0's l2: 12.0888\n",
      "[97]\tvalid_0's l2: 12.0867\n",
      "[98]\tvalid_0's l2: 12.0865\n",
      "[99]\tvalid_0's l2: 12.0866\n",
      "[100]\tvalid_0's l2: 12.0867\n",
      "Did not meet early stopping. Best iteration is:\n",
      "[98]\tvalid_0's l2: 12.0865\n"
     ]
    },
    {
     "data": {
      "text/plain": [
       "LGBMRegressor(boosting_type='gbdt', class_weight=None, colsample_bytree=1.0,\n",
       "              importance_type='gain', learning_rate=0.1, max_depth=-1,\n",
       "              min_child_samples=20, min_child_weight=0.001, min_split_gain=0.0,\n",
       "              n_estimators=100, n_jobs=-1, num_leaves=31, objective=None,\n",
       "              random_state=0, reg_alpha=0.0, reg_lambda=0.0, silent=True,\n",
       "              subsample=1.0, subsample_for_bin=200000, subsample_freq=0)"
      ]
     },
     "execution_count": 14,
     "metadata": {},
     "output_type": "execute_result"
    }
   ],
   "source": [
    "model.fit(X, y, early_stopping_rounds=10, eval_set=[(X_valid, y_valid)])"
   ]
  },
  {
   "cell_type": "code",
   "execution_count": 15,
   "metadata": {
    "scrolled": false
   },
   "outputs": [
    {
     "data": {
      "image/png": "[encoded data removed]",
      "text/plain": [
       "<Figure size 1152x648 with 1 Axes>"
      ]
     },
     "metadata": {},
     "output_type": "display_data"
    }
   ],
   "source": [
    "ax = lgb.plot_importance(model, figsize=(16, 9))"
   ]
  },
  {
   "cell_type": "code",
   "execution_count": 16,
   "metadata": {
    "scrolled": true
   },
   "outputs": [
    {
     "data": {
      "text/plain": [
       "['..\\\\models\\\\model.joblib']"
      ]
     },
     "execution_count": 16,
     "metadata": {},
     "output_type": "execute_result"
    }
   ],
   "source": [
    "joblib.dump(model, model_path)"
   ]
  }
 ],
 "metadata": {
  "anaconda-cloud": {},
  "kernelspec": {
   "display_name": "Python [default]",
   "language": "python",
   "name": "python3"
  },
  "language_info": {
   "codemirror_mode": {
    "name": "ipython",
    "version": 3
   },
   "file_extension": ".py",
   "mimetype": "text/x-python",
   "name": "python",
   "nbconvert_exporter": "python",
   "pygments_lexer": "ipython3",
   "version": "3.6.5"
  }
 },
 "nbformat": 4,
 "nbformat_minor": 2
}
