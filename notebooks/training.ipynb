{
 "cells": [
  {
   "cell_type": "code",
   "execution_count": 1,
   "metadata": {},
   "outputs": [],
   "source": [
    "%matplotlib inline"
   ]
  },
  {
   "cell_type": "code",
   "execution_count": 2,
   "metadata": {},
   "outputs": [],
   "source": [
    "import pathlib"
   ]
  },
  {
   "cell_type": "code",
   "execution_count": 3,
   "metadata": {},
   "outputs": [],
   "source": [
    "import joblib\n",
    "import lightgbm as lgb\n",
    "import pandas as pd"
   ]
  },
  {
   "cell_type": "code",
   "execution_count": 4,
   "metadata": {},
   "outputs": [],
   "source": [
    "categorical_cols = [\"store_id\", \"item_id\", \"dept_id\", \"cat_id\", \"state_id\", \"event_name_1\", \"event_type_1\", \"event_name_2\", \"event_type_2\"]"
   ]
  },
  {
   "cell_type": "code",
   "execution_count": 5,
   "metadata": {},
   "outputs": [],
   "source": [
    "root_dir_path = pathlib.Path(\"..\")\n",
    "data_dir_path = root_dir_path / \"data\"\n",
    "processed_dir_path = data_dir_path / \"processed\"\n",
    "train_path = processed_dir_path / \"train_filtered.parquet\"\n",
    "models_dir_path = root_dir_path / \"models\"\n",
    "model_path = models_dir_path / \"model.joblib\""
   ]
  },
  {
   "cell_type": "code",
   "execution_count": 6,
   "metadata": {},
   "outputs": [],
   "source": [
    "train = pd.read_parquet(train_path)"
   ]
  },
  {
   "cell_type": "code",
   "execution_count": 7,
   "metadata": {
    "scrolled": false
   },
   "outputs": [
    {
     "data": {
      "text/plain": [
       "(45942500, 18)"
      ]
     },
     "execution_count": 7,
     "metadata": {},
     "output_type": "execute_result"
    }
   ],
   "source": [
    "train.shape"
   ]
  },
  {
   "cell_type": "code",
   "execution_count": 8,
   "metadata": {},
   "outputs": [],
   "source": [
    "train[categorical_cols] = train[categorical_cols].astype(\"category\")"
   ]
  },
  {
   "cell_type": "code",
   "execution_count": 9,
   "metadata": {},
   "outputs": [],
   "source": [
    "is_train = train[\"date\"] <= \"2016-01-28\"\n",
    "train, valid = train[is_train], train[~is_train]"
   ]
  },
  {
   "cell_type": "code",
   "execution_count": 10,
   "metadata": {
    "scrolled": true
   },
   "outputs": [
    {
     "data": {
      "text/plain": [
       "(43290018, 18)"
      ]
     },
     "execution_count": 10,
     "metadata": {},
     "output_type": "execute_result"
    }
   ],
   "source": [
    "train.shape"
   ]
  },
  {
   "cell_type": "code",
   "execution_count": 11,
   "metadata": {},
   "outputs": [
    {
     "data": {
      "text/plain": [
       "(2652482, 18)"
      ]
     },
     "execution_count": 11,
     "metadata": {},
     "output_type": "execute_result"
    }
   ],
   "source": [
    "valid.shape"
   ]
  },
  {
   "cell_type": "code",
   "execution_count": 12,
   "metadata": {},
   "outputs": [],
   "source": [
    "data = train.select_dtypes([\"category\", \"number\"])\n",
    "data_valid = valid.select_dtypes([\"category\", \"number\"])"
   ]
  },
  {
   "cell_type": "code",
   "execution_count": 13,
   "metadata": {},
   "outputs": [
    {
     "data": {
      "text/html": [
       "<div>\n",
       "<style scoped>\n",
       "    .dataframe tbody tr th:only-of-type {\n",
       "        vertical-align: middle;\n",
       "    }\n",
       "\n",
       "    .dataframe tbody tr th {\n",
       "        vertical-align: top;\n",
       "    }\n",
       "\n",
       "    .dataframe thead th {\n",
       "        text-align: right;\n",
       "    }\n",
       "</style>\n",
       "<table border=\"1\" class=\"dataframe\">\n",
       "  <thead>\n",
       "    <tr style=\"text-align: right;\">\n",
       "      <th></th>\n",
       "      <th>item_id</th>\n",
       "      <th>store_id</th>\n",
       "      <th>dept_id</th>\n",
       "      <th>cat_id</th>\n",
       "      <th>state_id</th>\n",
       "      <th>demand</th>\n",
       "      <th>wm_yr_wk</th>\n",
       "      <th>event_name_1</th>\n",
       "      <th>event_type_1</th>\n",
       "      <th>event_name_2</th>\n",
       "      <th>event_type_2</th>\n",
       "      <th>snap_CA</th>\n",
       "      <th>snap_TX</th>\n",
       "      <th>snap_WI</th>\n",
       "      <th>sell_price</th>\n",
       "    </tr>\n",
       "  </thead>\n",
       "  <tbody>\n",
       "    <tr>\n",
       "      <th>count</th>\n",
       "      <td>43290018</td>\n",
       "      <td>43290018</td>\n",
       "      <td>43290018</td>\n",
       "      <td>43290018</td>\n",
       "      <td>43290018</td>\n",
       "      <td>4.329002e+07</td>\n",
       "      <td>4.329002e+07</td>\n",
       "      <td>3435036</td>\n",
       "      <td>3435036</td>\n",
       "      <td>94157</td>\n",
       "      <td>94157</td>\n",
       "      <td>4.329002e+07</td>\n",
       "      <td>4.329002e+07</td>\n",
       "      <td>4.329002e+07</td>\n",
       "      <td>4.329002e+07</td>\n",
       "    </tr>\n",
       "    <tr>\n",
       "      <th>unique</th>\n",
       "      <td>3049</td>\n",
       "      <td>10</td>\n",
       "      <td>7</td>\n",
       "      <td>3</td>\n",
       "      <td>3</td>\n",
       "      <td>NaN</td>\n",
       "      <td>NaN</td>\n",
       "      <td>30</td>\n",
       "      <td>4</td>\n",
       "      <td>4</td>\n",
       "      <td>2</td>\n",
       "      <td>NaN</td>\n",
       "      <td>NaN</td>\n",
       "      <td>NaN</td>\n",
       "      <td>NaN</td>\n",
       "    </tr>\n",
       "    <tr>\n",
       "      <th>top</th>\n",
       "      <td>HOUSEHOLD_2_299</td>\n",
       "      <td>TX_2</td>\n",
       "      <td>FOODS_3</td>\n",
       "      <td>FOODS</td>\n",
       "      <td>CA</td>\n",
       "      <td>NaN</td>\n",
       "      <td>NaN</td>\n",
       "      <td>MartinLutherKingDay</td>\n",
       "      <td>National</td>\n",
       "      <td>Father's day</td>\n",
       "      <td>Cultural</td>\n",
       "      <td>NaN</td>\n",
       "      <td>NaN</td>\n",
       "      <td>NaN</td>\n",
       "      <td>NaN</td>\n",
       "    </tr>\n",
       "    <tr>\n",
       "      <th>freq</th>\n",
       "      <td>18260</td>\n",
       "      <td>4449544</td>\n",
       "      <td>11609036</td>\n",
       "      <td>20107581</td>\n",
       "      <td>17120247</td>\n",
       "      <td>NaN</td>\n",
       "      <td>NaN</td>\n",
       "      <td>125376</td>\n",
       "      <td>1208676</td>\n",
       "      <td>28221</td>\n",
       "      <td>66560</td>\n",
       "      <td>NaN</td>\n",
       "      <td>NaN</td>\n",
       "      <td>NaN</td>\n",
       "      <td>NaN</td>\n",
       "    </tr>\n",
       "    <tr>\n",
       "      <th>mean</th>\n",
       "      <td>NaN</td>\n",
       "      <td>NaN</td>\n",
       "      <td>NaN</td>\n",
       "      <td>NaN</td>\n",
       "      <td>NaN</td>\n",
       "      <td>1.432720e+00</td>\n",
       "      <td>1.135948e+04</td>\n",
       "      <td>NaN</td>\n",
       "      <td>NaN</td>\n",
       "      <td>NaN</td>\n",
       "      <td>NaN</td>\n",
       "      <td>3.273593e-01</td>\n",
       "      <td>3.278231e-01</td>\n",
       "      <td>3.278760e-01</td>\n",
       "      <td>4.403153e+00</td>\n",
       "    </tr>\n",
       "    <tr>\n",
       "      <th>std</th>\n",
       "      <td>NaN</td>\n",
       "      <td>NaN</td>\n",
       "      <td>NaN</td>\n",
       "      <td>NaN</td>\n",
       "      <td>NaN</td>\n",
       "      <td>4.351036e+00</td>\n",
       "      <td>1.356624e+02</td>\n",
       "      <td>NaN</td>\n",
       "      <td>NaN</td>\n",
       "      <td>NaN</td>\n",
       "      <td>NaN</td>\n",
       "      <td>4.692496e-01</td>\n",
       "      <td>4.694200e-01</td>\n",
       "      <td>4.694394e-01</td>\n",
       "      <td>3.394033e+00</td>\n",
       "    </tr>\n",
       "    <tr>\n",
       "      <th>min</th>\n",
       "      <td>NaN</td>\n",
       "      <td>NaN</td>\n",
       "      <td>NaN</td>\n",
       "      <td>NaN</td>\n",
       "      <td>NaN</td>\n",
       "      <td>0.000000e+00</td>\n",
       "      <td>1.110100e+04</td>\n",
       "      <td>NaN</td>\n",
       "      <td>NaN</td>\n",
       "      <td>NaN</td>\n",
       "      <td>NaN</td>\n",
       "      <td>0.000000e+00</td>\n",
       "      <td>0.000000e+00</td>\n",
       "      <td>0.000000e+00</td>\n",
       "      <td>1.000000e-02</td>\n",
       "    </tr>\n",
       "    <tr>\n",
       "      <th>25%</th>\n",
       "      <td>NaN</td>\n",
       "      <td>NaN</td>\n",
       "      <td>NaN</td>\n",
       "      <td>NaN</td>\n",
       "      <td>NaN</td>\n",
       "      <td>0.000000e+00</td>\n",
       "      <td>1.123900e+04</td>\n",
       "      <td>NaN</td>\n",
       "      <td>NaN</td>\n",
       "      <td>NaN</td>\n",
       "      <td>NaN</td>\n",
       "      <td>0.000000e+00</td>\n",
       "      <td>0.000000e+00</td>\n",
       "      <td>0.000000e+00</td>\n",
       "      <td>2.180000e+00</td>\n",
       "    </tr>\n",
       "    <tr>\n",
       "      <th>50%</th>\n",
       "      <td>NaN</td>\n",
       "      <td>NaN</td>\n",
       "      <td>NaN</td>\n",
       "      <td>NaN</td>\n",
       "      <td>NaN</td>\n",
       "      <td>0.000000e+00</td>\n",
       "      <td>1.135200e+04</td>\n",
       "      <td>NaN</td>\n",
       "      <td>NaN</td>\n",
       "      <td>NaN</td>\n",
       "      <td>NaN</td>\n",
       "      <td>0.000000e+00</td>\n",
       "      <td>0.000000e+00</td>\n",
       "      <td>0.000000e+00</td>\n",
       "      <td>3.470000e+00</td>\n",
       "    </tr>\n",
       "    <tr>\n",
       "      <th>75%</th>\n",
       "      <td>NaN</td>\n",
       "      <td>NaN</td>\n",
       "      <td>NaN</td>\n",
       "      <td>NaN</td>\n",
       "      <td>NaN</td>\n",
       "      <td>1.000000e+00</td>\n",
       "      <td>1.150100e+04</td>\n",
       "      <td>NaN</td>\n",
       "      <td>NaN</td>\n",
       "      <td>NaN</td>\n",
       "      <td>NaN</td>\n",
       "      <td>1.000000e+00</td>\n",
       "      <td>1.000000e+00</td>\n",
       "      <td>1.000000e+00</td>\n",
       "      <td>5.840000e+00</td>\n",
       "    </tr>\n",
       "    <tr>\n",
       "      <th>max</th>\n",
       "      <td>NaN</td>\n",
       "      <td>NaN</td>\n",
       "      <td>NaN</td>\n",
       "      <td>NaN</td>\n",
       "      <td>NaN</td>\n",
       "      <td>7.630000e+02</td>\n",
       "      <td>1.155200e+04</td>\n",
       "      <td>NaN</td>\n",
       "      <td>NaN</td>\n",
       "      <td>NaN</td>\n",
       "      <td>NaN</td>\n",
       "      <td>1.000000e+00</td>\n",
       "      <td>1.000000e+00</td>\n",
       "      <td>1.000000e+00</td>\n",
       "      <td>1.073200e+02</td>\n",
       "    </tr>\n",
       "  </tbody>\n",
       "</table>\n",
       "</div>"
      ],
      "text/plain": [
       "                item_id  store_id   dept_id    cat_id  state_id        demand  \\\n",
       "count          43290018  43290018  43290018  43290018  43290018  4.329002e+07   \n",
       "unique             3049        10         7         3         3           NaN   \n",
       "top     HOUSEHOLD_2_299      TX_2   FOODS_3     FOODS        CA           NaN   \n",
       "freq              18260   4449544  11609036  20107581  17120247           NaN   \n",
       "mean                NaN       NaN       NaN       NaN       NaN  1.432720e+00   \n",
       "std                 NaN       NaN       NaN       NaN       NaN  4.351036e+00   \n",
       "min                 NaN       NaN       NaN       NaN       NaN  0.000000e+00   \n",
       "25%                 NaN       NaN       NaN       NaN       NaN  0.000000e+00   \n",
       "50%                 NaN       NaN       NaN       NaN       NaN  0.000000e+00   \n",
       "75%                 NaN       NaN       NaN       NaN       NaN  1.000000e+00   \n",
       "max                 NaN       NaN       NaN       NaN       NaN  7.630000e+02   \n",
       "\n",
       "            wm_yr_wk         event_name_1 event_type_1  event_name_2  \\\n",
       "count   4.329002e+07              3435036      3435036         94157   \n",
       "unique           NaN                   30            4             4   \n",
       "top              NaN  MartinLutherKingDay     National  Father's day   \n",
       "freq             NaN               125376      1208676         28221   \n",
       "mean    1.135948e+04                  NaN          NaN           NaN   \n",
       "std     1.356624e+02                  NaN          NaN           NaN   \n",
       "min     1.110100e+04                  NaN          NaN           NaN   \n",
       "25%     1.123900e+04                  NaN          NaN           NaN   \n",
       "50%     1.135200e+04                  NaN          NaN           NaN   \n",
       "75%     1.150100e+04                  NaN          NaN           NaN   \n",
       "max     1.155200e+04                  NaN          NaN           NaN   \n",
       "\n",
       "       event_type_2       snap_CA       snap_TX       snap_WI    sell_price  \n",
       "count         94157  4.329002e+07  4.329002e+07  4.329002e+07  4.329002e+07  \n",
       "unique            2           NaN           NaN           NaN           NaN  \n",
       "top        Cultural           NaN           NaN           NaN           NaN  \n",
       "freq          66560           NaN           NaN           NaN           NaN  \n",
       "mean            NaN  3.273593e-01  3.278231e-01  3.278760e-01  4.403153e+00  \n",
       "std             NaN  4.692496e-01  4.694200e-01  4.694394e-01  3.394033e+00  \n",
       "min             NaN  0.000000e+00  0.000000e+00  0.000000e+00  1.000000e-02  \n",
       "25%             NaN  0.000000e+00  0.000000e+00  0.000000e+00  2.180000e+00  \n",
       "50%             NaN  0.000000e+00  0.000000e+00  0.000000e+00  3.470000e+00  \n",
       "75%             NaN  1.000000e+00  1.000000e+00  1.000000e+00  5.840000e+00  \n",
       "max             NaN  1.000000e+00  1.000000e+00  1.000000e+00  1.073200e+02  "
      ]
     },
     "execution_count": 13,
     "metadata": {},
     "output_type": "execute_result"
    }
   ],
   "source": [
    "data.describe(include=\"all\")"
   ]
  },
  {
   "cell_type": "code",
   "execution_count": 14,
   "metadata": {},
   "outputs": [],
   "source": [
    "X = data\n",
    "X_valid = data_valid\n",
    "y = data.pop(\"demand\")\n",
    "y_valid = data_valid.pop(\"demand\")"
   ]
  },
  {
   "cell_type": "code",
   "execution_count": 15,
   "metadata": {},
   "outputs": [],
   "source": [
    "model = lgb.LGBMRegressor(importance_type=\"gain\", random_state=0)"
   ]
  },
  {
   "cell_type": "code",
   "execution_count": 16,
   "metadata": {
    "scrolled": false
   },
   "outputs": [
    {
     "name": "stdout",
     "output_type": "stream",
     "text": [
      "[1]\tvalid_0's l2: 12.2204\n",
      "Training until validation scores don't improve for 10 rounds\n",
      "[2]\tvalid_0's l2: 11.2777\n",
      "[3]\tvalid_0's l2: 10.5414\n",
      "[4]\tvalid_0's l2: 9.94031\n",
      "[5]\tvalid_0's l2: 9.45013\n",
      "[6]\tvalid_0's l2: 9.06109\n",
      "[7]\tvalid_0's l2: 8.76694\n",
      "[8]\tvalid_0's l2: 8.49385\n",
      "[9]\tvalid_0's l2: 8.26102\n",
      "[10]\tvalid_0's l2: 8.11261\n",
      "[11]\tvalid_0's l2: 7.96059\n",
      "[12]\tvalid_0's l2: 7.83183\n",
      "[13]\tvalid_0's l2: 7.72188\n",
      "[14]\tvalid_0's l2: 7.62625\n",
      "[15]\tvalid_0's l2: 7.54869\n",
      "[16]\tvalid_0's l2: 7.46431\n",
      "[17]\tvalid_0's l2: 7.41087\n",
      "[18]\tvalid_0's l2: 7.35912\n",
      "[19]\tvalid_0's l2: 7.31017\n",
      "[20]\tvalid_0's l2: 7.26743\n",
      "[21]\tvalid_0's l2: 7.22075\n",
      "[22]\tvalid_0's l2: 7.19441\n",
      "[23]\tvalid_0's l2: 7.14191\n",
      "[24]\tvalid_0's l2: 7.11386\n",
      "[25]\tvalid_0's l2: 7.08923\n",
      "[26]\tvalid_0's l2: 7.07528\n",
      "[27]\tvalid_0's l2: 7.05671\n",
      "[28]\tvalid_0's l2: 7.03709\n",
      "[29]\tvalid_0's l2: 7.02008\n",
      "[30]\tvalid_0's l2: 6.99845\n",
      "[31]\tvalid_0's l2: 6.97807\n",
      "[32]\tvalid_0's l2: 6.94364\n",
      "[33]\tvalid_0's l2: 6.93151\n",
      "[34]\tvalid_0's l2: 6.91046\n",
      "[35]\tvalid_0's l2: 6.88388\n",
      "[36]\tvalid_0's l2: 6.87616\n",
      "[37]\tvalid_0's l2: 6.86422\n",
      "[38]\tvalid_0's l2: 6.83754\n",
      "[39]\tvalid_0's l2: 6.82756\n",
      "[40]\tvalid_0's l2: 6.80972\n",
      "[41]\tvalid_0's l2: 6.79416\n",
      "[42]\tvalid_0's l2: 6.78017\n",
      "[43]\tvalid_0's l2: 6.76334\n",
      "[44]\tvalid_0's l2: 6.74037\n",
      "[45]\tvalid_0's l2: 6.73721\n",
      "[46]\tvalid_0's l2: 6.72563\n",
      "[47]\tvalid_0's l2: 6.70886\n",
      "[48]\tvalid_0's l2: 6.70061\n",
      "[49]\tvalid_0's l2: 6.6969\n",
      "[50]\tvalid_0's l2: 6.68226\n",
      "[51]\tvalid_0's l2: 6.67665\n",
      "[52]\tvalid_0's l2: 6.67051\n",
      "[53]\tvalid_0's l2: 6.65619\n",
      "[54]\tvalid_0's l2: 6.63473\n",
      "[55]\tvalid_0's l2: 6.62958\n",
      "[56]\tvalid_0's l2: 6.62298\n",
      "[57]\tvalid_0's l2: 6.61968\n",
      "[58]\tvalid_0's l2: 6.61868\n",
      "[59]\tvalid_0's l2: 6.60875\n",
      "[60]\tvalid_0's l2: 6.59769\n",
      "[61]\tvalid_0's l2: 6.59695\n",
      "[62]\tvalid_0's l2: 6.59258\n",
      "[63]\tvalid_0's l2: 6.59061\n",
      "[64]\tvalid_0's l2: 6.59766\n",
      "[65]\tvalid_0's l2: 6.58738\n",
      "[66]\tvalid_0's l2: 6.58402\n",
      "[67]\tvalid_0's l2: 6.58486\n",
      "[68]\tvalid_0's l2: 6.58048\n",
      "[69]\tvalid_0's l2: 6.57448\n",
      "[70]\tvalid_0's l2: 6.56416\n",
      "[71]\tvalid_0's l2: 6.55407\n",
      "[72]\tvalid_0's l2: 6.55332\n",
      "[73]\tvalid_0's l2: 6.5533\n",
      "[74]\tvalid_0's l2: 6.55454\n",
      "[75]\tvalid_0's l2: 6.5537\n",
      "[76]\tvalid_0's l2: 6.54912\n",
      "[77]\tvalid_0's l2: 6.54761\n",
      "[78]\tvalid_0's l2: 6.54106\n",
      "[79]\tvalid_0's l2: 6.53541\n",
      "[80]\tvalid_0's l2: 6.52447\n",
      "[81]\tvalid_0's l2: 6.5247\n",
      "[82]\tvalid_0's l2: 6.51973\n",
      "[83]\tvalid_0's l2: 6.5051\n",
      "[84]\tvalid_0's l2: 6.50676\n",
      "[85]\tvalid_0's l2: 6.50068\n",
      "[86]\tvalid_0's l2: 6.50001\n",
      "[87]\tvalid_0's l2: 6.4889\n",
      "[88]\tvalid_0's l2: 6.4754\n",
      "[89]\tvalid_0's l2: 6.47435\n",
      "[90]\tvalid_0's l2: 6.46922\n",
      "[91]\tvalid_0's l2: 6.46789\n",
      "[92]\tvalid_0's l2: 6.46538\n",
      "[93]\tvalid_0's l2: 6.46359\n",
      "[94]\tvalid_0's l2: 6.45734\n",
      "[95]\tvalid_0's l2: 6.45582\n",
      "[96]\tvalid_0's l2: 6.45558\n",
      "[97]\tvalid_0's l2: 6.45547\n",
      "[98]\tvalid_0's l2: 6.4574\n",
      "[99]\tvalid_0's l2: 6.45449\n",
      "[100]\tvalid_0's l2: 6.45068\n",
      "Did not meet early stopping. Best iteration is:\n",
      "[100]\tvalid_0's l2: 6.45068\n"
     ]
    },
    {
     "data": {
      "text/plain": [
       "LGBMRegressor(boosting_type='gbdt', class_weight=None, colsample_bytree=1.0,\n",
       "              importance_type='gain', learning_rate=0.1, max_depth=-1,\n",
       "              min_child_samples=20, min_child_weight=0.001, min_split_gain=0.0,\n",
       "              n_estimators=100, n_jobs=-1, num_leaves=31, objective=None,\n",
       "              random_state=0, reg_alpha=0.0, reg_lambda=0.0, silent=True,\n",
       "              subsample=1.0, subsample_for_bin=200000, subsample_freq=0)"
      ]
     },
     "execution_count": 16,
     "metadata": {},
     "output_type": "execute_result"
    }
   ],
   "source": [
    "model.fit(X, y, early_stopping_rounds=10, eval_set=[(X_valid, y_valid)])"
   ]
  },
  {
   "cell_type": "code",
   "execution_count": 17,
   "metadata": {
    "scrolled": false
   },
   "outputs": [
    {
     "data": {
      "image/png": "[encoded data removed]",
      "text/plain": [
       "<Figure size 1152x648 with 1 Axes>"
      ]
     },
     "metadata": {},
     "output_type": "display_data"
    }
   ],
   "source": [
    "ax = lgb.plot_importance(model, figsize=(16, 9))"
   ]
  },
  {
   "cell_type": "code",
   "execution_count": 18,
   "metadata": {
    "scrolled": true
   },
   "outputs": [
    {
     "data": {
      "text/plain": [
       "['..\\\\models\\\\model.joblib']"
      ]
     },
     "execution_count": 18,
     "metadata": {},
     "output_type": "execute_result"
    }
   ],
   "source": [
    "joblib.dump(model, model_path)"
   ]
  }
 ],
 "metadata": {
  "anaconda-cloud": {},
  "kernelspec": {
   "display_name": "Python [default]",
   "language": "python",
   "name": "python3"
  },
  "language_info": {
   "codemirror_mode": {
    "name": "ipython",
    "version": 3
   },
   "file_extension": ".py",
   "mimetype": "text/x-python",
   "name": "python",
   "nbconvert_exporter": "python",
   "pygments_lexer": "ipython3",
   "version": "3.6.5"
  }
 },
 "nbformat": 4,
 "nbformat_minor": 2
}
