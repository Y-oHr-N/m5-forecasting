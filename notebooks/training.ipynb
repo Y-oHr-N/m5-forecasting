{
 "cells": [
  {
   "cell_type": "code",
   "execution_count": 1,
   "metadata": {},
   "outputs": [],
   "source": [
    "%matplotlib inline"
   ]
  },
  {
   "cell_type": "code",
   "execution_count": 2,
   "metadata": {},
   "outputs": [],
   "source": [
    "import pathlib"
   ]
  },
  {
   "cell_type": "code",
   "execution_count": 3,
   "metadata": {},
   "outputs": [],
   "source": [
    "import joblib\n",
    "import lightgbm as lgb\n",
    "import pandas as pd"
   ]
  },
  {
   "cell_type": "code",
   "execution_count": 4,
   "metadata": {},
   "outputs": [],
   "source": [
    "root_dir_path = pathlib.Path(\"..\")\n",
    "data_dir_path = root_dir_path / \"data\"\n",
    "processed_dir_path = data_dir_path / \"processed\"\n",
    "train_path = processed_dir_path / \"train_filtered.parquet\"\n",
    "models_dir_path = root_dir_path / \"models\"\n",
    "model_path = models_dir_path / \"model.joblib\""
   ]
  },
  {
   "cell_type": "code",
   "execution_count": 5,
   "metadata": {},
   "outputs": [],
   "source": [
    "categorical_features = [\n",
    "    \"store_id\",\n",
    "    \"item_id\",\n",
    "    \"dept_id\",\n",
    "    \"cat_id\",\n",
    "    \"state_id\",\n",
    "    \"event_name_1\",\n",
    "    \"event_type_1\",\n",
    "    \"event_name_2\",\n",
    "    \"event_type_2\",\n",
    "]\n",
    "numerical_features = [\n",
    "    \"snap_CA\",\n",
    "    \"snap_TX\",\n",
    "    \"snap_WI\",\n",
    "    \"sell_price\",\n",
    "    \"year\",\n",
    "    \"dayofyear\",\n",
    "    \"weekofyear\",\n",
    "    \"quarter\",\n",
    "    \"month\",\n",
    "    \"day\",\n",
    "    \"weekday\",\n",
    "    \"is_year_start\",\n",
    "    \"is_year_end\",\n",
    "    \"is_month_start\",\n",
    "    \"is_month_end\",\n",
    "]\n",
    "features = categorical_features + numerical_features"
   ]
  },
  {
   "cell_type": "code",
   "execution_count": 6,
   "metadata": {},
   "outputs": [],
   "source": [
    "train = pd.read_parquet(train_path)"
   ]
  },
  {
   "cell_type": "code",
   "execution_count": 7,
   "metadata": {},
   "outputs": [],
   "source": [
    "is_train = train[\"date\"] <= \"2016-01-28\"\n",
    "train, valid = train[is_train], train[~is_train]"
   ]
  },
  {
   "cell_type": "code",
   "execution_count": 8,
   "metadata": {
    "scrolled": true
   },
   "outputs": [
    {
     "data": {
      "text/plain": [
       "(43290018, 28)"
      ]
     },
     "execution_count": 8,
     "metadata": {},
     "output_type": "execute_result"
    }
   ],
   "source": [
    "train.shape"
   ]
  },
  {
   "cell_type": "code",
   "execution_count": 9,
   "metadata": {
    "scrolled": true
   },
   "outputs": [
    {
     "data": {
      "text/plain": [
       "(2652482, 28)"
      ]
     },
     "execution_count": 9,
     "metadata": {},
     "output_type": "execute_result"
    }
   ],
   "source": [
    "valid.shape"
   ]
  },
  {
   "cell_type": "code",
   "execution_count": 10,
   "metadata": {},
   "outputs": [],
   "source": [
    "X = train[features]\n",
    "X_valid = valid[features]\n",
    "y = train[\"demand\"]\n",
    "y_valid = valid[\"demand\"]"
   ]
  },
  {
   "cell_type": "code",
   "execution_count": 11,
   "metadata": {},
   "outputs": [],
   "source": [
    "model = lgb.LGBMRegressor(importance_type=\"gain\", random_state=0)"
   ]
  },
  {
   "cell_type": "code",
   "execution_count": 12,
   "metadata": {
    "scrolled": false
   },
   "outputs": [
    {
     "name": "stderr",
     "output_type": "stream",
     "text": [
      "C:\\Users\\Yu Ohori\\Anaconda3\\lib\\site-packages\\lightgbm\\basic.py:1295: UserWarning: categorical_feature in Dataset is overridden.\n",
      "New categorical_feature is ['cat_id', 'dept_id', 'event_name_1', 'event_name_2', 'event_type_1', 'event_type_2', 'item_id', 'state_id', 'store_id']\n",
      "  'New categorical_feature is {}'.format(sorted(list(categorical_feature))))\n"
     ]
    },
    {
     "name": "stdout",
     "output_type": "stream",
     "text": [
      "[1]\tvalid_0's l2: 12.1841\n",
      "Training until validation scores don't improve for 10 rounds\n",
      "[2]\tvalid_0's l2: 11.2338\n",
      "[3]\tvalid_0's l2: 10.4809\n",
      "[4]\tvalid_0's l2: 9.84889\n",
      "[5]\tvalid_0's l2: 9.35691\n",
      "[6]\tvalid_0's l2: 8.95851\n",
      "[7]\tvalid_0's l2: 8.64405\n",
      "[8]\tvalid_0's l2: 8.35607\n",
      "[9]\tvalid_0's l2: 8.15714\n",
      "[10]\tvalid_0's l2: 7.97996\n",
      "[11]\tvalid_0's l2: 7.84082\n",
      "[12]\tvalid_0's l2: 7.69472\n",
      "[13]\tvalid_0's l2: 7.60251\n",
      "[14]\tvalid_0's l2: 7.49689\n",
      "[15]\tvalid_0's l2: 7.42456\n",
      "[16]\tvalid_0's l2: 7.3622\n",
      "[17]\tvalid_0's l2: 7.29919\n",
      "[18]\tvalid_0's l2: 7.24879\n",
      "[19]\tvalid_0's l2: 7.19295\n",
      "[20]\tvalid_0's l2: 7.12907\n",
      "[21]\tvalid_0's l2: 7.09939\n",
      "[22]\tvalid_0's l2: 7.07626\n",
      "[23]\tvalid_0's l2: 7.04553\n",
      "[24]\tvalid_0's l2: 7.01473\n",
      "[25]\tvalid_0's l2: 6.98822\n",
      "[26]\tvalid_0's l2: 6.97162\n",
      "[27]\tvalid_0's l2: 6.94173\n",
      "[28]\tvalid_0's l2: 6.92003\n",
      "[29]\tvalid_0's l2: 6.90158\n",
      "[30]\tvalid_0's l2: 6.88269\n",
      "[31]\tvalid_0's l2: 6.86745\n",
      "[32]\tvalid_0's l2: 6.85495\n",
      "[33]\tvalid_0's l2: 6.8397\n",
      "[34]\tvalid_0's l2: 6.82459\n",
      "[35]\tvalid_0's l2: 6.80237\n",
      "[36]\tvalid_0's l2: 6.7984\n",
      "[37]\tvalid_0's l2: 6.78188\n",
      "[38]\tvalid_0's l2: 6.75208\n",
      "[39]\tvalid_0's l2: 6.74591\n",
      "[40]\tvalid_0's l2: 6.73254\n",
      "[41]\tvalid_0's l2: 6.71699\n",
      "[42]\tvalid_0's l2: 6.69426\n",
      "[43]\tvalid_0's l2: 6.68355\n",
      "[44]\tvalid_0's l2: 6.66461\n",
      "[45]\tvalid_0's l2: 6.65397\n",
      "[46]\tvalid_0's l2: 6.64363\n",
      "[47]\tvalid_0's l2: 6.62147\n",
      "[48]\tvalid_0's l2: 6.61835\n",
      "[49]\tvalid_0's l2: 6.59936\n",
      "[50]\tvalid_0's l2: 6.59228\n",
      "[51]\tvalid_0's l2: 6.58374\n",
      "[52]\tvalid_0's l2: 6.57008\n",
      "[53]\tvalid_0's l2: 6.55408\n",
      "[54]\tvalid_0's l2: 6.54629\n",
      "[55]\tvalid_0's l2: 6.5442\n",
      "[56]\tvalid_0's l2: 6.54335\n",
      "[57]\tvalid_0's l2: 6.53612\n",
      "[58]\tvalid_0's l2: 6.52718\n",
      "[59]\tvalid_0's l2: 6.51498\n",
      "[60]\tvalid_0's l2: 6.51432\n",
      "[61]\tvalid_0's l2: 6.50989\n",
      "[62]\tvalid_0's l2: 6.49673\n",
      "[63]\tvalid_0's l2: 6.49434\n",
      "[64]\tvalid_0's l2: 6.48933\n",
      "[65]\tvalid_0's l2: 6.47823\n",
      "[66]\tvalid_0's l2: 6.47725\n",
      "[67]\tvalid_0's l2: 6.46785\n",
      "[68]\tvalid_0's l2: 6.4667\n",
      "[69]\tvalid_0's l2: 6.46357\n",
      "[70]\tvalid_0's l2: 6.46335\n",
      "[71]\tvalid_0's l2: 6.44567\n",
      "[72]\tvalid_0's l2: 6.43624\n",
      "[73]\tvalid_0's l2: 6.4296\n",
      "[74]\tvalid_0's l2: 6.42539\n",
      "[75]\tvalid_0's l2: 6.41804\n",
      "[76]\tvalid_0's l2: 6.4175\n",
      "[77]\tvalid_0's l2: 6.40868\n",
      "[78]\tvalid_0's l2: 6.40286\n",
      "[79]\tvalid_0's l2: 6.39376\n",
      "[80]\tvalid_0's l2: 6.39057\n",
      "[81]\tvalid_0's l2: 6.38494\n",
      "[82]\tvalid_0's l2: 6.37493\n",
      "[83]\tvalid_0's l2: 6.36956\n",
      "[84]\tvalid_0's l2: 6.36702\n",
      "[85]\tvalid_0's l2: 6.36342\n",
      "[86]\tvalid_0's l2: 6.35858\n",
      "[87]\tvalid_0's l2: 6.3623\n",
      "[88]\tvalid_0's l2: 6.35288\n",
      "[89]\tvalid_0's l2: 6.34914\n",
      "[90]\tvalid_0's l2: 6.34598\n",
      "[91]\tvalid_0's l2: 6.34318\n",
      "[92]\tvalid_0's l2: 6.34472\n",
      "[93]\tvalid_0's l2: 6.33403\n",
      "[94]\tvalid_0's l2: 6.32966\n",
      "[95]\tvalid_0's l2: 6.32863\n",
      "[96]\tvalid_0's l2: 6.32568\n",
      "[97]\tvalid_0's l2: 6.32083\n",
      "[98]\tvalid_0's l2: 6.31644\n",
      "[99]\tvalid_0's l2: 6.30921\n",
      "[100]\tvalid_0's l2: 6.30371\n",
      "Did not meet early stopping. Best iteration is:\n",
      "[100]\tvalid_0's l2: 6.30371\n"
     ]
    },
    {
     "data": {
      "text/plain": [
       "LGBMRegressor(boosting_type='gbdt', class_weight=None, colsample_bytree=1.0,\n",
       "              importance_type='gain', learning_rate=0.1, max_depth=-1,\n",
       "              min_child_samples=20, min_child_weight=0.001, min_split_gain=0.0,\n",
       "              n_estimators=100, n_jobs=-1, num_leaves=31, objective=None,\n",
       "              random_state=0, reg_alpha=0.0, reg_lambda=0.0, silent=True,\n",
       "              subsample=1.0, subsample_for_bin=200000, subsample_freq=0)"
      ]
     },
     "execution_count": 12,
     "metadata": {},
     "output_type": "execute_result"
    }
   ],
   "source": [
    "model.fit(X, y, categorical_feature=categorical_features, early_stopping_rounds=10, eval_set=[(X_valid, y_valid)])"
   ]
  },
  {
   "cell_type": "code",
   "execution_count": 13,
   "metadata": {
    "scrolled": false
   },
   "outputs": [
    {
     "data": {
      "image/png": "[encoded data removed]",
      "text/plain": [
       "<Figure size 1152x648 with 1 Axes>"
      ]
     },
     "metadata": {},
     "output_type": "display_data"
    }
   ],
   "source": [
    "ax = lgb.plot_importance(model, figsize=(16, 9))"
   ]
  },
  {
   "cell_type": "code",
   "execution_count": 14,
   "metadata": {
    "scrolled": true
   },
   "outputs": [
    {
     "data": {
      "text/plain": [
       "['..\\\\models\\\\model.joblib']"
      ]
     },
     "execution_count": 14,
     "metadata": {},
     "output_type": "execute_result"
    }
   ],
   "source": [
    "joblib.dump(model, model_path)"
   ]
  }
 ],
 "metadata": {
  "anaconda-cloud": {},
  "kernelspec": {
   "display_name": "Python [default]",
   "language": "python",
   "name": "python3"
  },
  "language_info": {
   "codemirror_mode": {
    "name": "ipython",
    "version": 3
   },
   "file_extension": ".py",
   "mimetype": "text/x-python",
   "name": "python",
   "nbconvert_exporter": "python",
   "pygments_lexer": "ipython3",
   "version": "3.6.5"
  }
 },
 "nbformat": 4,
 "nbformat_minor": 2
}
