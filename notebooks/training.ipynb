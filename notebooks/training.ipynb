{
 "cells": [
  {
   "cell_type": "code",
   "execution_count": 1,
   "metadata": {},
   "outputs": [],
   "source": [
    "%matplotlib inline"
   ]
  },
  {
   "cell_type": "code",
   "execution_count": 2,
   "metadata": {},
   "outputs": [],
   "source": [
    "import gc\n",
    "import pathlib\n",
    "import sys"
   ]
  },
  {
   "cell_type": "code",
   "execution_count": 3,
   "metadata": {},
   "outputs": [],
   "source": [
    "import joblib\n",
    "import lightgbm as lgb\n",
    "import pandas as pd"
   ]
  },
  {
   "cell_type": "code",
   "execution_count": 4,
   "metadata": {},
   "outputs": [],
   "source": [
    "root_dir_path = pathlib.Path(\"..\")\n",
    "data_dir_path = root_dir_path / \"data\"\n",
    "processed_dir_path = data_dir_path / \"processed\"\n",
    "train_path = processed_dir_path / \"train_filtered.parquet\"\n",
    "models_dir_path = root_dir_path / \"models\"\n",
    "model_path = models_dir_path / \"model.joblib\"\n",
    "src_dir_path = root_dir_path / \"src\""
   ]
  },
  {
   "cell_type": "code",
   "execution_count": 5,
   "metadata": {},
   "outputs": [],
   "source": [
    "sys.path.append(str(src_dir_path))"
   ]
  },
  {
   "cell_type": "code",
   "execution_count": 6,
   "metadata": {},
   "outputs": [],
   "source": [
    "from constants import *"
   ]
  },
  {
   "cell_type": "code",
   "execution_count": 7,
   "metadata": {},
   "outputs": [],
   "source": [
    "train = pd.read_parquet(train_path)"
   ]
  },
  {
   "cell_type": "code",
   "execution_count": 8,
   "metadata": {},
   "outputs": [],
   "source": [
    "is_train = train[\"date\"] < \"2016-01-29\"\n",
    "is_valid = train[\"date\"] >= \"2016-01-29\""
   ]
  },
  {
   "cell_type": "code",
   "execution_count": 9,
   "metadata": {},
   "outputs": [],
   "source": [
    "X = train.loc[is_train, features]\n",
    "X_valid = train.loc[is_valid, features]\n",
    "y = train.loc[is_train, \"demand\"]\n",
    "y_valid = train.loc[is_valid, \"demand\"]"
   ]
  },
  {
   "cell_type": "code",
   "execution_count": 10,
   "metadata": {},
   "outputs": [],
   "source": [
    "del train\n",
    "del is_train\n",
    "del is_valid"
   ]
  },
  {
   "cell_type": "code",
   "execution_count": 11,
   "metadata": {},
   "outputs": [
    {
     "data": {
      "text/plain": [
       "80"
      ]
     },
     "execution_count": 11,
     "metadata": {},
     "output_type": "execute_result"
    }
   ],
   "source": [
    "gc.collect()"
   ]
  },
  {
   "cell_type": "code",
   "execution_count": 12,
   "metadata": {
    "scrolled": false
   },
   "outputs": [
    {
     "data": {
      "text/plain": [
       "(43375450, 28)"
      ]
     },
     "execution_count": 12,
     "metadata": {},
     "output_type": "execute_result"
    }
   ],
   "source": [
    "X.shape"
   ]
  },
  {
   "cell_type": "code",
   "execution_count": 13,
   "metadata": {},
   "outputs": [
    {
     "data": {
      "text/plain": [
       "store_id                               0\n",
       "item_id                                0\n",
       "dept_id                                0\n",
       "cat_id                                 0\n",
       "state_id                               0\n",
       "event_name_1                           0\n",
       "event_type_1                           0\n",
       "event_name_2                           0\n",
       "event_type_2                           0\n",
       "snap_CA                                0\n",
       "snap_TX                                0\n",
       "snap_WI                                0\n",
       "sell_price                             0\n",
       "year                                   0\n",
       "dayofyear                              0\n",
       "weekofyear                             0\n",
       "quarter                                0\n",
       "month                                  0\n",
       "day                                    0\n",
       "weekday                                0\n",
       "is_year_start                          0\n",
       "is_year_end                            0\n",
       "is_month_start                         0\n",
       "is_month_end                           0\n",
       "demand_shift_28                   337575\n",
       "sell_price_day_over_day            30479\n",
       "demand_shift_1_rolling_28_mean     10932\n",
       "demand_shift_22_rolling_7_mean    260781\n",
       "dtype: int64"
      ]
     },
     "execution_count": 13,
     "metadata": {},
     "output_type": "execute_result"
    }
   ],
   "source": [
    "X.isnull().sum()"
   ]
  },
  {
   "cell_type": "code",
   "execution_count": 14,
   "metadata": {
    "scrolled": true
   },
   "outputs": [
    {
     "data": {
      "text/plain": [
       "(2652507, 28)"
      ]
     },
     "execution_count": 14,
     "metadata": {},
     "output_type": "execute_result"
    }
   ],
   "source": [
    "X_valid.shape"
   ]
  },
  {
   "cell_type": "code",
   "execution_count": 15,
   "metadata": {},
   "outputs": [
    {
     "data": {
      "text/plain": [
       "store_id                           0\n",
       "item_id                            0\n",
       "dept_id                            0\n",
       "cat_id                             0\n",
       "state_id                           0\n",
       "event_name_1                       0\n",
       "event_type_1                       0\n",
       "event_name_2                       0\n",
       "event_type_2                       0\n",
       "snap_CA                            0\n",
       "snap_TX                            0\n",
       "snap_WI                            0\n",
       "sell_price                         0\n",
       "year                               0\n",
       "dayofyear                          0\n",
       "weekofyear                         0\n",
       "quarter                            0\n",
       "month                              0\n",
       "day                                0\n",
       "weekday                            0\n",
       "is_year_start                      0\n",
       "is_year_end                        0\n",
       "is_month_start                     0\n",
       "is_month_end                       0\n",
       "demand_shift_28                    0\n",
       "sell_price_day_over_day           11\n",
       "demand_shift_1_rolling_28_mean     0\n",
       "demand_shift_22_rolling_7_mean     0\n",
       "dtype: int64"
      ]
     },
     "execution_count": 15,
     "metadata": {},
     "output_type": "execute_result"
    }
   ],
   "source": [
    "X_valid.isnull().sum()"
   ]
  },
  {
   "cell_type": "code",
   "execution_count": 16,
   "metadata": {},
   "outputs": [],
   "source": [
    "model = lgb.LGBMRegressor(importance_type=\"gain\", learning_rate=0.05, n_estimators=1_000, random_state=0)"
   ]
  },
  {
   "cell_type": "code",
   "execution_count": 17,
   "metadata": {
    "scrolled": false
   },
   "outputs": [
    {
     "name": "stderr",
     "output_type": "stream",
     "text": [
      "/opt/conda/lib/python3.7/site-packages/lightgbm/basic.py:1295: UserWarning: categorical_feature in Dataset is overridden.\n",
      "New categorical_feature is ['cat_id', 'dept_id', 'event_name_1', 'event_name_2', 'event_type_1', 'event_type_2', 'item_id', 'state_id', 'store_id']\n",
      "  'New categorical_feature is {}'.format(sorted(list(categorical_feature))))\n"
     ]
    },
    {
     "name": "stdout",
     "output_type": "stream",
     "text": [
      "[1]\ttraining's rmse: 4.2097\ttraining's l2: 17.7215\tvalid_1's rmse: 3.53973\tvalid_1's l2: 12.5297\n",
      "Training until validation scores don't improve for 100 rounds\n",
      "[2]\ttraining's rmse: 4.0817\ttraining's l2: 16.6603\tvalid_1's rmse: 3.43008\tvalid_1's l2: 11.7655\n",
      "[3]\ttraining's rmse: 3.96235\ttraining's l2: 15.7002\tvalid_1's rmse: 3.32796\tvalid_1's l2: 11.0753\n",
      "[4]\ttraining's rmse: 3.85131\ttraining's l2: 14.8326\tvalid_1's rmse: 3.2324\tvalid_1's l2: 10.4484\n",
      "[5]\ttraining's rmse: 3.74813\ttraining's l2: 14.0485\tvalid_1's rmse: 3.14368\tvalid_1's l2: 9.88271\n",
      "[6]\ttraining's rmse: 3.65239\ttraining's l2: 13.34\tvalid_1's rmse: 3.0609\tvalid_1's l2: 9.36909\n",
      "[7]\ttraining's rmse: 3.56375\ttraining's l2: 12.7003\tvalid_1's rmse: 2.98451\tvalid_1's l2: 8.9073\n",
      "[8]\ttraining's rmse: 3.48148\ttraining's l2: 12.1207\tvalid_1's rmse: 2.91342\tvalid_1's l2: 8.48804\n",
      "[9]\ttraining's rmse: 3.40541\ttraining's l2: 11.5968\tvalid_1's rmse: 2.84726\tvalid_1's l2: 8.10687\n",
      "[10]\ttraining's rmse: 3.3348\ttraining's l2: 11.1209\tvalid_1's rmse: 2.7868\tvalid_1's l2: 7.76628\n",
      "[11]\ttraining's rmse: 3.26985\ttraining's l2: 10.6919\tvalid_1's rmse: 2.73079\tvalid_1's l2: 7.45724\n",
      "[12]\ttraining's rmse: 3.21003\ttraining's l2: 10.3043\tvalid_1's rmse: 2.67914\tvalid_1's l2: 7.17778\n",
      "[13]\ttraining's rmse: 3.15472\ttraining's l2: 9.95224\tvalid_1's rmse: 2.63152\tvalid_1's l2: 6.92492\n",
      "[14]\ttraining's rmse: 3.10381\ttraining's l2: 9.63366\tvalid_1's rmse: 2.58764\tvalid_1's l2: 6.69588\n",
      "[15]\ttraining's rmse: 3.05658\ttraining's l2: 9.3427\tvalid_1's rmse: 2.54772\tvalid_1's l2: 6.49085\n",
      "[16]\ttraining's rmse: 3.01342\ttraining's l2: 9.08069\tvalid_1's rmse: 2.51018\tvalid_1's l2: 6.30102\n",
      "[17]\ttraining's rmse: 2.97348\ttraining's l2: 8.84161\tvalid_1's rmse: 2.47535\tvalid_1's l2: 6.12735\n",
      "[18]\ttraining's rmse: 2.93647\ttraining's l2: 8.62288\tvalid_1's rmse: 2.44441\tvalid_1's l2: 5.97515\n",
      "[19]\ttraining's rmse: 2.90288\ttraining's l2: 8.42673\tvalid_1's rmse: 2.4156\tvalid_1's l2: 5.83513\n",
      "[20]\ttraining's rmse: 2.87178\ttraining's l2: 8.24714\tvalid_1's rmse: 2.3884\tvalid_1's l2: 5.70445\n",
      "[21]\ttraining's rmse: 2.84311\ttraining's l2: 8.08325\tvalid_1's rmse: 2.3633\tvalid_1's l2: 5.58518\n",
      "[22]\ttraining's rmse: 2.81685\ttraining's l2: 7.93462\tvalid_1's rmse: 2.34031\tvalid_1's l2: 5.47705\n",
      "[23]\ttraining's rmse: 2.79283\ttraining's l2: 7.79988\tvalid_1's rmse: 2.31937\tvalid_1's l2: 5.37946\n",
      "[24]\ttraining's rmse: 2.77046\ttraining's l2: 7.67546\tvalid_1's rmse: 2.30031\tvalid_1's l2: 5.29144\n",
      "[25]\ttraining's rmse: 2.75015\ttraining's l2: 7.56334\tvalid_1's rmse: 2.28259\tvalid_1's l2: 5.21023\n",
      "[26]\ttraining's rmse: 2.73117\ttraining's l2: 7.45928\tvalid_1's rmse: 2.26644\tvalid_1's l2: 5.13676\n",
      "[27]\ttraining's rmse: 2.71403\ttraining's l2: 7.36597\tvalid_1's rmse: 2.25182\tvalid_1's l2: 5.07071\n",
      "[28]\ttraining's rmse: 2.69821\ttraining's l2: 7.28035\tvalid_1's rmse: 2.23805\tvalid_1's l2: 5.00886\n",
      "[29]\ttraining's rmse: 2.68353\ttraining's l2: 7.20133\tvalid_1's rmse: 2.22574\tvalid_1's l2: 4.95393\n",
      "[30]\ttraining's rmse: 2.66939\ttraining's l2: 7.12562\tvalid_1's rmse: 2.21486\tvalid_1's l2: 4.90561\n",
      "[31]\ttraining's rmse: 2.65726\ttraining's l2: 7.06104\tvalid_1's rmse: 2.20424\tvalid_1's l2: 4.85869\n",
      "[32]\ttraining's rmse: 2.64603\ttraining's l2: 7.00147\tvalid_1's rmse: 2.19453\tvalid_1's l2: 4.81598\n",
      "[33]\ttraining's rmse: 2.63545\ttraining's l2: 6.94558\tvalid_1's rmse: 2.18609\tvalid_1's l2: 4.77899\n",
      "[34]\ttraining's rmse: 2.62599\ttraining's l2: 6.8958\tvalid_1's rmse: 2.17827\tvalid_1's l2: 4.74486\n",
      "[35]\ttraining's rmse: 2.61679\ttraining's l2: 6.84759\tvalid_1's rmse: 2.17104\tvalid_1's l2: 4.71343\n",
      "[36]\ttraining's rmse: 2.60856\ttraining's l2: 6.80458\tvalid_1's rmse: 2.16399\tvalid_1's l2: 4.68287\n",
      "[37]\ttraining's rmse: 2.60073\ttraining's l2: 6.76378\tvalid_1's rmse: 2.15813\tvalid_1's l2: 4.65752\n",
      "[38]\ttraining's rmse: 2.59383\ttraining's l2: 6.72795\tvalid_1's rmse: 2.15235\tvalid_1's l2: 4.63261\n",
      "[39]\ttraining's rmse: 2.58628\ttraining's l2: 6.68884\tvalid_1's rmse: 2.14737\tvalid_1's l2: 4.6112\n",
      "[40]\ttraining's rmse: 2.57943\ttraining's l2: 6.65348\tvalid_1's rmse: 2.14284\tvalid_1's l2: 4.59175\n",
      "[41]\ttraining's rmse: 2.57352\ttraining's l2: 6.62299\tvalid_1's rmse: 2.13843\tvalid_1's l2: 4.57289\n",
      "[42]\ttraining's rmse: 2.56812\ttraining's l2: 6.59524\tvalid_1's rmse: 2.13452\tvalid_1's l2: 4.55616\n",
      "[43]\ttraining's rmse: 2.56307\ttraining's l2: 6.56935\tvalid_1's rmse: 2.13103\tvalid_1's l2: 4.54131\n",
      "[44]\ttraining's rmse: 2.55845\ttraining's l2: 6.54567\tvalid_1's rmse: 2.12749\tvalid_1's l2: 4.5262\n",
      "[45]\ttraining's rmse: 2.55411\ttraining's l2: 6.52347\tvalid_1's rmse: 2.12437\tvalid_1's l2: 4.51295\n",
      "[46]\ttraining's rmse: 2.55013\ttraining's l2: 6.50316\tvalid_1's rmse: 2.12139\tvalid_1's l2: 4.50028\n",
      "[47]\ttraining's rmse: 2.54605\ttraining's l2: 6.4824\tvalid_1's rmse: 2.11853\tvalid_1's l2: 4.48818\n",
      "[48]\ttraining's rmse: 2.54139\ttraining's l2: 6.45868\tvalid_1's rmse: 2.11618\tvalid_1's l2: 4.47822\n",
      "[49]\ttraining's rmse: 2.53788\ttraining's l2: 6.44084\tvalid_1's rmse: 2.1137\tvalid_1's l2: 4.46772\n",
      "[50]\ttraining's rmse: 2.53419\ttraining's l2: 6.4221\tvalid_1's rmse: 2.11128\tvalid_1's l2: 4.45752\n",
      "[51]\ttraining's rmse: 2.53116\ttraining's l2: 6.40675\tvalid_1's rmse: 2.10929\tvalid_1's l2: 4.44908\n",
      "[52]\ttraining's rmse: 2.52809\ttraining's l2: 6.39125\tvalid_1's rmse: 2.10717\tvalid_1's l2: 4.44017\n",
      "[53]\ttraining's rmse: 2.52541\ttraining's l2: 6.37772\tvalid_1's rmse: 2.10529\tvalid_1's l2: 4.43223\n",
      "[54]\ttraining's rmse: 2.52269\ttraining's l2: 6.36399\tvalid_1's rmse: 2.10361\tvalid_1's l2: 4.42518\n",
      "[55]\ttraining's rmse: 2.52007\ttraining's l2: 6.35074\tvalid_1's rmse: 2.10148\tvalid_1's l2: 4.41622\n",
      "[56]\ttraining's rmse: 2.51666\ttraining's l2: 6.33359\tvalid_1's rmse: 2.10112\tvalid_1's l2: 4.41472\n",
      "[57]\ttraining's rmse: 2.51426\ttraining's l2: 6.32151\tvalid_1's rmse: 2.09937\tvalid_1's l2: 4.40737\n",
      "[58]\ttraining's rmse: 2.51196\ttraining's l2: 6.30995\tvalid_1's rmse: 2.09836\tvalid_1's l2: 4.40311\n",
      "[59]\ttraining's rmse: 2.50979\ttraining's l2: 6.29905\tvalid_1's rmse: 2.09659\tvalid_1's l2: 4.39567\n",
      "[60]\ttraining's rmse: 2.50786\ttraining's l2: 6.28937\tvalid_1's rmse: 2.09513\tvalid_1's l2: 4.38959\n",
      "[61]\ttraining's rmse: 2.50561\ttraining's l2: 6.27807\tvalid_1's rmse: 2.09453\tvalid_1's l2: 4.38706\n",
      "[62]\ttraining's rmse: 2.50312\ttraining's l2: 6.26559\tvalid_1's rmse: 2.09438\tvalid_1's l2: 4.38642\n",
      "[63]\ttraining's rmse: 2.50131\ttraining's l2: 6.25654\tvalid_1's rmse: 2.09345\tvalid_1's l2: 4.38255\n",
      "[64]\ttraining's rmse: 2.49963\ttraining's l2: 6.24815\tvalid_1's rmse: 2.09247\tvalid_1's l2: 4.37842\n",
      "[65]\ttraining's rmse: 2.49784\ttraining's l2: 6.23922\tvalid_1's rmse: 2.0918\tvalid_1's l2: 4.37564\n",
      "[66]\ttraining's rmse: 2.49648\ttraining's l2: 6.23241\tvalid_1's rmse: 2.09091\tvalid_1's l2: 4.37189\n",
      "[67]\ttraining's rmse: 2.49469\ttraining's l2: 6.22349\tvalid_1's rmse: 2.08985\tvalid_1's l2: 4.36749\n",
      "[68]\ttraining's rmse: 2.49305\ttraining's l2: 6.21531\tvalid_1's rmse: 2.08897\tvalid_1's l2: 4.3638\n",
      "[69]\ttraining's rmse: 2.49093\ttraining's l2: 6.20473\tvalid_1's rmse: 2.08847\tvalid_1's l2: 4.36169\n",
      "[70]\ttraining's rmse: 2.48942\ttraining's l2: 6.19719\tvalid_1's rmse: 2.08798\tvalid_1's l2: 4.35967\n",
      "[71]\ttraining's rmse: 2.48749\ttraining's l2: 6.18761\tvalid_1's rmse: 2.08757\tvalid_1's l2: 4.35793\n",
      "[72]\ttraining's rmse: 2.48601\ttraining's l2: 6.18027\tvalid_1's rmse: 2.0876\tvalid_1's l2: 4.35806\n",
      "[73]\ttraining's rmse: 2.48449\ttraining's l2: 6.17269\tvalid_1's rmse: 2.08678\tvalid_1's l2: 4.35465\n",
      "[74]\ttraining's rmse: 2.48268\ttraining's l2: 6.16372\tvalid_1's rmse: 2.08633\tvalid_1's l2: 4.35276\n",
      "[75]\ttraining's rmse: 2.48112\ttraining's l2: 6.15594\tvalid_1's rmse: 2.08583\tvalid_1's l2: 4.35069\n",
      "[76]\ttraining's rmse: 2.47977\ttraining's l2: 6.14924\tvalid_1's rmse: 2.08549\tvalid_1's l2: 4.34927\n",
      "[77]\ttraining's rmse: 2.47848\ttraining's l2: 6.14284\tvalid_1's rmse: 2.085\tvalid_1's l2: 4.34723\n",
      "[78]\ttraining's rmse: 2.47698\ttraining's l2: 6.13542\tvalid_1's rmse: 2.08444\tvalid_1's l2: 4.34491\n",
      "[79]\ttraining's rmse: 2.47548\ttraining's l2: 6.12799\tvalid_1's rmse: 2.08358\tvalid_1's l2: 4.34131\n",
      "[80]\ttraining's rmse: 2.4744\ttraining's l2: 6.12264\tvalid_1's rmse: 2.08299\tvalid_1's l2: 4.33884\n",
      "[81]\ttraining's rmse: 2.47304\ttraining's l2: 6.11593\tvalid_1's rmse: 2.08252\tvalid_1's l2: 4.33687\n",
      "[82]\ttraining's rmse: 2.47197\ttraining's l2: 6.11063\tvalid_1's rmse: 2.08203\tvalid_1's l2: 4.33485\n",
      "[83]\ttraining's rmse: 2.47089\ttraining's l2: 6.10531\tvalid_1's rmse: 2.08187\tvalid_1's l2: 4.33418\n"
     ]
    },
    {
     "name": "stdout",
     "output_type": "stream",
     "text": [
      "[84]\ttraining's rmse: 2.46948\ttraining's l2: 6.09835\tvalid_1's rmse: 2.08231\tvalid_1's l2: 4.336\n",
      "[85]\ttraining's rmse: 2.46804\ttraining's l2: 6.09123\tvalid_1's rmse: 2.08281\tvalid_1's l2: 4.33811\n",
      "[86]\ttraining's rmse: 2.46655\ttraining's l2: 6.08387\tvalid_1's rmse: 2.08217\tvalid_1's l2: 4.33545\n",
      "[87]\ttraining's rmse: 2.46531\ttraining's l2: 6.07773\tvalid_1's rmse: 2.08235\tvalid_1's l2: 4.33618\n",
      "[88]\ttraining's rmse: 2.46431\ttraining's l2: 6.07284\tvalid_1's rmse: 2.08176\tvalid_1's l2: 4.33371\n",
      "[89]\ttraining's rmse: 2.46317\ttraining's l2: 6.06721\tvalid_1's rmse: 2.08149\tvalid_1's l2: 4.33261\n",
      "[90]\ttraining's rmse: 2.46224\ttraining's l2: 6.06264\tvalid_1's rmse: 2.08122\tvalid_1's l2: 4.33146\n",
      "[91]\ttraining's rmse: 2.46131\ttraining's l2: 6.05804\tvalid_1's rmse: 2.08094\tvalid_1's l2: 4.33032\n",
      "[92]\ttraining's rmse: 2.4603\ttraining's l2: 6.05308\tvalid_1's rmse: 2.08071\tvalid_1's l2: 4.32937\n",
      "[93]\ttraining's rmse: 2.45946\ttraining's l2: 6.04896\tvalid_1's rmse: 2.08057\tvalid_1's l2: 4.32878\n",
      "[94]\ttraining's rmse: 2.45851\ttraining's l2: 6.04426\tvalid_1's rmse: 2.08017\tvalid_1's l2: 4.32713\n",
      "[95]\ttraining's rmse: 2.45684\ttraining's l2: 6.03607\tvalid_1's rmse: 2.08038\tvalid_1's l2: 4.32798\n",
      "[96]\ttraining's rmse: 2.45608\ttraining's l2: 6.03233\tvalid_1's rmse: 2.0799\tvalid_1's l2: 4.32598\n",
      "[97]\ttraining's rmse: 2.45549\ttraining's l2: 6.02943\tvalid_1's rmse: 2.07971\tvalid_1's l2: 4.3252\n",
      "[98]\ttraining's rmse: 2.45456\ttraining's l2: 6.02487\tvalid_1's rmse: 2.07954\tvalid_1's l2: 4.3245\n",
      "[99]\ttraining's rmse: 2.45356\ttraining's l2: 6.01995\tvalid_1's rmse: 2.07907\tvalid_1's l2: 4.32253\n",
      "[100]\ttraining's rmse: 2.45238\ttraining's l2: 6.01416\tvalid_1's rmse: 2.07868\tvalid_1's l2: 4.32092\n",
      "[101]\ttraining's rmse: 2.45159\ttraining's l2: 6.01028\tvalid_1's rmse: 2.07819\tvalid_1's l2: 4.31888\n",
      "[102]\ttraining's rmse: 2.45064\ttraining's l2: 6.00564\tvalid_1's rmse: 2.07806\tvalid_1's l2: 4.31831\n",
      "[103]\ttraining's rmse: 2.4498\ttraining's l2: 6.00154\tvalid_1's rmse: 2.07761\tvalid_1's l2: 4.31646\n",
      "[104]\ttraining's rmse: 2.44906\ttraining's l2: 5.99791\tvalid_1's rmse: 2.07731\tvalid_1's l2: 4.31523\n",
      "[105]\ttraining's rmse: 2.44821\ttraining's l2: 5.99375\tvalid_1's rmse: 2.07695\tvalid_1's l2: 4.31372\n",
      "[106]\ttraining's rmse: 2.4472\ttraining's l2: 5.98881\tvalid_1's rmse: 2.07708\tvalid_1's l2: 4.31426\n",
      "[107]\ttraining's rmse: 2.4465\ttraining's l2: 5.98536\tvalid_1's rmse: 2.07693\tvalid_1's l2: 4.31363\n",
      "[108]\ttraining's rmse: 2.44581\ttraining's l2: 5.98198\tvalid_1's rmse: 2.07652\tvalid_1's l2: 4.31192\n",
      "[109]\ttraining's rmse: 2.445\ttraining's l2: 5.97801\tvalid_1's rmse: 2.07596\tvalid_1's l2: 4.30963\n",
      "[110]\ttraining's rmse: 2.44417\ttraining's l2: 5.97397\tvalid_1's rmse: 2.07577\tvalid_1's l2: 4.30883\n",
      "[111]\ttraining's rmse: 2.44357\ttraining's l2: 5.97104\tvalid_1's rmse: 2.07536\tvalid_1's l2: 4.30714\n",
      "[112]\ttraining's rmse: 2.44279\ttraining's l2: 5.96723\tvalid_1's rmse: 2.07496\tvalid_1's l2: 4.30546\n",
      "[113]\ttraining's rmse: 2.44218\ttraining's l2: 5.96425\tvalid_1's rmse: 2.07505\tvalid_1's l2: 4.30582\n",
      "[114]\ttraining's rmse: 2.44138\ttraining's l2: 5.96035\tvalid_1's rmse: 2.07478\tvalid_1's l2: 4.30473\n",
      "[115]\ttraining's rmse: 2.44077\ttraining's l2: 5.95735\tvalid_1's rmse: 2.07442\tvalid_1's l2: 4.30321\n",
      "[116]\ttraining's rmse: 2.44021\ttraining's l2: 5.95462\tvalid_1's rmse: 2.07408\tvalid_1's l2: 4.30181\n",
      "[117]\ttraining's rmse: 2.4396\ttraining's l2: 5.95163\tvalid_1's rmse: 2.07385\tvalid_1's l2: 4.30085\n",
      "[118]\ttraining's rmse: 2.43892\ttraining's l2: 5.94833\tvalid_1's rmse: 2.07345\tvalid_1's l2: 4.29918\n",
      "[119]\ttraining's rmse: 2.43831\ttraining's l2: 5.94538\tvalid_1's rmse: 2.07333\tvalid_1's l2: 4.2987\n",
      "[120]\ttraining's rmse: 2.43762\ttraining's l2: 5.94198\tvalid_1's rmse: 2.07278\tvalid_1's l2: 4.29644\n",
      "[121]\ttraining's rmse: 2.43701\ttraining's l2: 5.93903\tvalid_1's rmse: 2.07245\tvalid_1's l2: 4.29505\n",
      "[122]\ttraining's rmse: 2.4364\ttraining's l2: 5.93605\tvalid_1's rmse: 2.07243\tvalid_1's l2: 4.29497\n",
      "[123]\ttraining's rmse: 2.43573\ttraining's l2: 5.9328\tvalid_1's rmse: 2.07245\tvalid_1's l2: 4.29506\n",
      "[124]\ttraining's rmse: 2.43437\ttraining's l2: 5.92615\tvalid_1's rmse: 2.0724\tvalid_1's l2: 4.29486\n",
      "[125]\ttraining's rmse: 2.43345\ttraining's l2: 5.92166\tvalid_1's rmse: 2.0724\tvalid_1's l2: 4.29482\n",
      "[126]\ttraining's rmse: 2.43236\ttraining's l2: 5.91639\tvalid_1's rmse: 2.07235\tvalid_1's l2: 4.29463\n",
      "[127]\ttraining's rmse: 2.43167\ttraining's l2: 5.91303\tvalid_1's rmse: 2.07201\tvalid_1's l2: 4.29322\n",
      "[128]\ttraining's rmse: 2.43111\ttraining's l2: 5.91029\tvalid_1's rmse: 2.07167\tvalid_1's l2: 4.29183\n",
      "[129]\ttraining's rmse: 2.43029\ttraining's l2: 5.9063\tvalid_1's rmse: 2.07172\tvalid_1's l2: 4.29202\n",
      "[130]\ttraining's rmse: 2.42963\ttraining's l2: 5.90311\tvalid_1's rmse: 2.07198\tvalid_1's l2: 4.2931\n",
      "[131]\ttraining's rmse: 2.42891\ttraining's l2: 5.89958\tvalid_1's rmse: 2.07282\tvalid_1's l2: 4.29659\n",
      "[132]\ttraining's rmse: 2.42822\ttraining's l2: 5.89624\tvalid_1's rmse: 2.07277\tvalid_1's l2: 4.2964\n",
      "[133]\ttraining's rmse: 2.42752\ttraining's l2: 5.89287\tvalid_1's rmse: 2.0726\tvalid_1's l2: 4.29565\n",
      "[134]\ttraining's rmse: 2.42649\ttraining's l2: 5.88783\tvalid_1's rmse: 2.07329\tvalid_1's l2: 4.29852\n",
      "[135]\ttraining's rmse: 2.42602\ttraining's l2: 5.88558\tvalid_1's rmse: 2.07324\tvalid_1's l2: 4.29832\n",
      "[136]\ttraining's rmse: 2.42552\ttraining's l2: 5.88317\tvalid_1's rmse: 2.07323\tvalid_1's l2: 4.29828\n",
      "[137]\ttraining's rmse: 2.42501\ttraining's l2: 5.88068\tvalid_1's rmse: 2.0731\tvalid_1's l2: 4.29775\n",
      "[138]\ttraining's rmse: 2.4245\ttraining's l2: 5.8782\tvalid_1's rmse: 2.07271\tvalid_1's l2: 4.29614\n",
      "[139]\ttraining's rmse: 2.42376\ttraining's l2: 5.87462\tvalid_1's rmse: 2.0739\tvalid_1's l2: 4.30107\n",
      "[140]\ttraining's rmse: 2.42332\ttraining's l2: 5.87246\tvalid_1's rmse: 2.07377\tvalid_1's l2: 4.30052\n",
      "[141]\ttraining's rmse: 2.42275\ttraining's l2: 5.86974\tvalid_1's rmse: 2.0737\tvalid_1's l2: 4.30024\n",
      "[142]\ttraining's rmse: 2.42193\ttraining's l2: 5.86577\tvalid_1's rmse: 2.07361\tvalid_1's l2: 4.29986\n",
      "[143]\ttraining's rmse: 2.42147\ttraining's l2: 5.86353\tvalid_1's rmse: 2.07347\tvalid_1's l2: 4.29927\n",
      "[144]\ttraining's rmse: 2.42099\ttraining's l2: 5.8612\tvalid_1's rmse: 2.07306\tvalid_1's l2: 4.29756\n",
      "[145]\ttraining's rmse: 2.42062\ttraining's l2: 5.85938\tvalid_1's rmse: 2.07294\tvalid_1's l2: 4.29709\n",
      "[146]\ttraining's rmse: 2.41998\ttraining's l2: 5.85629\tvalid_1's rmse: 2.07283\tvalid_1's l2: 4.29664\n",
      "[147]\ttraining's rmse: 2.41921\ttraining's l2: 5.85258\tvalid_1's rmse: 2.07252\tvalid_1's l2: 4.29534\n",
      "[148]\ttraining's rmse: 2.41879\ttraining's l2: 5.85053\tvalid_1's rmse: 2.07256\tvalid_1's l2: 4.2955\n",
      "[149]\ttraining's rmse: 2.41823\ttraining's l2: 5.84785\tvalid_1's rmse: 2.07248\tvalid_1's l2: 4.29516\n",
      "[150]\ttraining's rmse: 2.41774\ttraining's l2: 5.84547\tvalid_1's rmse: 2.0722\tvalid_1's l2: 4.29401\n",
      "[151]\ttraining's rmse: 2.41722\ttraining's l2: 5.84295\tvalid_1's rmse: 2.07169\tvalid_1's l2: 4.29191\n",
      "[152]\ttraining's rmse: 2.41658\ttraining's l2: 5.83986\tvalid_1's rmse: 2.07234\tvalid_1's l2: 4.29458\n",
      "[153]\ttraining's rmse: 2.41619\ttraining's l2: 5.838\tvalid_1's rmse: 2.07208\tvalid_1's l2: 4.29353\n",
      "[154]\ttraining's rmse: 2.41551\ttraining's l2: 5.83471\tvalid_1's rmse: 2.07209\tvalid_1's l2: 4.29358\n",
      "[155]\ttraining's rmse: 2.41479\ttraining's l2: 5.83121\tvalid_1's rmse: 2.07225\tvalid_1's l2: 4.2942\n",
      "[156]\ttraining's rmse: 2.41418\ttraining's l2: 5.82826\tvalid_1's rmse: 2.07239\tvalid_1's l2: 4.29481\n",
      "[157]\ttraining's rmse: 2.41365\ttraining's l2: 5.82571\tvalid_1's rmse: 2.07235\tvalid_1's l2: 4.29465\n",
      "[158]\ttraining's rmse: 2.41281\ttraining's l2: 5.82163\tvalid_1's rmse: 2.07231\tvalid_1's l2: 4.29446\n",
      "[159]\ttraining's rmse: 2.4124\ttraining's l2: 5.81969\tvalid_1's rmse: 2.072\tvalid_1's l2: 4.2932\n",
      "[160]\ttraining's rmse: 2.41198\ttraining's l2: 5.81767\tvalid_1's rmse: 2.07207\tvalid_1's l2: 4.29349\n",
      "[161]\ttraining's rmse: 2.4114\ttraining's l2: 5.81486\tvalid_1's rmse: 2.0717\tvalid_1's l2: 4.29194\n",
      "[162]\ttraining's rmse: 2.41084\ttraining's l2: 5.81213\tvalid_1's rmse: 2.07284\tvalid_1's l2: 4.29666\n",
      "[163]\ttraining's rmse: 2.4104\ttraining's l2: 5.81001\tvalid_1's rmse: 2.0728\tvalid_1's l2: 4.29652\n",
      "[164]\ttraining's rmse: 2.40995\ttraining's l2: 5.80784\tvalid_1's rmse: 2.07273\tvalid_1's l2: 4.29622\n",
      "[165]\ttraining's rmse: 2.40948\ttraining's l2: 5.80561\tvalid_1's rmse: 2.07268\tvalid_1's l2: 4.29602\n",
      "[166]\ttraining's rmse: 2.40876\ttraining's l2: 5.8021\tvalid_1's rmse: 2.07269\tvalid_1's l2: 4.29604\n"
     ]
    },
    {
     "name": "stdout",
     "output_type": "stream",
     "text": [
      "[167]\ttraining's rmse: 2.40817\ttraining's l2: 5.79926\tvalid_1's rmse: 2.07274\tvalid_1's l2: 4.29626\n",
      "[168]\ttraining's rmse: 2.40768\ttraining's l2: 5.79694\tvalid_1's rmse: 2.07274\tvalid_1's l2: 4.29625\n",
      "[169]\ttraining's rmse: 2.40739\ttraining's l2: 5.79551\tvalid_1's rmse: 2.07268\tvalid_1's l2: 4.29601\n",
      "[170]\ttraining's rmse: 2.40692\ttraining's l2: 5.79325\tvalid_1's rmse: 2.07266\tvalid_1's l2: 4.29591\n",
      "[171]\ttraining's rmse: 2.4064\ttraining's l2: 5.79076\tvalid_1's rmse: 2.07231\tvalid_1's l2: 4.29448\n",
      "[172]\ttraining's rmse: 2.40594\ttraining's l2: 5.78854\tvalid_1's rmse: 2.07269\tvalid_1's l2: 4.29606\n",
      "[173]\ttraining's rmse: 2.40547\ttraining's l2: 5.78627\tvalid_1's rmse: 2.07356\tvalid_1's l2: 4.29963\n",
      "[174]\ttraining's rmse: 2.40503\ttraining's l2: 5.78417\tvalid_1's rmse: 2.07352\tvalid_1's l2: 4.29949\n",
      "[175]\ttraining's rmse: 2.4047\ttraining's l2: 5.78259\tvalid_1's rmse: 2.0735\tvalid_1's l2: 4.29942\n",
      "[176]\ttraining's rmse: 2.40414\ttraining's l2: 5.7799\tvalid_1's rmse: 2.07353\tvalid_1's l2: 4.29954\n",
      "[177]\ttraining's rmse: 2.40376\ttraining's l2: 5.77808\tvalid_1's rmse: 2.07343\tvalid_1's l2: 4.29913\n",
      "[178]\ttraining's rmse: 2.40334\ttraining's l2: 5.77605\tvalid_1's rmse: 2.07341\tvalid_1's l2: 4.29902\n",
      "[179]\ttraining's rmse: 2.40289\ttraining's l2: 5.77387\tvalid_1's rmse: 2.07336\tvalid_1's l2: 4.29881\n",
      "[180]\ttraining's rmse: 2.40242\ttraining's l2: 5.77164\tvalid_1's rmse: 2.07308\tvalid_1's l2: 4.29766\n",
      "[181]\ttraining's rmse: 2.40193\ttraining's l2: 5.76928\tvalid_1's rmse: 2.07312\tvalid_1's l2: 4.29783\n",
      "[182]\ttraining's rmse: 2.40167\ttraining's l2: 5.76803\tvalid_1's rmse: 2.07308\tvalid_1's l2: 4.29764\n",
      "[183]\ttraining's rmse: 2.40116\ttraining's l2: 5.76557\tvalid_1's rmse: 2.07327\tvalid_1's l2: 4.29844\n",
      "[184]\ttraining's rmse: 2.40087\ttraining's l2: 5.76415\tvalid_1's rmse: 2.07312\tvalid_1's l2: 4.29782\n",
      "[185]\ttraining's rmse: 2.40055\ttraining's l2: 5.76265\tvalid_1's rmse: 2.07303\tvalid_1's l2: 4.29743\n",
      "[186]\ttraining's rmse: 2.40022\ttraining's l2: 5.76104\tvalid_1's rmse: 2.07297\tvalid_1's l2: 4.29721\n",
      "[187]\ttraining's rmse: 2.39986\ttraining's l2: 5.75934\tvalid_1's rmse: 2.07294\tvalid_1's l2: 4.2971\n",
      "[188]\ttraining's rmse: 2.39952\ttraining's l2: 5.75769\tvalid_1's rmse: 2.07299\tvalid_1's l2: 4.2973\n",
      "[189]\ttraining's rmse: 2.39923\ttraining's l2: 5.75629\tvalid_1's rmse: 2.07267\tvalid_1's l2: 4.29597\n",
      "[190]\ttraining's rmse: 2.39885\ttraining's l2: 5.7545\tvalid_1's rmse: 2.07269\tvalid_1's l2: 4.29602\n",
      "[191]\ttraining's rmse: 2.39842\ttraining's l2: 5.7524\tvalid_1's rmse: 2.07248\tvalid_1's l2: 4.29517\n",
      "[192]\ttraining's rmse: 2.39816\ttraining's l2: 5.75116\tvalid_1's rmse: 2.07235\tvalid_1's l2: 4.29462\n",
      "[193]\ttraining's rmse: 2.39782\ttraining's l2: 5.74956\tvalid_1's rmse: 2.07241\tvalid_1's l2: 4.29487\n",
      "[194]\ttraining's rmse: 2.3974\ttraining's l2: 5.74751\tvalid_1's rmse: 2.07212\tvalid_1's l2: 4.29366\n",
      "[195]\ttraining's rmse: 2.39708\ttraining's l2: 5.74597\tvalid_1's rmse: 2.07209\tvalid_1's l2: 4.29354\n",
      "[196]\ttraining's rmse: 2.39666\ttraining's l2: 5.74396\tvalid_1's rmse: 2.07216\tvalid_1's l2: 4.29386\n",
      "[197]\ttraining's rmse: 2.3963\ttraining's l2: 5.74227\tvalid_1's rmse: 2.07216\tvalid_1's l2: 4.29386\n",
      "[198]\ttraining's rmse: 2.39603\ttraining's l2: 5.74096\tvalid_1's rmse: 2.07221\tvalid_1's l2: 4.29406\n",
      "[199]\ttraining's rmse: 2.39564\ttraining's l2: 5.73907\tvalid_1's rmse: 2.07228\tvalid_1's l2: 4.29436\n",
      "[200]\ttraining's rmse: 2.39535\ttraining's l2: 5.73768\tvalid_1's rmse: 2.07227\tvalid_1's l2: 4.29429\n",
      "[201]\ttraining's rmse: 2.3949\ttraining's l2: 5.73557\tvalid_1's rmse: 2.07211\tvalid_1's l2: 4.29366\n",
      "[202]\ttraining's rmse: 2.39462\ttraining's l2: 5.73419\tvalid_1's rmse: 2.07205\tvalid_1's l2: 4.29337\n",
      "[203]\ttraining's rmse: 2.39431\ttraining's l2: 5.73272\tvalid_1's rmse: 2.07201\tvalid_1's l2: 4.29324\n",
      "[204]\ttraining's rmse: 2.39381\ttraining's l2: 5.73034\tvalid_1's rmse: 2.07201\tvalid_1's l2: 4.29324\n",
      "[205]\ttraining's rmse: 2.39347\ttraining's l2: 5.72872\tvalid_1's rmse: 2.07203\tvalid_1's l2: 4.2933\n",
      "[206]\ttraining's rmse: 2.39322\ttraining's l2: 5.7275\tvalid_1's rmse: 2.07201\tvalid_1's l2: 4.29322\n",
      "[207]\ttraining's rmse: 2.39283\ttraining's l2: 5.72562\tvalid_1's rmse: 2.07236\tvalid_1's l2: 4.29467\n",
      "[208]\ttraining's rmse: 2.39237\ttraining's l2: 5.72342\tvalid_1's rmse: 2.07292\tvalid_1's l2: 4.297\n",
      "[209]\ttraining's rmse: 2.392\ttraining's l2: 5.72168\tvalid_1's rmse: 2.07292\tvalid_1's l2: 4.297\n",
      "[210]\ttraining's rmse: 2.39169\ttraining's l2: 5.72018\tvalid_1's rmse: 2.07286\tvalid_1's l2: 4.29673\n",
      "[211]\ttraining's rmse: 2.39133\ttraining's l2: 5.71845\tvalid_1's rmse: 2.07279\tvalid_1's l2: 4.29648\n",
      "[212]\ttraining's rmse: 2.39112\ttraining's l2: 5.71744\tvalid_1's rmse: 2.07289\tvalid_1's l2: 4.29686\n",
      "[213]\ttraining's rmse: 2.39081\ttraining's l2: 5.71599\tvalid_1's rmse: 2.07299\tvalid_1's l2: 4.29727\n",
      "[214]\ttraining's rmse: 2.3904\ttraining's l2: 5.71399\tvalid_1's rmse: 2.07287\tvalid_1's l2: 4.29679\n",
      "[215]\ttraining's rmse: 2.39002\ttraining's l2: 5.71221\tvalid_1's rmse: 2.07269\tvalid_1's l2: 4.29605\n",
      "[216]\ttraining's rmse: 2.38974\ttraining's l2: 5.71084\tvalid_1's rmse: 2.07244\tvalid_1's l2: 4.29501\n",
      "[217]\ttraining's rmse: 2.38949\ttraining's l2: 5.70967\tvalid_1's rmse: 2.07241\tvalid_1's l2: 4.2949\n",
      "[218]\ttraining's rmse: 2.38925\ttraining's l2: 5.70852\tvalid_1's rmse: 2.07239\tvalid_1's l2: 4.29478\n",
      "[219]\ttraining's rmse: 2.38892\ttraining's l2: 5.70696\tvalid_1's rmse: 2.07237\tvalid_1's l2: 4.2947\n",
      "[220]\ttraining's rmse: 2.38869\ttraining's l2: 5.70585\tvalid_1's rmse: 2.07211\tvalid_1's l2: 4.29363\n",
      "[221]\ttraining's rmse: 2.38831\ttraining's l2: 5.704\tvalid_1's rmse: 2.07219\tvalid_1's l2: 4.29396\n",
      "[222]\ttraining's rmse: 2.38803\ttraining's l2: 5.70267\tvalid_1's rmse: 2.072\tvalid_1's l2: 4.29316\n",
      "[223]\ttraining's rmse: 2.38778\ttraining's l2: 5.70151\tvalid_1's rmse: 2.07202\tvalid_1's l2: 4.29327\n",
      "[224]\ttraining's rmse: 2.38741\ttraining's l2: 5.69974\tvalid_1's rmse: 2.07202\tvalid_1's l2: 4.29327\n",
      "[225]\ttraining's rmse: 2.38702\ttraining's l2: 5.69788\tvalid_1's rmse: 2.07268\tvalid_1's l2: 4.29602\n",
      "[226]\ttraining's rmse: 2.38672\ttraining's l2: 5.69643\tvalid_1's rmse: 2.07235\tvalid_1's l2: 4.29465\n",
      "[227]\ttraining's rmse: 2.38644\ttraining's l2: 5.6951\tvalid_1's rmse: 2.07218\tvalid_1's l2: 4.29394\n",
      "[228]\ttraining's rmse: 2.38612\ttraining's l2: 5.69356\tvalid_1's rmse: 2.07216\tvalid_1's l2: 4.29385\n",
      "Early stopping, best iteration is:\n",
      "[128]\ttraining's rmse: 2.43111\ttraining's l2: 5.91029\tvalid_1's rmse: 2.07167\tvalid_1's l2: 4.29183\n",
      "CPU times: user 3h 22min 25s, sys: 7min 38s, total: 3h 30min 4s\n",
      "Wall time: 26min 19s\n"
     ]
    },
    {
     "data": {
      "text/plain": [
       "LGBMRegressor(boosting_type='gbdt', class_weight=None, colsample_bytree=1.0,\n",
       "              importance_type='gain', learning_rate=0.05, max_depth=-1,\n",
       "              min_child_samples=20, min_child_weight=0.001, min_split_gain=0.0,\n",
       "              n_estimators=1000, n_jobs=-1, num_leaves=31, objective=None,\n",
       "              random_state=0, reg_alpha=0.0, reg_lambda=0.0, silent=True,\n",
       "              subsample=1.0, subsample_for_bin=200000, subsample_freq=0)"
      ]
     },
     "execution_count": 17,
     "metadata": {},
     "output_type": "execute_result"
    }
   ],
   "source": [
    "%%time\n",
    "model.fit(\n",
    "    X,\n",
    "    y,\n",
    "    categorical_feature=categorical_features,\n",
    "    early_stopping_rounds=100,\n",
    "    eval_metric=\"rmse\",\n",
    "    eval_set=[(X, y), (X_valid, y_valid)],\n",
    ")"
   ]
  },
  {
   "cell_type": "code",
   "execution_count": 18,
   "metadata": {},
   "outputs": [
    {
     "data": {
      "image/png": "[encoded data removed]",
      "text/plain": [
       "<Figure size 1152x648 with 1 Axes>"
      ]
     },
     "metadata": {
      "needs_background": "light"
     },
     "output_type": "display_data"
    }
   ],
   "source": [
    "ax = lgb.plot_metric(model, metric=\"rmse\", figsize=(16, 9))"
   ]
  },
  {
   "cell_type": "code",
   "execution_count": 19,
   "metadata": {
    "scrolled": false
   },
   "outputs": [
    {
     "data": {
      "image/png": "[encoded data removed]",
      "text/plain": [
       "<Figure size 1152x648 with 1 Axes>"
      ]
     },
     "metadata": {
      "needs_background": "light"
     },
     "output_type": "display_data"
    }
   ],
   "source": [
    "ax = lgb.plot_importance(model, figsize=(16, 9))"
   ]
  },
  {
   "cell_type": "code",
   "execution_count": 20,
   "metadata": {
    "scrolled": true
   },
   "outputs": [
    {
     "data": {
      "text/plain": [
       "['../models/model.joblib']"
      ]
     },
     "execution_count": 20,
     "metadata": {},
     "output_type": "execute_result"
    }
   ],
   "source": [
    "joblib.dump(model, model_path)"
   ]
  }
 ],
 "metadata": {
  "anaconda-cloud": {},
  "kernelspec": {
   "display_name": "Python 3",
   "language": "python",
   "name": "python3"
  },
  "language_info": {
   "codemirror_mode": {
    "name": "ipython",
    "version": 3
   },
   "file_extension": ".py",
   "mimetype": "text/x-python",
   "name": "python",
   "nbconvert_exporter": "python",
   "pygments_lexer": "ipython3",
   "version": "3.7.6"
  }
 },
 "nbformat": 4,
 "nbformat_minor": 2
}
