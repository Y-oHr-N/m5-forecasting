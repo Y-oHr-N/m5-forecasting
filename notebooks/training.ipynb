{
 "cells": [
  {
   "cell_type": "code",
   "execution_count": 1,
   "metadata": {},
   "outputs": [],
   "source": [
    "%matplotlib inline"
   ]
  },
  {
   "cell_type": "code",
   "execution_count": 2,
   "metadata": {},
   "outputs": [],
   "source": [
    "import gc\n",
    "import pathlib"
   ]
  },
  {
   "cell_type": "code",
   "execution_count": 3,
   "metadata": {},
   "outputs": [],
   "source": [
    "import joblib\n",
    "import lightgbm as lgb\n",
    "import pandas as pd"
   ]
  },
  {
   "cell_type": "code",
   "execution_count": 4,
   "metadata": {},
   "outputs": [],
   "source": [
    "root_dir_path = pathlib.Path(\"..\")\n",
    "data_dir_path = root_dir_path / \"data\"\n",
    "processed_dir_path = data_dir_path / \"processed\"\n",
    "train_path = processed_dir_path / \"train_filtered.parquet\"\n",
    "models_dir_path = root_dir_path / \"models\"\n",
    "model_path = models_dir_path / \"model.joblib\""
   ]
  },
  {
   "cell_type": "code",
   "execution_count": 5,
   "metadata": {},
   "outputs": [],
   "source": [
    "calendar_features = [\n",
    "    \"year\",\n",
    "    \"dayofyear\",\n",
    "    \"weekofyear\",\n",
    "    \"quarter\",\n",
    "    \"month\",\n",
    "    \"day\",\n",
    "    \"weekday\",\n",
    "    \"is_year_start\",\n",
    "    \"is_year_end\",\n",
    "    \"is_month_start\",\n",
    "    \"is_month_end\",\n",
    "]\n",
    "lag_features = [f\"demand_shift_{i}\" for i in range(28, 29)]\n",
    "categorical_features = [\n",
    "    \"store_id\",\n",
    "    \"item_id\",\n",
    "    \"dept_id\",\n",
    "    \"cat_id\",\n",
    "    \"state_id\",\n",
    "    \"event_name_1\",\n",
    "    \"event_type_1\",\n",
    "    \"event_name_2\",\n",
    "    \"event_type_2\",\n",
    "]\n",
    "numerical_features = [\n",
    "    \"snap_CA\",\n",
    "    \"snap_TX\",\n",
    "    \"snap_WI\",\n",
    "    \"sell_price\",\n",
    "] + calendar_features + lag_features\n",
    "features = categorical_features + numerical_features"
   ]
  },
  {
   "cell_type": "code",
   "execution_count": 6,
   "metadata": {},
   "outputs": [],
   "source": [
    "train = pd.read_parquet(train_path)"
   ]
  },
  {
   "cell_type": "code",
   "execution_count": 7,
   "metadata": {},
   "outputs": [],
   "source": [
    "is_train = train[\"date\"] <= \"2016-01-28\"\n",
    "train, valid = train[is_train], train[~is_train]"
   ]
  },
  {
   "cell_type": "code",
   "execution_count": 8,
   "metadata": {},
   "outputs": [],
   "source": [
    "del is_train"
   ]
  },
  {
   "cell_type": "code",
   "execution_count": 9,
   "metadata": {},
   "outputs": [
    {
     "data": {
      "text/plain": [
       "0"
      ]
     },
     "execution_count": 9,
     "metadata": {},
     "output_type": "execute_result"
    }
   ],
   "source": [
    "gc.collect()"
   ]
  },
  {
   "cell_type": "code",
   "execution_count": 10,
   "metadata": {
    "scrolled": true
   },
   "outputs": [
    {
     "data": {
      "text/plain": [
       "(43375450, 30)"
      ]
     },
     "execution_count": 10,
     "metadata": {},
     "output_type": "execute_result"
    }
   ],
   "source": [
    "train.shape"
   ]
  },
  {
   "cell_type": "code",
   "execution_count": 11,
   "metadata": {
    "scrolled": true
   },
   "outputs": [
    {
     "data": {
      "text/plain": [
       "(2652507, 30)"
      ]
     },
     "execution_count": 11,
     "metadata": {},
     "output_type": "execute_result"
    }
   ],
   "source": [
    "valid.shape"
   ]
  },
  {
   "cell_type": "code",
   "execution_count": 12,
   "metadata": {},
   "outputs": [],
   "source": [
    "X = train[features]\n",
    "X_valid = valid[features]\n",
    "y = train[\"demand\"]\n",
    "y_valid = valid[\"demand\"]"
   ]
  },
  {
   "cell_type": "code",
   "execution_count": 13,
   "metadata": {},
   "outputs": [],
   "source": [
    "del train\n",
    "del valid"
   ]
  },
  {
   "cell_type": "code",
   "execution_count": 14,
   "metadata": {},
   "outputs": [
    {
     "data": {
      "text/plain": [
       "0"
      ]
     },
     "execution_count": 14,
     "metadata": {},
     "output_type": "execute_result"
    }
   ],
   "source": [
    "gc.collect()"
   ]
  },
  {
   "cell_type": "code",
   "execution_count": 15,
   "metadata": {},
   "outputs": [],
   "source": [
    "model = lgb.LGBMRegressor(importance_type=\"gain\", random_state=0)"
   ]
  },
  {
   "cell_type": "code",
   "execution_count": 16,
   "metadata": {
    "scrolled": false
   },
   "outputs": [
    {
     "name": "stderr",
     "output_type": "stream",
     "text": [
      "C:\\Users\\Yu Ohori\\Anaconda3\\lib\\site-packages\\lightgbm\\basic.py:1295: UserWarning: categorical_feature in Dataset is overridden.\n",
      "New categorical_feature is ['cat_id', 'dept_id', 'event_name_1', 'event_name_2', 'event_type_1', 'event_type_2', 'item_id', 'state_id', 'store_id']\n",
      "  'New categorical_feature is {}'.format(sorted(list(categorical_feature))))\n"
     ]
    },
    {
     "name": "stdout",
     "output_type": "stream",
     "text": [
      "[1]\tvalid_0's l2: 12.0775\n",
      "Training until validation scores don't improve for 10 rounds\n",
      "[2]\tvalid_0's l2: 11.0185\n",
      "[3]\tvalid_0's l2: 10.1569\n",
      "[4]\tvalid_0's l2: 9.44273\n",
      "[5]\tvalid_0's l2: 8.88238\n",
      "[6]\tvalid_0's l2: 8.39826\n",
      "[7]\tvalid_0's l2: 8.00638\n",
      "[8]\tvalid_0's l2: 7.6832\n",
      "[9]\tvalid_0's l2: 7.42628\n",
      "[10]\tvalid_0's l2: 7.20609\n",
      "[11]\tvalid_0's l2: 7.03176\n",
      "[12]\tvalid_0's l2: 6.87704\n",
      "[13]\tvalid_0's l2: 6.73791\n",
      "[14]\tvalid_0's l2: 6.6317\n",
      "[15]\tvalid_0's l2: 6.54133\n",
      "[16]\tvalid_0's l2: 6.45991\n",
      "[17]\tvalid_0's l2: 6.41842\n",
      "[18]\tvalid_0's l2: 6.35431\n",
      "[19]\tvalid_0's l2: 6.28738\n",
      "[20]\tvalid_0's l2: 6.22319\n",
      "[21]\tvalid_0's l2: 6.17738\n",
      "[22]\tvalid_0's l2: 6.13671\n",
      "[23]\tvalid_0's l2: 6.10343\n",
      "[24]\tvalid_0's l2: 6.08042\n",
      "[25]\tvalid_0's l2: 6.06369\n",
      "[26]\tvalid_0's l2: 6.04484\n",
      "[27]\tvalid_0's l2: 6.02186\n",
      "[28]\tvalid_0's l2: 6.02133\n",
      "[29]\tvalid_0's l2: 6.00778\n",
      "[30]\tvalid_0's l2: 5.98006\n",
      "[31]\tvalid_0's l2: 5.96354\n",
      "[32]\tvalid_0's l2: 5.97643\n",
      "[33]\tvalid_0's l2: 5.96206\n",
      "[34]\tvalid_0's l2: 5.94809\n",
      "[35]\tvalid_0's l2: 5.9412\n",
      "[36]\tvalid_0's l2: 5.93631\n",
      "[37]\tvalid_0's l2: 5.92867\n",
      "[38]\tvalid_0's l2: 5.91901\n",
      "[39]\tvalid_0's l2: 5.91229\n",
      "[40]\tvalid_0's l2: 5.89926\n",
      "[41]\tvalid_0's l2: 5.89392\n",
      "[42]\tvalid_0's l2: 5.88658\n",
      "[43]\tvalid_0's l2: 5.87868\n",
      "[44]\tvalid_0's l2: 5.8656\n",
      "[45]\tvalid_0's l2: 5.86211\n",
      "[46]\tvalid_0's l2: 5.86083\n",
      "[47]\tvalid_0's l2: 5.85058\n",
      "[48]\tvalid_0's l2: 5.84373\n",
      "[49]\tvalid_0's l2: 5.85225\n",
      "[50]\tvalid_0's l2: 5.84666\n",
      "[51]\tvalid_0's l2: 5.8423\n",
      "[52]\tvalid_0's l2: 5.85658\n",
      "[53]\tvalid_0's l2: 5.85217\n",
      "[54]\tvalid_0's l2: 5.84501\n",
      "[55]\tvalid_0's l2: 5.84114\n",
      "[56]\tvalid_0's l2: 5.83621\n",
      "[57]\tvalid_0's l2: 5.83196\n",
      "[58]\tvalid_0's l2: 5.82776\n",
      "[59]\tvalid_0's l2: 5.82334\n",
      "[60]\tvalid_0's l2: 5.81917\n",
      "[61]\tvalid_0's l2: 5.8153\n",
      "[62]\tvalid_0's l2: 5.81532\n",
      "[63]\tvalid_0's l2: 5.81481\n",
      "[64]\tvalid_0's l2: 5.80726\n",
      "[65]\tvalid_0's l2: 5.80684\n",
      "[66]\tvalid_0's l2: 5.80252\n",
      "[67]\tvalid_0's l2: 5.79573\n",
      "[68]\tvalid_0's l2: 5.79373\n",
      "[69]\tvalid_0's l2: 5.78949\n",
      "[70]\tvalid_0's l2: 5.78644\n",
      "[71]\tvalid_0's l2: 5.78526\n",
      "[72]\tvalid_0's l2: 5.78029\n",
      "[73]\tvalid_0's l2: 5.78089\n",
      "[74]\tvalid_0's l2: 5.77711\n",
      "[75]\tvalid_0's l2: 5.78392\n",
      "[76]\tvalid_0's l2: 5.7825\n",
      "[77]\tvalid_0's l2: 5.78145\n",
      "[78]\tvalid_0's l2: 5.80343\n",
      "[79]\tvalid_0's l2: 5.79902\n",
      "[80]\tvalid_0's l2: 5.81155\n",
      "[81]\tvalid_0's l2: 5.80472\n",
      "[82]\tvalid_0's l2: 5.80893\n",
      "[83]\tvalid_0's l2: 5.80732\n",
      "[84]\tvalid_0's l2: 5.80588\n",
      "Early stopping, best iteration is:\n",
      "[74]\tvalid_0's l2: 5.77711\n"
     ]
    },
    {
     "data": {
      "text/plain": [
       "LGBMRegressor(boosting_type='gbdt', class_weight=None, colsample_bytree=1.0,\n",
       "              importance_type='gain', learning_rate=0.1, max_depth=-1,\n",
       "              min_child_samples=20, min_child_weight=0.001, min_split_gain=0.0,\n",
       "              n_estimators=100, n_jobs=-1, num_leaves=31, objective=None,\n",
       "              random_state=0, reg_alpha=0.0, reg_lambda=0.0, silent=True,\n",
       "              subsample=1.0, subsample_for_bin=200000, subsample_freq=0)"
      ]
     },
     "execution_count": 16,
     "metadata": {},
     "output_type": "execute_result"
    }
   ],
   "source": [
    "model.fit(X, y, categorical_feature=categorical_features, early_stopping_rounds=10, eval_set=[(X_valid, y_valid)])"
   ]
  },
  {
   "cell_type": "code",
   "execution_count": 17,
   "metadata": {
    "scrolled": false
   },
   "outputs": [
    {
     "data": {
      "image/png": "[encoded data removed]",
      "text/plain": [
       "<Figure size 1152x648 with 1 Axes>"
      ]
     },
     "metadata": {},
     "output_type": "display_data"
    }
   ],
   "source": [
    "ax = lgb.plot_importance(model, figsize=(16, 9))"
   ]
  },
  {
   "cell_type": "code",
   "execution_count": 18,
   "metadata": {
    "scrolled": true
   },
   "outputs": [
    {
     "data": {
      "text/plain": [
       "['..\\\\models\\\\model.joblib']"
      ]
     },
     "execution_count": 18,
     "metadata": {},
     "output_type": "execute_result"
    }
   ],
   "source": [
    "joblib.dump(model, model_path)"
   ]
  }
 ],
 "metadata": {
  "anaconda-cloud": {},
  "kernelspec": {
   "display_name": "Python [default]",
   "language": "python",
   "name": "python3"
  },
  "language_info": {
   "codemirror_mode": {
    "name": "ipython",
    "version": 3
   },
   "file_extension": ".py",
   "mimetype": "text/x-python",
   "name": "python",
   "nbconvert_exporter": "python",
   "pygments_lexer": "ipython3",
   "version": "3.6.5"
  }
 },
 "nbformat": 4,
 "nbformat_minor": 2
}
