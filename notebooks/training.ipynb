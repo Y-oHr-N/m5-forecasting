{
 "cells": [
  {
   "cell_type": "code",
   "execution_count": 1,
   "metadata": {},
   "outputs": [],
   "source": [
    "%matplotlib inline"
   ]
  },
  {
   "cell_type": "code",
   "execution_count": 2,
   "metadata": {},
   "outputs": [],
   "source": [
    "import gc\n",
    "import pathlib\n",
    "import sys"
   ]
  },
  {
   "cell_type": "code",
   "execution_count": 3,
   "metadata": {},
   "outputs": [],
   "source": [
    "import joblib\n",
    "import lightgbm as lgb\n",
    "import pandas as pd"
   ]
  },
  {
   "cell_type": "code",
   "execution_count": 4,
   "metadata": {},
   "outputs": [],
   "source": [
    "root_dir_path = pathlib.Path(\"..\")\n",
    "data_dir_path = root_dir_path / \"data\"\n",
    "processed_dir_path = data_dir_path / \"processed\"\n",
    "train_path = processed_dir_path / \"train_filtered.parquet\"\n",
    "models_dir_path = root_dir_path / \"models\"\n",
    "model_path = models_dir_path / \"model.joblib\"\n",
    "src_dir_path = root_dir_path / \"src\""
   ]
  },
  {
   "cell_type": "code",
   "execution_count": 5,
   "metadata": {},
   "outputs": [],
   "source": [
    "sys.path.append(str(src_dir_path))"
   ]
  },
  {
   "cell_type": "code",
   "execution_count": 6,
   "metadata": {},
   "outputs": [],
   "source": [
    "from constants import *"
   ]
  },
  {
   "cell_type": "code",
   "execution_count": 7,
   "metadata": {},
   "outputs": [],
   "source": [
    "train = pd.read_parquet(train_path)"
   ]
  },
  {
   "cell_type": "code",
   "execution_count": 8,
   "metadata": {},
   "outputs": [],
   "source": [
    "is_train = train[\"date\"] < \"2016-01-29\"\n",
    "is_valid = train[\"date\"] >= \"2016-01-29\"\n",
    "train, valid = train[is_train], train[is_valid]"
   ]
  },
  {
   "cell_type": "code",
   "execution_count": 9,
   "metadata": {},
   "outputs": [],
   "source": [
    "del is_train"
   ]
  },
  {
   "cell_type": "code",
   "execution_count": 10,
   "metadata": {},
   "outputs": [
    {
     "data": {
      "text/plain": [
       "60"
      ]
     },
     "execution_count": 10,
     "metadata": {},
     "output_type": "execute_result"
    }
   ],
   "source": [
    "gc.collect()"
   ]
  },
  {
   "cell_type": "code",
   "execution_count": 11,
   "metadata": {},
   "outputs": [],
   "source": [
    "X = train[features]\n",
    "X_valid = valid[features]\n",
    "y = train[\"demand\"]\n",
    "y_valid = valid[\"demand\"]"
   ]
  },
  {
   "cell_type": "code",
   "execution_count": 12,
   "metadata": {},
   "outputs": [],
   "source": [
    "del train\n",
    "del valid"
   ]
  },
  {
   "cell_type": "code",
   "execution_count": 13,
   "metadata": {},
   "outputs": [
    {
     "data": {
      "text/plain": [
       "60"
      ]
     },
     "execution_count": 13,
     "metadata": {},
     "output_type": "execute_result"
    }
   ],
   "source": [
    "gc.collect()"
   ]
  },
  {
   "cell_type": "code",
   "execution_count": 14,
   "metadata": {
    "scrolled": false
   },
   "outputs": [
    {
     "data": {
      "text/plain": [
       "(43375450, 28)"
      ]
     },
     "execution_count": 14,
     "metadata": {},
     "output_type": "execute_result"
    }
   ],
   "source": [
    "X.shape"
   ]
  },
  {
   "cell_type": "code",
   "execution_count": 15,
   "metadata": {
    "scrolled": true
   },
   "outputs": [
    {
     "data": {
      "text/plain": [
       "(2652507, 28)"
      ]
     },
     "execution_count": 15,
     "metadata": {},
     "output_type": "execute_result"
    }
   ],
   "source": [
    "X_valid.shape"
   ]
  },
  {
   "cell_type": "code",
   "execution_count": 16,
   "metadata": {},
   "outputs": [],
   "source": [
    "model = lgb.LGBMRegressor(importance_type=\"gain\", learning_rate=0.05, n_estimators=1_000, random_state=0)"
   ]
  },
  {
   "cell_type": "code",
   "execution_count": 17,
   "metadata": {
    "scrolled": false
   },
   "outputs": [
    {
     "name": "stderr",
     "output_type": "stream",
     "text": [
      "/opt/conda/lib/python3.7/site-packages/lightgbm/basic.py:1295: UserWarning: categorical_feature in Dataset is overridden.\n",
      "New categorical_feature is ['cat_id', 'dept_id', 'event_name_1', 'event_name_2', 'event_type_1', 'event_type_2', 'item_id', 'state_id', 'store_id']\n",
      "  'New categorical_feature is {}'.format(sorted(list(categorical_feature))))\n"
     ]
    },
    {
     "name": "stdout",
     "output_type": "stream",
     "text": [
      "[1]\ttraining's rmse: 4.20915\ttraining's l2: 17.7169\tvalid_1's rmse: 3.53879\tvalid_1's l2: 12.5231\n",
      "Training until validation scores don't improve for 100 rounds\n",
      "[2]\ttraining's rmse: 4.0805\ttraining's l2: 16.6505\tvalid_1's rmse: 3.42876\tvalid_1's l2: 11.7564\n",
      "[3]\ttraining's rmse: 3.9606\ttraining's l2: 15.6864\tvalid_1's rmse: 3.32688\tvalid_1's l2: 11.0681\n",
      "[4]\ttraining's rmse: 3.84897\ttraining's l2: 14.8146\tvalid_1's rmse: 3.23095\tvalid_1's l2: 10.439\n",
      "[5]\ttraining's rmse: 3.74513\ttraining's l2: 14.026\tvalid_1's rmse: 3.14225\tvalid_1's l2: 9.87376\n",
      "[6]\ttraining's rmse: 3.64889\ttraining's l2: 13.3144\tvalid_1's rmse: 3.06038\tvalid_1's l2: 9.36595\n",
      "[7]\ttraining's rmse: 3.55957\ttraining's l2: 12.6706\tvalid_1's rmse: 2.9837\tvalid_1's l2: 8.90248\n",
      "[8]\ttraining's rmse: 3.47683\ttraining's l2: 12.0883\tvalid_1's rmse: 2.91266\tvalid_1's l2: 8.48361\n",
      "[9]\ttraining's rmse: 3.40003\ttraining's l2: 11.5602\tvalid_1's rmse: 2.84599\tvalid_1's l2: 8.09965\n",
      "[10]\ttraining's rmse: 3.32932\ttraining's l2: 11.0844\tvalid_1's rmse: 2.78514\tvalid_1's l2: 7.757\n",
      "[11]\ttraining's rmse: 3.26416\ttraining's l2: 10.6548\tvalid_1's rmse: 2.72843\tvalid_1's l2: 7.44434\n",
      "[12]\ttraining's rmse: 3.20382\ttraining's l2: 10.2645\tvalid_1's rmse: 2.67672\tvalid_1's l2: 7.16483\n",
      "[13]\ttraining's rmse: 3.14812\ttraining's l2: 9.91064\tvalid_1's rmse: 2.62905\tvalid_1's l2: 6.91192\n",
      "[14]\ttraining's rmse: 3.09684\ttraining's l2: 9.5904\tvalid_1's rmse: 2.58471\tvalid_1's l2: 6.68073\n",
      "[15]\ttraining's rmse: 3.04961\ttraining's l2: 9.30012\tvalid_1's rmse: 2.5442\tvalid_1's l2: 6.47297\n",
      "[16]\ttraining's rmse: 3.00629\ttraining's l2: 9.03779\tvalid_1's rmse: 2.50664\tvalid_1's l2: 6.28324\n",
      "[17]\ttraining's rmse: 2.96644\ttraining's l2: 8.79976\tvalid_1's rmse: 2.47258\tvalid_1's l2: 6.11364\n",
      "[18]\ttraining's rmse: 2.92924\ttraining's l2: 8.58047\tvalid_1's rmse: 2.44116\tvalid_1's l2: 5.95924\n",
      "[19]\ttraining's rmse: 2.89556\ttraining's l2: 8.38427\tvalid_1's rmse: 2.41193\tvalid_1's l2: 5.81741\n",
      "[20]\ttraining's rmse: 2.86474\ttraining's l2: 8.20673\tvalid_1's rmse: 2.38515\tvalid_1's l2: 5.68895\n",
      "[21]\ttraining's rmse: 2.83651\ttraining's l2: 8.04581\tvalid_1's rmse: 2.36061\tvalid_1's l2: 5.57249\n",
      "[22]\ttraining's rmse: 2.81042\ttraining's l2: 7.89844\tvalid_1's rmse: 2.33768\tvalid_1's l2: 5.46474\n",
      "[23]\ttraining's rmse: 2.78541\ttraining's l2: 7.75852\tvalid_1's rmse: 2.31628\tvalid_1's l2: 5.36517\n",
      "[24]\ttraining's rmse: 2.76286\ttraining's l2: 7.63342\tvalid_1's rmse: 2.29701\tvalid_1's l2: 5.27625\n",
      "[25]\ttraining's rmse: 2.74254\ttraining's l2: 7.52153\tvalid_1's rmse: 2.27997\tvalid_1's l2: 5.19826\n",
      "[26]\ttraining's rmse: 2.72319\ttraining's l2: 7.41577\tvalid_1's rmse: 2.26394\tvalid_1's l2: 5.12542\n",
      "[27]\ttraining's rmse: 2.70561\ttraining's l2: 7.32033\tvalid_1's rmse: 2.24891\tvalid_1's l2: 5.05762\n",
      "[28]\ttraining's rmse: 2.68936\ttraining's l2: 7.23267\tvalid_1's rmse: 2.23565\tvalid_1's l2: 4.99813\n",
      "[29]\ttraining's rmse: 2.67442\ttraining's l2: 7.15253\tvalid_1's rmse: 2.22348\tvalid_1's l2: 4.94387\n",
      "[30]\ttraining's rmse: 2.6607\ttraining's l2: 7.07932\tvalid_1's rmse: 2.21212\tvalid_1's l2: 4.89346\n",
      "[31]\ttraining's rmse: 2.64813\ttraining's l2: 7.01257\tvalid_1's rmse: 2.20189\tvalid_1's l2: 4.84831\n",
      "[32]\ttraining's rmse: 2.63699\ttraining's l2: 6.95374\tvalid_1's rmse: 2.19235\tvalid_1's l2: 4.80639\n",
      "[33]\ttraining's rmse: 2.62629\ttraining's l2: 6.89737\tvalid_1's rmse: 2.18363\tvalid_1's l2: 4.76822\n",
      "[34]\ttraining's rmse: 2.61672\ttraining's l2: 6.84722\tvalid_1's rmse: 2.17552\tvalid_1's l2: 4.73287\n",
      "[35]\ttraining's rmse: 2.60791\ttraining's l2: 6.80117\tvalid_1's rmse: 2.16827\tvalid_1's l2: 4.70138\n",
      "[36]\ttraining's rmse: 2.59965\ttraining's l2: 6.75816\tvalid_1's rmse: 2.16129\tvalid_1's l2: 4.67116\n",
      "[37]\ttraining's rmse: 2.59221\ttraining's l2: 6.71955\tvalid_1's rmse: 2.15528\tvalid_1's l2: 4.64524\n",
      "[38]\ttraining's rmse: 2.58519\ttraining's l2: 6.6832\tvalid_1's rmse: 2.1495\tvalid_1's l2: 4.62037\n",
      "[39]\ttraining's rmse: 2.57871\ttraining's l2: 6.64974\tvalid_1's rmse: 2.14408\tvalid_1's l2: 4.59709\n",
      "[40]\ttraining's rmse: 2.57291\ttraining's l2: 6.61986\tvalid_1's rmse: 2.13921\tvalid_1's l2: 4.57621\n",
      "[41]\ttraining's rmse: 2.56746\ttraining's l2: 6.59186\tvalid_1's rmse: 2.13513\tvalid_1's l2: 4.55877\n",
      "[42]\ttraining's rmse: 2.56223\ttraining's l2: 6.56502\tvalid_1's rmse: 2.1308\tvalid_1's l2: 4.54029\n",
      "[43]\ttraining's rmse: 2.55739\ttraining's l2: 6.54024\tvalid_1's rmse: 2.12701\tvalid_1's l2: 4.52418\n",
      "[44]\ttraining's rmse: 2.55214\ttraining's l2: 6.51343\tvalid_1's rmse: 2.12369\tvalid_1's l2: 4.51007\n",
      "[45]\ttraining's rmse: 2.54677\ttraining's l2: 6.48604\tvalid_1's rmse: 2.12072\tvalid_1's l2: 4.49744\n",
      "[46]\ttraining's rmse: 2.54274\ttraining's l2: 6.46555\tvalid_1's rmse: 2.11781\tvalid_1's l2: 4.4851\n",
      "[47]\ttraining's rmse: 2.53868\ttraining's l2: 6.44489\tvalid_1's rmse: 2.11531\tvalid_1's l2: 4.47454\n",
      "[48]\ttraining's rmse: 2.53497\ttraining's l2: 6.42608\tvalid_1's rmse: 2.11265\tvalid_1's l2: 4.46329\n",
      "[49]\ttraining's rmse: 2.53151\ttraining's l2: 6.40855\tvalid_1's rmse: 2.11005\tvalid_1's l2: 4.45231\n",
      "[50]\ttraining's rmse: 2.52817\ttraining's l2: 6.39165\tvalid_1's rmse: 2.10822\tvalid_1's l2: 4.44458\n",
      "[51]\ttraining's rmse: 2.52512\ttraining's l2: 6.37622\tvalid_1's rmse: 2.1057\tvalid_1's l2: 4.43397\n",
      "[52]\ttraining's rmse: 2.52199\ttraining's l2: 6.36043\tvalid_1's rmse: 2.10393\tvalid_1's l2: 4.42652\n",
      "[53]\ttraining's rmse: 2.51933\ttraining's l2: 6.34702\tvalid_1's rmse: 2.10174\tvalid_1's l2: 4.4173\n",
      "[54]\ttraining's rmse: 2.51662\ttraining's l2: 6.33338\tvalid_1's rmse: 2.09996\tvalid_1's l2: 4.40983\n",
      "[55]\ttraining's rmse: 2.51401\ttraining's l2: 6.32027\tvalid_1's rmse: 2.09809\tvalid_1's l2: 4.40199\n",
      "[56]\ttraining's rmse: 2.51156\ttraining's l2: 6.30795\tvalid_1's rmse: 2.09682\tvalid_1's l2: 4.39666\n",
      "[57]\ttraining's rmse: 2.50911\ttraining's l2: 6.29565\tvalid_1's rmse: 2.09525\tvalid_1's l2: 4.39006\n",
      "[58]\ttraining's rmse: 2.50639\ttraining's l2: 6.282\tvalid_1's rmse: 2.09481\tvalid_1's l2: 4.38821\n",
      "[59]\ttraining's rmse: 2.50433\ttraining's l2: 6.27168\tvalid_1's rmse: 2.09317\tvalid_1's l2: 4.38135\n",
      "[60]\ttraining's rmse: 2.50224\ttraining's l2: 6.26121\tvalid_1's rmse: 2.0919\tvalid_1's l2: 4.37603\n",
      "[61]\ttraining's rmse: 2.50034\ttraining's l2: 6.25168\tvalid_1's rmse: 2.09085\tvalid_1's l2: 4.37166\n",
      "[62]\ttraining's rmse: 2.49836\ttraining's l2: 6.24182\tvalid_1's rmse: 2.08991\tvalid_1's l2: 4.36774\n",
      "[63]\ttraining's rmse: 2.49648\ttraining's l2: 6.23242\tvalid_1's rmse: 2.089\tvalid_1's l2: 4.36394\n",
      "[64]\ttraining's rmse: 2.49475\ttraining's l2: 6.22377\tvalid_1's rmse: 2.08839\tvalid_1's l2: 4.36138\n",
      "[65]\ttraining's rmse: 2.49222\ttraining's l2: 6.21114\tvalid_1's rmse: 2.08821\tvalid_1's l2: 4.36063\n",
      "[66]\ttraining's rmse: 2.49087\ttraining's l2: 6.20442\tvalid_1's rmse: 2.08736\tvalid_1's l2: 4.35707\n",
      "[67]\ttraining's rmse: 2.48946\ttraining's l2: 6.19743\tvalid_1's rmse: 2.08657\tvalid_1's l2: 4.35378\n",
      "[68]\ttraining's rmse: 2.48773\ttraining's l2: 6.18879\tvalid_1's rmse: 2.0868\tvalid_1's l2: 4.35473\n",
      "[69]\ttraining's rmse: 2.48613\ttraining's l2: 6.18087\tvalid_1's rmse: 2.08622\tvalid_1's l2: 4.35232\n",
      "[70]\ttraining's rmse: 2.48426\ttraining's l2: 6.17154\tvalid_1's rmse: 2.08582\tvalid_1's l2: 4.35065\n",
      "[71]\ttraining's rmse: 2.48289\ttraining's l2: 6.16475\tvalid_1's rmse: 2.08523\tvalid_1's l2: 4.34818\n",
      "[72]\ttraining's rmse: 2.48152\ttraining's l2: 6.15796\tvalid_1's rmse: 2.08467\tvalid_1's l2: 4.34586\n",
      "[73]\ttraining's rmse: 2.47977\ttraining's l2: 6.14928\tvalid_1's rmse: 2.08413\tvalid_1's l2: 4.34358\n",
      "[74]\ttraining's rmse: 2.47848\ttraining's l2: 6.14285\tvalid_1's rmse: 2.08335\tvalid_1's l2: 4.34034\n",
      "[75]\ttraining's rmse: 2.47676\ttraining's l2: 6.13435\tvalid_1's rmse: 2.08276\tvalid_1's l2: 4.3379\n",
      "[76]\ttraining's rmse: 2.47553\ttraining's l2: 6.12824\tvalid_1's rmse: 2.0824\tvalid_1's l2: 4.33639\n",
      "[77]\ttraining's rmse: 2.47395\ttraining's l2: 6.12043\tvalid_1's rmse: 2.08181\tvalid_1's l2: 4.33393\n",
      "[78]\ttraining's rmse: 2.4728\ttraining's l2: 6.11475\tvalid_1's rmse: 2.08138\tvalid_1's l2: 4.33215\n",
      "[79]\ttraining's rmse: 2.47146\ttraining's l2: 6.10813\tvalid_1's rmse: 2.08102\tvalid_1's l2: 4.33065\n",
      "[80]\ttraining's rmse: 2.47036\ttraining's l2: 6.10268\tvalid_1's rmse: 2.08056\tvalid_1's l2: 4.32872\n",
      "[81]\ttraining's rmse: 2.46902\ttraining's l2: 6.09608\tvalid_1's rmse: 2.07992\tvalid_1's l2: 4.32607\n",
      "[82]\ttraining's rmse: 2.46788\ttraining's l2: 6.09042\tvalid_1's rmse: 2.07995\tvalid_1's l2: 4.32621\n",
      "[83]\ttraining's rmse: 2.46683\ttraining's l2: 6.08527\tvalid_1's rmse: 2.07932\tvalid_1's l2: 4.32355\n"
     ]
    },
    {
     "name": "stdout",
     "output_type": "stream",
     "text": [
      "[84]\ttraining's rmse: 2.46581\ttraining's l2: 6.08024\tvalid_1's rmse: 2.07863\tvalid_1's l2: 4.32072\n",
      "[85]\ttraining's rmse: 2.46462\ttraining's l2: 6.07434\tvalid_1's rmse: 2.07837\tvalid_1's l2: 4.31963\n",
      "[86]\ttraining's rmse: 2.46356\ttraining's l2: 6.06911\tvalid_1's rmse: 2.07822\tvalid_1's l2: 4.319\n",
      "[87]\ttraining's rmse: 2.46268\ttraining's l2: 6.06478\tvalid_1's rmse: 2.07779\tvalid_1's l2: 4.31723\n",
      "[88]\ttraining's rmse: 2.4612\ttraining's l2: 6.0575\tvalid_1's rmse: 2.07778\tvalid_1's l2: 4.31719\n",
      "[89]\ttraining's rmse: 2.46015\ttraining's l2: 6.05233\tvalid_1's rmse: 2.07755\tvalid_1's l2: 4.3162\n",
      "[90]\ttraining's rmse: 2.45864\ttraining's l2: 6.04491\tvalid_1's rmse: 2.07798\tvalid_1's l2: 4.31799\n",
      "[91]\ttraining's rmse: 2.45758\ttraining's l2: 6.03971\tvalid_1's rmse: 2.07791\tvalid_1's l2: 4.31772\n",
      "[92]\ttraining's rmse: 2.45667\ttraining's l2: 6.03521\tvalid_1's rmse: 2.07764\tvalid_1's l2: 4.31659\n",
      "[93]\ttraining's rmse: 2.45581\ttraining's l2: 6.03099\tvalid_1's rmse: 2.07783\tvalid_1's l2: 4.31737\n",
      "[94]\ttraining's rmse: 2.45505\ttraining's l2: 6.02728\tvalid_1's rmse: 2.07754\tvalid_1's l2: 4.31617\n",
      "[95]\ttraining's rmse: 2.45411\ttraining's l2: 6.02267\tvalid_1's rmse: 2.07707\tvalid_1's l2: 4.31422\n",
      "[96]\ttraining's rmse: 2.45317\ttraining's l2: 6.01806\tvalid_1's rmse: 2.07685\tvalid_1's l2: 4.3133\n",
      "[97]\ttraining's rmse: 2.45219\ttraining's l2: 6.01325\tvalid_1's rmse: 2.0763\tvalid_1's l2: 4.31103\n",
      "[98]\ttraining's rmse: 2.45124\ttraining's l2: 6.00856\tvalid_1's rmse: 2.07676\tvalid_1's l2: 4.31294\n",
      "[99]\ttraining's rmse: 2.45019\ttraining's l2: 6.00342\tvalid_1's rmse: 2.07635\tvalid_1's l2: 4.31121\n",
      "[100]\ttraining's rmse: 2.44942\ttraining's l2: 5.99968\tvalid_1's rmse: 2.0761\tvalid_1's l2: 4.31017\n",
      "[101]\ttraining's rmse: 2.44867\ttraining's l2: 5.99596\tvalid_1's rmse: 2.07582\tvalid_1's l2: 4.30903\n",
      "[102]\ttraining's rmse: 2.44772\ttraining's l2: 5.99133\tvalid_1's rmse: 2.0752\tvalid_1's l2: 4.30644\n",
      "[103]\ttraining's rmse: 2.44708\ttraining's l2: 5.98821\tvalid_1's rmse: 2.07484\tvalid_1's l2: 4.30497\n",
      "[104]\ttraining's rmse: 2.44636\ttraining's l2: 5.98468\tvalid_1's rmse: 2.07453\tvalid_1's l2: 4.30368\n",
      "[105]\ttraining's rmse: 2.44566\ttraining's l2: 5.98126\tvalid_1's rmse: 2.07428\tvalid_1's l2: 4.30262\n",
      "[106]\ttraining's rmse: 2.44476\ttraining's l2: 5.97686\tvalid_1's rmse: 2.07386\tvalid_1's l2: 4.3009\n",
      "[107]\ttraining's rmse: 2.44402\ttraining's l2: 5.97324\tvalid_1's rmse: 2.0735\tvalid_1's l2: 4.29942\n",
      "[108]\ttraining's rmse: 2.44323\ttraining's l2: 5.96936\tvalid_1's rmse: 2.07319\tvalid_1's l2: 4.29811\n",
      "[109]\ttraining's rmse: 2.44259\ttraining's l2: 5.96626\tvalid_1's rmse: 2.07283\tvalid_1's l2: 4.29661\n",
      "[110]\ttraining's rmse: 2.44198\ttraining's l2: 5.96326\tvalid_1's rmse: 2.07269\tvalid_1's l2: 4.29604\n",
      "[111]\ttraining's rmse: 2.44125\ttraining's l2: 5.95969\tvalid_1's rmse: 2.07225\tvalid_1's l2: 4.29424\n",
      "[112]\ttraining's rmse: 2.44064\ttraining's l2: 5.95672\tvalid_1's rmse: 2.07195\tvalid_1's l2: 4.293\n",
      "[113]\ttraining's rmse: 2.43989\ttraining's l2: 5.95305\tvalid_1's rmse: 2.07159\tvalid_1's l2: 4.29149\n",
      "[114]\ttraining's rmse: 2.43925\ttraining's l2: 5.94995\tvalid_1's rmse: 2.07145\tvalid_1's l2: 4.29093\n",
      "[115]\ttraining's rmse: 2.43859\ttraining's l2: 5.94671\tvalid_1's rmse: 2.07111\tvalid_1's l2: 4.28951\n",
      "[116]\ttraining's rmse: 2.43717\ttraining's l2: 5.93979\tvalid_1's rmse: 2.07106\tvalid_1's l2: 4.2893\n",
      "[117]\ttraining's rmse: 2.43664\ttraining's l2: 5.93722\tvalid_1's rmse: 2.07097\tvalid_1's l2: 4.2889\n",
      "[118]\ttraining's rmse: 2.43603\ttraining's l2: 5.93425\tvalid_1's rmse: 2.07067\tvalid_1's l2: 4.28769\n",
      "[119]\ttraining's rmse: 2.43548\ttraining's l2: 5.93158\tvalid_1's rmse: 2.07048\tvalid_1's l2: 4.28689\n",
      "[120]\ttraining's rmse: 2.43494\ttraining's l2: 5.92895\tvalid_1's rmse: 2.07032\tvalid_1's l2: 4.28621\n",
      "[121]\ttraining's rmse: 2.43379\ttraining's l2: 5.92332\tvalid_1's rmse: 2.07025\tvalid_1's l2: 4.28595\n",
      "[122]\ttraining's rmse: 2.43328\ttraining's l2: 5.92087\tvalid_1's rmse: 2.07014\tvalid_1's l2: 4.28546\n",
      "[123]\ttraining's rmse: 2.4327\ttraining's l2: 5.91804\tvalid_1's rmse: 2.06957\tvalid_1's l2: 4.28313\n",
      "[124]\ttraining's rmse: 2.43202\ttraining's l2: 5.91471\tvalid_1's rmse: 2.06937\tvalid_1's l2: 4.28231\n",
      "[125]\ttraining's rmse: 2.43156\ttraining's l2: 5.91247\tvalid_1's rmse: 2.06933\tvalid_1's l2: 4.28214\n",
      "[126]\ttraining's rmse: 2.43072\ttraining's l2: 5.90838\tvalid_1's rmse: 2.07013\tvalid_1's l2: 4.28543\n",
      "[127]\ttraining's rmse: 2.43022\ttraining's l2: 5.90595\tvalid_1's rmse: 2.07009\tvalid_1's l2: 4.28526\n",
      "[128]\ttraining's rmse: 2.42952\ttraining's l2: 5.90254\tvalid_1's rmse: 2.06988\tvalid_1's l2: 4.28439\n",
      "[129]\ttraining's rmse: 2.42893\ttraining's l2: 5.8997\tvalid_1's rmse: 2.06979\tvalid_1's l2: 4.28403\n",
      "[130]\ttraining's rmse: 2.42783\ttraining's l2: 5.89438\tvalid_1's rmse: 2.0698\tvalid_1's l2: 4.28409\n",
      "[131]\ttraining's rmse: 2.42734\ttraining's l2: 5.89197\tvalid_1's rmse: 2.06962\tvalid_1's l2: 4.28334\n",
      "[132]\ttraining's rmse: 2.4264\ttraining's l2: 5.88741\tvalid_1's rmse: 2.06948\tvalid_1's l2: 4.28275\n",
      "[133]\ttraining's rmse: 2.42569\ttraining's l2: 5.88398\tvalid_1's rmse: 2.06943\tvalid_1's l2: 4.28253\n",
      "[134]\ttraining's rmse: 2.42511\ttraining's l2: 5.88117\tvalid_1's rmse: 2.06926\tvalid_1's l2: 4.28183\n",
      "[135]\ttraining's rmse: 2.42462\ttraining's l2: 5.8788\tvalid_1's rmse: 2.06891\tvalid_1's l2: 4.2804\n",
      "[136]\ttraining's rmse: 2.42412\ttraining's l2: 5.87635\tvalid_1's rmse: 2.06887\tvalid_1's l2: 4.28024\n",
      "[137]\ttraining's rmse: 2.42359\ttraining's l2: 5.87377\tvalid_1's rmse: 2.06868\tvalid_1's l2: 4.27943\n",
      "[138]\ttraining's rmse: 2.42257\ttraining's l2: 5.86883\tvalid_1's rmse: 2.06916\tvalid_1's l2: 4.28141\n",
      "[139]\ttraining's rmse: 2.42212\ttraining's l2: 5.86665\tvalid_1's rmse: 2.06874\tvalid_1's l2: 4.2797\n",
      "[140]\ttraining's rmse: 2.42175\ttraining's l2: 5.86488\tvalid_1's rmse: 2.06863\tvalid_1's l2: 4.27922\n",
      "[141]\ttraining's rmse: 2.42068\ttraining's l2: 5.85967\tvalid_1's rmse: 2.0687\tvalid_1's l2: 4.27952\n",
      "[142]\ttraining's rmse: 2.42019\ttraining's l2: 5.85734\tvalid_1's rmse: 2.06877\tvalid_1's l2: 4.2798\n",
      "[143]\ttraining's rmse: 2.41959\ttraining's l2: 5.85442\tvalid_1's rmse: 2.06879\tvalid_1's l2: 4.27988\n",
      "[144]\ttraining's rmse: 2.4188\ttraining's l2: 5.8506\tvalid_1's rmse: 2.06855\tvalid_1's l2: 4.2789\n",
      "[145]\ttraining's rmse: 2.41819\ttraining's l2: 5.84762\tvalid_1's rmse: 2.06855\tvalid_1's l2: 4.2789\n",
      "[146]\ttraining's rmse: 2.41775\ttraining's l2: 5.84553\tvalid_1's rmse: 2.06825\tvalid_1's l2: 4.27766\n",
      "[147]\ttraining's rmse: 2.41698\ttraining's l2: 5.84179\tvalid_1's rmse: 2.06817\tvalid_1's l2: 4.27733\n",
      "[148]\ttraining's rmse: 2.41649\ttraining's l2: 5.83942\tvalid_1's rmse: 2.06779\tvalid_1's l2: 4.27576\n",
      "[149]\ttraining's rmse: 2.41615\ttraining's l2: 5.83778\tvalid_1's rmse: 2.06779\tvalid_1's l2: 4.27575\n",
      "[150]\ttraining's rmse: 2.41576\ttraining's l2: 5.83591\tvalid_1's rmse: 2.06742\tvalid_1's l2: 4.27423\n",
      "[151]\ttraining's rmse: 2.41519\ttraining's l2: 5.83315\tvalid_1's rmse: 2.0674\tvalid_1's l2: 4.27413\n",
      "[152]\ttraining's rmse: 2.41462\ttraining's l2: 5.83038\tvalid_1's rmse: 2.06713\tvalid_1's l2: 4.27304\n",
      "[153]\ttraining's rmse: 2.4139\ttraining's l2: 5.82692\tvalid_1's rmse: 2.06771\tvalid_1's l2: 4.27544\n",
      "[154]\ttraining's rmse: 2.41343\ttraining's l2: 5.82462\tvalid_1's rmse: 2.06765\tvalid_1's l2: 4.27518\n",
      "[155]\ttraining's rmse: 2.41281\ttraining's l2: 5.82165\tvalid_1's rmse: 2.06762\tvalid_1's l2: 4.27506\n",
      "[156]\ttraining's rmse: 2.41226\ttraining's l2: 5.81901\tvalid_1's rmse: 2.0677\tvalid_1's l2: 4.27539\n",
      "[157]\ttraining's rmse: 2.41173\ttraining's l2: 5.81644\tvalid_1's rmse: 2.06769\tvalid_1's l2: 4.27533\n",
      "[158]\ttraining's rmse: 2.4113\ttraining's l2: 5.81439\tvalid_1's rmse: 2.06751\tvalid_1's l2: 4.27459\n",
      "[159]\ttraining's rmse: 2.41091\ttraining's l2: 5.81249\tvalid_1's rmse: 2.06727\tvalid_1's l2: 4.27359\n",
      "[160]\ttraining's rmse: 2.4104\ttraining's l2: 5.81002\tvalid_1's rmse: 2.06723\tvalid_1's l2: 4.27346\n",
      "[161]\ttraining's rmse: 2.41001\ttraining's l2: 5.80813\tvalid_1's rmse: 2.06726\tvalid_1's l2: 4.27354\n",
      "[162]\ttraining's rmse: 2.4095\ttraining's l2: 5.80569\tvalid_1's rmse: 2.06734\tvalid_1's l2: 4.27391\n",
      "[163]\ttraining's rmse: 2.40895\ttraining's l2: 5.80303\tvalid_1's rmse: 2.06728\tvalid_1's l2: 4.27363\n",
      "[164]\ttraining's rmse: 2.40844\ttraining's l2: 5.80059\tvalid_1's rmse: 2.06734\tvalid_1's l2: 4.27391\n",
      "[165]\ttraining's rmse: 2.40772\ttraining's l2: 5.79712\tvalid_1's rmse: 2.06777\tvalid_1's l2: 4.27567\n",
      "[166]\ttraining's rmse: 2.4072\ttraining's l2: 5.7946\tvalid_1's rmse: 2.06779\tvalid_1's l2: 4.27575\n"
     ]
    },
    {
     "name": "stdout",
     "output_type": "stream",
     "text": [
      "[167]\ttraining's rmse: 2.40677\ttraining's l2: 5.79255\tvalid_1's rmse: 2.06745\tvalid_1's l2: 4.27435\n",
      "[168]\ttraining's rmse: 2.40632\ttraining's l2: 5.79038\tvalid_1's rmse: 2.06753\tvalid_1's l2: 4.27467\n",
      "[169]\ttraining's rmse: 2.40598\ttraining's l2: 5.78873\tvalid_1's rmse: 2.06754\tvalid_1's l2: 4.27471\n",
      "[170]\ttraining's rmse: 2.40553\ttraining's l2: 5.78659\tvalid_1's rmse: 2.06759\tvalid_1's l2: 4.27495\n",
      "[171]\ttraining's rmse: 2.40501\ttraining's l2: 5.78407\tvalid_1's rmse: 2.06754\tvalid_1's l2: 4.27473\n",
      "[172]\ttraining's rmse: 2.4046\ttraining's l2: 5.78209\tvalid_1's rmse: 2.06779\tvalid_1's l2: 4.27576\n",
      "[173]\ttraining's rmse: 2.40408\ttraining's l2: 5.77959\tvalid_1's rmse: 2.06776\tvalid_1's l2: 4.27562\n",
      "[174]\ttraining's rmse: 2.40353\ttraining's l2: 5.77696\tvalid_1's rmse: 2.06767\tvalid_1's l2: 4.27526\n",
      "[175]\ttraining's rmse: 2.40313\ttraining's l2: 5.77501\tvalid_1's rmse: 2.06766\tvalid_1's l2: 4.27522\n",
      "[176]\ttraining's rmse: 2.40274\ttraining's l2: 5.77317\tvalid_1's rmse: 2.06765\tvalid_1's l2: 4.2752\n",
      "[177]\ttraining's rmse: 2.40241\ttraining's l2: 5.77159\tvalid_1's rmse: 2.0675\tvalid_1's l2: 4.27457\n",
      "[178]\ttraining's rmse: 2.40184\ttraining's l2: 5.76881\tvalid_1's rmse: 2.06795\tvalid_1's l2: 4.27641\n",
      "[179]\ttraining's rmse: 2.40149\ttraining's l2: 5.76715\tvalid_1's rmse: 2.06807\tvalid_1's l2: 4.27691\n",
      "[180]\ttraining's rmse: 2.4011\ttraining's l2: 5.76528\tvalid_1's rmse: 2.06795\tvalid_1's l2: 4.27642\n",
      "[181]\ttraining's rmse: 2.40083\ttraining's l2: 5.76398\tvalid_1's rmse: 2.06789\tvalid_1's l2: 4.27617\n",
      "[182]\ttraining's rmse: 2.40044\ttraining's l2: 5.76212\tvalid_1's rmse: 2.0678\tvalid_1's l2: 4.27578\n",
      "[183]\ttraining's rmse: 2.40014\ttraining's l2: 5.76069\tvalid_1's rmse: 2.06764\tvalid_1's l2: 4.27512\n",
      "[184]\ttraining's rmse: 2.39982\ttraining's l2: 5.75916\tvalid_1's rmse: 2.06751\tvalid_1's l2: 4.27458\n",
      "[185]\ttraining's rmse: 2.39943\ttraining's l2: 5.75728\tvalid_1's rmse: 2.06753\tvalid_1's l2: 4.27469\n",
      "[186]\ttraining's rmse: 2.39903\ttraining's l2: 5.75536\tvalid_1's rmse: 2.06754\tvalid_1's l2: 4.2747\n",
      "[187]\ttraining's rmse: 2.39848\ttraining's l2: 5.75273\tvalid_1's rmse: 2.06754\tvalid_1's l2: 4.27472\n",
      "[188]\ttraining's rmse: 2.39808\ttraining's l2: 5.75079\tvalid_1's rmse: 2.0677\tvalid_1's l2: 4.27539\n",
      "[189]\ttraining's rmse: 2.3978\ttraining's l2: 5.74943\tvalid_1's rmse: 2.06758\tvalid_1's l2: 4.27491\n",
      "[190]\ttraining's rmse: 2.39733\ttraining's l2: 5.74719\tvalid_1's rmse: 2.06745\tvalid_1's l2: 4.27435\n",
      "[191]\ttraining's rmse: 2.39694\ttraining's l2: 5.74534\tvalid_1's rmse: 2.06746\tvalid_1's l2: 4.27438\n",
      "[192]\ttraining's rmse: 2.39655\ttraining's l2: 5.74344\tvalid_1's rmse: 2.06722\tvalid_1's l2: 4.2734\n",
      "[193]\ttraining's rmse: 2.39615\ttraining's l2: 5.74156\tvalid_1's rmse: 2.06762\tvalid_1's l2: 4.27507\n",
      "[194]\ttraining's rmse: 2.3959\ttraining's l2: 5.74034\tvalid_1's rmse: 2.06761\tvalid_1's l2: 4.275\n",
      "[195]\ttraining's rmse: 2.39531\ttraining's l2: 5.73753\tvalid_1's rmse: 2.06754\tvalid_1's l2: 4.27472\n",
      "[196]\ttraining's rmse: 2.395\ttraining's l2: 5.73603\tvalid_1's rmse: 2.06748\tvalid_1's l2: 4.27448\n",
      "[197]\ttraining's rmse: 2.39468\ttraining's l2: 5.73447\tvalid_1's rmse: 2.06746\tvalid_1's l2: 4.2744\n",
      "[198]\ttraining's rmse: 2.39436\ttraining's l2: 5.73295\tvalid_1's rmse: 2.06741\tvalid_1's l2: 4.27417\n",
      "[199]\ttraining's rmse: 2.39402\ttraining's l2: 5.73132\tvalid_1's rmse: 2.06756\tvalid_1's l2: 4.27481\n",
      "[200]\ttraining's rmse: 2.39366\ttraining's l2: 5.72963\tvalid_1's rmse: 2.06748\tvalid_1's l2: 4.27446\n",
      "[201]\ttraining's rmse: 2.39335\ttraining's l2: 5.72811\tvalid_1's rmse: 2.0674\tvalid_1's l2: 4.27416\n",
      "[202]\ttraining's rmse: 2.39304\ttraining's l2: 5.72664\tvalid_1's rmse: 2.06733\tvalid_1's l2: 4.27386\n",
      "[203]\ttraining's rmse: 2.39265\ttraining's l2: 5.72477\tvalid_1's rmse: 2.0669\tvalid_1's l2: 4.27207\n",
      "[204]\ttraining's rmse: 2.3923\ttraining's l2: 5.72311\tvalid_1's rmse: 2.06687\tvalid_1's l2: 4.27196\n",
      "[205]\ttraining's rmse: 2.39201\ttraining's l2: 5.7217\tvalid_1's rmse: 2.06671\tvalid_1's l2: 4.27129\n",
      "[206]\ttraining's rmse: 2.39171\ttraining's l2: 5.72029\tvalid_1's rmse: 2.06665\tvalid_1's l2: 4.27103\n",
      "[207]\ttraining's rmse: 2.39147\ttraining's l2: 5.71914\tvalid_1's rmse: 2.06661\tvalid_1's l2: 4.27089\n",
      "[208]\ttraining's rmse: 2.39105\ttraining's l2: 5.7171\tvalid_1's rmse: 2.06654\tvalid_1's l2: 4.27057\n",
      "[209]\ttraining's rmse: 2.39078\ttraining's l2: 5.71585\tvalid_1's rmse: 2.06647\tvalid_1's l2: 4.27032\n",
      "[210]\ttraining's rmse: 2.39049\ttraining's l2: 5.71445\tvalid_1's rmse: 2.06643\tvalid_1's l2: 4.27013\n",
      "[211]\ttraining's rmse: 2.39012\ttraining's l2: 5.71267\tvalid_1's rmse: 2.06626\tvalid_1's l2: 4.26945\n",
      "[212]\ttraining's rmse: 2.38981\ttraining's l2: 5.71118\tvalid_1's rmse: 2.06625\tvalid_1's l2: 4.26938\n",
      "[213]\ttraining's rmse: 2.3896\ttraining's l2: 5.71018\tvalid_1's rmse: 2.06629\tvalid_1's l2: 4.26954\n",
      "[214]\ttraining's rmse: 2.38935\ttraining's l2: 5.70899\tvalid_1's rmse: 2.06632\tvalid_1's l2: 4.26968\n",
      "[215]\ttraining's rmse: 2.38909\ttraining's l2: 5.70774\tvalid_1's rmse: 2.0662\tvalid_1's l2: 4.26919\n",
      "[216]\ttraining's rmse: 2.38888\ttraining's l2: 5.70675\tvalid_1's rmse: 2.06609\tvalid_1's l2: 4.26875\n",
      "[217]\ttraining's rmse: 2.38859\ttraining's l2: 5.70539\tvalid_1's rmse: 2.06589\tvalid_1's l2: 4.26791\n",
      "[218]\ttraining's rmse: 2.38838\ttraining's l2: 5.70437\tvalid_1's rmse: 2.06587\tvalid_1's l2: 4.26781\n",
      "[219]\ttraining's rmse: 2.38793\ttraining's l2: 5.7022\tvalid_1's rmse: 2.06606\tvalid_1's l2: 4.26862\n",
      "[220]\ttraining's rmse: 2.38752\ttraining's l2: 5.70027\tvalid_1's rmse: 2.06613\tvalid_1's l2: 4.2689\n",
      "[221]\ttraining's rmse: 2.38722\ttraining's l2: 5.69881\tvalid_1's rmse: 2.06591\tvalid_1's l2: 4.26799\n",
      "[222]\ttraining's rmse: 2.38697\ttraining's l2: 5.69762\tvalid_1's rmse: 2.06597\tvalid_1's l2: 4.26825\n",
      "[223]\ttraining's rmse: 2.38677\ttraining's l2: 5.69668\tvalid_1's rmse: 2.06589\tvalid_1's l2: 4.26791\n",
      "[224]\ttraining's rmse: 2.38653\ttraining's l2: 5.69553\tvalid_1's rmse: 2.06589\tvalid_1's l2: 4.26792\n",
      "[225]\ttraining's rmse: 2.38616\ttraining's l2: 5.69376\tvalid_1's rmse: 2.0659\tvalid_1's l2: 4.26793\n",
      "[226]\ttraining's rmse: 2.3859\ttraining's l2: 5.6925\tvalid_1's rmse: 2.0658\tvalid_1's l2: 4.26752\n",
      "[227]\ttraining's rmse: 2.38546\ttraining's l2: 5.69042\tvalid_1's rmse: 2.06573\tvalid_1's l2: 4.26725\n",
      "[228]\ttraining's rmse: 2.38514\ttraining's l2: 5.6889\tvalid_1's rmse: 2.06566\tvalid_1's l2: 4.26695\n",
      "[229]\ttraining's rmse: 2.38496\ttraining's l2: 5.68802\tvalid_1's rmse: 2.06562\tvalid_1's l2: 4.26677\n",
      "[230]\ttraining's rmse: 2.38469\ttraining's l2: 5.68676\tvalid_1's rmse: 2.06564\tvalid_1's l2: 4.26685\n",
      "[231]\ttraining's rmse: 2.38437\ttraining's l2: 5.68521\tvalid_1's rmse: 2.06571\tvalid_1's l2: 4.26716\n",
      "[232]\ttraining's rmse: 2.38413\ttraining's l2: 5.68409\tvalid_1's rmse: 2.06561\tvalid_1's l2: 4.26675\n",
      "[233]\ttraining's rmse: 2.38395\ttraining's l2: 5.68319\tvalid_1's rmse: 2.06558\tvalid_1's l2: 4.26661\n",
      "[234]\ttraining's rmse: 2.38365\ttraining's l2: 5.68178\tvalid_1's rmse: 2.06552\tvalid_1's l2: 4.26636\n",
      "[235]\ttraining's rmse: 2.38332\ttraining's l2: 5.68021\tvalid_1's rmse: 2.06516\tvalid_1's l2: 4.26488\n",
      "[236]\ttraining's rmse: 2.38309\ttraining's l2: 5.67911\tvalid_1's rmse: 2.06523\tvalid_1's l2: 4.26518\n",
      "[237]\ttraining's rmse: 2.38288\ttraining's l2: 5.67811\tvalid_1's rmse: 2.06509\tvalid_1's l2: 4.26458\n",
      "[238]\ttraining's rmse: 2.38259\ttraining's l2: 5.67672\tvalid_1's rmse: 2.06505\tvalid_1's l2: 4.26444\n",
      "[239]\ttraining's rmse: 2.38214\ttraining's l2: 5.67458\tvalid_1's rmse: 2.065\tvalid_1's l2: 4.26422\n",
      "[240]\ttraining's rmse: 2.38171\ttraining's l2: 5.67256\tvalid_1's rmse: 2.06519\tvalid_1's l2: 4.26503\n",
      "[241]\ttraining's rmse: 2.3811\ttraining's l2: 5.66963\tvalid_1's rmse: 2.06527\tvalid_1's l2: 4.26535\n",
      "[242]\ttraining's rmse: 2.38075\ttraining's l2: 5.66797\tvalid_1's rmse: 2.06523\tvalid_1's l2: 4.26519\n",
      "[243]\ttraining's rmse: 2.38038\ttraining's l2: 5.66622\tvalid_1's rmse: 2.06489\tvalid_1's l2: 4.26378\n",
      "[244]\ttraining's rmse: 2.38007\ttraining's l2: 5.66474\tvalid_1's rmse: 2.0649\tvalid_1's l2: 4.2638\n",
      "[245]\ttraining's rmse: 2.37973\ttraining's l2: 5.66312\tvalid_1's rmse: 2.06488\tvalid_1's l2: 4.26374\n",
      "[246]\ttraining's rmse: 2.37953\ttraining's l2: 5.66218\tvalid_1's rmse: 2.06494\tvalid_1's l2: 4.26397\n",
      "[247]\ttraining's rmse: 2.37926\ttraining's l2: 5.66089\tvalid_1's rmse: 2.06481\tvalid_1's l2: 4.26344\n",
      "[248]\ttraining's rmse: 2.37906\ttraining's l2: 5.65992\tvalid_1's rmse: 2.06484\tvalid_1's l2: 4.26357\n",
      "[249]\ttraining's rmse: 2.37882\ttraining's l2: 5.65877\tvalid_1's rmse: 2.06476\tvalid_1's l2: 4.26322\n"
     ]
    },
    {
     "name": "stdout",
     "output_type": "stream",
     "text": [
      "[250]\ttraining's rmse: 2.37856\ttraining's l2: 5.65756\tvalid_1's rmse: 2.06465\tvalid_1's l2: 4.26277\n",
      "[251]\ttraining's rmse: 2.37837\ttraining's l2: 5.65663\tvalid_1's rmse: 2.06458\tvalid_1's l2: 4.26248\n",
      "[252]\ttraining's rmse: 2.37817\ttraining's l2: 5.65569\tvalid_1's rmse: 2.0646\tvalid_1's l2: 4.26255\n",
      "[253]\ttraining's rmse: 2.37786\ttraining's l2: 5.65423\tvalid_1's rmse: 2.06457\tvalid_1's l2: 4.26245\n",
      "[254]\ttraining's rmse: 2.37747\ttraining's l2: 5.65238\tvalid_1's rmse: 2.06458\tvalid_1's l2: 4.26248\n",
      "[255]\ttraining's rmse: 2.37725\ttraining's l2: 5.65131\tvalid_1's rmse: 2.06473\tvalid_1's l2: 4.26313\n",
      "[256]\ttraining's rmse: 2.37697\ttraining's l2: 5.65\tvalid_1's rmse: 2.06474\tvalid_1's l2: 4.26316\n",
      "[257]\ttraining's rmse: 2.37666\ttraining's l2: 5.64853\tvalid_1's rmse: 2.06472\tvalid_1's l2: 4.26309\n",
      "[258]\ttraining's rmse: 2.37645\ttraining's l2: 5.6475\tvalid_1's rmse: 2.0647\tvalid_1's l2: 4.263\n",
      "[259]\ttraining's rmse: 2.37609\ttraining's l2: 5.64582\tvalid_1's rmse: 2.06469\tvalid_1's l2: 4.26296\n",
      "[260]\ttraining's rmse: 2.37592\ttraining's l2: 5.64501\tvalid_1's rmse: 2.06449\tvalid_1's l2: 4.26212\n",
      "[261]\ttraining's rmse: 2.37573\ttraining's l2: 5.64407\tvalid_1's rmse: 2.06442\tvalid_1's l2: 4.26184\n",
      "[262]\ttraining's rmse: 2.37546\ttraining's l2: 5.64281\tvalid_1's rmse: 2.06442\tvalid_1's l2: 4.26182\n",
      "[263]\ttraining's rmse: 2.37521\ttraining's l2: 5.64162\tvalid_1's rmse: 2.06443\tvalid_1's l2: 4.26187\n",
      "[264]\ttraining's rmse: 2.37496\ttraining's l2: 5.64044\tvalid_1's rmse: 2.0643\tvalid_1's l2: 4.26131\n",
      "[265]\ttraining's rmse: 2.37452\ttraining's l2: 5.63836\tvalid_1's rmse: 2.06427\tvalid_1's l2: 4.26121\n",
      "[266]\ttraining's rmse: 2.37424\ttraining's l2: 5.637\tvalid_1's rmse: 2.06424\tvalid_1's l2: 4.2611\n",
      "[267]\ttraining's rmse: 2.37404\ttraining's l2: 5.63608\tvalid_1's rmse: 2.06417\tvalid_1's l2: 4.26081\n",
      "[268]\ttraining's rmse: 2.37377\ttraining's l2: 5.63476\tvalid_1's rmse: 2.06414\tvalid_1's l2: 4.26068\n",
      "[269]\ttraining's rmse: 2.37355\ttraining's l2: 5.63374\tvalid_1's rmse: 2.0641\tvalid_1's l2: 4.26053\n",
      "[270]\ttraining's rmse: 2.37332\ttraining's l2: 5.63264\tvalid_1's rmse: 2.0641\tvalid_1's l2: 4.26049\n",
      "[271]\ttraining's rmse: 2.3729\ttraining's l2: 5.63066\tvalid_1's rmse: 2.06408\tvalid_1's l2: 4.26042\n",
      "[272]\ttraining's rmse: 2.37254\ttraining's l2: 5.62893\tvalid_1's rmse: 2.06463\tvalid_1's l2: 4.2627\n",
      "[273]\ttraining's rmse: 2.37217\ttraining's l2: 5.62721\tvalid_1's rmse: 2.06465\tvalid_1's l2: 4.26278\n",
      "[274]\ttraining's rmse: 2.37199\ttraining's l2: 5.62633\tvalid_1's rmse: 2.06461\tvalid_1's l2: 4.26261\n",
      "[275]\ttraining's rmse: 2.37175\ttraining's l2: 5.62522\tvalid_1's rmse: 2.06443\tvalid_1's l2: 4.26188\n",
      "[276]\ttraining's rmse: 2.37158\ttraining's l2: 5.62441\tvalid_1's rmse: 2.06437\tvalid_1's l2: 4.26164\n",
      "[277]\ttraining's rmse: 2.37128\ttraining's l2: 5.62295\tvalid_1's rmse: 2.06438\tvalid_1's l2: 4.26166\n",
      "[278]\ttraining's rmse: 2.37112\ttraining's l2: 5.62223\tvalid_1's rmse: 2.0641\tvalid_1's l2: 4.26053\n",
      "[279]\ttraining's rmse: 2.37088\ttraining's l2: 5.62107\tvalid_1's rmse: 2.06408\tvalid_1's l2: 4.26042\n",
      "[280]\ttraining's rmse: 2.37067\ttraining's l2: 5.62006\tvalid_1's rmse: 2.06419\tvalid_1's l2: 4.26089\n",
      "[281]\ttraining's rmse: 2.37036\ttraining's l2: 5.61862\tvalid_1's rmse: 2.06416\tvalid_1's l2: 4.26077\n",
      "[282]\ttraining's rmse: 2.37012\ttraining's l2: 5.61745\tvalid_1's rmse: 2.06416\tvalid_1's l2: 4.26077\n",
      "[283]\ttraining's rmse: 2.36991\ttraining's l2: 5.61649\tvalid_1's rmse: 2.06413\tvalid_1's l2: 4.26065\n",
      "[284]\ttraining's rmse: 2.3697\ttraining's l2: 5.6155\tvalid_1's rmse: 2.06404\tvalid_1's l2: 4.26026\n",
      "[285]\ttraining's rmse: 2.36946\ttraining's l2: 5.61436\tvalid_1's rmse: 2.06397\tvalid_1's l2: 4.25999\n",
      "[286]\ttraining's rmse: 2.36927\ttraining's l2: 5.61344\tvalid_1's rmse: 2.06399\tvalid_1's l2: 4.26006\n",
      "[287]\ttraining's rmse: 2.36905\ttraining's l2: 5.61241\tvalid_1's rmse: 2.06396\tvalid_1's l2: 4.25992\n",
      "[288]\ttraining's rmse: 2.36882\ttraining's l2: 5.6113\tvalid_1's rmse: 2.0641\tvalid_1's l2: 4.26052\n",
      "[289]\ttraining's rmse: 2.36858\ttraining's l2: 5.61017\tvalid_1's rmse: 2.06408\tvalid_1's l2: 4.26043\n",
      "[290]\ttraining's rmse: 2.36839\ttraining's l2: 5.60926\tvalid_1's rmse: 2.0641\tvalid_1's l2: 4.26051\n",
      "[291]\ttraining's rmse: 2.36817\ttraining's l2: 5.60821\tvalid_1's rmse: 2.06412\tvalid_1's l2: 4.2606\n",
      "[292]\ttraining's rmse: 2.36799\ttraining's l2: 5.60739\tvalid_1's rmse: 2.06408\tvalid_1's l2: 4.26041\n",
      "[293]\ttraining's rmse: 2.36783\ttraining's l2: 5.60661\tvalid_1's rmse: 2.06402\tvalid_1's l2: 4.26018\n",
      "[294]\ttraining's rmse: 2.36763\ttraining's l2: 5.60565\tvalid_1's rmse: 2.06402\tvalid_1's l2: 4.26016\n",
      "[295]\ttraining's rmse: 2.36746\ttraining's l2: 5.60488\tvalid_1's rmse: 2.06398\tvalid_1's l2: 4.25999\n",
      "[296]\ttraining's rmse: 2.36716\ttraining's l2: 5.60343\tvalid_1's rmse: 2.06396\tvalid_1's l2: 4.25995\n",
      "[297]\ttraining's rmse: 2.36694\ttraining's l2: 5.60243\tvalid_1's rmse: 2.06396\tvalid_1's l2: 4.25993\n",
      "[298]\ttraining's rmse: 2.36675\ttraining's l2: 5.6015\tvalid_1's rmse: 2.06385\tvalid_1's l2: 4.25949\n",
      "[299]\ttraining's rmse: 2.36644\ttraining's l2: 5.60003\tvalid_1's rmse: 2.06355\tvalid_1's l2: 4.25826\n",
      "[300]\ttraining's rmse: 2.36633\ttraining's l2: 5.59951\tvalid_1's rmse: 2.06342\tvalid_1's l2: 4.25769\n",
      "[301]\ttraining's rmse: 2.36617\ttraining's l2: 5.59875\tvalid_1's rmse: 2.06339\tvalid_1's l2: 4.25759\n",
      "[302]\ttraining's rmse: 2.36591\ttraining's l2: 5.59751\tvalid_1's rmse: 2.06337\tvalid_1's l2: 4.25751\n",
      "[303]\ttraining's rmse: 2.36571\ttraining's l2: 5.5966\tvalid_1's rmse: 2.06323\tvalid_1's l2: 4.25693\n",
      "[304]\ttraining's rmse: 2.36554\ttraining's l2: 5.5958\tvalid_1's rmse: 2.0632\tvalid_1's l2: 4.25681\n",
      "[305]\ttraining's rmse: 2.3652\ttraining's l2: 5.59416\tvalid_1's rmse: 2.06319\tvalid_1's l2: 4.25677\n",
      "[306]\ttraining's rmse: 2.36489\ttraining's l2: 5.59272\tvalid_1's rmse: 2.0632\tvalid_1's l2: 4.25679\n",
      "[307]\ttraining's rmse: 2.36471\ttraining's l2: 5.59183\tvalid_1's rmse: 2.06323\tvalid_1's l2: 4.25692\n",
      "[308]\ttraining's rmse: 2.36451\ttraining's l2: 5.59092\tvalid_1's rmse: 2.0632\tvalid_1's l2: 4.2568\n",
      "[309]\ttraining's rmse: 2.36424\ttraining's l2: 5.58963\tvalid_1's rmse: 2.06318\tvalid_1's l2: 4.2567\n",
      "[310]\ttraining's rmse: 2.36406\ttraining's l2: 5.58877\tvalid_1's rmse: 2.06317\tvalid_1's l2: 4.25669\n",
      "[311]\ttraining's rmse: 2.36387\ttraining's l2: 5.5879\tvalid_1's rmse: 2.0631\tvalid_1's l2: 4.25637\n",
      "[312]\ttraining's rmse: 2.36366\ttraining's l2: 5.58687\tvalid_1's rmse: 2.06307\tvalid_1's l2: 4.25626\n",
      "[313]\ttraining's rmse: 2.36351\ttraining's l2: 5.5862\tvalid_1's rmse: 2.06309\tvalid_1's l2: 4.25635\n",
      "[314]\ttraining's rmse: 2.36333\ttraining's l2: 5.58531\tvalid_1's rmse: 2.06306\tvalid_1's l2: 4.25621\n",
      "[315]\ttraining's rmse: 2.36318\ttraining's l2: 5.5846\tvalid_1's rmse: 2.06302\tvalid_1's l2: 4.25606\n",
      "[316]\ttraining's rmse: 2.36297\ttraining's l2: 5.58365\tvalid_1's rmse: 2.06297\tvalid_1's l2: 4.25584\n",
      "[317]\ttraining's rmse: 2.36272\ttraining's l2: 5.58245\tvalid_1's rmse: 2.0628\tvalid_1's l2: 4.25516\n",
      "[318]\ttraining's rmse: 2.36246\ttraining's l2: 5.58121\tvalid_1's rmse: 2.06265\tvalid_1's l2: 4.25452\n",
      "[319]\ttraining's rmse: 2.36229\ttraining's l2: 5.5804\tvalid_1's rmse: 2.06267\tvalid_1's l2: 4.25461\n",
      "[320]\ttraining's rmse: 2.36205\ttraining's l2: 5.57928\tvalid_1's rmse: 2.06267\tvalid_1's l2: 4.2546\n",
      "[321]\ttraining's rmse: 2.36183\ttraining's l2: 5.57825\tvalid_1's rmse: 2.06266\tvalid_1's l2: 4.25457\n",
      "[322]\ttraining's rmse: 2.36167\ttraining's l2: 5.57747\tvalid_1's rmse: 2.06261\tvalid_1's l2: 4.25438\n",
      "[323]\ttraining's rmse: 2.36144\ttraining's l2: 5.57639\tvalid_1's rmse: 2.06253\tvalid_1's l2: 4.25404\n",
      "[324]\ttraining's rmse: 2.36124\ttraining's l2: 5.57546\tvalid_1's rmse: 2.06257\tvalid_1's l2: 4.2542\n",
      "[325]\ttraining's rmse: 2.36113\ttraining's l2: 5.57493\tvalid_1's rmse: 2.06244\tvalid_1's l2: 4.25365\n",
      "[326]\ttraining's rmse: 2.36098\ttraining's l2: 5.57422\tvalid_1's rmse: 2.06244\tvalid_1's l2: 4.25367\n",
      "[327]\ttraining's rmse: 2.36077\ttraining's l2: 5.57325\tvalid_1's rmse: 2.0624\tvalid_1's l2: 4.25348\n",
      "[328]\ttraining's rmse: 2.36062\ttraining's l2: 5.57254\tvalid_1's rmse: 2.06224\tvalid_1's l2: 4.25284\n",
      "[329]\ttraining's rmse: 2.36046\ttraining's l2: 5.57176\tvalid_1's rmse: 2.06226\tvalid_1's l2: 4.25291\n",
      "[330]\ttraining's rmse: 2.36022\ttraining's l2: 5.57064\tvalid_1's rmse: 2.06225\tvalid_1's l2: 4.25288\n",
      "[331]\ttraining's rmse: 2.36007\ttraining's l2: 5.56994\tvalid_1's rmse: 2.06226\tvalid_1's l2: 4.2529\n",
      "[332]\ttraining's rmse: 2.3599\ttraining's l2: 5.56912\tvalid_1's rmse: 2.0622\tvalid_1's l2: 4.25268\n"
     ]
    },
    {
     "name": "stdout",
     "output_type": "stream",
     "text": [
      "[333]\ttraining's rmse: 2.35966\ttraining's l2: 5.56797\tvalid_1's rmse: 2.06219\tvalid_1's l2: 4.25264\n",
      "[334]\ttraining's rmse: 2.35938\ttraining's l2: 5.56667\tvalid_1's rmse: 2.06218\tvalid_1's l2: 4.25259\n",
      "[335]\ttraining's rmse: 2.35922\ttraining's l2: 5.5659\tvalid_1's rmse: 2.0622\tvalid_1's l2: 4.25267\n",
      "[336]\ttraining's rmse: 2.35906\ttraining's l2: 5.56519\tvalid_1's rmse: 2.06227\tvalid_1's l2: 4.25297\n",
      "[337]\ttraining's rmse: 2.35893\ttraining's l2: 5.56453\tvalid_1's rmse: 2.06233\tvalid_1's l2: 4.25322\n",
      "[338]\ttraining's rmse: 2.35875\ttraining's l2: 5.56372\tvalid_1's rmse: 2.06226\tvalid_1's l2: 4.25292\n",
      "[339]\ttraining's rmse: 2.35861\ttraining's l2: 5.56303\tvalid_1's rmse: 2.06217\tvalid_1's l2: 4.25256\n",
      "[340]\ttraining's rmse: 2.35838\ttraining's l2: 5.56195\tvalid_1's rmse: 2.06219\tvalid_1's l2: 4.25263\n",
      "[341]\ttraining's rmse: 2.35824\ttraining's l2: 5.5613\tvalid_1's rmse: 2.06218\tvalid_1's l2: 4.25259\n",
      "[342]\ttraining's rmse: 2.35808\ttraining's l2: 5.56055\tvalid_1's rmse: 2.06234\tvalid_1's l2: 4.25323\n",
      "[343]\ttraining's rmse: 2.35791\ttraining's l2: 5.55973\tvalid_1's rmse: 2.06236\tvalid_1's l2: 4.25332\n",
      "[344]\ttraining's rmse: 2.35776\ttraining's l2: 5.55904\tvalid_1's rmse: 2.06237\tvalid_1's l2: 4.25336\n",
      "[345]\ttraining's rmse: 2.35756\ttraining's l2: 5.55809\tvalid_1's rmse: 2.0624\tvalid_1's l2: 4.25351\n",
      "[346]\ttraining's rmse: 2.35734\ttraining's l2: 5.55707\tvalid_1's rmse: 2.06243\tvalid_1's l2: 4.25363\n",
      "[347]\ttraining's rmse: 2.35714\ttraining's l2: 5.55613\tvalid_1's rmse: 2.06247\tvalid_1's l2: 4.25377\n",
      "[348]\ttraining's rmse: 2.35696\ttraining's l2: 5.55528\tvalid_1's rmse: 2.06247\tvalid_1's l2: 4.25378\n",
      "[349]\ttraining's rmse: 2.35685\ttraining's l2: 5.55474\tvalid_1's rmse: 2.06241\tvalid_1's l2: 4.25354\n",
      "[350]\ttraining's rmse: 2.35656\ttraining's l2: 5.55338\tvalid_1's rmse: 2.06234\tvalid_1's l2: 4.25324\n",
      "[351]\ttraining's rmse: 2.35635\ttraining's l2: 5.55239\tvalid_1's rmse: 2.06232\tvalid_1's l2: 4.25317\n",
      "[352]\ttraining's rmse: 2.3562\ttraining's l2: 5.55167\tvalid_1's rmse: 2.0623\tvalid_1's l2: 4.2531\n",
      "[353]\ttraining's rmse: 2.35596\ttraining's l2: 5.55055\tvalid_1's rmse: 2.06229\tvalid_1's l2: 4.25303\n",
      "[354]\ttraining's rmse: 2.3558\ttraining's l2: 5.5498\tvalid_1's rmse: 2.06224\tvalid_1's l2: 4.25283\n",
      "[355]\ttraining's rmse: 2.35564\ttraining's l2: 5.54904\tvalid_1's rmse: 2.06226\tvalid_1's l2: 4.25291\n",
      "[356]\ttraining's rmse: 2.35545\ttraining's l2: 5.54813\tvalid_1's rmse: 2.06226\tvalid_1's l2: 4.25293\n",
      "[357]\ttraining's rmse: 2.35513\ttraining's l2: 5.54662\tvalid_1's rmse: 2.06216\tvalid_1's l2: 4.25249\n",
      "[358]\ttraining's rmse: 2.35497\ttraining's l2: 5.54587\tvalid_1's rmse: 2.06216\tvalid_1's l2: 4.25252\n",
      "[359]\ttraining's rmse: 2.35465\ttraining's l2: 5.5444\tvalid_1's rmse: 2.06217\tvalid_1's l2: 4.25253\n",
      "[360]\ttraining's rmse: 2.35431\ttraining's l2: 5.5428\tvalid_1's rmse: 2.06216\tvalid_1's l2: 4.25252\n",
      "[361]\ttraining's rmse: 2.35417\ttraining's l2: 5.54212\tvalid_1's rmse: 2.06216\tvalid_1's l2: 4.25251\n",
      "[362]\ttraining's rmse: 2.35404\ttraining's l2: 5.54148\tvalid_1's rmse: 2.062\tvalid_1's l2: 4.25184\n",
      "[363]\ttraining's rmse: 2.35388\ttraining's l2: 5.54076\tvalid_1's rmse: 2.06197\tvalid_1's l2: 4.2517\n",
      "[364]\ttraining's rmse: 2.35373\ttraining's l2: 5.54005\tvalid_1's rmse: 2.06194\tvalid_1's l2: 4.2516\n",
      "[365]\ttraining's rmse: 2.35351\ttraining's l2: 5.53899\tvalid_1's rmse: 2.06189\tvalid_1's l2: 4.25139\n",
      "[366]\ttraining's rmse: 2.35337\ttraining's l2: 5.53835\tvalid_1's rmse: 2.06186\tvalid_1's l2: 4.25127\n",
      "[367]\ttraining's rmse: 2.35321\ttraining's l2: 5.5376\tvalid_1's rmse: 2.06185\tvalid_1's l2: 4.25123\n",
      "[368]\ttraining's rmse: 2.35306\ttraining's l2: 5.53689\tvalid_1's rmse: 2.06186\tvalid_1's l2: 4.25125\n",
      "[369]\ttraining's rmse: 2.35291\ttraining's l2: 5.53618\tvalid_1's rmse: 2.06186\tvalid_1's l2: 4.25128\n",
      "[370]\ttraining's rmse: 2.3528\ttraining's l2: 5.53565\tvalid_1's rmse: 2.06182\tvalid_1's l2: 4.25112\n",
      "[371]\ttraining's rmse: 2.35269\ttraining's l2: 5.53516\tvalid_1's rmse: 2.06181\tvalid_1's l2: 4.25106\n",
      "[372]\ttraining's rmse: 2.35256\ttraining's l2: 5.53455\tvalid_1's rmse: 2.06183\tvalid_1's l2: 4.25114\n",
      "[373]\ttraining's rmse: 2.35235\ttraining's l2: 5.53353\tvalid_1's rmse: 2.06182\tvalid_1's l2: 4.25112\n",
      "[374]\ttraining's rmse: 2.35208\ttraining's l2: 5.53226\tvalid_1's rmse: 2.06182\tvalid_1's l2: 4.25109\n",
      "[375]\ttraining's rmse: 2.35193\ttraining's l2: 5.5316\tvalid_1's rmse: 2.06187\tvalid_1's l2: 4.25131\n",
      "[376]\ttraining's rmse: 2.35175\ttraining's l2: 5.53072\tvalid_1's rmse: 2.06193\tvalid_1's l2: 4.25154\n",
      "[377]\ttraining's rmse: 2.35158\ttraining's l2: 5.52991\tvalid_1's rmse: 2.06201\tvalid_1's l2: 4.2519\n",
      "[378]\ttraining's rmse: 2.35144\ttraining's l2: 5.52925\tvalid_1's rmse: 2.062\tvalid_1's l2: 4.25184\n",
      "[379]\ttraining's rmse: 2.35123\ttraining's l2: 5.52829\tvalid_1's rmse: 2.06181\tvalid_1's l2: 4.25107\n",
      "[380]\ttraining's rmse: 2.35109\ttraining's l2: 5.5276\tvalid_1's rmse: 2.06176\tvalid_1's l2: 4.25086\n",
      "[381]\ttraining's rmse: 2.35094\ttraining's l2: 5.5269\tvalid_1's rmse: 2.06186\tvalid_1's l2: 4.25129\n",
      "[382]\ttraining's rmse: 2.35083\ttraining's l2: 5.52639\tvalid_1's rmse: 2.06184\tvalid_1's l2: 4.2512\n",
      "[383]\ttraining's rmse: 2.35073\ttraining's l2: 5.52595\tvalid_1's rmse: 2.06186\tvalid_1's l2: 4.25128\n",
      "[384]\ttraining's rmse: 2.3506\ttraining's l2: 5.52532\tvalid_1's rmse: 2.06179\tvalid_1's l2: 4.25097\n",
      "[385]\ttraining's rmse: 2.35041\ttraining's l2: 5.52441\tvalid_1's rmse: 2.06176\tvalid_1's l2: 4.25084\n",
      "[386]\ttraining's rmse: 2.35028\ttraining's l2: 5.52382\tvalid_1's rmse: 2.06174\tvalid_1's l2: 4.25078\n",
      "[387]\ttraining's rmse: 2.35016\ttraining's l2: 5.52325\tvalid_1's rmse: 2.06167\tvalid_1's l2: 4.25047\n",
      "[388]\ttraining's rmse: 2.34983\ttraining's l2: 5.52169\tvalid_1's rmse: 2.06165\tvalid_1's l2: 4.2504\n",
      "[389]\ttraining's rmse: 2.34965\ttraining's l2: 5.52083\tvalid_1's rmse: 2.06167\tvalid_1's l2: 4.25046\n",
      "[390]\ttraining's rmse: 2.34943\ttraining's l2: 5.5198\tvalid_1's rmse: 2.06179\tvalid_1's l2: 4.25096\n",
      "[391]\ttraining's rmse: 2.34922\ttraining's l2: 5.51882\tvalid_1's rmse: 2.06175\tvalid_1's l2: 4.25082\n",
      "[392]\ttraining's rmse: 2.34907\ttraining's l2: 5.51815\tvalid_1's rmse: 2.0617\tvalid_1's l2: 4.25059\n",
      "[393]\ttraining's rmse: 2.34888\ttraining's l2: 5.51726\tvalid_1's rmse: 2.06167\tvalid_1's l2: 4.25048\n",
      "[394]\ttraining's rmse: 2.34876\ttraining's l2: 5.51666\tvalid_1's rmse: 2.06173\tvalid_1's l2: 4.25073\n",
      "[395]\ttraining's rmse: 2.34866\ttraining's l2: 5.51618\tvalid_1's rmse: 2.06172\tvalid_1's l2: 4.25068\n",
      "[396]\ttraining's rmse: 2.34851\ttraining's l2: 5.5155\tvalid_1's rmse: 2.0616\tvalid_1's l2: 4.25021\n",
      "[397]\ttraining's rmse: 2.34839\ttraining's l2: 5.51494\tvalid_1's rmse: 2.06158\tvalid_1's l2: 4.25013\n",
      "[398]\ttraining's rmse: 2.34826\ttraining's l2: 5.51434\tvalid_1's rmse: 2.06157\tvalid_1's l2: 4.25005\n",
      "[399]\ttraining's rmse: 2.34813\ttraining's l2: 5.5137\tvalid_1's rmse: 2.06157\tvalid_1's l2: 4.25006\n",
      "[400]\ttraining's rmse: 2.34795\ttraining's l2: 5.51285\tvalid_1's rmse: 2.06151\tvalid_1's l2: 4.24983\n",
      "[401]\ttraining's rmse: 2.34776\ttraining's l2: 5.51196\tvalid_1's rmse: 2.06143\tvalid_1's l2: 4.24948\n",
      "[402]\ttraining's rmse: 2.34758\ttraining's l2: 5.51113\tvalid_1's rmse: 2.06138\tvalid_1's l2: 4.24928\n",
      "[403]\ttraining's rmse: 2.34744\ttraining's l2: 5.51049\tvalid_1's rmse: 2.06136\tvalid_1's l2: 4.2492\n",
      "[404]\ttraining's rmse: 2.34731\ttraining's l2: 5.50988\tvalid_1's rmse: 2.06129\tvalid_1's l2: 4.24893\n",
      "[405]\ttraining's rmse: 2.34718\ttraining's l2: 5.50926\tvalid_1's rmse: 2.06129\tvalid_1's l2: 4.2489\n",
      "[406]\ttraining's rmse: 2.34703\ttraining's l2: 5.50855\tvalid_1's rmse: 2.06123\tvalid_1's l2: 4.24868\n",
      "[407]\ttraining's rmse: 2.3469\ttraining's l2: 5.50794\tvalid_1's rmse: 2.06126\tvalid_1's l2: 4.24879\n",
      "[408]\ttraining's rmse: 2.34667\ttraining's l2: 5.50686\tvalid_1's rmse: 2.06119\tvalid_1's l2: 4.24851\n",
      "[409]\ttraining's rmse: 2.34627\ttraining's l2: 5.505\tvalid_1's rmse: 2.0612\tvalid_1's l2: 4.24853\n",
      "[410]\ttraining's rmse: 2.34618\ttraining's l2: 5.50457\tvalid_1's rmse: 2.06111\tvalid_1's l2: 4.24819\n",
      "[411]\ttraining's rmse: 2.34603\ttraining's l2: 5.50388\tvalid_1's rmse: 2.06118\tvalid_1's l2: 4.24846\n",
      "[412]\ttraining's rmse: 2.34595\ttraining's l2: 5.50349\tvalid_1's rmse: 2.06119\tvalid_1's l2: 4.24849\n",
      "[413]\ttraining's rmse: 2.34576\ttraining's l2: 5.50258\tvalid_1's rmse: 2.06112\tvalid_1's l2: 4.24823\n",
      "[414]\ttraining's rmse: 2.34563\ttraining's l2: 5.50197\tvalid_1's rmse: 2.06119\tvalid_1's l2: 4.24851\n",
      "[415]\ttraining's rmse: 2.3455\ttraining's l2: 5.50135\tvalid_1's rmse: 2.06116\tvalid_1's l2: 4.24838\n"
     ]
    },
    {
     "name": "stdout",
     "output_type": "stream",
     "text": [
      "[416]\ttraining's rmse: 2.34528\ttraining's l2: 5.50034\tvalid_1's rmse: 2.06115\tvalid_1's l2: 4.24833\n",
      "[417]\ttraining's rmse: 2.34511\ttraining's l2: 5.49952\tvalid_1's rmse: 2.06111\tvalid_1's l2: 4.24817\n",
      "[418]\ttraining's rmse: 2.345\ttraining's l2: 5.49904\tvalid_1's rmse: 2.06109\tvalid_1's l2: 4.24809\n",
      "[419]\ttraining's rmse: 2.3449\ttraining's l2: 5.49855\tvalid_1's rmse: 2.06111\tvalid_1's l2: 4.24816\n",
      "[420]\ttraining's rmse: 2.34476\ttraining's l2: 5.49791\tvalid_1's rmse: 2.06114\tvalid_1's l2: 4.24828\n",
      "[421]\ttraining's rmse: 2.34464\ttraining's l2: 5.49732\tvalid_1's rmse: 2.06109\tvalid_1's l2: 4.24807\n",
      "[422]\ttraining's rmse: 2.34455\ttraining's l2: 5.49692\tvalid_1's rmse: 2.06102\tvalid_1's l2: 4.2478\n",
      "[423]\ttraining's rmse: 2.34443\ttraining's l2: 5.49633\tvalid_1's rmse: 2.061\tvalid_1's l2: 4.24772\n",
      "[424]\ttraining's rmse: 2.34432\ttraining's l2: 5.49583\tvalid_1's rmse: 2.06099\tvalid_1's l2: 4.24768\n",
      "[425]\ttraining's rmse: 2.34411\ttraining's l2: 5.49486\tvalid_1's rmse: 2.06103\tvalid_1's l2: 4.24783\n",
      "[426]\ttraining's rmse: 2.34401\ttraining's l2: 5.49439\tvalid_1's rmse: 2.06103\tvalid_1's l2: 4.24785\n",
      "[427]\ttraining's rmse: 2.34388\ttraining's l2: 5.49379\tvalid_1's rmse: 2.06099\tvalid_1's l2: 4.24768\n",
      "[428]\ttraining's rmse: 2.34378\ttraining's l2: 5.4933\tvalid_1's rmse: 2.06101\tvalid_1's l2: 4.24775\n",
      "[429]\ttraining's rmse: 2.34354\ttraining's l2: 5.49218\tvalid_1's rmse: 2.06099\tvalid_1's l2: 4.24769\n",
      "[430]\ttraining's rmse: 2.34334\ttraining's l2: 5.49124\tvalid_1's rmse: 2.06099\tvalid_1's l2: 4.24769\n",
      "[431]\ttraining's rmse: 2.3431\ttraining's l2: 5.49011\tvalid_1's rmse: 2.06098\tvalid_1's l2: 4.24763\n",
      "[432]\ttraining's rmse: 2.34294\ttraining's l2: 5.48938\tvalid_1's rmse: 2.06101\tvalid_1's l2: 4.24776\n",
      "[433]\ttraining's rmse: 2.34284\ttraining's l2: 5.4889\tvalid_1's rmse: 2.06098\tvalid_1's l2: 4.24766\n",
      "[434]\ttraining's rmse: 2.34264\ttraining's l2: 5.48795\tvalid_1's rmse: 2.06094\tvalid_1's l2: 4.24746\n",
      "[435]\ttraining's rmse: 2.34252\ttraining's l2: 5.4874\tvalid_1's rmse: 2.06093\tvalid_1's l2: 4.24742\n",
      "[436]\ttraining's rmse: 2.34238\ttraining's l2: 5.48676\tvalid_1's rmse: 2.06096\tvalid_1's l2: 4.24757\n",
      "[437]\ttraining's rmse: 2.34225\ttraining's l2: 5.48612\tvalid_1's rmse: 2.0609\tvalid_1's l2: 4.24729\n",
      "[438]\ttraining's rmse: 2.3421\ttraining's l2: 5.48544\tvalid_1's rmse: 2.06087\tvalid_1's l2: 4.2472\n",
      "[439]\ttraining's rmse: 2.34197\ttraining's l2: 5.48481\tvalid_1's rmse: 2.0609\tvalid_1's l2: 4.2473\n",
      "[440]\ttraining's rmse: 2.34186\ttraining's l2: 5.4843\tvalid_1's rmse: 2.0609\tvalid_1's l2: 4.24732\n",
      "[441]\ttraining's rmse: 2.34175\ttraining's l2: 5.48377\tvalid_1's rmse: 2.0609\tvalid_1's l2: 4.24732\n",
      "[442]\ttraining's rmse: 2.34163\ttraining's l2: 5.48322\tvalid_1's rmse: 2.06094\tvalid_1's l2: 4.24746\n",
      "[443]\ttraining's rmse: 2.34152\ttraining's l2: 5.48273\tvalid_1's rmse: 2.06093\tvalid_1's l2: 4.24742\n",
      "[444]\ttraining's rmse: 2.34135\ttraining's l2: 5.48192\tvalid_1's rmse: 2.06126\tvalid_1's l2: 4.24881\n",
      "[445]\ttraining's rmse: 2.34129\ttraining's l2: 5.48163\tvalid_1's rmse: 2.06118\tvalid_1's l2: 4.24848\n",
      "[446]\ttraining's rmse: 2.34114\ttraining's l2: 5.48093\tvalid_1's rmse: 2.06118\tvalid_1's l2: 4.24846\n",
      "[447]\ttraining's rmse: 2.34102\ttraining's l2: 5.48036\tvalid_1's rmse: 2.06117\tvalid_1's l2: 4.24843\n",
      "[448]\ttraining's rmse: 2.34086\ttraining's l2: 5.4796\tvalid_1's rmse: 2.0611\tvalid_1's l2: 4.24813\n",
      "[449]\ttraining's rmse: 2.34073\ttraining's l2: 5.47902\tvalid_1's rmse: 2.06116\tvalid_1's l2: 4.24837\n",
      "[450]\ttraining's rmse: 2.34052\ttraining's l2: 5.47804\tvalid_1's rmse: 2.06108\tvalid_1's l2: 4.24806\n",
      "[451]\ttraining's rmse: 2.34043\ttraining's l2: 5.47761\tvalid_1's rmse: 2.06109\tvalid_1's l2: 4.2481\n",
      "[452]\ttraining's rmse: 2.34031\ttraining's l2: 5.47703\tvalid_1's rmse: 2.06106\tvalid_1's l2: 4.24797\n",
      "[453]\ttraining's rmse: 2.34019\ttraining's l2: 5.4765\tvalid_1's rmse: 2.06106\tvalid_1's l2: 4.24797\n",
      "[454]\ttraining's rmse: 2.34009\ttraining's l2: 5.476\tvalid_1's rmse: 2.06107\tvalid_1's l2: 4.24801\n",
      "[455]\ttraining's rmse: 2.33998\ttraining's l2: 5.47549\tvalid_1's rmse: 2.06106\tvalid_1's l2: 4.24798\n",
      "[456]\ttraining's rmse: 2.33979\ttraining's l2: 5.47462\tvalid_1's rmse: 2.06096\tvalid_1's l2: 4.24757\n",
      "[457]\ttraining's rmse: 2.33958\ttraining's l2: 5.47364\tvalid_1's rmse: 2.06097\tvalid_1's l2: 4.2476\n",
      "[458]\ttraining's rmse: 2.33949\ttraining's l2: 5.47321\tvalid_1's rmse: 2.06099\tvalid_1's l2: 4.24767\n",
      "[459]\ttraining's rmse: 2.33939\ttraining's l2: 5.47274\tvalid_1's rmse: 2.06095\tvalid_1's l2: 4.2475\n",
      "[460]\ttraining's rmse: 2.33917\ttraining's l2: 5.4717\tvalid_1's rmse: 2.06096\tvalid_1's l2: 4.24756\n",
      "[461]\ttraining's rmse: 2.33906\ttraining's l2: 5.4712\tvalid_1's rmse: 2.06094\tvalid_1's l2: 4.24746\n",
      "[462]\ttraining's rmse: 2.33898\ttraining's l2: 5.47083\tvalid_1's rmse: 2.06091\tvalid_1's l2: 4.24735\n",
      "[463]\ttraining's rmse: 2.33887\ttraining's l2: 5.47033\tvalid_1's rmse: 2.06095\tvalid_1's l2: 4.24749\n",
      "[464]\ttraining's rmse: 2.33878\ttraining's l2: 5.4699\tvalid_1's rmse: 2.0609\tvalid_1's l2: 4.24731\n",
      "[465]\ttraining's rmse: 2.33861\ttraining's l2: 5.46911\tvalid_1's rmse: 2.0608\tvalid_1's l2: 4.24688\n",
      "[466]\ttraining's rmse: 2.3385\ttraining's l2: 5.46859\tvalid_1's rmse: 2.06078\tvalid_1's l2: 4.2468\n",
      "[467]\ttraining's rmse: 2.33841\ttraining's l2: 5.46814\tvalid_1's rmse: 2.06078\tvalid_1's l2: 4.24681\n",
      "[468]\ttraining's rmse: 2.33829\ttraining's l2: 5.46759\tvalid_1's rmse: 2.0608\tvalid_1's l2: 4.24688\n",
      "[469]\ttraining's rmse: 2.33818\ttraining's l2: 5.46708\tvalid_1's rmse: 2.06075\tvalid_1's l2: 4.24669\n",
      "[470]\ttraining's rmse: 2.33804\ttraining's l2: 5.46645\tvalid_1's rmse: 2.06073\tvalid_1's l2: 4.2466\n",
      "[471]\ttraining's rmse: 2.33792\ttraining's l2: 5.46587\tvalid_1's rmse: 2.06072\tvalid_1's l2: 4.24655\n",
      "[472]\ttraining's rmse: 2.33785\ttraining's l2: 5.46555\tvalid_1's rmse: 2.06068\tvalid_1's l2: 4.2464\n",
      "[473]\ttraining's rmse: 2.33763\ttraining's l2: 5.46452\tvalid_1's rmse: 2.06053\tvalid_1's l2: 4.24578\n",
      "[474]\ttraining's rmse: 2.33754\ttraining's l2: 5.46411\tvalid_1's rmse: 2.06052\tvalid_1's l2: 4.24574\n",
      "[475]\ttraining's rmse: 2.33746\ttraining's l2: 5.46373\tvalid_1's rmse: 2.06048\tvalid_1's l2: 4.24557\n",
      "[476]\ttraining's rmse: 2.33734\ttraining's l2: 5.46315\tvalid_1's rmse: 2.06052\tvalid_1's l2: 4.24573\n",
      "[477]\ttraining's rmse: 2.33717\ttraining's l2: 5.46236\tvalid_1's rmse: 2.0605\tvalid_1's l2: 4.24566\n",
      "[478]\ttraining's rmse: 2.33694\ttraining's l2: 5.46131\tvalid_1's rmse: 2.0605\tvalid_1's l2: 4.24567\n",
      "[479]\ttraining's rmse: 2.33683\ttraining's l2: 5.46078\tvalid_1's rmse: 2.06051\tvalid_1's l2: 4.24571\n",
      "[480]\ttraining's rmse: 2.33672\ttraining's l2: 5.46027\tvalid_1's rmse: 2.06053\tvalid_1's l2: 4.24577\n",
      "[481]\ttraining's rmse: 2.33662\ttraining's l2: 5.45981\tvalid_1's rmse: 2.06054\tvalid_1's l2: 4.24581\n",
      "[482]\ttraining's rmse: 2.33648\ttraining's l2: 5.45913\tvalid_1's rmse: 2.06071\tvalid_1's l2: 4.24651\n",
      "[483]\ttraining's rmse: 2.33629\ttraining's l2: 5.45825\tvalid_1's rmse: 2.06043\tvalid_1's l2: 4.24537\n",
      "[484]\ttraining's rmse: 2.3362\ttraining's l2: 5.45782\tvalid_1's rmse: 2.06041\tvalid_1's l2: 4.24529\n",
      "[485]\ttraining's rmse: 2.33608\ttraining's l2: 5.45729\tvalid_1's rmse: 2.06039\tvalid_1's l2: 4.24522\n",
      "[486]\ttraining's rmse: 2.33599\ttraining's l2: 5.45686\tvalid_1's rmse: 2.06039\tvalid_1's l2: 4.2452\n",
      "[487]\ttraining's rmse: 2.33588\ttraining's l2: 5.45634\tvalid_1's rmse: 2.06038\tvalid_1's l2: 4.24518\n",
      "[488]\ttraining's rmse: 2.33578\ttraining's l2: 5.45589\tvalid_1's rmse: 2.06037\tvalid_1's l2: 4.24514\n",
      "[489]\ttraining's rmse: 2.33565\ttraining's l2: 5.45528\tvalid_1's rmse: 2.06037\tvalid_1's l2: 4.24512\n",
      "[490]\ttraining's rmse: 2.33552\ttraining's l2: 5.45466\tvalid_1's rmse: 2.06032\tvalid_1's l2: 4.2449\n",
      "[491]\ttraining's rmse: 2.33523\ttraining's l2: 5.45329\tvalid_1's rmse: 2.06031\tvalid_1's l2: 4.24488\n",
      "[492]\ttraining's rmse: 2.33509\ttraining's l2: 5.45265\tvalid_1's rmse: 2.06029\tvalid_1's l2: 4.24478\n",
      "[493]\ttraining's rmse: 2.3349\ttraining's l2: 5.45174\tvalid_1's rmse: 2.06026\tvalid_1's l2: 4.24469\n",
      "[494]\ttraining's rmse: 2.33479\ttraining's l2: 5.45126\tvalid_1's rmse: 2.06023\tvalid_1's l2: 4.24454\n",
      "[495]\ttraining's rmse: 2.33466\ttraining's l2: 5.45064\tvalid_1's rmse: 2.0602\tvalid_1's l2: 4.24443\n",
      "[496]\ttraining's rmse: 2.3345\ttraining's l2: 5.44988\tvalid_1's rmse: 2.0602\tvalid_1's l2: 4.24441\n",
      "[497]\ttraining's rmse: 2.33439\ttraining's l2: 5.44939\tvalid_1's rmse: 2.06021\tvalid_1's l2: 4.24445\n",
      "[498]\ttraining's rmse: 2.33429\ttraining's l2: 5.44889\tvalid_1's rmse: 2.06019\tvalid_1's l2: 4.2444\n"
     ]
    },
    {
     "name": "stdout",
     "output_type": "stream",
     "text": [
      "[499]\ttraining's rmse: 2.33415\ttraining's l2: 5.44828\tvalid_1's rmse: 2.0602\tvalid_1's l2: 4.24443\n",
      "[500]\ttraining's rmse: 2.33399\ttraining's l2: 5.44752\tvalid_1's rmse: 2.0602\tvalid_1's l2: 4.24441\n",
      "[501]\ttraining's rmse: 2.33381\ttraining's l2: 5.44668\tvalid_1's rmse: 2.06007\tvalid_1's l2: 4.24389\n",
      "[502]\ttraining's rmse: 2.33367\ttraining's l2: 5.44603\tvalid_1's rmse: 2.06009\tvalid_1's l2: 4.24396\n",
      "[503]\ttraining's rmse: 2.33361\ttraining's l2: 5.44574\tvalid_1's rmse: 2.06001\tvalid_1's l2: 4.24363\n",
      "[504]\ttraining's rmse: 2.33343\ttraining's l2: 5.44488\tvalid_1's rmse: 2.06006\tvalid_1's l2: 4.24383\n",
      "[505]\ttraining's rmse: 2.33331\ttraining's l2: 5.44436\tvalid_1's rmse: 2.06007\tvalid_1's l2: 4.24387\n",
      "[506]\ttraining's rmse: 2.33326\ttraining's l2: 5.44409\tvalid_1's rmse: 2.06002\tvalid_1's l2: 4.24367\n",
      "[507]\ttraining's rmse: 2.33308\ttraining's l2: 5.44328\tvalid_1's rmse: 2.06001\tvalid_1's l2: 4.24363\n",
      "[508]\ttraining's rmse: 2.33296\ttraining's l2: 5.4427\tvalid_1's rmse: 2.06009\tvalid_1's l2: 4.24396\n",
      "[509]\ttraining's rmse: 2.33276\ttraining's l2: 5.44175\tvalid_1's rmse: 2.06009\tvalid_1's l2: 4.24398\n",
      "[510]\ttraining's rmse: 2.33265\ttraining's l2: 5.44125\tvalid_1's rmse: 2.06007\tvalid_1's l2: 4.2439\n",
      "[511]\ttraining's rmse: 2.33255\ttraining's l2: 5.4408\tvalid_1's rmse: 2.06008\tvalid_1's l2: 4.24393\n",
      "[512]\ttraining's rmse: 2.3324\ttraining's l2: 5.44009\tvalid_1's rmse: 2.06006\tvalid_1's l2: 4.24386\n",
      "[513]\ttraining's rmse: 2.33228\ttraining's l2: 5.43951\tvalid_1's rmse: 2.06005\tvalid_1's l2: 4.24379\n",
      "[514]\ttraining's rmse: 2.33221\ttraining's l2: 5.43918\tvalid_1's rmse: 2.06004\tvalid_1's l2: 4.24376\n",
      "[515]\ttraining's rmse: 2.33209\ttraining's l2: 5.43867\tvalid_1's rmse: 2.06013\tvalid_1's l2: 4.24414\n",
      "[516]\ttraining's rmse: 2.33184\ttraining's l2: 5.43746\tvalid_1's rmse: 2.06013\tvalid_1's l2: 4.24412\n",
      "[517]\ttraining's rmse: 2.33177\ttraining's l2: 5.43717\tvalid_1's rmse: 2.06009\tvalid_1's l2: 4.24398\n",
      "[518]\ttraining's rmse: 2.33164\ttraining's l2: 5.43653\tvalid_1's rmse: 2.06012\tvalid_1's l2: 4.24409\n",
      "[519]\ttraining's rmse: 2.33147\ttraining's l2: 5.43574\tvalid_1's rmse: 2.06007\tvalid_1's l2: 4.2439\n",
      "[520]\ttraining's rmse: 2.33136\ttraining's l2: 5.43523\tvalid_1's rmse: 2.06005\tvalid_1's l2: 4.24379\n",
      "[521]\ttraining's rmse: 2.33127\ttraining's l2: 5.43483\tvalid_1's rmse: 2.06003\tvalid_1's l2: 4.24371\n",
      "[522]\ttraining's rmse: 2.33116\ttraining's l2: 5.43433\tvalid_1's rmse: 2.05993\tvalid_1's l2: 4.24333\n",
      "[523]\ttraining's rmse: 2.33105\ttraining's l2: 5.43378\tvalid_1's rmse: 2.05993\tvalid_1's l2: 4.24333\n",
      "[524]\ttraining's rmse: 2.33086\ttraining's l2: 5.43289\tvalid_1's rmse: 2.05992\tvalid_1's l2: 4.24328\n",
      "[525]\ttraining's rmse: 2.33076\ttraining's l2: 5.43244\tvalid_1's rmse: 2.05993\tvalid_1's l2: 4.24333\n",
      "[526]\ttraining's rmse: 2.33065\ttraining's l2: 5.43193\tvalid_1's rmse: 2.05991\tvalid_1's l2: 4.24323\n",
      "[527]\ttraining's rmse: 2.33053\ttraining's l2: 5.43136\tvalid_1's rmse: 2.05989\tvalid_1's l2: 4.24313\n",
      "[528]\ttraining's rmse: 2.33044\ttraining's l2: 5.43097\tvalid_1's rmse: 2.0599\tvalid_1's l2: 4.24317\n",
      "[529]\ttraining's rmse: 2.33034\ttraining's l2: 5.4305\tvalid_1's rmse: 2.05987\tvalid_1's l2: 4.24308\n",
      "[530]\ttraining's rmse: 2.33023\ttraining's l2: 5.42999\tvalid_1's rmse: 2.05978\tvalid_1's l2: 4.24269\n",
      "[531]\ttraining's rmse: 2.33014\ttraining's l2: 5.42954\tvalid_1's rmse: 2.05979\tvalid_1's l2: 4.24272\n",
      "[532]\ttraining's rmse: 2.33008\ttraining's l2: 5.42927\tvalid_1's rmse: 2.05977\tvalid_1's l2: 4.24265\n",
      "[533]\ttraining's rmse: 2.32999\ttraining's l2: 5.42883\tvalid_1's rmse: 2.05973\tvalid_1's l2: 4.2425\n",
      "[534]\ttraining's rmse: 2.32987\ttraining's l2: 5.42829\tvalid_1's rmse: 2.05988\tvalid_1's l2: 4.24309\n",
      "[535]\ttraining's rmse: 2.32971\ttraining's l2: 5.42756\tvalid_1's rmse: 2.05989\tvalid_1's l2: 4.24314\n",
      "[536]\ttraining's rmse: 2.32956\ttraining's l2: 5.42687\tvalid_1's rmse: 2.06008\tvalid_1's l2: 4.24391\n",
      "[537]\ttraining's rmse: 2.32951\ttraining's l2: 5.42662\tvalid_1's rmse: 2.06008\tvalid_1's l2: 4.24393\n",
      "[538]\ttraining's rmse: 2.32942\ttraining's l2: 5.42621\tvalid_1's rmse: 2.06006\tvalid_1's l2: 4.24383\n",
      "[539]\ttraining's rmse: 2.32927\ttraining's l2: 5.42548\tvalid_1's rmse: 2.06011\tvalid_1's l2: 4.24406\n",
      "[540]\ttraining's rmse: 2.32922\ttraining's l2: 5.42526\tvalid_1's rmse: 2.0601\tvalid_1's l2: 4.24403\n",
      "[541]\ttraining's rmse: 2.32903\ttraining's l2: 5.42437\tvalid_1's rmse: 2.0601\tvalid_1's l2: 4.244\n",
      "[542]\ttraining's rmse: 2.32892\ttraining's l2: 5.42387\tvalid_1's rmse: 2.06013\tvalid_1's l2: 4.24412\n",
      "[543]\ttraining's rmse: 2.32875\ttraining's l2: 5.42305\tvalid_1's rmse: 2.06006\tvalid_1's l2: 4.24385\n",
      "[544]\ttraining's rmse: 2.32864\ttraining's l2: 5.42258\tvalid_1's rmse: 2.06006\tvalid_1's l2: 4.24385\n",
      "[545]\ttraining's rmse: 2.32853\ttraining's l2: 5.42206\tvalid_1's rmse: 2.06014\tvalid_1's l2: 4.24418\n",
      "[546]\ttraining's rmse: 2.32844\ttraining's l2: 5.42165\tvalid_1's rmse: 2.0601\tvalid_1's l2: 4.244\n",
      "[547]\ttraining's rmse: 2.32839\ttraining's l2: 5.4214\tvalid_1's rmse: 2.06009\tvalid_1's l2: 4.24398\n",
      "[548]\ttraining's rmse: 2.32835\ttraining's l2: 5.42119\tvalid_1's rmse: 2.06007\tvalid_1's l2: 4.2439\n",
      "[549]\ttraining's rmse: 2.32819\ttraining's l2: 5.42045\tvalid_1's rmse: 2.05996\tvalid_1's l2: 4.24344\n",
      "[550]\ttraining's rmse: 2.32806\ttraining's l2: 5.41987\tvalid_1's rmse: 2.05996\tvalid_1's l2: 4.24344\n",
      "[551]\ttraining's rmse: 2.32792\ttraining's l2: 5.41922\tvalid_1's rmse: 2.05989\tvalid_1's l2: 4.24314\n",
      "[552]\ttraining's rmse: 2.32782\ttraining's l2: 5.41873\tvalid_1's rmse: 2.05988\tvalid_1's l2: 4.2431\n",
      "[553]\ttraining's rmse: 2.32774\ttraining's l2: 5.41838\tvalid_1's rmse: 2.0599\tvalid_1's l2: 4.24319\n",
      "[554]\ttraining's rmse: 2.32763\ttraining's l2: 5.41784\tvalid_1's rmse: 2.05992\tvalid_1's l2: 4.24327\n",
      "[555]\ttraining's rmse: 2.32758\ttraining's l2: 5.41763\tvalid_1's rmse: 2.05992\tvalid_1's l2: 4.24325\n",
      "[556]\ttraining's rmse: 2.32745\ttraining's l2: 5.41703\tvalid_1's rmse: 2.05991\tvalid_1's l2: 4.24322\n",
      "[557]\ttraining's rmse: 2.32739\ttraining's l2: 5.41674\tvalid_1's rmse: 2.05989\tvalid_1's l2: 4.24315\n",
      "[558]\ttraining's rmse: 2.32732\ttraining's l2: 5.41643\tvalid_1's rmse: 2.05987\tvalid_1's l2: 4.24307\n",
      "[559]\ttraining's rmse: 2.32727\ttraining's l2: 5.41619\tvalid_1's rmse: 2.05989\tvalid_1's l2: 4.24316\n",
      "[560]\ttraining's rmse: 2.32714\ttraining's l2: 5.41558\tvalid_1's rmse: 2.05989\tvalid_1's l2: 4.24314\n",
      "[561]\ttraining's rmse: 2.32703\ttraining's l2: 5.41508\tvalid_1's rmse: 2.05988\tvalid_1's l2: 4.24312\n",
      "[562]\ttraining's rmse: 2.32686\ttraining's l2: 5.41427\tvalid_1's rmse: 2.05986\tvalid_1's l2: 4.24304\n",
      "[563]\ttraining's rmse: 2.32675\ttraining's l2: 5.41378\tvalid_1's rmse: 2.05984\tvalid_1's l2: 4.24292\n",
      "[564]\ttraining's rmse: 2.32668\ttraining's l2: 5.41343\tvalid_1's rmse: 2.05982\tvalid_1's l2: 4.24286\n",
      "[565]\ttraining's rmse: 2.32658\ttraining's l2: 5.41298\tvalid_1's rmse: 2.05983\tvalid_1's l2: 4.2429\n",
      "[566]\ttraining's rmse: 2.32651\ttraining's l2: 5.41264\tvalid_1's rmse: 2.0598\tvalid_1's l2: 4.24278\n",
      "[567]\ttraining's rmse: 2.32632\ttraining's l2: 5.41177\tvalid_1's rmse: 2.05979\tvalid_1's l2: 4.24274\n",
      "[568]\ttraining's rmse: 2.3262\ttraining's l2: 5.41119\tvalid_1's rmse: 2.0598\tvalid_1's l2: 4.24276\n",
      "[569]\ttraining's rmse: 2.32613\ttraining's l2: 5.41089\tvalid_1's rmse: 2.05981\tvalid_1's l2: 4.24283\n",
      "[570]\ttraining's rmse: 2.32599\ttraining's l2: 5.41022\tvalid_1's rmse: 2.05985\tvalid_1's l2: 4.24299\n",
      "[571]\ttraining's rmse: 2.32584\ttraining's l2: 5.40955\tvalid_1's rmse: 2.05986\tvalid_1's l2: 4.243\n",
      "[572]\ttraining's rmse: 2.32572\ttraining's l2: 5.40895\tvalid_1's rmse: 2.05985\tvalid_1's l2: 4.24299\n",
      "[573]\ttraining's rmse: 2.32563\ttraining's l2: 5.40857\tvalid_1's rmse: 2.05985\tvalid_1's l2: 4.24298\n",
      "[574]\ttraining's rmse: 2.32552\ttraining's l2: 5.40803\tvalid_1's rmse: 2.05986\tvalid_1's l2: 4.24302\n",
      "[575]\ttraining's rmse: 2.32539\ttraining's l2: 5.40744\tvalid_1's rmse: 2.05989\tvalid_1's l2: 4.24315\n",
      "[576]\ttraining's rmse: 2.32533\ttraining's l2: 5.40717\tvalid_1's rmse: 2.05988\tvalid_1's l2: 4.24312\n",
      "[577]\ttraining's rmse: 2.32523\ttraining's l2: 5.40671\tvalid_1's rmse: 2.05995\tvalid_1's l2: 4.24341\n",
      "[578]\ttraining's rmse: 2.32517\ttraining's l2: 5.4064\tvalid_1's rmse: 2.05995\tvalid_1's l2: 4.2434\n",
      "[579]\ttraining's rmse: 2.32507\ttraining's l2: 5.40593\tvalid_1's rmse: 2.05994\tvalid_1's l2: 4.24336\n",
      "[580]\ttraining's rmse: 2.32494\ttraining's l2: 5.40535\tvalid_1's rmse: 2.05992\tvalid_1's l2: 4.24326\n",
      "[581]\ttraining's rmse: 2.32483\ttraining's l2: 5.40483\tvalid_1's rmse: 2.05992\tvalid_1's l2: 4.24327\n"
     ]
    },
    {
     "name": "stdout",
     "output_type": "stream",
     "text": [
      "[582]\ttraining's rmse: 2.3247\ttraining's l2: 5.40421\tvalid_1's rmse: 2.05989\tvalid_1's l2: 4.24315\n",
      "[583]\ttraining's rmse: 2.32452\ttraining's l2: 5.40338\tvalid_1's rmse: 2.05991\tvalid_1's l2: 4.24325\n",
      "[584]\ttraining's rmse: 2.32444\ttraining's l2: 5.40304\tvalid_1's rmse: 2.06025\tvalid_1's l2: 4.24462\n",
      "[585]\ttraining's rmse: 2.32433\ttraining's l2: 5.40249\tvalid_1's rmse: 2.0602\tvalid_1's l2: 4.24442\n",
      "[586]\ttraining's rmse: 2.32422\ttraining's l2: 5.40202\tvalid_1's rmse: 2.06019\tvalid_1's l2: 4.24437\n",
      "[587]\ttraining's rmse: 2.32413\ttraining's l2: 5.40156\tvalid_1's rmse: 2.06018\tvalid_1's l2: 4.24434\n",
      "[588]\ttraining's rmse: 2.32407\ttraining's l2: 5.40129\tvalid_1's rmse: 2.0601\tvalid_1's l2: 4.244\n",
      "[589]\ttraining's rmse: 2.32396\ttraining's l2: 5.4008\tvalid_1's rmse: 2.06013\tvalid_1's l2: 4.24412\n",
      "[590]\ttraining's rmse: 2.32388\ttraining's l2: 5.40044\tvalid_1's rmse: 2.06007\tvalid_1's l2: 4.24389\n",
      "[591]\ttraining's rmse: 2.32378\ttraining's l2: 5.39993\tvalid_1's rmse: 2.06005\tvalid_1's l2: 4.24382\n",
      "[592]\ttraining's rmse: 2.32372\ttraining's l2: 5.39966\tvalid_1's rmse: 2.06005\tvalid_1's l2: 4.24379\n",
      "[593]\ttraining's rmse: 2.32362\ttraining's l2: 5.39919\tvalid_1's rmse: 2.06003\tvalid_1's l2: 4.24373\n",
      "[594]\ttraining's rmse: 2.32352\ttraining's l2: 5.39875\tvalid_1's rmse: 2.06002\tvalid_1's l2: 4.24368\n",
      "[595]\ttraining's rmse: 2.32343\ttraining's l2: 5.39835\tvalid_1's rmse: 2.05996\tvalid_1's l2: 4.24345\n",
      "[596]\ttraining's rmse: 2.32334\ttraining's l2: 5.39792\tvalid_1's rmse: 2.05995\tvalid_1's l2: 4.24339\n",
      "[597]\ttraining's rmse: 2.32314\ttraining's l2: 5.39697\tvalid_1's rmse: 2.06083\tvalid_1's l2: 4.24702\n",
      "[598]\ttraining's rmse: 2.32309\ttraining's l2: 5.39673\tvalid_1's rmse: 2.06084\tvalid_1's l2: 4.24705\n",
      "[599]\ttraining's rmse: 2.32301\ttraining's l2: 5.39638\tvalid_1's rmse: 2.06081\tvalid_1's l2: 4.24692\n",
      "[600]\ttraining's rmse: 2.32295\ttraining's l2: 5.3961\tvalid_1's rmse: 2.06081\tvalid_1's l2: 4.24694\n",
      "[601]\ttraining's rmse: 2.32288\ttraining's l2: 5.39577\tvalid_1's rmse: 2.06082\tvalid_1's l2: 4.24698\n",
      "[602]\ttraining's rmse: 2.32283\ttraining's l2: 5.39553\tvalid_1's rmse: 2.06077\tvalid_1's l2: 4.24678\n",
      "[603]\ttraining's rmse: 2.32273\ttraining's l2: 5.39506\tvalid_1's rmse: 2.06078\tvalid_1's l2: 4.24682\n",
      "[604]\ttraining's rmse: 2.32259\ttraining's l2: 5.39442\tvalid_1's rmse: 2.06079\tvalid_1's l2: 4.24684\n",
      "[605]\ttraining's rmse: 2.32247\ttraining's l2: 5.39387\tvalid_1's rmse: 2.06081\tvalid_1's l2: 4.24693\n",
      "[606]\ttraining's rmse: 2.32241\ttraining's l2: 5.39357\tvalid_1's rmse: 2.06083\tvalid_1's l2: 4.247\n",
      "[607]\ttraining's rmse: 2.32232\ttraining's l2: 5.39318\tvalid_1's rmse: 2.06084\tvalid_1's l2: 4.24707\n",
      "[608]\ttraining's rmse: 2.32224\ttraining's l2: 5.39281\tvalid_1's rmse: 2.06083\tvalid_1's l2: 4.24703\n",
      "[609]\ttraining's rmse: 2.32217\ttraining's l2: 5.39248\tvalid_1's rmse: 2.06081\tvalid_1's l2: 4.24694\n",
      "[610]\ttraining's rmse: 2.32207\ttraining's l2: 5.39201\tvalid_1's rmse: 2.06078\tvalid_1's l2: 4.24681\n",
      "[611]\ttraining's rmse: 2.32202\ttraining's l2: 5.39178\tvalid_1's rmse: 2.06076\tvalid_1's l2: 4.24675\n",
      "[612]\ttraining's rmse: 2.32195\ttraining's l2: 5.39146\tvalid_1's rmse: 2.06074\tvalid_1's l2: 4.24666\n",
      "[613]\ttraining's rmse: 2.32191\ttraining's l2: 5.39126\tvalid_1's rmse: 2.06074\tvalid_1's l2: 4.24663\n",
      "[614]\ttraining's rmse: 2.32181\ttraining's l2: 5.3908\tvalid_1's rmse: 2.06074\tvalid_1's l2: 4.24665\n",
      "[615]\ttraining's rmse: 2.3217\ttraining's l2: 5.3903\tvalid_1's rmse: 2.06071\tvalid_1's l2: 4.24653\n",
      "[616]\ttraining's rmse: 2.32152\ttraining's l2: 5.38944\tvalid_1's rmse: 2.06086\tvalid_1's l2: 4.24712\n",
      "[617]\ttraining's rmse: 2.32141\ttraining's l2: 5.38893\tvalid_1's rmse: 2.06084\tvalid_1's l2: 4.24706\n",
      "[618]\ttraining's rmse: 2.32131\ttraining's l2: 5.38847\tvalid_1's rmse: 2.0608\tvalid_1's l2: 4.24688\n",
      "[619]\ttraining's rmse: 2.32124\ttraining's l2: 5.38817\tvalid_1's rmse: 2.0608\tvalid_1's l2: 4.24688\n",
      "[620]\ttraining's rmse: 2.32113\ttraining's l2: 5.38763\tvalid_1's rmse: 2.06079\tvalid_1's l2: 4.24685\n",
      "[621]\ttraining's rmse: 2.32094\ttraining's l2: 5.38675\tvalid_1's rmse: 2.06083\tvalid_1's l2: 4.24702\n",
      "[622]\ttraining's rmse: 2.32089\ttraining's l2: 5.38652\tvalid_1's rmse: 2.06081\tvalid_1's l2: 4.24694\n",
      "[623]\ttraining's rmse: 2.32073\ttraining's l2: 5.38579\tvalid_1's rmse: 2.06081\tvalid_1's l2: 4.24695\n",
      "[624]\ttraining's rmse: 2.32064\ttraining's l2: 5.38538\tvalid_1's rmse: 2.06081\tvalid_1's l2: 4.24694\n",
      "[625]\ttraining's rmse: 2.32052\ttraining's l2: 5.38481\tvalid_1's rmse: 2.06082\tvalid_1's l2: 4.24698\n",
      "[626]\ttraining's rmse: 2.3204\ttraining's l2: 5.38426\tvalid_1's rmse: 2.06082\tvalid_1's l2: 4.24698\n",
      "[627]\ttraining's rmse: 2.32028\ttraining's l2: 5.38369\tvalid_1's rmse: 2.0609\tvalid_1's l2: 4.2473\n",
      "[628]\ttraining's rmse: 2.32021\ttraining's l2: 5.38337\tvalid_1's rmse: 2.0609\tvalid_1's l2: 4.2473\n",
      "[629]\ttraining's rmse: 2.32015\ttraining's l2: 5.38308\tvalid_1's rmse: 2.06085\tvalid_1's l2: 4.2471\n",
      "[630]\ttraining's rmse: 2.32004\ttraining's l2: 5.38261\tvalid_1's rmse: 2.06081\tvalid_1's l2: 4.24692\n",
      "[631]\ttraining's rmse: 2.31994\ttraining's l2: 5.38214\tvalid_1's rmse: 2.0608\tvalid_1's l2: 4.24689\n",
      "[632]\ttraining's rmse: 2.31984\ttraining's l2: 5.38167\tvalid_1's rmse: 2.06079\tvalid_1's l2: 4.24687\n",
      "[633]\ttraining's rmse: 2.31976\ttraining's l2: 5.38127\tvalid_1's rmse: 2.06076\tvalid_1's l2: 4.24671\n",
      "Early stopping, best iteration is:\n",
      "[533]\ttraining's rmse: 2.32999\ttraining's l2: 5.42883\tvalid_1's rmse: 2.05973\tvalid_1's l2: 4.2425\n"
     ]
    },
    {
     "data": {
      "text/plain": [
       "LGBMRegressor(boosting_type='gbdt', class_weight=None, colsample_bytree=1.0,\n",
       "              importance_type='gain', learning_rate=0.05, max_depth=-1,\n",
       "              min_child_samples=20, min_child_weight=0.001, min_split_gain=0.0,\n",
       "              n_estimators=1000, n_jobs=-1, num_leaves=31, objective=None,\n",
       "              random_state=0, reg_alpha=0.0, reg_lambda=0.0, silent=True,\n",
       "              subsample=1.0, subsample_for_bin=200000, subsample_freq=0)"
      ]
     },
     "execution_count": 17,
     "metadata": {},
     "output_type": "execute_result"
    }
   ],
   "source": [
    "model.fit(\n",
    "    X,\n",
    "    y,\n",
    "    categorical_feature=categorical_features,\n",
    "    early_stopping_rounds=100,\n",
    "    eval_metric=\"rmse\",\n",
    "    eval_set=[(X, y), (X_valid, y_valid)],\n",
    ")"
   ]
  },
  {
   "cell_type": "code",
   "execution_count": 18,
   "metadata": {},
   "outputs": [
    {
     "data": {
      "image/png": "[encoded data removed]",
      "text/plain": [
       "<Figure size 1152x648 with 1 Axes>"
      ]
     },
     "metadata": {
      "needs_background": "light"
     },
     "output_type": "display_data"
    }
   ],
   "source": [
    "ax = lgb.plot_metric(model, metric=\"rmse\", figsize=(16, 9))"
   ]
  },
  {
   "cell_type": "code",
   "execution_count": 19,
   "metadata": {
    "scrolled": false
   },
   "outputs": [
    {
     "data": {
      "image/png": "[encoded data removed]",
      "text/plain": [
       "<Figure size 1152x648 with 1 Axes>"
      ]
     },
     "metadata": {
      "needs_background": "light"
     },
     "output_type": "display_data"
    }
   ],
   "source": [
    "ax = lgb.plot_importance(model, figsize=(16, 9))"
   ]
  },
  {
   "cell_type": "code",
   "execution_count": 20,
   "metadata": {
    "scrolled": true
   },
   "outputs": [
    {
     "data": {
      "text/plain": [
       "['../models/model.joblib']"
      ]
     },
     "execution_count": 20,
     "metadata": {},
     "output_type": "execute_result"
    }
   ],
   "source": [
    "joblib.dump(model, model_path)"
   ]
  }
 ],
 "metadata": {
  "anaconda-cloud": {},
  "kernelspec": {
   "display_name": "Python 3",
   "language": "python",
   "name": "python3"
  },
  "language_info": {
   "codemirror_mode": {
    "name": "ipython",
    "version": 3
   },
   "file_extension": ".py",
   "mimetype": "text/x-python",
   "name": "python",
   "nbconvert_exporter": "python",
   "pygments_lexer": "ipython3",
   "version": "3.7.6"
  }
 },
 "nbformat": 4,
 "nbformat_minor": 2
}
