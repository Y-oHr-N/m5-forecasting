{
 "cells": [
  {
   "cell_type": "code",
   "execution_count": 1,
   "metadata": {},
   "outputs": [],
   "source": [
    "import gc\n",
    "import pathlib\n",
    "import sys"
   ]
  },
  {
   "cell_type": "code",
   "execution_count": 2,
   "metadata": {},
   "outputs": [],
   "source": [
    "import numpy as np\n",
    "import pandas as pd\n",
    "from workalendar.usa import California\n",
    "from workalendar.usa import Texas\n",
    "from workalendar.usa import Wisconsin"
   ]
  },
  {
   "cell_type": "code",
   "execution_count": 3,
   "metadata": {},
   "outputs": [],
   "source": [
    "root_dir_path = pathlib.Path(\"..\")\n",
    "data_dir_path = root_dir_path / \"data\"\n",
    "processed_dir_path = data_dir_path / \"processed\"\n",
    "train_path = processed_dir_path / \"train.parquet\"\n",
    "train_engineered_path = processed_dir_path / \"train_engineered.parquet\"\n",
    "test_path = processed_dir_path / \"test.parquet\"\n",
    "test_engineered_path = processed_dir_path / \"test_engineered.parquet\"\n",
    "src_dir_path = root_dir_path / \"src\""
   ]
  },
  {
   "cell_type": "code",
   "execution_count": 4,
   "metadata": {},
   "outputs": [],
   "source": [
    "sys.path.append(str(src_dir_path))"
   ]
  },
  {
   "cell_type": "code",
   "execution_count": 5,
   "metadata": {},
   "outputs": [],
   "source": [
    "from constants import *\n",
    "from utils import *"
   ]
  },
  {
   "cell_type": "code",
   "execution_count": 6,
   "metadata": {},
   "outputs": [],
   "source": [
    "train = pd.read_parquet(train_path)\n",
    "test = pd.read_parquet(test_path)"
   ]
  },
  {
   "cell_type": "code",
   "execution_count": 7,
   "metadata": {},
   "outputs": [],
   "source": [
    "train_size, _ = train.shape\n",
    "train = pd.concat([train, test])"
   ]
  },
  {
   "cell_type": "code",
   "execution_count": 8,
   "metadata": {},
   "outputs": [],
   "source": [
    "reduce_memory_usage(train)"
   ]
  },
  {
   "cell_type": "code",
   "execution_count": 9,
   "metadata": {},
   "outputs": [],
   "source": [
    "del test"
   ]
  },
  {
   "cell_type": "code",
   "execution_count": 10,
   "metadata": {},
   "outputs": [
    {
     "data": {
      "text/plain": [
       "40"
      ]
     },
     "execution_count": 10,
     "metadata": {},
     "output_type": "execute_result"
    }
   ],
   "source": [
    "gc.collect()"
   ]
  },
  {
   "cell_type": "code",
   "execution_count": 11,
   "metadata": {},
   "outputs": [],
   "source": [
    "# Create calendar features\n",
    "for col in calendar_features:\n",
    "    train[col] = getattr(train[\"date\"].dt, col)\n",
    "\n",
    "cals = [\n",
    "    California(),\n",
    "    Texas(),\n",
    "    Wisconsin(),\n",
    "]\n",
    "\n",
    "intermediate = train[\"date\"].unique()\n",
    "intermediate = pd.DataFrame(intermediate, columns=[\"date\"])\n",
    "\n",
    "for cal in cals:\n",
    "    intermediate[f\"is_{cal.__class__.__name__.lower()}_holiday\"] = intermediate[\"date\"].apply(cal.is_holiday)\n",
    "\n",
    "train = train.merge(intermediate, how=\"left\", on=\"date\")"
   ]
  },
  {
   "cell_type": "code",
   "execution_count": 12,
   "metadata": {},
   "outputs": [],
   "source": [
    "reduce_memory_usage(train)"
   ]
  },
  {
   "cell_type": "code",
   "execution_count": 13,
   "metadata": {},
   "outputs": [],
   "source": [
    "grouped = train.groupby([\"store_id\", \"item_id\"])"
   ]
  },
  {
   "cell_type": "code",
   "execution_count": 14,
   "metadata": {},
   "outputs": [],
   "source": [
    "# Create lag features\n",
    "for i in [1, 28]:\n",
    "    train[f\"demand_shift_{i}\"] = grouped[\"demand\"].shift(i)\n",
    "    train[f\"sell_price_shift_{i}\"] = grouped[\"sell_price\"].shift(i)"
   ]
  },
  {
   "cell_type": "code",
   "execution_count": 15,
   "metadata": {},
   "outputs": [],
   "source": [
    "train[\"sell_price_day_over_day\"] = train[\"sell_price\"] / train[\"sell_price_shift_1\"]"
   ]
  },
  {
   "cell_type": "code",
   "execution_count": 16,
   "metadata": {},
   "outputs": [],
   "source": [
    "# Create aggregated features\n",
    "for i in [28]:\n",
    "    train[f\"demand_shift_1_rolling_{i}_mean\"] = grouped[\"demand_shift_1\"].transform(lambda x: x.rolling(i, min_periods=1).mean())"
   ]
  },
  {
   "cell_type": "code",
   "execution_count": 17,
   "metadata": {},
   "outputs": [],
   "source": [
    "reduce_memory_usage(train)"
   ]
  },
  {
   "cell_type": "code",
   "execution_count": 18,
   "metadata": {},
   "outputs": [],
   "source": [
    "del grouped"
   ]
  },
  {
   "cell_type": "code",
   "execution_count": 19,
   "metadata": {},
   "outputs": [
    {
     "data": {
      "text/plain": [
       "60"
      ]
     },
     "execution_count": 19,
     "metadata": {},
     "output_type": "execute_result"
    }
   ],
   "source": [
    "gc.collect()"
   ]
  },
  {
   "cell_type": "code",
   "execution_count": 20,
   "metadata": {},
   "outputs": [],
   "source": [
    "# Create missing indicators\n",
    "train[\"sell_price_isnull\"] = train[\"sell_price\"].isnull()"
   ]
  },
  {
   "cell_type": "code",
   "execution_count": 21,
   "metadata": {},
   "outputs": [],
   "source": [
    "train, test = train.iloc[:train_size], train.iloc[train_size:]"
   ]
  },
  {
   "cell_type": "code",
   "execution_count": 22,
   "metadata": {},
   "outputs": [],
   "source": [
    "reduce_memory_usage(train)"
   ]
  },
  {
   "cell_type": "code",
   "execution_count": 23,
   "metadata": {},
   "outputs": [],
   "source": [
    "test.drop(columns=\"demand\", inplace=True)"
   ]
  },
  {
   "cell_type": "code",
   "execution_count": 24,
   "metadata": {
    "scrolled": false
   },
   "outputs": [
    {
     "name": "stdout",
     "output_type": "stream",
     "text": [
      "<class 'pandas.core.frame.DataFrame'>\n",
      "Int64Index: 58327370 entries, 0 to 58327369\n",
      "Data columns (total 38 columns):\n",
      " #   Column                          Dtype         \n",
      "---  ------                          -----         \n",
      " 0   id                              object        \n",
      " 1   item_id                         int16         \n",
      " 2   store_id                        int8          \n",
      " 3   dept_id                         int8          \n",
      " 4   cat_id                          int8          \n",
      " 5   state_id                        int8          \n",
      " 6   d                               object        \n",
      " 7   demand                          int16         \n",
      " 8   date                            datetime64[ns]\n",
      " 9   event_name_1                    int8          \n",
      " 10  event_type_1                    int8          \n",
      " 11  event_name_2                    int8          \n",
      " 12  event_type_2                    int8          \n",
      " 13  snap_CA                         int8          \n",
      " 14  snap_TX                         int8          \n",
      " 15  snap_WI                         int8          \n",
      " 16  sell_price                      float32       \n",
      " 17  year                            int16         \n",
      " 18  dayofyear                       int16         \n",
      " 19  weekofyear                      int8          \n",
      " 20  quarter                         int8          \n",
      " 21  month                           int8          \n",
      " 22  day                             int8          \n",
      " 23  weekday                         int8          \n",
      " 24  is_year_start                   bool          \n",
      " 25  is_year_end                     bool          \n",
      " 26  is_month_start                  bool          \n",
      " 27  is_month_end                    bool          \n",
      " 28  is_california_holiday           bool          \n",
      " 29  is_texas_holiday                bool          \n",
      " 30  is_wisconsin_holiday            bool          \n",
      " 31  demand_shift_1                  float32       \n",
      " 32  sell_price_shift_1              float32       \n",
      " 33  demand_shift_28                 float32       \n",
      " 34  sell_price_shift_28             float32       \n",
      " 35  sell_price_day_over_day         float32       \n",
      " 36  demand_shift_1_rolling_28_mean  float32       \n",
      " 37  sell_price_isnull               bool          \n",
      "dtypes: bool(8), datetime64[ns](1), float32(7), int16(4), int8(16), object(2)\n",
      "memory usage: 5.0+ GB\n"
     ]
    }
   ],
   "source": [
    "train.info()"
   ]
  },
  {
   "cell_type": "code",
   "execution_count": 25,
   "metadata": {},
   "outputs": [
    {
     "data": {
      "text/plain": [
       "id                                       0\n",
       "item_id                                  0\n",
       "store_id                                 0\n",
       "dept_id                                  0\n",
       "cat_id                                   0\n",
       "state_id                                 0\n",
       "d                                        0\n",
       "demand                                   0\n",
       "date                                     0\n",
       "event_name_1                             0\n",
       "event_type_1                             0\n",
       "event_name_2                             0\n",
       "event_type_2                             0\n",
       "snap_CA                                  0\n",
       "snap_TX                                  0\n",
       "snap_WI                                  0\n",
       "sell_price                        12299413\n",
       "year                                     0\n",
       "dayofyear                                0\n",
       "weekofyear                               0\n",
       "quarter                                  0\n",
       "month                                    0\n",
       "day                                      0\n",
       "weekday                                  0\n",
       "is_year_start                            0\n",
       "is_year_end                              0\n",
       "is_month_start                           0\n",
       "is_month_end                             0\n",
       "is_california_holiday                    0\n",
       "is_texas_holiday                         0\n",
       "is_wisconsin_holiday                     0\n",
       "demand_shift_1                       30490\n",
       "sell_price_shift_1                12329903\n",
       "demand_shift_28                     853720\n",
       "sell_price_shift_28               13153133\n",
       "sell_price_day_over_day           12329903\n",
       "demand_shift_1_rolling_28_mean       30490\n",
       "sell_price_isnull                        0\n",
       "dtype: int64"
      ]
     },
     "execution_count": 25,
     "metadata": {},
     "output_type": "execute_result"
    }
   ],
   "source": [
    "train.isnull().sum()"
   ]
  },
  {
   "cell_type": "code",
   "execution_count": 26,
   "metadata": {
    "scrolled": false
   },
   "outputs": [
    {
     "name": "stdout",
     "output_type": "stream",
     "text": [
      "<class 'pandas.core.frame.DataFrame'>\n",
      "Int64Index: 1707440 entries, 58327370 to 60034809\n",
      "Data columns (total 37 columns):\n",
      " #   Column                          Dtype         \n",
      "---  ------                          -----         \n",
      " 0   id                              object        \n",
      " 1   item_id                         int16         \n",
      " 2   store_id                        int8          \n",
      " 3   dept_id                         int8          \n",
      " 4   cat_id                          int8          \n",
      " 5   state_id                        int8          \n",
      " 6   d                               object        \n",
      " 7   date                            datetime64[ns]\n",
      " 8   event_name_1                    int8          \n",
      " 9   event_type_1                    int8          \n",
      " 10  event_name_2                    int8          \n",
      " 11  event_type_2                    int8          \n",
      " 12  snap_CA                         int8          \n",
      " 13  snap_TX                         int8          \n",
      " 14  snap_WI                         int8          \n",
      " 15  sell_price                      float32       \n",
      " 16  year                            int16         \n",
      " 17  dayofyear                       int16         \n",
      " 18  weekofyear                      int8          \n",
      " 19  quarter                         int8          \n",
      " 20  month                           int8          \n",
      " 21  day                             int8          \n",
      " 22  weekday                         int8          \n",
      " 23  is_year_start                   bool          \n",
      " 24  is_year_end                     bool          \n",
      " 25  is_month_start                  bool          \n",
      " 26  is_month_end                    bool          \n",
      " 27  is_california_holiday           bool          \n",
      " 28  is_texas_holiday                bool          \n",
      " 29  is_wisconsin_holiday            bool          \n",
      " 30  demand_shift_1                  float32       \n",
      " 31  sell_price_shift_1              float32       \n",
      " 32  demand_shift_28                 float32       \n",
      " 33  sell_price_shift_28             float32       \n",
      " 34  sell_price_day_over_day         float32       \n",
      " 35  demand_shift_1_rolling_28_mean  float32       \n",
      " 36  sell_price_isnull               bool          \n",
      "dtypes: bool(8), datetime64[ns](1), float32(7), int16(3), int8(16), object(2)\n",
      "memory usage: 146.6+ MB\n"
     ]
    }
   ],
   "source": [
    "test.info()"
   ]
  },
  {
   "cell_type": "code",
   "execution_count": 27,
   "metadata": {},
   "outputs": [
    {
     "data": {
      "text/plain": [
       "id                                      0\n",
       "item_id                                 0\n",
       "store_id                                0\n",
       "dept_id                                 0\n",
       "cat_id                                  0\n",
       "state_id                                0\n",
       "d                                       0\n",
       "date                                    0\n",
       "event_name_1                            0\n",
       "event_type_1                            0\n",
       "event_name_2                            0\n",
       "event_type_2                            0\n",
       "snap_CA                                 0\n",
       "snap_TX                                 0\n",
       "snap_WI                                 0\n",
       "sell_price                              0\n",
       "year                                    0\n",
       "dayofyear                               0\n",
       "weekofyear                              0\n",
       "quarter                                 0\n",
       "month                                   0\n",
       "day                                     0\n",
       "weekday                                 0\n",
       "is_year_start                           0\n",
       "is_year_end                             0\n",
       "is_month_start                          0\n",
       "is_month_end                            0\n",
       "is_california_holiday                   0\n",
       "is_texas_holiday                        0\n",
       "is_wisconsin_holiday                    0\n",
       "demand_shift_1                    1676950\n",
       "sell_price_shift_1                      0\n",
       "demand_shift_28                    853720\n",
       "sell_price_shift_28                     0\n",
       "sell_price_day_over_day                 0\n",
       "demand_shift_1_rolling_28_mean     853720\n",
       "sell_price_isnull                       0\n",
       "dtype: int64"
      ]
     },
     "execution_count": 27,
     "metadata": {},
     "output_type": "execute_result"
    }
   ],
   "source": [
    "test.isnull().sum()"
   ]
  },
  {
   "cell_type": "code",
   "execution_count": 28,
   "metadata": {},
   "outputs": [],
   "source": [
    "train.to_parquet(train_engineered_path)\n",
    "test.to_parquet(test_engineered_path)"
   ]
  }
 ],
 "metadata": {
  "anaconda-cloud": {},
  "kernelspec": {
   "display_name": "Python 3",
   "language": "python",
   "name": "python3"
  },
  "language_info": {
   "codemirror_mode": {
    "name": "ipython",
    "version": 3
   },
   "file_extension": ".py",
   "mimetype": "text/x-python",
   "name": "python",
   "nbconvert_exporter": "python",
   "pygments_lexer": "ipython3",
   "version": "3.7.6"
  }
 },
 "nbformat": 4,
 "nbformat_minor": 2
}
