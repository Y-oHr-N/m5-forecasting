{
 "cells": [
  {
   "cell_type": "code",
   "execution_count": 1,
   "metadata": {},
   "outputs": [],
   "source": [
    "import gc\n",
    "import pathlib"
   ]
  },
  {
   "cell_type": "code",
   "execution_count": 2,
   "metadata": {},
   "outputs": [],
   "source": [
    "import numpy as np\n",
    "import pandas as pd"
   ]
  },
  {
   "cell_type": "code",
   "execution_count": 3,
   "metadata": {},
   "outputs": [],
   "source": [
    "def reduce_memory_usage(df):\n",
    "    for col in df.columns:\n",
    "        col_type = df[col].dtype\n",
    "\n",
    "        if col_type == \"datetime64[ns]\":\n",
    "            continue\n",
    "\n",
    "        try:\n",
    "            df[col] = pd.to_numeric(df[col], downcast=\"integer\")\n",
    "        except ValueError:\n",
    "            continue\n",
    "\n",
    "        col_type = df[col].dtype\n",
    "\n",
    "        if col_type in [\"float16\", \"float32\", \"float64\"]:\n",
    "            c_min = df[col].min()\n",
    "            c_max = df[col].max()\n",
    "\n",
    "            if (\n",
    "                c_min > np.finfo(np.float32).min\n",
    "                and c_max < np.finfo(\"float32\").max\n",
    "            ):\n",
    "                df[col] = df[col].astype(\"float32\")"
   ]
  },
  {
   "cell_type": "code",
   "execution_count": 4,
   "metadata": {},
   "outputs": [],
   "source": [
    "root_dir_path = pathlib.Path(\"..\")\n",
    "data_dir_path = root_dir_path / \"data\"\n",
    "processed_dir_path = data_dir_path / \"processed\"\n",
    "train_path = processed_dir_path / \"train.parquet\"\n",
    "train_engineered_path = processed_dir_path / \"train_engineered.parquet\"\n",
    "test_path = processed_dir_path / \"test.parquet\"\n",
    "test_engineered_path = processed_dir_path / \"test_engineered.parquet\""
   ]
  },
  {
   "cell_type": "code",
   "execution_count": 5,
   "metadata": {},
   "outputs": [],
   "source": [
    "calendar_features = [\n",
    "    \"year\",\n",
    "    \"dayofyear\",\n",
    "    \"weekofyear\",\n",
    "    \"quarter\",\n",
    "    \"month\",\n",
    "    \"day\",\n",
    "    \"weekday\",\n",
    "    \"is_year_start\",\n",
    "    \"is_year_end\",\n",
    "    \"is_month_start\",\n",
    "    \"is_month_end\",\n",
    "]\n",
    "lag_features = [f\"demand_shift_{i}\" for i in range(28, 29)]\n",
    "categorical_features = [\n",
    "    \"store_id\",\n",
    "    \"item_id\",\n",
    "    \"dept_id\",\n",
    "    \"cat_id\",\n",
    "    \"state_id\",\n",
    "    \"event_name_1\",\n",
    "    \"event_type_1\",\n",
    "    \"event_name_2\",\n",
    "    \"event_type_2\",\n",
    "]\n",
    "numerical_features = [\n",
    "    \"snap_CA\",\n",
    "    \"snap_TX\",\n",
    "    \"snap_WI\",\n",
    "    \"sell_price\",\n",
    "] + calendar_features + lag_features\n",
    "features = categorical_features + numerical_features"
   ]
  },
  {
   "cell_type": "code",
   "execution_count": 6,
   "metadata": {},
   "outputs": [],
   "source": [
    "train = pd.read_parquet(train_path)\n",
    "test = pd.read_parquet(test_path)"
   ]
  },
  {
   "cell_type": "code",
   "execution_count": 7,
   "metadata": {},
   "outputs": [],
   "source": [
    "train_size, _ = train.shape\n",
    "train = pd.concat([train, test])"
   ]
  },
  {
   "cell_type": "code",
   "execution_count": 8,
   "metadata": {},
   "outputs": [],
   "source": [
    "reduce_memory_usage(train)"
   ]
  },
  {
   "cell_type": "code",
   "execution_count": 9,
   "metadata": {},
   "outputs": [],
   "source": [
    "del test"
   ]
  },
  {
   "cell_type": "code",
   "execution_count": 10,
   "metadata": {},
   "outputs": [
    {
     "data": {
      "text/plain": [
       "0"
      ]
     },
     "execution_count": 10,
     "metadata": {},
     "output_type": "execute_result"
    }
   ],
   "source": [
    "gc.collect()"
   ]
  },
  {
   "cell_type": "code",
   "execution_count": 11,
   "metadata": {},
   "outputs": [],
   "source": [
    "# Create calendar features\n",
    "for col in calendar_features:\n",
    "    train[col] = getattr(train[\"date\"].dt, col)"
   ]
  },
  {
   "cell_type": "code",
   "execution_count": 12,
   "metadata": {},
   "outputs": [],
   "source": [
    "reduce_memory_usage(train)"
   ]
  },
  {
   "cell_type": "code",
   "execution_count": 13,
   "metadata": {},
   "outputs": [],
   "source": [
    "# Create lag features\n",
    "grouped = train.groupby([\"store_id\", \"item_id\"])\n",
    "\n",
    "for i in range(28, 29):\n",
    "    train[f\"demand_shift_{i}\"] = grouped[\"demand\"].shift(i)"
   ]
  },
  {
   "cell_type": "code",
   "execution_count": 14,
   "metadata": {},
   "outputs": [],
   "source": [
    "del grouped"
   ]
  },
  {
   "cell_type": "code",
   "execution_count": 15,
   "metadata": {},
   "outputs": [
    {
     "data": {
      "text/plain": [
       "0"
      ]
     },
     "execution_count": 15,
     "metadata": {},
     "output_type": "execute_result"
    }
   ],
   "source": [
    "gc.collect()"
   ]
  },
  {
   "cell_type": "code",
   "execution_count": 16,
   "metadata": {},
   "outputs": [],
   "source": [
    "train, test = train.iloc[:train_size], train.iloc[train_size:]"
   ]
  },
  {
   "cell_type": "code",
   "execution_count": 17,
   "metadata": {},
   "outputs": [],
   "source": [
    "reduce_memory_usage(train)"
   ]
  },
  {
   "cell_type": "code",
   "execution_count": 18,
   "metadata": {},
   "outputs": [],
   "source": [
    "test.drop(columns=\"demand\", inplace=True)"
   ]
  },
  {
   "cell_type": "code",
   "execution_count": 19,
   "metadata": {},
   "outputs": [
    {
     "name": "stdout",
     "output_type": "stream",
     "text": [
      "<class 'pandas.core.frame.DataFrame'>\n",
      "Int64Index: 58327370 entries, 0 to 58327369\n",
      "Data columns (total 29 columns):\n",
      " #   Column           Dtype         \n",
      "---  ------           -----         \n",
      " 0   id               object        \n",
      " 1   item_id          int16         \n",
      " 2   store_id         int8          \n",
      " 3   dept_id          int8          \n",
      " 4   cat_id           int8          \n",
      " 5   state_id         int8          \n",
      " 6   d                object        \n",
      " 7   demand           int16         \n",
      " 8   date             datetime64[ns]\n",
      " 9   event_name_1     int8          \n",
      " 10  event_type_1     int8          \n",
      " 11  event_name_2     int8          \n",
      " 12  event_type_2     int8          \n",
      " 13  snap_CA          int8          \n",
      " 14  snap_TX          int8          \n",
      " 15  snap_WI          int8          \n",
      " 16  sell_price       float32       \n",
      " 17  year             int16         \n",
      " 18  dayofyear        int16         \n",
      " 19  weekofyear       int8          \n",
      " 20  quarter          int8          \n",
      " 21  month            int8          \n",
      " 22  day              int8          \n",
      " 23  weekday          int8          \n",
      " 24  is_year_start    bool          \n",
      " 25  is_year_end      bool          \n",
      " 26  is_month_start   bool          \n",
      " 27  is_month_end     bool          \n",
      " 28  demand_shift_28  float32       \n",
      "dtypes: bool(4), datetime64[ns](1), float32(2), int16(4), int8(16), object(2)\n",
      "memory usage: 3.7+ GB\n"
     ]
    }
   ],
   "source": [
    "train.info()"
   ]
  },
  {
   "cell_type": "code",
   "execution_count": 20,
   "metadata": {
    "scrolled": false
   },
   "outputs": [
    {
     "name": "stdout",
     "output_type": "stream",
     "text": [
      "<class 'pandas.core.frame.DataFrame'>\n",
      "Int64Index: 1707440 entries, 0 to 1707439\n",
      "Data columns (total 28 columns):\n",
      " #   Column           Dtype         \n",
      "---  ------           -----         \n",
      " 0   id               object        \n",
      " 1   item_id          int16         \n",
      " 2   store_id         int8          \n",
      " 3   dept_id          int8          \n",
      " 4   cat_id           int8          \n",
      " 5   state_id         int8          \n",
      " 6   d                object        \n",
      " 7   date             datetime64[ns]\n",
      " 8   event_name_1     int8          \n",
      " 9   event_type_1     int8          \n",
      " 10  event_name_2     int8          \n",
      " 11  event_type_2     int8          \n",
      " 12  snap_CA          int8          \n",
      " 13  snap_TX          int8          \n",
      " 14  snap_WI          int8          \n",
      " 15  sell_price       float32       \n",
      " 16  year             int16         \n",
      " 17  dayofyear        int16         \n",
      " 18  weekofyear       int8          \n",
      " 19  quarter          int8          \n",
      " 20  month            int8          \n",
      " 21  day              int8          \n",
      " 22  weekday          int8          \n",
      " 23  is_year_start    bool          \n",
      " 24  is_year_end      bool          \n",
      " 25  is_month_start   bool          \n",
      " 26  is_month_end     bool          \n",
      " 27  demand_shift_28  float32       \n",
      "dtypes: bool(4), datetime64[ns](1), float32(2), int16(3), int8(16), object(2)\n",
      "memory usage: 107.5+ MB\n"
     ]
    }
   ],
   "source": [
    "test.info()"
   ]
  },
  {
   "cell_type": "code",
   "execution_count": 21,
   "metadata": {},
   "outputs": [],
   "source": [
    "train.to_parquet(train_engineered_path)\n",
    "test.to_parquet(test_engineered_path)"
   ]
  }
 ],
 "metadata": {
  "anaconda-cloud": {},
  "kernelspec": {
   "display_name": "Python [default]",
   "language": "python",
   "name": "python3"
  },
  "language_info": {
   "codemirror_mode": {
    "name": "ipython",
    "version": 3
   },
   "file_extension": ".py",
   "mimetype": "text/x-python",
   "name": "python",
   "nbconvert_exporter": "python",
   "pygments_lexer": "ipython3",
   "version": "3.6.5"
  }
 },
 "nbformat": 4,
 "nbformat_minor": 2
}
