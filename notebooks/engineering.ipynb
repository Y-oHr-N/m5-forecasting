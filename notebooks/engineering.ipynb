{
 "cells": [
  {
   "cell_type": "code",
   "execution_count": 1,
   "metadata": {},
   "outputs": [],
   "source": [
    "import pathlib\n",
    "import sys"
   ]
  },
  {
   "cell_type": "code",
   "execution_count": 2,
   "metadata": {},
   "outputs": [],
   "source": [
    "import pandas as pd"
   ]
  },
  {
   "cell_type": "code",
   "execution_count": 3,
   "metadata": {},
   "outputs": [],
   "source": [
    "root_dir_path = pathlib.Path(\"..\")\n",
    "data_dir_path = root_dir_path / \"data\"\n",
    "interim_dir_path = data_dir_path / \"interim\"\n",
    "interim_path = interim_dir_path / \"interim.parquet\"\n",
    "train_path = interim_dir_path / \"train.parquet\"\n",
    "src_dir_path = root_dir_path / \"src\""
   ]
  },
  {
   "cell_type": "code",
   "execution_count": 4,
   "metadata": {},
   "outputs": [],
   "source": [
    "sys.path.append(str(src_dir_path))"
   ]
  },
  {
   "cell_type": "code",
   "execution_count": 5,
   "metadata": {},
   "outputs": [],
   "source": [
    "from package.feature_extraction import *\n",
    "from package.utils import *"
   ]
  },
  {
   "cell_type": "code",
   "execution_count": 6,
   "metadata": {},
   "outputs": [],
   "source": [
    "interim = pd.read_parquet(interim_path)"
   ]
  },
  {
   "cell_type": "code",
   "execution_count": 7,
   "metadata": {},
   "outputs": [],
   "source": [
    "interim.dropna(inplace=True, subset=[\"demand\"])"
   ]
  },
  {
   "cell_type": "code",
   "execution_count": 8,
   "metadata": {
    "scrolled": false
   },
   "outputs": [],
   "source": [
    "interim.reset_index(drop=True, inplace=True)"
   ]
  },
  {
   "cell_type": "code",
   "execution_count": 9,
   "metadata": {},
   "outputs": [],
   "source": [
    "extract_features(interim)"
   ]
  },
  {
   "cell_type": "code",
   "execution_count": 10,
   "metadata": {},
   "outputs": [],
   "source": [
    "reduce_memory_usage(interim)"
   ]
  },
  {
   "cell_type": "code",
   "execution_count": 11,
   "metadata": {
    "scrolled": false
   },
   "outputs": [
    {
     "name": "stdout",
     "output_type": "stream",
     "text": [
      "<class 'pandas.core.frame.DataFrame'>\n",
      "RangeIndex: 58327370 entries, 0 to 58327369\n",
      "Data columns (total 29 columns):\n",
      " #   Column                           Dtype         \n",
      "---  ------                           -----         \n",
      " 0   id                               object        \n",
      " 1   item_id                          int16         \n",
      " 2   store_id                         int8          \n",
      " 3   dept_id                          int8          \n",
      " 4   cat_id                           int8          \n",
      " 5   state_id                         int8          \n",
      " 6   d                                object        \n",
      " 7   demand                           int16         \n",
      " 8   date                             datetime64[ns]\n",
      " 9   event_name_1                     int8          \n",
      " 10  event_type_1                     int8          \n",
      " 11  event_name_2                     int8          \n",
      " 12  event_type_2                     int8          \n",
      " 13  snap_CA                          int8          \n",
      " 14  snap_TX                          int8          \n",
      " 15  snap_WI                          int8          \n",
      " 16  sell_price                       float32       \n",
      " 17  year                             int16         \n",
      " 18  weekofyear                       int8          \n",
      " 19  quarter                          int8          \n",
      " 20  month                            int8          \n",
      " 21  day                              int8          \n",
      " 22  weekday                          int8          \n",
      " 23  demand_shift_7                   float32       \n",
      " 24  demand_shift_7_rolling_7_mean    float32       \n",
      " 25  demand_shift_7_rolling_28_mean   float32       \n",
      " 26  demand_shift_28                  float32       \n",
      " 27  demand_shift_28_rolling_7_mean   float32       \n",
      " 28  demand_shift_28_rolling_28_mean  float32       \n",
      "dtypes: datetime64[ns](1), float32(7), int16(3), int8(16), object(2)\n",
      "memory usage: 4.0+ GB\n"
     ]
    }
   ],
   "source": [
    "interim.info()"
   ]
  },
  {
   "cell_type": "code",
   "execution_count": 12,
   "metadata": {},
   "outputs": [],
   "source": [
    "interim.to_parquet(train_path)"
   ]
  }
 ],
 "metadata": {
  "anaconda-cloud": {},
  "kernelspec": {
   "display_name": "Python 3",
   "language": "python",
   "name": "python3"
  },
  "language_info": {
   "codemirror_mode": {
    "name": "ipython",
    "version": 3
   },
   "file_extension": ".py",
   "mimetype": "text/x-python",
   "name": "python",
   "nbconvert_exporter": "python",
   "pygments_lexer": "ipython3",
   "version": "3.7.6"
  }
 },
 "nbformat": 4,
 "nbformat_minor": 2
}
