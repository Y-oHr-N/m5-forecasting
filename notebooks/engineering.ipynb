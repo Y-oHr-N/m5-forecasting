{
 "cells": [
  {
   "cell_type": "code",
   "execution_count": 1,
   "metadata": {},
   "outputs": [],
   "source": [
    "import pathlib\n",
    "import sys"
   ]
  },
  {
   "cell_type": "code",
   "execution_count": 2,
   "metadata": {},
   "outputs": [],
   "source": [
    "import pandas as pd"
   ]
  },
  {
   "cell_type": "code",
   "execution_count": 3,
   "metadata": {},
   "outputs": [],
   "source": [
    "root_dir_path = pathlib.Path(\"..\")\n",
    "data_dir_path = root_dir_path / \"data\"\n",
    "processed_dir_path = data_dir_path / \"processed\"\n",
    "train_path = processed_dir_path / \"train.parquet\"\n",
    "train_engineered_path = processed_dir_path / \"train_engineered.parquet\"\n",
    "src_dir_path = root_dir_path / \"src\""
   ]
  },
  {
   "cell_type": "code",
   "execution_count": 4,
   "metadata": {},
   "outputs": [],
   "source": [
    "sys.path.append(str(src_dir_path))"
   ]
  },
  {
   "cell_type": "code",
   "execution_count": 5,
   "metadata": {},
   "outputs": [],
   "source": [
    "from package.feature_extraction import *"
   ]
  },
  {
   "cell_type": "code",
   "execution_count": 6,
   "metadata": {},
   "outputs": [],
   "source": [
    "train = pd.read_parquet(train_path)"
   ]
  },
  {
   "cell_type": "code",
   "execution_count": 7,
   "metadata": {},
   "outputs": [],
   "source": [
    "train = extract_features(train)"
   ]
  },
  {
   "cell_type": "code",
   "execution_count": 8,
   "metadata": {
    "scrolled": false
   },
   "outputs": [
    {
     "name": "stdout",
     "output_type": "stream",
     "text": [
      "<class 'pandas.core.frame.DataFrame'>\n",
      "Int64Index: 58327370 entries, 0 to 58327369\n",
      "Data columns (total 45 columns):\n",
      " #   Column                           Dtype         \n",
      "---  ------                           -----         \n",
      " 0   id                               object        \n",
      " 1   item_id                          int16         \n",
      " 2   store_id                         int8          \n",
      " 3   dept_id                          int8          \n",
      " 4   cat_id                           int8          \n",
      " 5   state_id                         int8          \n",
      " 6   d                                object        \n",
      " 7   demand                           int16         \n",
      " 8   date                             datetime64[ns]\n",
      " 9   event_name_1                     int8          \n",
      " 10  event_type_1                     int8          \n",
      " 11  event_name_2                     int8          \n",
      " 12  event_type_2                     int8          \n",
      " 13  snap_CA                          int8          \n",
      " 14  snap_TX                          int8          \n",
      " 15  snap_WI                          int8          \n",
      " 16  sell_price                       float32       \n",
      " 17  is_california_holiday            bool          \n",
      " 18  is_texas_holiday                 bool          \n",
      " 19  is_wisconsin_holiday             bool          \n",
      " 20  sell_price_isnull                bool          \n",
      " 21  year                             int16         \n",
      " 22  dayofyear                        int16         \n",
      " 23  weekofyear                       int8          \n",
      " 24  quarter                          int8          \n",
      " 25  month                            int8          \n",
      " 26  day                              int8          \n",
      " 27  weekday                          int8          \n",
      " 28  is_year_start                    bool          \n",
      " 29  is_year_end                      bool          \n",
      " 30  is_month_start                   bool          \n",
      " 31  is_month_end                     bool          \n",
      " 32  demand_shift_1                   float32       \n",
      " 33  sell_price_shift_1               float32       \n",
      " 34  demand_shift_22                  float32       \n",
      " 35  sell_price_shift_22              float32       \n",
      " 36  demand_shift_28                  float32       \n",
      " 37  sell_price_shift_28              float32       \n",
      " 38  sell_price_day_over_day          float32       \n",
      " 39  sell_price_month_over_month      float32       \n",
      " 40  demand_shift_1_rolling_7_mean    float32       \n",
      " 41  demand_shift_1_rolling_28_mean   float32       \n",
      " 42  demand_shift_22_rolling_7_mean   float32       \n",
      " 43  demand_shift_22_rolling_28_mean  float32       \n",
      " 44  no_demand_period_shift_28        int16         \n",
      "dtypes: bool(8), datetime64[ns](1), float32(13), int16(5), int8(16), object(2)\n",
      "memory usage: 6.4+ GB\n"
     ]
    }
   ],
   "source": [
    "train.info()"
   ]
  },
  {
   "cell_type": "code",
   "execution_count": 9,
   "metadata": {},
   "outputs": [],
   "source": [
    "train.to_parquet(train_engineered_path)"
   ]
  }
 ],
 "metadata": {
  "anaconda-cloud": {},
  "kernelspec": {
   "display_name": "Python 3",
   "language": "python",
   "name": "python3"
  },
  "language_info": {
   "codemirror_mode": {
    "name": "ipython",
    "version": 3
   },
   "file_extension": ".py",
   "mimetype": "text/x-python",
   "name": "python",
   "nbconvert_exporter": "python",
   "pygments_lexer": "ipython3",
   "version": "3.7.6"
  }
 },
 "nbformat": 4,
 "nbformat_minor": 2
}
